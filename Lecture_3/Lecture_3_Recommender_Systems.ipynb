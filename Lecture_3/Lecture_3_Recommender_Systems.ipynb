{
 "cells": [
  {
   "cell_type": "markdown",
   "metadata": {
    "id": "bQ6c8fr2I8nI"
   },
   "source": [
    "## **Recommender Systems**\n",
    "\n",
    "#### **Q1:** How do we suggest new interests or products to our customers?\n",
    "\n",
    "#### **Q2:** How can we build a recommender system?\n",
    "\n",
    "A common data problem is producing recommendations of some sort. \n",
    "\n",
    "* Netflix recommends movies you might want to watch. \n",
    "\n",
    "* Amazon recommends products you might want to buy. \n",
    "\n",
    "* Twitter recommends users you might want to follow. \n",
    "\n"
   ]
  },
  {
   "cell_type": "markdown",
   "metadata": {
    "id": "Z_MdR89XLXzX"
   },
   "source": [
    "#### **A first example with a tiny data set**\n",
    "\n",
    "To understand how data can be used to make recommendations, we start by considering a tiny data set.\n",
    "\n"
   ]
  },
  {
   "cell_type": "code",
   "execution_count": 1,
   "metadata": {
    "colab": {
     "base_uri": "https://localhost:8080/"
    },
    "executionInfo": {
     "elapsed": 424,
     "status": "ok",
     "timestamp": 1665502875104,
     "user": {
      "displayName": "alessandro celestini",
      "userId": "05873352416691815837"
     },
     "user_tz": -120
    },
    "id": "BG8KHNxuEWZA",
    "outputId": "66385058-d378-427a-a090-ef771f0a5ed9"
   },
   "outputs": [
    {
     "data": {
      "text/plain": [
       "['Hadoop', 'Big Data', 'HBase', 'Java', 'Spark', 'Storm', 'Cassandra']"
      ]
     },
     "execution_count": 1,
     "metadata": {},
     "output_type": "execute_result"
    }
   ],
   "source": [
    "# Our data set is a python list containing users interests.\n",
    "# Each element of the list contains the interests of a specific user.\n",
    "\n",
    "users_interests = [\n",
    "        [\"Hadoop\", \"Big Data\", \"HBase\", \"Java\", \"Spark\", \"Storm\", \"Cassandra\"],\n",
    "        [\"NoSQL\", \"MongoDB\", \"Cassandra\", \"HBase\", \"Postgres\"],\n",
    "        [\"Python\", \"scikit-learn\", \"scipy\", \"numpy\", \"statsmodels\", \"pandas\"],\n",
    "        [\"R\", \"Python\", \"statistics\", \"regression\", \"probability\"],\n",
    "        [\"machine learning\", \"regression\", \"decision trees\", \"libsvm\"],\n",
    "        [\"Python\", \"R\", \"Java\", \"C++\", \"Haskell\", \"programming languages\"],\n",
    "        [\"statistics\", \"probability\", \"mathematics\", \"theory\"],\n",
    "        [\"machine learning\", \"scikit-learn\", \"Mahout\", \"neural networks\"],\n",
    "        [\"neural networks\", \"deep learning\", \"Big Data\", \"artificial intelligence\"],\n",
    "        [\"Hadoop\", \"Java\", \"MapReduce\", \"Big Data\"],\n",
    "        [\"statistics\", \"R\", \"statsmodels\"],\n",
    "        [\"C++\", \"deep learning\", \"artificial intelligence\", \"probability\"],\n",
    "        [\"pandas\", \"R\", \"Python\"],\n",
    "        [\"databases\", \"HBase\", \"Postgres\", \"MySQL\", \"MongoDB\"],\n",
    "        [\"libsvm\", \"regression\", \"support vector machines\"]\n",
    "]\n",
    "\n",
    "# The interestes of user 0 are\n",
    "\n",
    "users_interests[0]\n"
   ]
  },
  {
   "cell_type": "markdown",
   "metadata": {
    "id": "vDDR2aoLEVVn"
   },
   "source": [
    "## **Recommending What’s Popular**\n",
    "\n",
    "\n",
    "One easy approach is to simply recommend what’s popular. \n",
    "\n",
    "* We do not take into account the current specified interests of the user.\n",
    "  * We do filter current user's interests before suggesting new interests.\n",
    "\n",
    "\n",
    "* Popularity based recommendations can be a good strategy for targeting new customers. \n",
    "  * Those for whome we do not have a history of interests.\n",
    "\n",
    "\n"
   ]
  },
  {
   "cell_type": "markdown",
   "metadata": {},
   "source": [
    "#### **Q1:** How do we recommend popular interests?"
   ]
  },
  {
   "cell_type": "code",
   "execution_count": 2,
   "metadata": {
    "colab": {
     "base_uri": "https://localhost:8080/"
    },
    "executionInfo": {
     "elapsed": 20,
     "status": "ok",
     "timestamp": 1665502875565,
     "user": {
      "displayName": "alessandro celestini",
      "userId": "05873352416691815837"
     },
     "user_tz": -120
    },
    "id": "eHS7ZbLPOxA8",
    "outputId": "ab6dbf8a-1552-4594-b6d0-a66b23024024"
   },
   "outputs": [
    {
     "data": {
      "text/plain": [
       "[('Python', 4), ('R', 4), ('Big Data', 3), ('HBase', 3), ('Java', 3)]"
      ]
     },
     "execution_count": 2,
     "metadata": {},
     "output_type": "execute_result"
    }
   ],
   "source": [
    "from collections import Counter\n",
    "\n",
    "# We count how many times each interest has been selected by users.\n",
    "# We order them from the most common to the least common.\n",
    "\n",
    "popular_interests = Counter(interest for user_interests in users_interests for interest in user_interests).most_common()\n",
    "\n",
    "# ** NOTE **\n",
    "#\n",
    "# A Counter is a dict subclass for counting hashable objects. \n",
    "# It is a collection where elements are stored as dictionary \n",
    "# keys and their counts are stored as dictionary values. \n",
    "# Counts are allowed to be any integer value including zero or \n",
    "# negative counts.\n",
    "# \n",
    "# Counter([iterable-or-mapping])\n",
    "#   Counter iterates over the input elements and produces a \n",
    "#   dictionary with the elements as keys and their frequency \n",
    "#   as values. \n",
    "#\n",
    "# most_common([n])\n",
    "#   Return a list of the n most common elements and their \n",
    "#   counts from the most common to the least common.\n",
    "#\n",
    "# ** NOTE **\n",
    "\n",
    "popular_interests[:5]"
   ]
  },
  {
   "cell_type": "markdown",
   "metadata": {},
   "source": [
    "#### We suggest to a user the most popular interests that she’s not already interested in.\n",
    "\n",
    "* We write a function that takes as input the user's interests and return as output the recommendations."
   ]
  },
  {
   "cell_type": "code",
   "execution_count": 3,
   "metadata": {
    "colab": {
     "base_uri": "https://localhost:8080/"
    },
    "executionInfo": {
     "elapsed": 19,
     "status": "ok",
     "timestamp": 1665502875565,
     "user": {
      "displayName": "alessandro celestini",
      "userId": "05873352416691815837"
     },
     "user_tz": -120
    },
    "id": "IP6gR4CdTyb9",
    "outputId": "63358cc9-a04e-4f12-c027-6b21b571d3eb"
   },
   "outputs": [],
   "source": [
    "# The function takes as input a list of user's interests and\n",
    "# return a list of suggestion of length <max_results>\n",
    "\n",
    "def most_popular_new_interests(user_interests, max_results=5): \n",
    "    suggestions = [(interest, frequency) \n",
    "                    for interest, frequency in popular_interests\n",
    "                    if interest not in user_interests ] \n",
    "  \n",
    "    return suggestions[:max_results]"
   ]
  },
  {
   "cell_type": "code",
   "execution_count": 4,
   "metadata": {},
   "outputs": [
    {
     "name": "stdout",
     "output_type": "stream",
     "text": [
      "User's interests: ['Hadoop', 'Big Data', 'HBase', 'Java', 'Spark', 'Storm', 'Cassandra']\n",
      "\n",
      "Suggestions:\n"
     ]
    },
    {
     "data": {
      "text/plain": [
       "[('Python', 4),\n",
       " ('R', 4),\n",
       " ('statistics', 3),\n",
       " ('regression', 3),\n",
       " ('probability', 3)]"
      ]
     },
     "execution_count": 4,
     "metadata": {},
     "output_type": "execute_result"
    }
   ],
   "source": [
    "# We make recommendations for user 0\n",
    "\n",
    "print(f\"User's interests: {users_interests[0]}\\n\")\n",
    "print(f\"Suggestions:\")\n",
    "most_popular_new_interests(users_interests[0], 5)"
   ]
  },
  {
   "cell_type": "markdown",
   "metadata": {
    "id": "6HRj0x8JV-w2"
   },
   "source": [
    "## **User-Based Collaborative Filtering**\n",
    "\n",
    "We want to recommend new interests to users based on their currently specified interests.\n",
    "\n",
    "#### **Q1:** How do we take into account user’s interests?\n",
    "\n",
    "One way of taking a user’s interests into account is to look for users who are somehow ***similar*** to her, and then suggest the things that those users are interested in.\n",
    "\n",
    "\n",
    "#### **Q2:** How do we represent users?\n",
    "\n",
    "**Vectors:** We represent users with vectors of 0s and 1s. \n",
    "\n",
    "Each element of the vector represent a user interest, 0 means the user is not interested, 1 means the user is interested.\n",
    "\n",
    "\n",
    "Example of user vector:\n",
    "``\n",
    "[1, 0, 1, 1, 1, 0, 1, 0]\n",
    "``\n",
    "\n",
    "#### **Q3:** How do we mesure **how similar** two users are?\n",
    "\n",
    "**Cosine Similarity:** We will use a metric called ***cosine similarity***. This not the only metric we can apply, later in the lecture we will use another metric to mesure similarity.\n",
    "\n",
    "We compute the cosine of the angle between users' interests (vectors)."
   ]
  },
  {
   "cell_type": "markdown",
   "metadata": {
    "id": "ViBhSOgudlJb"
   },
   "source": [
    "The cosine similarity is defined as follows:\n",
    "\n",
    "$cosine\\_similarity$ ($A,B$) = $\\cos(\\theta) = \\frac{A \\cdot B}{\\| A \\| \\| B \\|}$\n",
    "\n",
    "where: \n",
    "\n",
    "$A \\cdot B$ is the dot product\n",
    "\n",
    "$\\| A \\|$ is the Euclidean norm or magnitude of $A$\n"
   ]
  },
  {
   "cell_type": "markdown",
   "metadata": {
    "id": "xd09X4egdte1"
   },
   "source": [
    "\n",
    "\n",
    "![cosine-similarity-vectors.original.jpg](data:image/jpeg;base64,/9j/4AAQSkZJRgABAQAAAQABAAD/2wBDAAUDBAQEAwUEBAQFBQUGBwwIBwcHBw8LCwkMEQ8SEhEPERETFhwXExQaFRERGCEYGh0dHx8fExciJCIeJBweHx7/2wBDAQUFBQcGBw4ICA4eFBEUHh4eHh4eHh4eHh4eHh4eHh4eHh4eHh4eHh4eHh4eHh4eHh4eHh4eHh4eHh4eHh4eHh7/wgARCAHjB4ADASIAAhEBAxEB/8QAHAABAAMBAQEBAQAAAAAAAAAAAAUGBwQDAgEI/8QAGgEBAAMBAQEAAAAAAAAAAAAAAAIDBAUBBv/aAAwDAQACEAMQAAAB2UAAAAAAAAAAAAAAAAAAAAAAAAAAAAAAAAAAAAAAAAAAAAAAAAAAAAAAAAAAAAAAAAAAAAAAAAAAAAAAAAAAAAAAAAAAAAAAAAAAAAAAAAAAAAAAAAAAAAAAAAAAAAAAAAAAAAAABWLMfoAAAAAAAAAAAAAAAAAAAAAAAAAAAAAAPmp2yhw1WWYwjYo3ywt5wAABHcpNgAAAAAAAAAAAAAAAAAAAAAAAAAAAAAAAAAAAAAAHge6t2QAAAAAAAAAAAAAAAAAAAAAAAAAAAAAAAAAAAAAAAcfZkpRNcxWTP6Qc/QAAAAAAAAAAAAAAAAAAAAAAAAAAAAAAfmf6BGR0Yfokb25u7oo1/NAACuGex9S/D+o1OuIAAAAAAAAAAAAAAAAAAAAAAAAAAAAAAAAAAAAAAy6+/wA7Et/Qf8wa6aMAAAAAAAAAAAAAAAAAAAAAAAAAAAAAAAAAAAAAAD5z3RB/M95p+zHfNAAAAAjpHMy/9OMbWfPLE5PV0bZf8Z3ONn0L+UAAAAAAAAAAAAAAAAAAAA4u2KO7x/n/AHY8Mm3XEs3c2z6rFn0cb9HsAFWtIwzjtsYXa3gAAAAAAAAAAAAAAAAAAAAAAAAAAAAAAAAAAAAABXs52egmZannu9AAAAAAAAAAAAAAAAAAAAAAAAAAAAAAAAAAAAAAAAH84bNjOzFpAAAAAzXShlmm+vERGU/Wn5Po6xqHJ1aeJ9CWcAAAAAAAAAAAAAAAAAAABXLGMlulmHzRr1xxuzHWcC3Cnp940cYADLYyTjDZQAAAAAAAAAAAAAAAAAAAAAAAAAAAAAAAAAAAAAAKDfqCUPesF3oAAAAAAAAAAAAAAAAAAAAAAAAAAAAAAAAAAAAAAAA/nDZsZ2YtIAAAAAPjIbHUc3dn9L8/S/lfQlnAAAAAAAAAAAAAAAAAAAAAAAAyiZmsxy/Qbk/P3V8+ABlsZJxhsoAAAAAAAAAAAAAAAAAAAAAAAAAAAAAAAAAAAAAAFBv1BKHvWC70AAAAAAAAAAAAAAAAAAAAAAAAAAAAAAAAAAAAAAAAfzhs2M7MWkAAAAHzAyuK1dDn2eEt/ln0LuWAAAAAAAAAAAAAAAAAAAAAAAAB8YdudAp6c7Ysq1WVH6LMYGWxknGGygAAAAAAAAAAAAAAAAAAAAAAAAAAAAAAAAAAAAAAUG/UEoe9YLvQAAAAAAAAAAAAAAAAAAAAAAAAAAAAAAAAAAAAAAAB/OGzYzsxaQAAAPxSI2132gtpz9roGrgAAAAAAAAAAAAAAAAAAAAAAAAAAfnB3vGA7nl1kzd68jVwQMtjJOMNlAAAAAAAAAAAAAAAAAAAAAAAAAAAAAAAAAAAAAAAoN+oJQ96wXegAAAAAAAAAAAAAAAAAAAAAAAAAAAAAAAAAAAAAAAD+cNmxnZi0gAAHORuOdt4yfRTs0avn/0exAAAAAAAAAAAAAAAAAAAAAAAAAAAq2dbThmbu7x+Qc5o4n6PY5bGScYbKAAAAAAAAAAAAAAAAAAAAAAAAAAAAAAAAAAAAAABQb9QSh71gu9AAAAAAAAAAAAAAAAAAAAAAAAAAAAAAAAAAAAAAAAH84bNjOzFpAAB+ZdYs5z9qb1rk67ef+ieUAAAAAAAAAAAAAAAAAAAAAAAAAAAD8zrRYyGih6dge717vcX8nLYyTjDZQAAAAAAAAAAAAAAAAAAAAAAAAAAAAAAAAAAAAAAKDfqCUPesF3oAAAAAAAAAAAAAAAAAAAAAAAAAAAAAAAAAAAAAAAA/nDZsZ2YtIAPyK78aq2x2u1+/wAdX6L+QAAAAAAAAAAAAAAAAAAAAAAAAAAAAABjtu9qNl+g2cavn8tjJOMNl/FdlD2mIeMsouAp1AAAAAAAAAAAAAAAAAAAAAAAAAAAAAAAAAAH5VpV2f8AaPa/Yd9Bv1BhfQ96wXegAAAAAAAAAAAAAAAAAAAAAAAAAAAAAAAAAAAAAAAD+cNmxnZi0gfirRnXYqH2rP3u36NXzwAAAHz++VajPqhK3WM30GozGZa9bg7RdywAAAAAAAAAAAAAAAAAAAAAAPHCt5zWjq3SXzXSbMmXxknGTy7JVLV4zqrnH0WG/N3DLuAAAAA/H7BeSkaZw0vP3NH6sv1pGy/pp4YAAAAAAAAAAAAAAAAAAAAAAAAH5RrxAW54yVi7XZV0UG/UHNtoe9YLvQAAAAAAAB8fEfTo6er6z7myfQahbatcNXz/AOieYAAAAAAAAAAAAAAAAAAAAAAAAAAAD+cNmxnZi0nmceKS01l+hsvNbKH0Pl/q70W5Tp7hm2/j9jvPZD8oVOq6Wp06r2+vbSpLU5WVVIjtH/bMPP1FmIAAAAAAAAAAAAAAAAAAAAAAAD8iJd5LBd0x+8Z+5XIvtrmr57d65Hy1+ad9apa6rwhaAAPB56qjT6+hqFQz+009CF59SsXsM76L9+24IGeJ5P0exAAAAAAAAAAAAAAAAAAAAAAAAA/Cvewmap43G/PUqvrlCjPN9SzreY+0iy99Usrt35T7jTd+iNoAH48q35O0cuX1ujq6RTe24xvy+3aRETzQXfZI6zFMCeYAAAAAAAAAAAAAAAAAAAAAAAAAAAAD+cNmxnZiz55Ycoz9iUtdp79HP44mGvd/MqFvgKfn6Wl1bMpvP1/2C0y1ee5lcbIu5n59FmN5+gyn98+80oAAAAAAAAAAAAAAAAAAAAAAAAAFLz/bMKz92U+/v40cHZg9o92qdgvy9wo1fiLqENGgwOV/VPVsFVvVw8lltxuX7bg8Ogt54GR992xU2OeAAAAAAAAAAAAAAAAAAAAAAAAAAc7yE5+C8acn0M2xQb9QSh71gu9AEPCXCuX5bKgu6nR3/lDp1HU1SnVO4V7qZIalL+1Ua29n7fyv0SpUe8eRjui4/wD0EAAAAAAAAAAAAAAAAAH5SS7gAAAAAAAAAAA/nDWcmka9XtplWnaetdovLYqVVnrtpuCzLLjoCWONki3m/o98AAefoMl1P3AAqRbXF2gAAAAAAAAAAAgSeQU6AAAAAAAAAAfmX6hBw1Ybaahb42bK865PJP02Cq0ehpdO6LjTszC2aV6zzQFgLuX+j2IAAFIlbEABEksrVlAAAAAAAAAAAAAACJjyzAAAAAAAA/KbcaXflt3QZ9Ie+qDfqCUPesF3kK9T4a9Kq+ZTFPT4ePSrZ75mNwsyzn/P2WYgAAFVtQipUADkrRcAAAAAAAAAAAAAAK5YcvKnXfvzNfUwXNTBc1MFzUwXNTBc1MFzUwXNTBc1MFzUwXNTBc1MFdeE7G/g/JtXr6LPUFmG6KYlXc1MFzUwXNTBc1MFzUwXNTBc1MFzUwXOi+8GeWpZBbTcvSKlQAAAAAAAABw91VKXnstDF/naNIFpVYWlVhaVWFpVYWlVhaVWFpVYWlVhaVWFpVYWlVhXPf68fLOrhsn5Xrj7bBpZ7SqydFpVYWlVhaVWFpVYWlVhaVWFpVYWlVhaYqL5CsXqiShvknTLmAAAAAAAAAAAAc2a3THiCttMnS/qsLSqwtKrC0qsLSqwtKrC0qsLSqwtEFyRc674zvhp16ky0lqVcqnt7X8yUTZkq33SyGiXkausw2lVnvlpVYWlVhaVWFpVYWlVhaVWFpVYWlVhYMst1RLfrOCasaAAAAAAAAAAAAAACJy7ZwAAAAAAAAAAAB/OGzYzsxaQAAAAAAAAAAM00sUy5gAAAAAAAAAAB5Z5pAqlrAAAAAAAAAAADLYyTjDZQAAAAAAAAAAICfGXaV7gAAAAAAAAAAAAB8/Qof3eQAAAPk/URCQvuX5mcJDbskTjPdDVfITxnPFOiNjmvWLzepp5aPOTf7PH50a/UGeeh71gu9AAAAAAAAAAAEfmWuji7QAAAAAAAAAAAAAAAAAAAAAAAAAAA/nDZsZ2YtIAAAAAAAAAAAAAAAAAAAAAAAAAAAAAAAAAAAAMtjJOMNlAAAAAAAAAAAAAAAAAAAAAAAAAAAB+FMjZO0Cp+WT6TV4SLm55a7DavNGLTms/s89Am7Isx83UTygAAAKDfqCUPesF3oAAAAAAAAAAAAAAAAAAAAAAAAAAAAAAAAAAAAAAAA/nDZsZ2YtIAAAAAAAAAAAAAAAAAAAAAAAAAAAAAAAAAAAAMtjJOMNlAAAAAAAAAAAAAAAAAAAAAAAAAAAA+PsQ0LckL4uU/c8lTobC9s986AAAAAAAKDfqCUPesF3oAAAAAAAAAAAAAAAAAAAAAAAAAAAAAAAAAAAAAAAA/nDZsZ2YtIAAAAAAAAAAAAAAAAAAAAAAAAAAAAAAAAAAAAMtjJOMNlAAAAAAAAAAAAAAAAAAAAAAAAAAAAAAzrRRjWs9gAAAAAAAUG/UEoe9YLvQAAAAAAAAAAAAAAAAAAAAAAAAAAAAAAAAAAAAAAAB/OGzYzsxaQAAAAAAAAAAAAAAAAAAAAAAAAAAAAAAAAAAAAZbGScYbKAAAAAAAAAAAAAAAAAAAAAAAAAAAAAAAAAAAAAABQb9QSh71gu9AAAAAAAAAAAAAAAAAAAAAAAAAAAAAAAAAAAAAAAAH84bNjOzFpAAPA92NaqSCsWE9lV6iwMm1I90L9kuD4VPgvyX55+lGs/KqWtxZka0VctDjiywIvxJpES4KQXdm2gnQqlqP0jCTZvJF2AAAAAAAAAAAAAABlsZJxhsoAADKr6TCudZMIaILgga0aG568WkH58xdfsz3b9rNljZ+kLGyaQ1XNBV/qJZAyB3KzPHQq1pBFEqyTSSSVecOwBm/oaIoUWaiAAAAAAAAAAAAAAABQb9QSh71gu9AAAz40FUpAnUD1EopkyTTNdFPVVLSfRyPOlR+y7NbhTqIvjLAq8aXpwRRZHPXC1vKslrfP0EfmprSH5SxI2SBWiys76y8sssRcWZXglQAAAAAAAAAAAAAAAfzhs2M7MWmtWUUe8Ao15qBVZSz1QmeK1VkqdqhrCct2z+ymfyknLlkBn/AI2Xj38yx9Rg6VJnfaqPb1n9xoxbeGSrB4eVp5DroV24CM06t2QV+wcZD131mz04465HbS7pylC8/eyk+AAAAAAAAAAAAAADLYyTjDZeXqGZ6F1B8fcMUTqsPGQHfMfRUOvjmTQs8sVZPHztkcWKU8vUqfnZKvpw/N1j5Cq/9zPTKHXfdoH3hSXq0x5EVK/E4QEdITBU77XbieoM9scHYSMg/edLKCh167+ZTea6cxdvQAAAAAAAAAAAAAAAFBv1BKHvWC70M10oRskDLtHqhDeM32EPwWmrH5qucWsrP5zW4qljjLcdUJNfHsKV+dMzswzIxdHM9Gp8mTNPkoY5/eT4Doj7fVD58rXCEnZuTrGeaHSS2Umz1Y5tLqdsBXip9XLOlIlu6dICQ47wdIAAAAAAAAAAAAAAAP5w2bGdmLSAAAi5A9OfoFInZoHNHEwjvr2EigJryfqAA4YosYAAAB4ns+PsAAOLtAAAAAAAAAAAAAAAAMtjJOMNlAAAQX2TQKj6WoCqlpckLKqzPCvxts4ABSy6PP0AAAACPkAAAguskgAAAAAAAAAAAAAAAAAKDfqCUPesF3oAAEQS6v2AVizioW8Cq2R57KtZJQ9VUtcbAACqTp3AAAAEcSIAAB4HuiZYAAAAAAAAAAAAAAAAAA/nDZsZ2YtJDkwrdkFCvuZFkkpGgnva+qhnXZ6dNEJoGe6MUD9+fvp8m5UrQM55nW0YEZWo/RRn2iZ2Xmmrgc1c4vsuNe96IaFZaXdBlOrUY+5eToZ2XmoTZLxskMf2DMtNAAAAAAAAAAAAAAAAMtjJOMNlPI9VMtx68HfGlNv2f34pfVD/AKS8hyQhMTFWvRTfn26d/MladdaZi36MI2flButFLdWLvSC7U6452SvvCz57edb4Sav+f309ISbGNaVVO08Z/wB6oaJ8/XyZnF+U+aQAAAAAAAAAAAAAAAAABQb9QSh71gu9ApxcXJ1nzmOnZaadULfnZJdkFYz576VZDy85aMvzfPV7J1VzQqHd8u7oBRpyoaMQPp5+hG8vB+lh+emmlzr8fJF494+QInMNlzgt9Wn+Q9bRm2kggSegP2eMy03MtNAAAAAAAAAAAAAAAAAAP5w2bGdmLSABx9gpFjlBRrh0il2CUFJnZnxIjolUqq352L2jaBw1e7CMq18EZWbyOCtXQRcLbhAzwOTrFOl5oU+4A4O8UK1yQAAAAAAAAAAAAAAAAy2Mk4w2UAAFf9poV7ukxXemZHHTr6OeLmv32vxo2gPLAFdsQjIK4Cv/AFPCJ554Qfd3Cp2wAKzMdwqVn9gBA9siAAAAAAAAAAAAAAAAAAFBv1BKHvWC70AAIWaFf9ZsQ3zNiAm/QZ3oHoIGd+fqUM80QjMCD9JgVX0swh/ibEPy2Ic1Zt48/QFfsAjYe1Dl6gAV+wCnXEAAAAAAAAAAAAAAAAAAP5w2bGdmLScR2ouUEFO58cOk5NoxCXTEr6XBgNrLRYMe1YplpjPsuCi0w21k3GbK5ukM4lS5Mvq5vChVY2ap/mRn9EqhSzY2RfhrzGZ00lk2sgAAAAAAAAAAAAAAAAAGWxknGGynmeiFlj0+PuqlesMdVjZGHzhbbBg98Oi94h6G1s5r5szOqcbsyzhNhZhXjcGbcpqebcdiJOwU+4Ayg1dm3kacwjQi6siuB+2z+dtZLgxqbNKYfOGqMatRewAAAAAAAAAAAAAAAAKDfqCUPesF3oEMTLx9hntxz4n7njnObWxn0NiYnPmmsXt5eWH64V664ZrpE2z+dthLQw2cNWAZP7GpMurRuyiQxqlSZGf0SpFVNhZ1TTd2c043dWLOAAAAAAAAAAAAAAAAAAAHzGGC7Ni2sF64vrrIuUBVrSMPvd1H873fURiE5qYwe8aAMf8AfWRgsb/Rgx3YgA4P58/pIVPH/wCjBQ6PugrlA2IVHOtzGM+mxBTbkP5s/o/0AAAAAAAAAAAAAAAAAAjzPYzojjbvPhkiFlvQIiXGIzOqjHdiDNfbRBkXzr4yqK2oZJSNXgCVr9/sxkktoox2mf0qMS7dgGTayCj3gYpMamP5/v2hDHdT7xhd+uwxKa1MY7sQZhVt4AAAAAAAAAAAAAAAAACg3GglQ3r+f9sJSGmR4+weGK7iMght4zkrXxt2cFUk9fGJX+3D+cNhtw/nbaLCMU0K0j+b9A1AAZnx6wMbh98GacuqjxwnfBn1b2UZhzawGMbOMg18AAAAAAAAAAAAAAAAAAAGEbvBH88+vzpRfpgAAAAAAAAAAAAAAAAAAAAAAAAAAAAAAAAAAAFDvnyfy8svEaBpfl6gAAAAAAAAAAAAAAAAAAAAAAAAAAAAAAAAAAAAAFXwT+o8TKRolG/oo7gAAAAAAAAAAAAAAAAAAAAAAAAAAAAAAAAAAAAAAAZjonUAAAAAAAAAAAAAAAAAAAAAAAAAAAAAAAAAAAAAK3xXEAAAAAAAAAAAAAAAAAAAAAAAAAAAAAAAAAAAAAAAIqVGf6AAAAAAAAAAAAAAAAAAAAAAAAAAAAAAAAAAAAAAAAAAAAAAAAAAAAAAAAAAAAAAAAAAAAAAAAAAAAAAAAAAAAAAAAAAAAAAAAAAAAAAAAAAAAAAAAAAAAAAAAAAAAAAAAAAAAAAAAAAAAAAAAAAH//EADUQAAIBBAIABAYCAQMDBQEAAAQFAwABAgYWNRAUUGAREhMVIDA2QCEHIzMlMTQiJDI3kHD/2gAIAQEAAQUC/wDw/wBiKlEjWmxGwf8A8tat4QC/YG4f8AJUoc68yIyD9DAmMMNMbiwB9nzSYRRI2eDOD2gVNgMOeTmYXqTDzQXr+4//AAyxvjkiXfLh+jcGH1ytXYeSP9n7owpIddefhlbPH2fubD5pKWF5gmwy4TQ+vEiRTz7WN8hWok/ofn2Xr73+N61Zh5wD2azLwCDnlzmmrTWH1YPZ16k1eKSQ2L6BifXoTlykL7eL+qxglyCShhrWvbK1TzRQRsn2edB4ZRi+lkEjjY2kjvCOSOTi7G80uXEeVNte17fk2TxMptkVQrK15fGyMWIoQCvZrdZgytsKUdaEmFxNZB66OIT7Qb9tqnQfr3Rf8YUnz7K5psbMLgYTOTKri+uw9MZBQnh3KPiwVAxLgqcjeVY64R5hd+e+1o/bez956nVO/wDaLfttU6D9b0Bk3aHKDQHeF73xdn2CGGhlLJ1gbOzP0x9kxsDfVbce1/Jj5CtsG+YfWCPon/nvtaP23s/eep1Tv/aLfttU6D9pZGAw5pMhhSBf5MfCLDCX1AmLGce/zjkCTYkC/lvtaP23s/eep1Tv/aLfttU6D9r9h5wjWV3z5ep7SN9I3Uifmi/Lfa0ftvZ+89Tqnf8AtFv22qdB+zZmPyYJwcjisMMcMfU9gG8wtUk+VP8Ay32tH7b2fvPU6p3/ALRb9tqnQfrcHYgjRYSlErRcAxfVL2+NNB/KnISfMrvx32tH7b2fvPU6p3/tFv22qdB+oiaOCFiXmaVrq7ysPq22jfGPVSfpm/jvtaP23s/eep1Tv/aLfttU6D9WxMfMza2u+tJ6ubBYkXC+Y5A8uM0H4b7Wj9t7P3nqdU7/ANot+21ToP07Kx+jGqCzOKijwii9Y2cb6LDUyfnF/Dfa0ftvZ+89Tqnf+0W/bap0H6GpuAQv+6USqCwBG9Z2Qb665KT5Zj+G+1o/bez956nVO/8AaLfttU6D85pMIo2puRxWtrvoR+tZWtezCDypiUnzS/x32tH7b2fvPU6p3/tFv22qdB+eyMfrSa8u81N65tw1amT8hPjvtaP23s/eep1Tv/aLfttU6D8thY+VhXCZmlDwxwQ+uMR7FBjyZjExZ4yxeG+1o/bez956nVO/9ot+21ToPxZFxhjSZylEpwcQRvXtjG8ux1Yn6oXhvtaP23hm0AwkxvbK3sveep1Tv/aLfttU6D8M88cMHB9zitZXfJj6/s431l6Any7Lw32tH7atgnygWCgwYA65nlaH2O7nk+c9diCMHNYgWt56nVO/9ot+21ToPw2Vj8+SFf5wj9jU/IG1tjHrkQdAMoTcvUM8bZ4GQ5DFKiPNAVvtaP21bRhfJXCqVyQ6zha1v3EZ54w8jwtlbYxqhfCyyeqt8ZLvGA5+ASK1/tNbz1Oqd/8A0bVl81sM9g+nJbYxqw2EXK+F/jh6037bVOg8X7DyY4Q8hhQkEYo/6s8scMS3gUNHuiicaUrpTpBR4h4fUdtG+EupE/CWt9rR+2qXDGWP7VLjgLBGNB+0xmGNRewyZVNLnNLBFJPKnWxg4eqtw8icSMGh0cOGMUVbz1Oqd/8A0SzxBaL2K9FETEy445ZZJFOItvW2/bap0HgcTGIMTNKWSjAsEM0zzIYMBrKrYZWyx/ItoENRexS5UQSQTkIpOIoTXoMKkUeYbwRRwx+pNhvNAhzXGLwytnhvlaP2uV7Y2KdBQ1hljnh+sgscaxexR40WyMJoUMkmhNdyvTZVHiKqXRgRerzSxwxyuvqZ/ReEVswE4wCKHIhp5JxDVmhgtxDBy8P1zTwwYF7CPhRbY0ihx5ychNdmypgqHgWJleIWPrjfttU6Csr2xs8YXNJ1YLDO9qmwmy2R1CZgvD/wH4lFjjWL2LDGi2RhVChFE0Jrt6EAEF9YfjeWZawT9ZfvEkeeWt5GYnYqCCL5qxfJ61PeQH9EsmEeJj4SKi3Zs9YYTESCICpKETAwV/i1vWWjKMO0Cwg3OGKOGOt46nVO/q9vjY1NhfJe0zxm/PLK2OJbsKCi3xktf7xEoiI2ahEYUNYY44YsWYS/KTPGONceIwj9cb9tqnQVszGkgFzSThZFkwZMZQ7MSbIiWA9hnUucceBb8SKi3Z09RxzESCa+VJQiYEerfC3jlb421good+WSUw3H1TahvqhLbfOTtYEAOOj9r4Y/+y2P8f8AtRbcEai9gIzqaaYjMRMcRQmvix1DFHDj47zBkMVubHH7CiC+3qvVW59g4VK+8V/Heep1Tv8AxZBRHQqTJoSPwLZhi0XsUl6JJIJuKqOJoTXoMKgHggx8d0B84lYOfq6VrwP25T6437bVOgeH2CGHilLJBGjEGv8AC9sf+kNqKbgj0XsBGdSyzESCJTp6EQCR1FHHFh+W5xyAMdFFysL6pLHjLFPHmOTtZHmgtH7Xw2WG+QYc2JAvgWaMNYzYqKOKJoQAsqhNdxoUMYa35Nw8T1upwTsmvqs8uMMSaLI0r8N56nVO/wDwdheZHTGedDJKHGxL2KPGi2RpNChkk0JruVCLxBvzz+X5NcWxl7H6637VBPGNrJxMhhKBf5OCizhRadN4TIZzCp8RFxhVCa7jahQxhrfoz+PyTr9gdyQx4Qxeq7YN8pJkl7w6P2vhLhjJEjIxGjL2AaOi3BxFQQTkZia9PnQikIb9TwJ2XOjVwqg/VdjkykvBFjDF+G89Tqnf+MmeEeJb4OKvPT4y4YTESia+XJQiYEerWta36HSQRtmuCGXj+iMthGHz/sN+1sVJIuQCRY0XsA+FFtziKgHnIyE16bKhFQQ39Jq5wXHikwlRf2GbQRfilNuwD/rOh/NLyq0ftcr2xsU6Cgot+XLV7yzyhozZqDQhw1HhjHjf+g1JuGvVOQ2Fv7p54oMaRn9zt/RH/wDc7N+O89Tqnf0U2BGsXsBGdTTTEZiJjiKE18aOoYo4sf6BUl4hVL4Q3+80bhgWaujD6wv8M+Vh1ysOuVh1ysOuVh1ysOuVh1ysOuVh1ysOuVh1ysOuVh1ysOuVh1ysOuVh1ysOuVh1ysOuVh1ysOuVh1ysOjpbTmxy2xwyJ+asZ4/iIamhrDZwMMeVh1ysOuVh1ysOuVh1ysOuVh1ysOuVh1ysOuVh1ysOuVh1ysOuVh1ysOuVh1ysOuVh1sTGJkSIVOJKp2WGascrZY/1CyYBYmuzSy1llllkkfRLwOWD1yweuWD1yweuWD1yweuWD1yweuWD1yweuWD1yweuWD1yweuWD1yweuWD1yweuWD1yweuWD1yweuWD0fNHMQrOkXzEspyb/XtQpIGND7EvHx5YPXLB65YPXLB65YPXLB65YPXLB65YPXLB65YPXLB65YPXLB65YPXLB65YPXLB65YPTXYoTF9v8Uq2MgegTRjY/7M8scEbXZ6mkkmk19xGsh5YPXLB65YPXLB65YPXLB65YPXLB65YPXLB65YPXLB65YPXLB65YPXLB65WPS17CMRyweuWD1yweuWD1ywen7uJkGuKzCMLbElV9e1DkCWuI+Wi1yweuWD1yweuWD1yweuWD1yweuWD1yweuWD1yweuWD1yweuWD1yweuWD1yweuWD1yweidngmGpU/LCpayEPw/tX/wA2b6ze95opIZLW+N+ONa441rjjWuONa441rjjWuONa441rjjWuONa441rjjWuONa441rjjWuONa441rjjWuONa441rjjWuONa441rjjWpo8ophEx5Q/HGtcca1xxrXHGtcca1xxrXHGtcca1xxrXHGtcca1xxrXHGtcca1xxrXHGtcca1xxrXHGtcca1xxrXHGtcca0eCQDJSpCWbS0GEAf+o6TQMqZLCwMqATGmj8aaVxppXGmlcaaVxppXGmlcaaVxppXGmlcaaVxppXGmlcaaVxppXGmlcaaVxppXGmlcaaVxppXGmlcaaVxppTNaSupcDOfNxpnXGmdcaaVxppXGmlcaaVxppXGmlcaaVxppXGmlcaaVxppXGmlcaaVxppXGmlcaaVxppXGmlcaaVxppXGmlFojxRqXgFHSJEUK/L+y3WQMo2qYwDwWqi2GHGmlcaaVxppXGmlcaaVxppXGmlcaaVxppXGmlcaaVxppXGmlcaaVxppXGmlcaZ1ApKlylBzjr6OdfRzr6OdYDTZ3JALGgCGkLK40zrjTSuNNK40zrjTOuNNK400rjTSuNNK400rjTSuNNK400rjTSuNNK400rjTSuNNK400rjTSuNNK400rjTSpdeZRx0ILOXKl13AXP+4eAKdGw10oWX+w37bVOg/r7MuLYNFSAQP+xnjjng21mKStYglGWf199rR+2/r7BHnKoU6xUMUcMf8Abv8A5ptrgxFamGQFF+zLK2NpmgEVTbELjU2xE5VM1Plr/wBcmcKw+WoddLyqHXRrVEqAirDHHC289Tqnf/1z7XyBVazJJQo0IsXq7fttU6D2VvtaP23r9/8AFSsQYam2EPGptjnvUzhjJWeckuUK86aodfNzqHXIbVCoXxVHHHHb8d56nVO/9ot+21ToPZW+1o/betMDhw48WuRbGZ+DhU2ySVM5YSVLNNLeEIuaoUB2dQ63hUSVfFUUMUNv1bz1Oqd/7Rb9tqnQeyt9rR+29ZdOLi3mkkmkt/3hRHyVDrdqhRr46iGHh/obz1Oqd/7Rb9tqnQeyt9rR+29ZytbK0q0GWpteDypfBION/S3nqdU7/wBot+21ToPZW+1o/beu7epuVD5wraph4o4If37z1Oqd/wC0W/bap0Hsrfa0ftvXdsmYTUenJRkiy/XH/fvPU6p3/tFv22qdB7K32tH7b2fvPU6p3/tFv22qdB7K32tH7b2fvPU6p3/tFv22qdB7K32tH7b2fvPU6p3/ALRb9tqnQf0r+sb7Wj9t7P3nqdU7/wBot+21ToPxmzxiiTmH4Mji4AhiHqkeaPPCTAt+oFmXOFzCbdFK+FbB/wADBmCvsvYBH4+DTPMhgeLiqthlbLHwm2FNFLf6BYk64JdtdFP1AswxEJMJ7haDmAcIfEwZgr7L2AR+PhsToQMdRsqvBZLLHFFHsKaSbwZlYhABr2TALVGUx4v97fa0ftvy2iY0linKsarkdK441zEJhgwZgr7R7IlkkZKQGOegdJPLHDEM+UET+DQnyoMCiOcVATJOJ4MGYK+y5kCwttSlfmDrnQsDwwMF7ZcwyLKHEhCeqjJp5Y4YhnygifwZHiL4lOxh4sADRj4Cn6gWYYiEmHwxkLdNhpSlT1mQWY6OzK1830Heep1Tv/y2eQqc3VC8jUsrZfFIubL2GRxwgMXKEVHgBNINOijgOyythjbYU15rX+NqKltAOCBifAkmktn4HHCBRL265hI5UrzraL/GzCxw4Qnas2aeWOCKHYU8s2WVsMbbCmvNa/xtRxcAQ0Gxh8iWsg2OJ7pYDKCYKbF4MM2MhOjzzzh7GYTGW6iKRi7CwnGGaAnrQFReJ670Bv22qdBTuVvFiqI2OQzw3Un6CXY813HtnIxL0wUAWHW9T+fPUtZbKwU+ljTjrN8/jsH/AAKyDsnY4zSTZfAuC82yPAbjgjWviPW6zyQIFYY4gGGOOGLv+X7DNIOl1cWCFDruNhdk+kxTtkzEJhZWQdk7HGaSbL4bH0Osfx/bf9490IPKm1CXObXa3W1760HEa6E1SOON3/e32tH7aiLy2g85uVD3lvBWWVscdZNBzz0ibDC2qCw5uBcbR73OWMv3NbfFhtVaD0m55y5FuMWzFestPiuraLXuqhWXzh1fH/0+GqR4Fm2wwtns/wDH9c6FVjiZt244YwT7MvKLuO7hzL3POXItxi2Yr1lp8V3hq/d7DNIOl1cWCFDruNhdk8JVbARmXgxk2jKcuDb9pWWHUYfG2HoG89Tqnf8AhkZt/wAy3IvMLwWmhybNrs8MWxiCwkbwytbDddgmiF2uSaJxsdar2u9yy4KiPuUq/WYSxk1O7XurWr7zAI474NvBfHgft3yYfOZ/4mi/xufHE3d96hjunehENkdnWMFt6mzxUkfcpV+swljJvAP+eFZ3jG0eLD7RDhgJvPj/AKf/APh7hlDPZiIcsk2oj6bIhfOSNpOOWOt+gN+21ToPxaK5D3EihXlHgkP4tjDlZaML9q1PXrbFinSNCSDnQD9kMrs3xyIVHDswMHPmPBmFkRlYIsgjwZBxHhDCbELF8DMQCV2xEMYISpwBF71dEkWfb8JMNiwlSrJA5yFRw7MDBz5jwMgxJFCD2ECB4ssyHmBfmQBjxijURDGRAOufAwJl0awT+9vtaP234uISCVgCRfAFEoyF2FEunAnwXzY7MJc+TY82jUA5j95+skXPlkb1ZZlDjHs3wwte2FExYTwYhtI4ARsBB/CRScGwW4s/i5GemYJB3ImJ6ovFpErPLPZ4M73zWM2BL1ZZlDjHs3wwte2HhKsZCtIIiZwBF71dEkWfb8PA6zzIlSquNO4VTTm4q2BpvoO89Tqnf/iR9X6CVCIKvLS/I2BXTw7CcvnmfG3Kk3Fgzdqo2P3O9l67YQiG6/Bmvgh2WLAXGbEes8bZYxhMRKWB4hweB6kr7mvxcfXZ4us5EILxbE4VykGSrGjORlgdlEYudNI2y2Fgugh2WLAXGbEfwYrDfuy77l8gytqszUK5ByvBj95+slWPlmLxTIaQWtdM8G6qFgumXvTYB4cB4PQG/bap0H6Z4o54ra7BHZatFX4+vb7Wj9t+opCJKUEjEHJ9h7z1Oqd/+pglEMJhQCWn9it+21ToPykPBjlte2VvwImjHgUm/cBCzBhKFKgKwbso1uOOVs8fwMJhDGXulh8/6Zc8I8LXte345ED4T+g77Wj9t+TBsuAuuZgsPyXNMj2RM8Y8MbgbLOX57Ro2fn8PxP2CILLDL5sf0hljmYfixbL1+QJop0Pou89Tqnf/AJMGIQGK9wtPk/GzTKZ3JnjHhZ2LWOVssVTTKcz8WTnACUIjEsT9I5Y8835zSRwxrjxGEforfttU6D8dwLnjiFRKYBppBFa/74f9FeZAcLi7KKyAnzJH2L4nuMcbY4rphpGGcsEb8mGMiDT5ZMMfBgZACLG3ZS4Y3+Nsf58VPGMPi7OlhVnQMRMXZRWQE+ZI8ribMlQ1wPz8N0JPutBNb3xbM4V2Ob0kW9r2vamEZEokwcQO4eg77Wj9t+LCfywOli45g2ww+p90YnlLGhGbFizK+6Ls2/19uLyDRKA8QF2wTYedbMVxICnO8i15/wBP2LxjasWUy3I/KPfP47B/wSszizwWpWDNsyniYAZufMOGWYss7Rqsz8Gf3X46n97+3zFZAqozNjngSMo2YdX/AMVqucHlVpOFtw9F3nqdU7/8b/4rUo8WRF8MLyFNDJmQ7U0dm5Zyikh5PLEuivJKtTExGS7TJ8oxDJXmHred81W5Y3FrHK2WPhO1MIYLcmnzbP8Ax/XOhPZk3ZYNDwz3jPMG4uT7Eh0xsvgKYPF0UEmE0NMvuH0kX3v7oNITCEOweMIkbT7h+JS2Io//AE//APD9Fb9tqnQUyhMnwAEZwkeG6fGAyPPHPDffj9p+pH9HQrXspsnYrstdZ5shs/8Ab36kww+RU0EHIKQf7m0+G8/C0dr2vasf59vds766JnHkHpNvjVk7FdkgZSMw9SHYzL1qckdt4bz/ABsK9rhsL/JvO5ZR464nxzwU+Dj+ceg77Wj9tWePzY/YKwx+XGmUFyV+kmR/bvnwvnoueEQU+WJm7tFYTElcUwEf75hldHDJjLE8t9E55NBitXRfQC3D/dJ8CccsxtGni+0454ZVvn8dg/4NPzxgIa5Ymbc3WhMphiWC5/sUWNtrK18SSDG3y4+Gi5Y2C3iLOXXgzRZVul43ywq/+baqAPmVllifunou89Tqnf8Ahmj+fMWH6A9X/wA202XECW+eFpNczxHe7HliU+cLwWN7TMVDjbI8ptdQy4zJdmwv5cwoXBahhygV73n/ANDgx+nB4ahJgOXbPC+ez/x/XOhU54Cbdt+WJJLcEBjhPIxRnbrh8DJEY0owEMYwfhrmeOGwbHFnMj1cqCZDrt/M7F4Ml3nc1q7yWdf6f/8Ah+it+21ToPxJgiJhw1weK3khvIW1oT5YoYoh+Pw2peGOAPtAU00ag+FkEYthJlBBhEs+ZWXCa4uuuX+BY0JY+GuDYWNFsSLxqD68IuGAXGg7YjiwDjcfhtS8McAcpCHMWuWxBZ+BUERI4yGMbNmuFYwwoBMZvA2HzI2eswZzgDeUg9A32tH7b8j0607NcsBX0emWHSAhCgxHplp8i9aCvsVBGSNreRQUsseEscCwKCSXP6caSGZgy8Tkqw2QAIYGGTW0ski5OuXSsFK5hkvADAwYKVzDJerXr7mCjlwj68ngl8TUSoyYYaEYbLXUt5Y8MY8PBgoXMMggxgovRd56nVO//JgsBPpenWgSMVYDCl60FfZirAYUvULgM8rWysmwnTtMsbZYxqgMJKGjlcO/FgqXn3XLgl9i9fUlEAo1YRLBcEfivVr19MFwTDEBMsBknhinix1tLjna1sbeDBOtPkACGAgJ19RPMPDEPF+DFOuYzYaykxy9Fb9tqnQftwxxwt4ZY45X9Z32tH7b2fvPU6p3/tFv22qdB+LhkMrFx2cq9os7SRSHtrbD47EYxDHFzkkGfs36/NAZKeo/aydRhtvTN9rR+2/G97WtPtPzTonI7bDw2BvGoHhz+eIpuTFtP7H7N+vzQGSnqP0r3URrj0reep1Tv/yP2XCMxG+gZS/pPPbRPK+9R8g/YhdRuL+oN+21ToKIJHGxgOBIk8N0VkMQgtskHyLx+4LIPuAG27hLLAgmJej31yY4fZNqFZLIVOWWardv4zpv8a2AQyacI4xe/wB1NLDZMhtlDxHzvJBW8+chCPbWx1hYWSt1KLM4oLWHGRqZfk52SQFewhXt1pUGxJVZgM8ZLTYmYJjFRsO2nHC7EePsi2XdWZgIygUrOf0Xfa0ftqve2NvuyurXtlatskyi13Ro8cNcFt5f/UaElwTsanF0v2DcVpQcSdMfBNsfmuaFZtUbfbWpQ0rMN4mFavJcdVZDtRksBpCnVBlz8wBG4IYa6hieuQdHYFFwMgTLk6cxMlP3b+M6b/GvBuSUr2vdziIYtkZEKFxkxqyJi6tBrgC16yFLXHkq0y0ol/j9VGjWiu3Y2otSyCISXBOxqcXS/YNkZF32DXhC4Z/Q956nVO/8LtFlsopMJY6ZSZQrv9OY8ftj61h96mncT7V9ZmhfbAU0x2tpdxrxGytjPOtIXaGFw2mj1lVGWwjminmXT4sVmzNBpSwrLSuXJgSFscTAp2VqjQnJl4DElL9z2ooqZztTUiAuc4tLPtLnJaugSvZIm6007DUVxR+LImVDrwy5+YBrDeZko1y7puPqcjbAjNgWxboByx4PSW/bap0FEDDE2gBBHk8Hrb7VT91A9EEztr+sluxZdpfMYGmoMf8Asu/+wttfhswdYeCGYba+DlD054JYXZfhHtGFh+Rb13PicPgWGNYsq+yL8jEQUqIeFEMJOlSMptbpK0xaRbnhMM8Su4msy+eTVmgtp9g2bav5pWyHjhxlYinn4fG2Hom+1o/bVe1srfaVdWtbG1NxfOrUzrJCNrQhZbrWf5zW/izELEexxG5sP/sTe+23QMqxrd996A2AWZdpY8mr45u4o3mtA7R5RWgWzga1/p70P+n/AM3zhXDhL0nC8ex7a+DlD054JYXw3QHziXW8pXb/AHtdORjgTrGWLxXcvV1e0YhBAz3JDxKug2qbO7/Xkj/7MBpoJVzdZ/nNbEzWYmavBnJsfoe89Tqnf+F1ay+UUeEUdTx2lhUHS6xMsjJd7HmxhV7p8SNlf7EXGDurUqfaSdoEJCbOnGWwDT3snQuJkx+Ik8qvW27oUzYkrUdtA6zkU7kqZRuYIRw1JOr/AGiY/wAN8Fy8rqNsmTfc18lmkc2sz33ZXMWvG3CL6UWV8o9fP44W9hmd6yDtHlFepLZwE/8Apt/4NNWqOeTQBy45fR7/AAtb7ivppljmz1o0OJJBPDPb2RMYJDnuhI5FafNDAzjNClz/AH7epIaizW2woTXFv2pd63OUNBfcShZ1mtSYRO7MAcsvzXrTYtwoxabnuXsXZ1/kT6ijzllUh4gA+yNuX+ZD8NMX/JH7N2MDz4Hhpq/6s/s92DiwAzxvhnpi/wCOXsrYl/29gnCyPPjwxjj9nbcv8qYGPIUUGPGKL7Q2FJIQzGijgg9lPwLMF+rLvJBez2YeBoWpq8w7f/gn/8QAPREAAQIDBAQLBwMEAwAAAAAAAQIDAAQRBRIhMRNBUPAiMkBgYXGBobHB0RAUIDNRkeEVIyQwUmLxcICQ/9oACAEDAQE/Af8AieQSFzCUkYRPyBl1Xk4pPPeUeDLwWdUTbynpPStmn1Hce/m/JWcqYxJoItRpti602KazyiyHAtKmFZHH1h1strKDq5ugEmggXbNl65qPj6CJuZ94cv8AKJZ7Quhf0i2GQFB1OR38ObtnSyWUGZdw+nr6RNTKphwqVypn+ZIlGtPll3Yc3LOkveF1PFGfpFpTmlVo0cUcrsl7Rv3TkfHVFoMaF8gZHEdvNphlT6whOuJ59Mo17u1nr3+p5YDQ1i0UiYlkvjV5+h5s5w2lNnS5WrjHenZrhaytRUeW2UsOtqYVuDnC0FCik6ubFmSqUj3h3ADL19InJpUy5ePLpR7QvJVqi2GbrgcGR5ryEmZlfQM4tOcCzoW+KN6dmwB/LkKa0+XqPatYQkqMJcWFAL17EcXcTUw26Sq6oUOzWmlOrCE5mJp1MiwGG8zvX0+Jtlx00QKxK2Ugo/eTj0HcRPsyrHBRUnw5TZD9x24cj4xOsaB8p1aur2PIvoKYbaN8G7SnxoQpZokViSsuoOnT1YmvdhE9LScsnXU5CvK5lJWjDohlNXbwrSmuvn/TZk3nuKIFlS90FYodeJib0AXRnLYEu2mQYLrnGOry9YnnlOG8rWcYYwcKQKDD2AE5QzZL7mKuCOmPdZGV+aanfUPOHLYui6wmg6fSBaMwFFRVqpGfKUKKFBQi1Uh5lL6dwfQwVAJrnBU+scEU64aWHEBQ+FmzJhzVTr3rHuErLCr6qnfVnC7VbbF1hO/VBtB8rCicvtC3FOKKlHHla1pQKqMAuu/4jvhEslJrUnthxhLhqcO0wQ83kbw74bdDgqPgbZcdNECsM2Os4umg37IvSEplwj9/xD1sOrwQKD7mDOOlst1zxOwLMlAf33OKN69kWm976rDADLohJ0ySleY3rErZb68QDjrO/lCbMYZFX1eX5MKtOXYFGE+X5h60H3cCaDow5dZ92ZllSy9wfzGjDXAApTD2M8Fam+3ft9jMo89xU4Q3ZKGxefVh9u8wZ2UlvkJqd9Zxh61JhzAGg6Iz5aTSGhpjpFZavX4XkEHSIzHfDZ0oBRjDNlPuYnAdMe6yUr81VTvqHnDlsXRdYTQdPpD0y69xzXYUnLGZdCe09UTqnHf48ungjP8A3DVj0F55VBvrjTyEoatCp+v59IetZ9eCeD1esFRVidgSL+hfCjll94tIATKqdHgIbaW4aIFYbsJa1hxw0z3+kXpCUy4R+/4h62HVYNighbilmqjXYEzUpCBr3MAU+BmQfexCcOnCE2WwyKvq8vzH6hLSwuyyfIeph60X3cCaDow2KxMLYVeRnlH6rMUpUfYQ6846arJOxFuqWq+rHLuwhNpPoFE0A6hD0y89x1V8PtsMhJUKwmUeUKhJ+0e5P/2GFsON8YUhmYUyappXqBhVpzKhS93CCoqxJrzublXnOKkwiyJhWdB2wLIbbFXV+XjFLNZzxPb/AKj9VYb+UjwHhDlsPqyoIXOPr4yjGfO1llbyrqBjEvZbbSDexJGf06o0VnM5mvf4R+pyzXym/AQu2XlcUAQuemF5qPhz0RNPN8VRhRvGv/S1cwU1NMBsZbpvXUisNrC0hQ2OTSEzBNKilctkrYPCFK137oA2K63+4VUqKQwgtthJ2OsX0kQ20apwpTP7bHvprdrjsZTqEmhOyDhCHUr4p2Sm9oxln21rv2bGcvfu4j8UhqtwV2PN10KqQi9phUg4bJDSAq9THYxQlRqRslKEpyH/AI1f/8QAOREAAgECBAMDCgILAAAAAAAAAQIDABESITFQE0BBUWBhBBAgIiMycYGR0aHBFDBCUnCAkLHh8PH/2gAIAQIBAT8B/hPIbKajkxjx77uuIWpFCvY935JQuVQsWuTzE62IalNx3ezlbwpEwi3MMMS2qA9D3dlYscIpECiw5o+pJfoe7ksmAZVFHbM683MLrfsqNsSju0SFFzUSl2xHnDURwMVPdo3law0oC3OzDCQwq9x3YlYk4RSJgFuedcSkVA2VuzuvI+AVClszrsHuSeB86KWYKKZEKkp02RExm1PGAMS57aSFzNKDIcR09IkDWnmz9U1GzHM6czOt1v2VGcSg+aJsDhuypJvUIxXv8fz9MmpJv3TUbO58ObgYI/yIqVvZ4DbW+Vvy/VtIo1rjNfI0mK2ewMTIcI0ryZAL+AvU+cYcm5uc/NejMBpWORtBQg7a4SWtbmtahOElTQUkgaUFgT3jf4aVImBip9EyqtcR390UISc2NcJbWoC3Nohc2FERR+J/CjOxyyHwFJMyZDMeIvV4pNRY/h9KkjKGx9BiBrRnHSrSNrkKWBRrnQRQb7BM/wCyK8nJh/PxphwWxJodPsal8oGnZ2UZWbJRQiZs2NLGq9Oee8biQUzF8yb+ab1kEny+n+PMXVdTRnJyUVw3f3jQhUc/IeEvDXXr9vRhkBHDfT+1OpQkGmmA0rHI2goQXzJoKq6bE74Beo7L6zGjP2CrSuLE5UsKjWgNgkXEpFRe6KJAr9KAQoBf717R/ClgUa50ABsHk2RLnoL/AG9FpFXU0ZmbJRRjeQ3c0sSr02VlDixrgrQAXQbIFAGVGJTrSqF0Gxriwm3zouo61xF7aBB0NFcVCFR0q3e4uo1NcdRXHJ0Fe1bwrgk+8aEC0EUaDvcxCi5ppiTlpV5W8K4TtqaECihGo6d9CinWh/JakF7C+Z2ZYlIxMbU6FGKnaGgtexvbaUnHqNfT65ffZo39nhvbOpnxyEjZ1OE3qSYWfO9/vfPZ8DWvbLZljZhcDaNaaNk1G0th4jDw+Vrf789mjw+zyPy+NSEYjbZ/JrcZb0+EQnIjPr/zaTI1sN8tmDMOu0szNqf6NX//xABTEAABAgMCBg0ICQIDBwMFAAABAgMABBESIQUTIjEyURAUIzRBYXFzgpGSobEgM0JQUmCBshUwQGJywcLR8ENTBnThFjWTorPS8SSDkERUcJSj/9oACAEBAAY/Av8A4P2HGjfbv44xjecaSeEf/i6XYXfjDl/cTr9wWPxGA60eUa4xjZ/ENX1Lkw5mQOswh8XKzLGo+6CnXDRKBUmFqAsLQq9PFwe6K33TRCBUw5MOaSz1RtZw7qz3p4PcCX5VRZUCDDU6xNkWhemz3fU7TbVubJyuNUBDh3F65XFx+6Awe0fvO/tCHr8WclwcUBSTVJzH3QEg2bk5TnLwDYbmEeibxrEJdbNULFR6/addFcVWg4IRMgXOCh5YclSfvp+oU4POqyW+WKk1OwG3DV5nJVxjgPuc5ML9EXDWYW84arUanYMi4ctu9H4fdBTi5x1SlGpNM8PMA1Da1JqYamlTDiCutwHHG1w8p1Nai1wfV7W20zj82Lti11QDMzDTIOa2uzAINRsYx5YQnWYLcmLCfbOcw0hZKlBOUTr9WBUw+0yDmK12YxoWkt0tWq3UgmXmGngM9hdqHEAVUnKTDT3ADfyRXy0uPPupsigSnNDGKccXjLVbXFSFMOqUkBu1k/CA+zMPVpQg0v8Ac5CXXnEIR6KYS+066olyzlchhqWWopSut45IRMNTL4Ug8XujOc+vxiW6XzH6wYYl1hqZlqG17Q/eNuT1jFSqU0Z1nY3CWW6o8NMkRamFlR8IYb1qv9WuSr4yV8Oo64X/AIZxzdC/i8Za4NUIlWcyc59o69hxsaJNpPJCQTlN5J+ok+n+mHOYPiPdBvnx4GJbpfKfdKc59fjEt0vmP1jUstotYNbVVSrYquGsIYEYCkEUdatBPjrgEpKTqPBGSd2XckfnAbRlLWc8OFxNCymh5fVqkYMZLj67rVoCxx3xiqD6Q85a4/ZhLeE2Ch5F1q0DbGu7YRMp/p3HkjFE5Lop8fqJPp/phzmD4j3Qb58eBiW6Xyn3SnOfX4xLdL5j9cp5w5IhTq85zDVGMWN2Xn4uKFupTRS9Lj9YrZVmWKRqW2rvht8emK+XJ9P9MOcwfEe6DfPjwMS3S+U+6U5z6/GJbpfMfrsW2dxRm4+ONuujJB3Mfn60D40XR3w5Kn0cpPJ5cn0/0w5zB8R7oN8+PAxLdL5T7pTnPr8Ylul8x+t2k0cpXnDqGqLP9NN6zASkUSMw9aLppN5Yhp2uTWiuTy5Pp/phzmD4j3Qb58eBiW6Xyn3SnOfX4xLdL5j9YVXFxVyBAQnKcWYDKOkdZ9bOs8Fap5IQTpIyFeVJ9P8ATDnMHxHug3z48DEt0vlPulOc+vxiW6XzH6tTrholIhTy+iNQjHujdl/8o9btzSRo5KoLB0XR3+VJ9P8ATDnMHxHug3z48DEt0vlPulOc+vxiW6XzH6vENHckHtGNtOjc06I9o+uHGD6QgKzLbVCHU6KxUeTJ9P8ATDnMHxHug3z48DEt0vlPulOc+vxiW6XzH6rarR3RekfZEBsXIF6zqEJbbFEpFB65xgGS6LXxhcsc7ZqOTyZPp/phzmD4j3Qb58eBiW6Xyn3SnOfX4xLdL5j9SXDeo3IGsxwrccVAbF6zeo6z66UoaTWVDazonJV5Mn0/0w5zB8R7oN8+PAxLdL5T7pTnPr8Ylul8x+oU4tVEpvJguGoQLkDUI208ndF6I9keu6HNDrHsm7khtZ0hkq5fIk+n+mHOYPiPdBvnx4GJbpfKfdKc59fjEt0vmP1G1GTuaTl8ZjHujcUf8x9etzSfwKhcsTc5enl8iT6f6Yc5g+I90G+fHgYlul8p90pzn1+MS3S+Y+XiGjuzg7IhLKOkdQhLTYolPr11nhULuWEODSbVCXE5lCo2ZPp/phzmD4j3Qb58eBiW6Xyn3SnOfX4xLdL5j5Snl9EazBWrKccMWc7ir1n1+pQ0XcoQWTpNHu2ZPp/phzmD4jZxaplNruioII9zG+fHgYlul8p90pzn1+MS3S+Y+SVqNABeYtf0k6Ajbroyj5sfn7gY0aTV/wAIRXRXkHZk+n+mHOYPiNhZTpKyRCZctpoU5Vc9YfllHzLhSPchmTZXYW+q9WoQZqUcWl1u81VpQ297aa7DfPjwMS3S+U+6U5z6/GJbpfMfJ2myckecP5RbcG4oz8fF9alZly42c6gc0Xy7vdF7T/UP3ghlDlBnJF3rEpVeCKGHGTnQqGnvSIorl2JPp/phzmD4jYJHorBhDoYuUmvnFfvE2tsUbLlE/XlbTeMUPRrSsUXKLHSi9h34UhLaGZgqVmuH7+tpQIdxRKaJVZrTPDynMJW0WDVOIF8S9fZ2G+fHgYlul8p+xmymp4Bmgtuya0KGcWoypd0dUBOJfqdSRFbNK8B9dznPr8Ylul8x8iw2d2Xm4uOEsozqznVCWWxkp+rtKISNcUQovK+5BbAS22RmF+xdktA5SoDTKQlI9ZNzQGlkqhyVOZWUnYk+n+mHOYPiNgtrFUqFCILLWEHUMexT84DLSaJH11Fugq9lN5iks0EfeVeYLrirS1ZzCWmk2lKipop451etm3GVWX2jVBja7zCJds6awqteSEtozJFBsN8+PAxLdL5T9i3Z5IPs8MUlmekuMa8q0qAlIqTmEY5+in/l9eTnPr8Ylul8x2VPOZh3wXF3rWc0ZY3Zel+0NYObWUJItOkaoRNyhWAFUcQTW1AUMxv8s23gVeym8wRLNBA9pV5irzq18sVDVhOtd0VmFqdOoXCHEpRiZZumYZ7oDbaAlKcw9ZuNelSqeWG3h6CoC03gioiT6f6Yc5g+IiqjQRRK8ar7kJWk1SoVH1lX3ko5TFJZor+8q4Rujxs+ym4RuLKlcfBFZp6n3UQ01JM7opzP8DF2U4dJXri26sISOExipCWXMK10ujdH25ZOpOeEOPTrj9XaUOYXGGmkuloqrlDgujcZ/GjU5FMISRCfbRmi0w4FcXD9ZaddSgccUl21OnWbhBq7i06kXRRlpazxRWZdDY1JvMLTLsWnjZAOc54xjgC3zw6uL17Oc+vxiW6XzHYqTQRRJ3FGh+8GcXRVk0QNWw4lqYxCi3cqxahZfn8ai7IxIFb9cM1z2B4eRV91KIpKtWvvLjdHjZ9lNwjcWVK4+CKzT3RRG5MJB9rh9cOUGSvLEYsnKau+ESqULSSm3aAObNC9pISpwt0v4BURawjOKX91OaHGWmUpKk0rwxiV6bJsn6m04pKBrJijVXlcWaKIViU/cjISt1Z+MVfUlkdZitjGq1rvi6711YAxj50UCBMYTWriaHBFhpAQkcA2G+fHgYlul8p2KGMdJK2u8NWaNqYQTi3uBXAfqKqIAiiVF5X3Io1RkcWeP6jqz8TFXKMJ+9niqwXlfeiykBI1CEJm3sWXNHJJhTizRKRUmFOSbuMSk0JskePr2c59fjEt0vmOwZJk84R4RleZRpftG3pEbn/VahLzeY90NTsoRj27qH0hDaJtpLDCTaUAqtrYtOLSga1GKNBTyuK4RRK8Sn7meKIStxZz8MVfUlkdZiuLxita74pskX/CJzBM9MOvHO2XFlWb/SG5GWmHm5eXG62FkA0vP7etQ+NJo90JYx6mku3EiJUM2qqt2io8kO8wfEbJGZqaHf8Azx8uhdxitSL4sy6EtDWbzFXVrcVxxXF4pOtcVeUp5XUIstoShOpI8iUwywMptYSv4Xj84aQwamdpZ/Dn/aGJX0kpqv8AFw+tqIyn13ITG2prLml3kn0fIb58eBiW6XynyLDml6KhwR9HT3nE+bV7Xk7o8Cr2U3mKSrIQPaXnirzylxVLJSn2l3RamHC7xC4RZZaSgcQ8hakjdGN0T+cMpCt3e3BXwz/l1wzLnTpaX+L17Oc+vxiW6XzGMmmNXoD84DaMpaznhLLfBnOsxSLH/wBJMZvunYoXcYrUi+KS6EtDXnMVcWtxXBWKlGKTrXFXlKePUIstoSgakjy5PDbAvQqwvj/l8PYSe87NLrXi/wDPrVTa70qFDC2zpNqpGDnuFQXXlyYd5g+I2UzDfnGFWhDb49NNdndnkpOrhizKs9Jcbs8ojVwRuTKrPtG4RWaer91EbgylPHw+W9KGmWm7iPBEuJjKZkE3dd3f4etlOruSkVMLwnM66NDV5LfPjwMS3S+U+TjGvPtXoI4YCzpi5cVedSjlizKtFf3lXRujxCfZTcI3FlS+Pgis09T7qI3JlIV7RvPlm3SzS+sLDKsZIyrhWDwHV/OL19N8+vxhl5w5KbXzGC8vhzDVGMcG7LF/ENWxuzyUnVwxiW2DStbSjAS6+tSRwRuTKqe0bhFqaetfdRmjcGUp4+H6k2c/BDbWFEsykqg1Uls6XeYQ02myhAspHF62RMgXOCh5Yaa4ElRHxp+0OcwfEbKm1aKhQxMScy4lGJXcSYowlTx15hBGMxadSLoo02tw8UAzLgbGoXmKpaC1e0u/6ook55piUWiiknS4+D842u1lk3rWc6j62YkGtJ5V/JCWkXJSKDyW+fHgYlul8p8i04tKQOExRqryuLNDy5dWIDpvCYohK3Fn4xV9SWU9Zipbxqta74oPqWlTK3k4vNYIjESrVhFev1LiZfd3K0u0R9pm+fX4xLyv9NqvxNY2/OKShtPm7XCYpLoLx15hFMbi06kXRRlpazxQFTLobHspvMZLIUr2l3n7E2w82S2tFbQziMaw6lxPF9p3ZzL4G0542yUWKqIAr9ncQBlDKTywmHOYPiIqSAIoF41WpEUZCWU9ZiuU4tXxJiqwGU/ezxVyryuPNFlCQkagPsLsylIUUX0PLASlWLd/tqz/AG63MOhOpPCYeWG8WhCqJ1/YnnPRYRZH86/Kb58eBiW6XynYoXbavZRfBEuhLQ1m8xV1xbiuOAcXik61xV9Snj1CLDTaUJ1JH2F10Z0IKoDaziHvZVmPIft1HF2nf7ac8FJVimf7afzgHVG93+6N7v8AdG93+6N7v90b3f7o3u/3Rvd/uje7/dG93+6N7v8AdG93+6N7v90b3f7o3u/3Rvd/uje7/dG93+6N7v8AdG93+6N7v90b3f7o3u/3Rvd/uje7/dD76QQHHFKFYpQxfaMZVoCKuS0y8r71KQEolXkjUAI3u/3Rvd/uje7/AHRvd/uje7/dG93+6N7v90b3f7o3u/3Rvd/uje7/AHRvd/uje7/dG93+6N7v90b3f7o3u/3Rvd/uje7/AHQ260haAlFnK5Yxku6ptXFAanQGV+2NE/tAUkgg8I+y42YdS2njgtyILSfbOlBUokk8JgS62FrNomoMb0d6xG9HesRvR3rEb0d6xG9HesRvR3rEb0d6xG9HesRvR3rEb0d6xG9HesRvR3rEb0d6xG9HesRvR3rEb0d6xG9HesRvR3rEb0d6xG9HesRvR3rEb0d6xG9HesQpbSChBNQDCnWgCVIs3xu7i18XBGYxWYafc4gaCLLOD1N8lI3o71iN6O9YjejvWI3o71iN6O9YjejvWI3o71iN6O9YjejvWI3o71iN6O9YjejvWI3o71iN6O9YjejvWI3o71iN6O9YjejvWI3o71iHZZMu4kr4SeOKwG5ur7ev0h+8W5d0L1jhH2ouPOJQgZyYLeD0/wDuqHgILjqytR4TDqFsqctqrcY3o71iN6O9YjejvWI3o71iN6O9YjejvWI3o71iN6O9YjejvWI3o71iN6O9YjejvWI3o71iN6O9YjejvWI3o71iN6O9YiZdUwtReVXPmjejvWI3o71iN6O9YjejvWI3o71iEsIYWghdqpPLCJlABUiufkjdnFkahmjMYq+l5XEm6NxwepPHUVjejvWI3o71iN6O9YjejvWI3o71iN6O9YjejvWI3o71iN6O9YjejvWI3o71iN6O9YjejvWI3o71iN6O9YjejvWI3o71iN6O9YjejvWIdaEq4LaCnPsBDhx7I9FWcfGKsOZXCg6Q+2KekF1JvLaz+cFt1CkKHAqKCPMJ7YjzCe2I8wntiPMJ7YjzCe2I8wntiPMJ7YjzCe2I8wntiPMJ7YjzCe2I8wntiPMJ7YjzCe2I8wntiPMJ7YjzCe2I8wntiPMJ7YjzCe2I8wntiPMJ7YjzCe2I8wntiFtL0kKsmEzDLQLasxtCPMp7YjzKe2I8wntiPMp7YjzCe2I8wntiPMJ7YjzCe2I8wntiPMJ7YjzCe2I8wntiPMJ7YjzCe2I8wntiPMJ7YjzCe2I8wntiPMJ7YjzCe2I8wntiPMJ7YjzCe2IDcygJUoVz12AtYxDPtKzmAyzap94/ZbZUpt4C5Ubu3k8C06J2MewEWCaXqjRa7caLXbjRa7caLXbjRa7caLXbjRa7caLXbjRa7caLXbjRa7caLXbjRa7caLXbjRa7caLXbjRa7caLXbjRa7caLXbjRa7caLXbjRa7cN7ZCd0rShgsy9LQTavMaLXbjRa7caLXbjRa7caLXbjRa7caLXbjRa7caLXbjRa7caLXbjRa7caLXbjRa7caLXbjRa7caLXbjRa7caLXbjRa7caLXbjRa7caLXbhb7obsIz0VsWJdsq1q4BAfWsuP68wH2oJdKkqToqBzQVLTjGf7idhS5cJIQaGpjRa7caLXbjRa7caLXbjRa7caLXbjRa7caLXbjRa7caLXbjRa7caLXbjRa7caLXbjRa7caLXbjRa7cOgFoYo2VWl0i9+XP4VVjgjgjgiiEFR4oDz7CkIJs3wmXZpbXmqY0Wu3Gi1240Wu3Gi1240Wu3Gi1240Wu3Gi1240Wu3Gi1240Wu3Gi1240Wu3Gi1240Wu3Gi1240Wu3Gi1240Wu3Gi1240Wu3Gi1240Wu3CnFJbspFTl7GLl2lOK4oTMTS7bovASbk/bbEw0FalcIgOS9ZhmvSH2mc59fjEt0vmP2hlMu3UYq9ZzC+A46Me9rULh8PtBStIUk5wRBckDi1f2zmP7RiX0FCws1B+0SfT/TDnMHxH2h9tpBWtQFAOWA5hBX/ALST4mA20hKEjgSPtlILkruDur0TEy1MNlKrd3H9bVRpGVNIP4b43NpxfcI3JltA474oqZWB93JjhUoxkyznSujdHG0d8bq84vkuEXSyD+LKiiEhI1CG+fHgYlul8p+0PpSKktqA6oDk+S2n+2M5jFMNJbTxeuJzn1+MS3S+Y+5cn0/0w5zB8R7gXxlzLfwNYyEuOfCkbkw2n8RrG+Cn8N0Za1rVxmsZEs58RSN0U22OWsbrMLV+EUje4UfvGsUbQlI4h5TfPjwMS3S+U+6U5z6/GJbpfMfcuT6f6Yc5g+I9d2nl38CRnMNY9eKlkqtWYyMY5yJ/eNxlkjjUax56x+ERujq18prG5yzh47MZeLb5VRusyo/hFI8xbOtRJjcmkI/CKfVt8+PAxLdL5T7pTnPr8Ylul8x9y5Pp/phzmD4j10WWEHGe0RcILjqipR4TFIvShv8AEqN2mfglMXtqc/EqNyYbRyJ+wN8+PAxLdL5T7pTnPr8Ylul8x9y5Pp/phzmD4j11QiMuVb+ApG5rcb+NYDK3cbZzGlLvsbfPjwMS3S+U+6U5z6/GJbpfMfcuT6f6Yc5g+I9fCflMmbl8qo9IRKyABaabTbmVa4Sy0kJQgUSB9gb58eBiW6Xyn3SnOfX4xLdL5j7lyfT/AEw5zB8R6+RgzB8u/u1zjwQbIGqsSk/ghtx8oFh1AFbXHTjhDthxFoVsrTQjiP2Bvnx4GJbpfKfdKc59fjEt0vmPuXJ9P9MOcwfEe6DfPjwMS3S+U+6U5z6/GJbpfMfcuT6f6Yc5g+I90G+fHgYlul8p90pzn1+MS3S+Y+5cn0/0w5zB8R7oN8+PAxLdL5T7pTnPr8Ylul8x9y5Pp/phzmD4j3Qb58eBiW6Xyn3SnOfX4xLdL5j5S3VmiUC0YkpybmHixhFTiQ2pZsovuhUzMrsNJzqpWMU7OoC+QmEuNqCkqvBGYwWXp1IWM4Skqp1QpqTmMatItEWFC74w9Pty9JhTgJXaPCb4b/CIG3JhLROYZz1QVSkwl2mfWNlnByFlKSLThGqG5uTKkgKotNdKAoZjs4pc8i1xAqHWIN4cZeRwHSBjBSJNnFBdoqyieDj2Cy9OoCxnABV4QHZdxLrZ4UmMXNTaEL9mhUe6MZKPpdTWl0DbkwlonMM56oKpSYS7TPrGzMS22i3OYvIFk5+DiiXRNzxx4RulpCia9UF1xaUIF5Uo3RikzyLWa8EDr2XptYqG01prhM9MYXm2H3U20IaVRtOq7hh1qaKVTEuuwtSfS4/t8n0/0w5zB8R5bktIzLzIlJYvOYtZFTq6ol5r20CvLw98OLXNpSGlltVQdIeMKXJvpdCc/F8IG3JhLVcwznqhKETlVKNBuSv2hCpxjGlFycsjwhfPq/KC68tLaE51E3QGG51BWTQVBFfjsuPcIGTywHn3FmZWLVu1mhSXTVxpVknZG3JlDVcwznqhRk5gO2c91InMILYrMhutu2fCJHmUwFzcwlquaucwUyk0lxQ9G8HvjGzLyWka1GAzLzaVOHMCkpr1wXXlpbQnOom6Aw3OoKyaCoIr8dlLs27i0KVZBsk3/CMILnJ9WJUsbXqlRFm/qjHyrmMbrStCPGCy9OoCxnABV4QHZdxLrZ4UnZnJdE49KSkoqxuJotar+H4Qzg5+bcmpaZScUp29aVDjhOB5N9UulLeMmHU6XIIlnDhB+ak3lWXEPrtKTx19RN8+PAxLdL5T5cnguSfcZdctOKUhVCABDS3VEut7m5az1H8EPtuzKUKYpjLXBXNywUykylxQ9GhB74xk2+lpPBXhjf3/APJf7Q2JprGoGUnKIjC7LSbLaJiykcQrBUo0Azkxidvt2uQ0680V2FuqzITWNtzilrccvTRWjD8k6u2WDkk6tnGTcwhpPHnMFuUmg4sCtmhB74VMTTGMcQ3RJtkQx+JXjGNmXkNI1qMYqXm0KXwJIKa9cF15aW0JzqUYDKJ5NsmgqkiCpRoBnJjE7fbtchp15orsKmZldhpOdVKw+45Pq2jiaN5KqWruCnLClSb2NCDRWSR4xipmbQhfsgFXhGNlXkuo4uDZTKSaA02U1cmlX2eJI1xNF9914pfoCtVeCJGQl3tr7aXRTtLxmzQifl8KzjtHAFNzDlsKhhuUAE1NLDbdr0eOFT7GGZpx5rKWl5VUK5BwQxNpFMYmtNR9QznPr8Ylul8x2GvoqWafJrbxhzd4hKcISEszL31Ug3/MdlTSVALmFBoV74aalJ+VU7JlCm7Lqaml0LmU5nEtq/5hGJQymwuXqv7xpDQC7KrKwFE5rzG1ptJS6Sa7nax1/wDBDhdbU0l10rbbVnSmHPxp8Yb/AAiMJTTOC9uuh7F2i+lGLA4L4YwgcFbSRZKX6PpVa6tnF41xq03cpBoYt7cmXaqAsrXUQ2k5wkbD2KJBWQgniMNy7KE2bN92lFlKQlIzARgfkX4RNutGi0t3GJew2ndWwpw00iYwrJM3MCysJ4Af4YnJtqQ2+xMrtWkHdE8UOqlkFt1J3VCk2VDljCU0zgvbroexdovpRiwOC+GMIHBW0kWSl+j6VWurZnuZVElzQjBUg55h96rg10p+8PsrbQEJaJTdo3RKqcNTQp+AJGxNU+78whrHWpTBtgUbSct4ceoRhgS4CWULSgAcVft8n0/0w5zB8RsOFlIU4EmwDwmP91SfaH/fDZeSEuFItgcB2ComgET8/Nzcs2uaduS44AbAzRO4OS4lxLDxLaga1Sf53xhWaWgKdbmVJQT6N5iZCMkLlbSuM1ETUxPZSC0mwsC1is3VBwlINKTKJasrds2Q6r+eGwvn1flGDJRLGPQ44VFq1ZxhFLoMor/DqUewrbSDY5Il0zPng2Avl2DT2hWEKGEZy9NfORMqvKcZnPDs4QwlMC3MbYKE19AQVhAtHOql8TvNGJHmUxhF6YAUqWsoar6IjB+EGgEzAmAmo9IRKTEolt1csu1iV5l5oZlsJyDknME7mXBVNeIxgyUSxj0OOFRatWcYRS6DKK/w6lHsK20g2OSJdMz54NgL5dnDnPj9UTbrRotLdxiXsNp3VsKcNNImMKyTNzAsrCeAH+HZfncEvy4Exe60+DZrrujBTc68wt0ErsMpNED48kYRbk5cOzDyEWLRyUigvMGYmnjNT7ziU4w8HEkQAc/qFvnx4GJbpfKdk2cFSZHBlD/vhtU82luYOmlOYbOEJ6Zm2Gg3uDVtwDljCMmw824y9u7ZQqo4/HujCC3kW8UlKkA66CMGLTcpbawrjuMSUzNjGMJYOSL7BvyqRIzGC21KSwSXpiwUimr+a9jDf+a/Mw00jM88ELvpUaoMj/swhLNmykbbRkwwxOpsuoqKVrdwbExT2YadE9NoqMyXLhE6La3AnJtqz7OEHZkBe1bKGUnMnj/muLdgWvapfD34D4Qx+JXjCWJkBTcvL220nNa1/wA1QZqgD7C0ltfCL4ZS0U43JdsqzKuzd8Ny+GsFrlBWgVS01DTbV6XnkpVQ5xngyP8AswhLNmykbbRkwwxOpsuoqKVrdwbM9/lU/ph1xOdKCRG3TlTD61FxfDngtS4CW35e04kZq/weROf5k+EMYNDGOm3zuN9MX96JWdwq59JyjNBZrSwdfHGBp1CC8iqikJ9KtKQ7PYbWDi0KU3LJOQ3dw6zEta4bRHaPqGc59fjEt0vmPlSjz2JVJsA1bVeVKP5ZoUn6PlU1FKhlNYcwQt1guW9zVaNLNa6uWBLXW8VY7oclp5VyG12y0dZOavLEvtb6OxNKox1q1T4RM4PnWW0zEveVNHJMLlVqwYlkqqKFdqLOENo4sJycRarX4w7P4JmGkKe8608MhR+EW596UDdPNsJN/wATstvsOYt9s5Kobcwg40Ut3pQ3mOy5KPaCxwcECWam5B5lNyXHUqtgRZStpybCdJYogq+ES08teCw5L1sgFdL4cYwoJcqcqk4itmyeWNqyM3Juy40C+lVtHVDq3XS/MvqtOua4XiH8HOt1uxyVAjqiYm5p4PTUwcspFEjkh2fwTMNIU951p4ZCj8Itz70oG6ebYSb/AInZdl3NFxJSYErLv4OeZRoF4KCqfCEDGFl9pVtpwcBgyk3OSTbCrlrZSbah4Q3LsiiGxZGwth0VQtNlQjaclOSipf0FupNtEYlCi4tRtOOKzqV9vk+n+mHOYPiPKfl5ZSEuuJsgqzX54ZZdkpV1xCAFLLQNTAnpIMNSymrDrYu6hm1RPuPKbImHy4iycwvheE7TeKUxi6VyqxhNzAymLAUEvbZzWhqpfriVYwmzJrRMrsJMuVVB+MD6O2hi6X4+1WvwgS6VYNUyXLSqldqG7LpZfaVbacHAYxapjBoH9wJVa6s0AKVaVS802FsuaKhQxtREyxicwURlUhLLeYcOvZdnMDzDKceauMvA2K67oWrCLssa6KGUmg64mJZo4OEs4LItW7dIYlpkyBlmkWdztW4OE8FvttvrFl1t0ZC4Zm8LvsqxBq0ywDZrrvhC8HPy6aaSHk3K+IhheFn5UNMLthuXByj8Ybsull9pVtpwcBjFqmMGgf3AlVrqzQApVpVLzTZfncFPy1Ji9xp8GlfhC2MKBgrcBSrE1s2fjG1ZGbk3ZcaBfSq2jqh1brpfmX1WnXNeyRJqkES91C4FWx+ULnZqYM1OuCinCKUGoQ1hGQeSxONCmUMlY1GGZjDDzCksG02ywDZrrNfUTfPjwMS3S+U+UvEUxtk2K5qwhqclZV9+8rWUBVeuJGewa3LS+KO7JAs2k/AcsTuEVKbxT6QEgG+6kSM+hTeLYCgoE33iFfRRb2w3L0ex2hS7/SETGEGpByXKrJxBUFd8NnBu1Pv7YtfClImn2lYLKpldtdorgyj5sk3hQ9FUBnbODnEi7GrSq3CEzDgcdplKApXYKVZiIUzJvs4kmoxmdMWK2lqNVq1nZOE8FzCGZhQo4hwVQuLeEHZPFgaDCTf8TCkSP0fiFJpu1u13Q1KFWDlSyVVVp26cMNYQkZgMTjQsi0MlQ1GG04XflUyyFWi1Lg5Z46wn6PeaacB/qJqFQJbCMxJNS9oFW10qtK64MkvJF1kj0TAZ2zg5xIuxq0qtwhMw4HHaZSgKV2RhTBj7KHiiw4h0ZKh8IX9JbUr6OItfnDiMEzEsqWWbQamQcjkpD0/OP7YnHriQKBI1DZH0dtDF0vx9qtfhC22l4NUhxy2u0V1hidlHwxNy+gVCoMJlsJTMm1L1qoS4VVXXCZQHFYumKUPQIjac9OyqZbMtbSTjFjwhDLQsoQmykeoZzn1+MS3S+Y/VKZdSFoUKKBizL4QwlLN/22piiRChLIoVmqlKNVK9fyfT/TDnMHxH1a5lp2ZlHV6apd2zagTK1zE0+nRcmHLRHuI3z48DEt0vlP1e2rTzEzSmNZcsqhL0w/NzqkGqdsO2gPcac59fjEt0vmPl4pydlkueyp0AwCDUeSt55VlCBVRgTIZcZSomzb9Ia4GPdCKwVMOBYhpx5pwsrXZW4n+nxmApJqk5j5KpmYXYaRpGlYxEpMYxylqlhQ+qK3FpQkcKjSKi8eUGFPtB1Wigryj8PUUn0/0w5zB8R5dJqaQhXs5z1CFbTmEu2c4pQ+U+3LNAybNxfrpL4oLrqrKRCUrbeaCtFS00BhWLAUumSDdC23W8TNsmy60eDj5PKcx+D8IhCFWcZicg/GsBWv6pS5Z0OJSqySNflBM3NJbUfRvJ7oxso8l1PFwepm+fHgYlul8p8u1NzKGq5hwn4Ri5SaS4vVQjx8raEoyHENb5drcjUIK1qspGcmKlt8N/3CjJgKBqDD8hOM7Xm2jWzW5aeAjynEuSE+tCLy6hmqOusNTLYIS4m0ArP9U6yy4FuMmjg9n6guOrCEJzqJuEKck3cYlJsk0Iv+Pqac59fjEt0vmPlSshKrsOzjmLtah/DAZ2ky5depxAUo/GCs0al2RmjbQwG/tSlbeNFqmuzCJmXVVCoWcF4KXNtIVZxheDYJ4qxjHJdyWVW9C4ksC13JW7P8ggJSKARNTU060lVqy2FqGaGFyi0KS8LK7BhbDybSFihETWCnjVUk5ZSdaeDZXMzK7LaYD7eAXzLm8KxyQun4YrSkK/yf5wt95VltAqTG2pfAb7kpntl0BRH4YTMy5Nk3EHODqhZwXgpc20hVnGF4NgnirGMcl3JZVb0Lh2XwZg9c8WTRxWMCEg6qmHWFMuS8yz5xpecbMwwvBtiWCxR/Hg8PswwhWA7LZsgr22m4a6Q3aQt1102W2kaSoQrCmCnJRlZpjA6HAOWkVF42FolHgy6cyymtIwW2grWpSCpbizVSzfefUUn0/0w5zB8R5T8xSuKbKuoR9KP7pNTKlEuKz0rFsITa9ql8PNYHYl8Uwqyp98myTqFIVgvCTCWZoJtpLZyViBgvBzLS5ixjFLeOSkQUYQZlLFmocYUaV1UMPKbNFubmn4/wCkMyqRopyuM8MSjTxowDbXDjSHrS/RyTnhhas9iJDCTdwfViHuP+fl5DgwNLy+IaVZx8wTRR4qQoYQaZQ4DcWlZKhDn40+MN/hEPSeCGGVYg0defJsV1XQMGYVYbbfWLTTjRyFwzg2RZbcmnU26uGiUj+CLGEGZMtkabCjd1wxKSrOPm39BFaADWYbVhaXlVSzirONlycg8ddlH0btPht7YtfClId2j9H4vHqrjrdbV2rghU1hDF2201Xis1eKsbbZkpJLShaSytSsYR4Rj0pLagbK0H0VbFYm8OzikJW86ctfop1Qh2VYcYlZ1BGUKBdBW1T1M3z48DEt0vlPlViawzNC26XbDVr0BxdcBZQm0PSpDmD8EsNOONDdXXSbCOK6GsH4XYZQp/zTrJyFcV8S8lKMpdmpiti2aJTxmEpnmZFTSs62FKyeuJmZGkhGTy8EMqzuPjGuK1kw00TRK3MrkhcvjhZs0AsKhFr0SUxKYZZG6yzlDxpPB/NcBQzG8bLsjghhpxTNzrzxyEnVdC04RalhTRWwo0PXE7zRiR5lMfRmC2G3ZhKbTi3DkN8sMymGGGEpfNlt5gmzXUaxLMsMh2ZmV2WwTQfHrhAm2ZBbR0iypQKeuEUbLz7qrDLY9IxtuelJNyWrlhhRto64Q82aoWm0k7Cfo7a2NtX4+tKfCMK7W+j8bjRjsZbpW/RhbuFFS6VoqpRZrZs/GDNYPlJRqXPm9sFVpfVDzTzJYmmFWXW/JbmZha3ENjIYOha9qJz/ADJ8PU05z6/GJbpfMdhIk57aigbziguvXFuawvtpumhtZKO/ZwVhAjcmH8vrH7GAtCgpKhUEQyaVbEynGcl8Yy0nF2a2uCkPKpRtcwot8l0LVgadSGlG1td5NU9cOF5oNPMrxbgBurCLf9WVoj+fDYm2JhptbiV3WhwRLNSzaEYsWl2RsYZdTogpR8f4NnB6nd7iaGM/nXFReNhX+T/OHLOYLTa5Kw0tojFlAKeSMIut+YXNHF/zqhasDTqQ0o2trvJqnrh3GNBqYaUW1gXisOCWwvtUpdNtra6VmvKYVhKZwjtlxTeLO4hF2y/+JPjDJGawPCJBT2gWClv8V8TIc4aBPLWJRDumllAV1bOCubP6vUUn0/0w5zB8RsFNSK8Izx/vrDP/AO1/pATUmnCc+xMS4zutKSPiIGDXDYmZdSkltWfPWC2HBbpmrfD8g4QmYZeVbRwxKmXIWJVk41Q4K1u74Cw+ticaFy2V0WP5WE4ImZtM82pBVbpRSOWA4n+k8lZ8PzhDqDVKxaESc2rzaVWVcUKSiwpbuSgDhhlk50pvjBconTXMhXw2XEJOUpJAjaZITMMrVbQc+eFBKwbNxoc0OfjT4w3+ERhDB7pCZgTBVQ+kIwaxLkKVLWlu09EfzxhAW6WptsZC210WIl8FvTonmnhdUZaOWJRcxMvyrLrNgOtLskG+6sUmsMYSW0f7kyLJ6xATq2ZpgkB1Eyq0nh4IdsX2FJUeSETiXkBizUmujE9OAUamJlSm+TYpD0jhBZW5KObnLq0fxU4YZLBC2pFo21DNaNbvUzfPjwMS3S+U7JV9MYXTU1oJm7whDOMcdsilpw1UeXYpE1gaZVYfS9aRa9PkgIK0hRzJrGFpR4hLzj+MRX0hfGCZNghTzT2MXT0BdDbT6yh9F7ZQuix/KRJyS5/bzMyqzZWMtHHE4lOexa6jWJNxP9lI+NIafArinKmFvpKCCnJ+MNhedWUYxIvW86lKRDbfspA2cIyDygmZ2wVUOdQ/njBQFgqGdNYneaMSPMpjCbD5CVzFlTVfSjB2DmSFTJmAug9Ea4RLzaqLztkLosckSjX0jt5l9wIxTnnBGDJhx11phLhStxs0KK0vgl3DeE1sKF9qaBSe6GmGlFTbaAlJPCNnDTSyA4p4KCdYv/eJxtvSLZpEti3E7k2ELv0aa4wrPs3y5o2lXAo7KVbenZazwS7tmsKVt6dmbXBMO2qbE5/mT4eppzn1+MS3S+Y+Upl5AW2q4gxYYnsJMtf2kTFExtFTdtizZoq+sYrbc+Zf+xj8iAw2gIbAshIiy3hDCbTf9tMxkwJeVbsIrXjMMz0mP/VyirafvDVCJpnhuUPZOqA9acbcHpNmhhWLtFStJSjUmKpFuZcyGG/aVAQ6azDhxjyvvHZUxMNhxtWcGMWmewjif7O2MiMQH35ce0yuyqNsfSeFMdSlvH5VOWkbUdUuYRSyS8bRVywWkTU+3LnOwl/IgSzLQQ0BSyIst4Qwm03/AG0zGTAl5VuwiteMwZppyZlHlaSpdyzahTgemH3FChW85aOyth9FttYoRCCzhHCSUIUCGsfkclNUBuZbrZvSoXFMIdmH5ucLZqgTDtoJ2VM451m16bSrKhCX14Swop1Gisv3j40jFbYmJi+tp5dpXqGT6f6Yc5g+I8u3NSiFr9rMe6FbTl0tWs5zmMZNSiVr9qpSe6MVKMIaTxcMY2alErX7VSD3QRJy6Gq5znPXDjDoqhabJheBptCjiRaYeAuUiC24kKQc4MYxpgBXAa1hSzWiRW4VheHJtsoFLEq2rOlOvyMbMyaFL1glJPVGJlGUtIrwQpa5OqlGp3VX7wpyTl8UpQsk21HxgKm5VLih6V4PdBRKS6Wq56ZzFqblUuKpnqQe6KykshsnOrOesxipllDqNShAcbkk2hmqpSvHyC9MSaVOHOQopr1QmWZRZaSKBNaxjTIItcpp1ZoCEJCUjMBs25uVS4r2sx7oxUqylpHF6mb58eBiW6Xyny//AFcsh0jhzHrjGSkqlteupJ74G3JZLhGY5jBEnLoarnOc9cDbksl0i4HMe6LcrKoQv2s574oRUGFYLUha5N4lcs4BWzrBgpUKgxjBLJtcuwJ55tbcnJkhhCxQrX7XkAzcqhwjhzHrEKEnLpatZ+EmFzD8pbcXeo4xQ/OBMSstYcGY21HxMBM3LpdpmPCIJlJZDZPDnPfAE5Lpds5tYjGS0ohC/aJKiOuC082lxBzpUItiRTXjUqkAAUGzjJqUS4v2qlJ7oxEq3i261pUnxgvOySbZz0JT3CA0w2ltAzBI8kOzkvjFpFkG2oXfCApMlQjNuq/39TTnPr8Ylul8x+uohISM92vZSVJBsmo4vXUn0/0w5zB8R7oN8+PAxLdL5T7pTnPr8Ylul8x8rHzFb7kpTnUYxv0FN7X4HBX9oSsZlCsCTTg+skf61Dqz1zeQ2vB0ntlRVRWSVU+AhpbzeKcUgFSPZOqH3m5KWMk3Sjis/wA2uGJt4IStytQnNn+ulsHYla3H7N9aAVNPVsn0/wBMOcwfEeVU3CFowbg1+eSjSWn/AMQrFBTbqNNtXjsodcaW5bNEgQlea0KwxgpKGsS4Kk0Nrh+tfebkpYyTdKOKz/NrhibeCErcrUJzZ/qpjBzbKgWLVpauI09Vt8+PAxLdL5T5apSQknp91BysXmhUsppctMp/pr+qZlWMH4yUVS07Q/G/g2BgdLK7fpLJu0bX1r+JZW2lql6jea1/b1jOc+vxiW6XzHYBmJhpkHNbXZjFsTku6v2UOAnZbVKi24yomxrEJlsLSS2li4qSKf8ALBEpNlrGpFh5HBEtIO4UmplBNTaWaH4Vh91lxbSxZopJodIRg6Z+kFqcnk0Q2dFOYDxrE3guZnHJpKG7dV67v3gzqcNTakuvWQ2FKTZrU64lFrUVKUygknhuib6HziJPkV8xgLGGhg6VCddL+6JaTGFxhKXfIBNu1nu+ESG1nXRwltKyAu/MYZn0zsxMPKVlsNJJSj4Q24pJQpSQSk8Gw1Oyky81ilUcCFkAgwcJNmiltZPEowvCM286+85lIDiyc9yf3gz7n+J22Zg5SZfHU/P8ocmJs5cvXGKpnFK1h2YRhBcjLIVZSG9cTMpMYSW8pYo096SLv5wxJyjuE3n3XLFl81qiqjxwpyYws/OpUmllyt3HniYblJ1UlKMcKM/FDeCp6aVNMvUsrVnvzd8SaJRxy9sUaCjZUq0YYm0zkzPLWd0aQklI4qf+IlhKktY4m0ul4pwQy/Kf4oM2AQVtqJ0eHOfy9TSfT/TDnMHxGwSTQR/vKT/46YBBqNicUjPYs9ZpDCwL3FKUrrp+UONNXJcrap+C14xPyEpNrFpxWUtRIaTazgRtN92anZRed5SVEC7XwQ26/hN6bStw2ULrk98S8y5hyZebAriVVobvxQztKztgoAQTwZ74k8bhN2bQ+ctKiaZ74l8HSGTMTHpauAR9Ipwy7MWSMYhVaDrhrCUsLLj1E/hPD4QnChw+8u3Q2A4eHVfAnnZlyaefoW8b6JIzZ+WBhE4ZeQ6tOMQ0CaH8u6J4urpMy7SstN1ck0PLF2FHWGWyQF2iVLVEyxNOF1UuQAs56Gv7Q4ua/wAUCSClHFot2busRM4OmZkTQaFUO1rWhpn4Ym+h84iT5FfMdmWdVMPGSmPQKzZHAf3iWk5NxaJh9z0DQ/ypiUkmHiqacFC8s1zZzfCJxj/Erc6uuWzjbXdW+EYTQjLdSLCT7RhE89ht6XLgtIQmtKdcMSxwm4w+g5bzfp+ETsq1hN5h1q3aeTWq8rlh92am3J1TdVBS+4Z4OEF4XdlQsnFobqB3GJnB0+q2/LnS+NDE/ISk2sWnFZS1EhpNrOBG033ZqdlF53lJUQLtfBH0cZ9WDpYAbqkcVa/lBc+m/pKVKddcrv8AUjfPjwMS3S+U7NDhGUBGt5MBxtaVoVmUk1B2Jl1GkhpSh1RMPemp6yTyAfvGD3GrlO2LVOMlPhE3IyM4tAVdlKqG03XgRLS0zPuTsu/S9zlp8IRK4PmFhS2wEoKsgHXSJeZcwk5ONuHLSutOSJbBeDFWHXwFFzlhE6MLOTabVFpcrTvMDCUmnKcSk1pWxWEPN/4pWmZV/QJNx5K/lCmMeW31N2S6ngVriQknMLzUylxSFGq1AXqpSleKFsMTS5ZaqbojOL4Mh9JvY/8A+6vtaFdfwzw8ZvCTs5W+rlcnvMPLXhtGCpdB3NNuyT3iHsFTU0mbsCrbyTWvx2VyUxMvOS8x5oLWSBXN+0SWCZGYdZUu9am1U/nDEvgqTmEy6lgYx9atEHjhl5rDycKNKO6Ixlo+J64bXLUxr+gTwDXCZh3Dr7Txvxd9B3xL4rCjsmptOXi65Zu4xEztbCb0lYKa4uuVn4xAUt4zUwnIStz0iYGEThl5Dq04xDQJofy7omced3YF6hwilxhyXRhF5lpC7S3yoqXmuSImZPCImFpb0HnEm+/Wc8TDEzhlWCktqIQkXcPwhYmMIbeQTuS/VU5z6/GJbpfMdgCYYaeAzW0BUYxiTl2l+0hsA7LS1yjzza62lI9ClITJyEhMOPWqgqRo9UM7cC1YoZYRfeT/AKwzhVKHgygCoIFqJmZl0uJRbSnLz6Qj/CvIj9EYQ5j/ALITKsNvpWh60bYFMxGuGMHNNvh1pgVKkil3xicwUlt8PBQTaoLNyuWJTBOLex94tUFnhOuC7hZl92S9AJ4RSMHOSeD3ZOXU8mxjCcvKzxgzl/UPIdlXNFxJSYl/8NrBGLmlW+Ify1DkpLiik0LY5OCAxhXBE1tpNyiFG/4WhEyiWkXZFuYtIsrJJN1K3w7I4SlHrBXaSpI4eLXmhx5uXdabSaJK/SiRwriVOMtBNaawqsLTLyz6W0prjFi6uqJpublnVSzxyVoGelaQxhJMutqTl6UUvhpeO+ME8rX/AFNhCJyQXNS7lbRCa2aQ1/s7JTTTlcq/MeDkgWs/D6lk+n+mHOYPiNggioj/AHbJ/wDATAAFBsPytaYxFAeODg7Ccm+lSFGxZETGHJxlTIXc0lWf+UjCnI7/ANQbDS2W1LxbmUAOKJeTalJi3QBaqZKbolPwDwMYK/F+YiTwtKtF3EUtJArmNRH0dg+SmFOukW7s3DDMoLJoUh49/jCVus4TOtFU2f3iuDMsIIKEi7NwQiRckn9utIxaU0uzXRhJ2ZQUOPtKyTnACTB55X5RhWzpVRT/AJ4mE4dkZuZmlHJSDS+JxO11S24ncjnTeLonMFJbfDwUE2qCzcrliUwTi3sfeLVBZ4Tr2VqSN0Y3RP5wiefBsyjCU9L+VMMTjLReDNQ4gZ6RZGA5svewHFf90NS8owWlN2XEMk3i7N3w3JT0nMh9pNgWU5+uG5gtKaxgrZVnETsxOS7pafKrJSOAmsTIbYcZxlzYcutUvEfR09JTAeaJsADPfWJvC820WjME2UkX3mp+EYU5Hf8AqDYclcK4KdcSnQdCc93AboEzgxmYakBnxnCKZuv1I3z48DEt0vlOzU4OlCTrZTAbbQlCE5kpFANhbStFaSkw/J4Ql3SypVpC0DPCcLuMLZlGRudr0tUTsy+lxSL05GfgiWmWpdxqSYplrGe+vXDM24FKQ2gVCc/DEvLSEs6mXQcpxYzRKYXlmVOttBKVAcFP9IRg/Bkm+SpQKyoZoZbMsqbS2lLa0oGfjizgrBsy3NE5kpuPwBht7CNtS2W8ul6s8SeEWkPBpixaCgK3Krrhb0uh1KUKsm2I+lXmXFS6gL0j7lmH8Ww80zohSxpVh2Xw7gx14VyHEKI/MQp3B2CphgJRc8tSr+LPssYTYudlV5+L/wAxO4bdTSpsNcX8FIawkZVU1LUAdQmsBErgOcddPo21f90S65RtSzLegnPZ/ghLb8lM7bFxSgChMJUU2SRWmqJuVn5d6qyKWBq/8wFtMLbdrjEtKzwiRckn9utIxaU0uzXRNuzKChx8aJzgAGJrnB4bC04UwPMImBdVKQD13RMulDrcorQC+E6/VFTG/wCV/wCKImlpUFAvLIIzG+GG3ZthCxaqlTgB0jBLDzboHChVfcmw9Mstq1KWAYlMQ+07S3WwutM0OLfdbaTiSKrVThEBDc2wtRzJDgr9gZEssBTZrZUblQZFyRlGm1psFd2br/KBLFVtZVaWRmr68AfmGmq5rawIbQxMsuqxwNELB4DDDjq0oQLVSo0GiYCUzsuScwDo+omp9xmkutJsrtDi2JfCCWayyE0K7Q1H3GKkCjLuUni4thLaBaUo0AhEunOL1HWfcnbTY3VnPxp2TPuDKXkt8nucQkbs3lN/tsmecGS2aI41e6C2PTzoPHBQoEKFxEHCDozZLX5n3LUlI3JeUiEMCtnOs6hCW0CiUigHuftlsbk8epUNy7QylmkNy7WigU90WnZZNA+aOfd44Qy0KIQKD3LUhPnU5TfLGMdFHnb1cQ1e6Dkuv0hcdRhyZmUUdJsJGof/AAKf/8QALRABAAEDAgMIAQUBAQAAAAAAAREAITFBUWFxgRCRobHB0fDxUCAwQGDhcJD/2gAIAQEAAT8h/wDD+FVhOBDZoUkRCN35r/y7UxDncDveA0XJL/nzekRTdi7qulOgaLRnCt3t+yqWYHcHVoazBXHk9Tg/1A3rrtAzUwVSbCZXd4j/AFGeRLVq1iJkGAOAQVmGIE51HTHdv+f0r47hTYbyJCcyoCK5THRy0Rv+zFysQ21e4tzWrYsEzZad5jrw/qEJnYgeovPuqeuANXljcsnLjQVgiGE/qGT/AJZzDwC/U27L5WpZLJ3eMUQ8l9x/PNSaM28Yv4V5AXfueVWMVkeQ+nj+woJhOLXpmmZCKqsq6q9mGEIvwNeJ/ToeoyUaQd9SM6fm9l/MZVzqOj4J/T5Iww77U+OyjKWZoWglC6CgvdVwkQiEI15VZKXCBnpbSb9f20IUO5YnipDEwiC7EtHWQkRmexwGakVKFgfDDTr4UTMUiVhd/GNDOAguxLRp8iOimZxHGnzDCIDxSrbS4sl/Ek60wLZ+tQAMj+sSNbaF7tzW3cVyXEWwRAbtNZ9OM2RrO7TJUljB0bb36f053MKQwrqyNzTm0IhzIQCk2DYq/ujls0jqVMbIaHcbamf6j8hv/dGFDRJRA26FtvjarhCEmeJG0ivQv2WS5jLmxUOtUBscAYKsrILxBd8BpiPxk3UratIcSgcpA4Am8tCYXXJwor7d0h1Fx+qmoCR1iuByZKuuP3WPCK1/5W1MnN8hv/dGDay7SLsCu4WtKu1QZbEkWkuLWPBJ2pXqBYp4LWp8E8hbrgUOyoq01V82pnAcJseQ1B+MslRwZ1uEu1I1tnNOvaLc714Ez3LjDozz3p0qH1112Ho+dYzd2rnqf8samTm+Q3/vjQbh7+FNGrwNwaHz1oYHHM9OnuobEGRsxU/j2s09fCaEWdfNA+5VpEsttz/lbUyc3yG/94ZgJXFaodI68f44c6idWgy+jb/KMY/JxNyngYPKPGpl3cS6snR8/wDlbUyc3yG/94aSs6x8E+XOpxkj4HQ6++1F3LAYD8oBT6TnwmptgOrWe7PSht/ypqZOb5Df+4MxFazSOrvyKlx1vvfVaj8XPez+VgXp4yD1DHnHSpOT3wYepD/ypqZOb5Df+4MSOcWpoAbT20v941gGNpzs896db/ls/i6bh7/Opr6Dll8p8P8AlTUyc3yG/wDcGyVzhsOe73qCnveMOvI8/wAxHTfB2dHvoaEXZ0Rw9SsG56x/ylqZOb5Df+2NguFh+K/NKmCsD8JcH+USSMNg/M4PQlrQsnl31JHGXd/s+H/KWpk5vkN/7Q0CdIn32M+HpULGA/zRBmWjyM+HlUlIfotp/wCUtTJzfIb/ANkYQRlGArNEB+Euv+ViYV74y/Na61p+ZdkKIRpVJh/Q86nVJ3Mwt456/wDKGpk5vkN/7I03Jug49OR51mSthLbHzgb/AJ26b4yetYji9s0OnlUf8namTm+Q3/sDdJY6jzdP8qSAG8Mhb+nGKiT6D86xY1PQY8alDCMYw3HxGnFk7biT/wAnamTm+Q3/AKxrjDjV0in4TQA3sAdwUZcWI325Hv8An4mxit9fGXrUz5hHF48Z/W1OEbgwMOuKGuBIjb+knw/qxOb5Df8AqGDDLJYCmgUs8HV6+xUBZNzQ93l/QJAZeMZlZPXpU1Uctvh748f1NTRdLtqT/lJzYNdC7TRm8MxP+P8ASC2egZHPznUEbWRDrNAMiBG25/VSc3yG/wDUNM3rYcvo3/ylmks7X8fJoAICNv2u7ssVIg57JHjWnnJXtUxl0IPtw/Jz/InsLBwalbkA8Mj1IanBnoBZ/S1MApmeWPWrTFGNQpuBbUgxdzZ/fDwaTzSKlGZIkZE5hTi3eZ60rVoBULl7flZEf5K4G2sVE3LEwjEzNEDceisfxSc2GlNAo7jB61PGMRWKR4AqghKACM9ZpiainUPzfyG/9I2mRbcmksLeW8NX561GODv4/tqBnKbFSoNph34qF3pKTOivt2ZWCt44HHy1rQUka/kZrFkOsY6+1TV8yLPp3VP6GpjLmBhKH0s41DY0VAOPe7v7z6Ncw2tjrU8f08kMeNbWoBd5BFORVYPN2Ks3bFY4G35bgcbnJ7qBMggUJwNOtCdBi2D+KTmB5LM9wpUx9vZPesafEwEGhAFMxeAazgijZowaHhx4/H838hv/AEDIPZsarQONSHRAL8goUgwL22lwpevbSugPmpQ3WoQHnrVysQde3TsacaVEifNtrY618p0kY86mDZsKxyMHSoVLfKf5UVrx9340xVAzBhYPerb5gIPycWk9wLlHkyCh3PeSU/oMhqdvM1pC1WKZWbQk78VGyBOD+1pUxXCsy48jLUs8070jL4VLgegNrZ6zSZFzeMd5t41GRGoer7UU0COTFxXaopA+HPA4fmEGZCQUzbq4DjvHdQeVG15J86RLlfyNy67R1qwerPMG6RtGdayTLqd4+dfHBLh41Yhs4DmV0rp+1x4s4qd0i9bvS4VPnc+NXaFdFurg61E6yecYPGkNPTuscbdIqKgNFjs/O/Ib+0ZSYCVWwVIkWhu6rnp905rXjMtVNOHVoRrpUKpWBIta+N6f5MMmhFjNs9KmPAbzh+jByYW7yMtTzXyDuy+FSQVcg2Yz1mmSP4Y7zalQQ3GfF9qEHeK/eacU86j8rEIOW3yd8+FZrPm6sep0rOdcDLX3VMAdONwchmO/FC9ZzwPTuKGnkHeWjLxikNiPOQ09un7KMpyIO+pePcvefSp4Oxl1W/dFPxalgVzaE4Z/M8elQriankx4UECA4VpWPzA53fRq8KZuG7IBx26X3aCYUDB+kmMURI5K1P4avTTp3UEvWMXoz58K6/rbFRKtSwxph347qke/+HN9qW4dzlvNajB3l0OR71G7/YzyoQM4CCrt+XmYibgmpQ1XnYAu06W2zjGLDh+d+Q39o0ELcobKpce+3xpTDwwjc4eXLDa8NytRoUG6tmw+NEl+AbNLUWINKhUuQBU0ZWnzL6DUwRbR6mfKkCcmArm1A7c/7x49KCOb/kxQCAAFu2bWCZUPeUEmSuNREtpQ9KIjhOsoh4n5XAXVc+fGGkffTrfYebB1oTllIsd0y4P0I+PTNj3yP6lhe1SAQ4z2qW0b+rO5oO0MEleQadKiFI4T3VAmGnp1HetgeH6IN3HBUr4O6kaOfliLzHWijDrBX8TH5YkQ2wnq8KvrnITfocfot+yTmhhAN06YNFpdOhx4PRvnsa0qSDvyjHWpvnAdw/2paucLbuLdxUYhcDzjPhUAq1++reY2p+i9/wBcDDul6FSFLEWd7qUgOATd1d7sdPzvyG/sGy8tJpvyFTnKKmc3Ve9axtDiai0EKE1opShMsSf7HJNqkLqBU7AOM9qk3vC+s7mgi8xIryD2qBK/Ae7PeVAie74J71EPcAD9cxwgzGpB5kF5VfndJsWXrJ7vypDSZcEvTpImWLjZPMoA33IHfP6EdqYKawxPo9KgBjoHU7+3q7ie5mhvI2S3ce9W9XpY7lu9qGVfArnpRo42MHek+VQ5eIgSurejFafpvKnG81d8VcOdEYZIeMp5flieyScCjykvOAa+ne0a3/ZJzOM1bJL0X4KGHjxcTXrmsa9YV3kZam0+JYdDL4VOiD2K105rS4HbTzMHjToLvC/e+1DiI+wacUYz+llYJtqNZpgFx7JbfVgeJ+efGb6jJDLi4qnNm2eYbUeqtv0vdxoxQ3Xme4VYcCCSJscSdaNsEE4OoWXi1EXHkm8uelR3cx3tfCokjEWXc3L+yigGLDjRO0kV5Iuc2CjrAh0BAfltjYezfp5U2L9OHw6/o5mpK+MNPjWggh58b9and+Xnt/Cs4bpuefGpEy3QvVcHWteTevaeNRADxPsdP2gzoIyvISe2iiyyo6PRmxp3/lkmtXhDrwm/Si8gg4H7ROZjkMoFOsW5e8+k0oxJP4rnJlxvTxHSwKeLUCxZH6/GoRAa/kxQIAAsBj9lw4UBhmJmR2o6YpN5Vurn8IoEtqKwvIrxNen8n4zfUwIkxORs9Bg671Bpyxgbl8xp/lPpZq9a9Si+Scam4TdDBzcHWt3KeZYPGotNc+32OlFP8CRVzfWUxqUFUdXjns/yUsTGbh9NDi2qGkgMoD1/j3XCw3hp1x1r1vTsZqRAutT6Q4h34qY4dea28KmBavn1DULu1pcA9YqCj3LLl7zQ0vwIKw/gHBUlRNg+dbgNWOhw/wA6+GFi/LMtWnxJZRGX51/g4q4r8ksB6/sCcy2pwHnDvwVsjn6s8ak0DaS9A05FTxN4fhnwKg9g/TL+NQ9bQB/BJUSQ6oL6VdyLSXO46Z/nK7Ks89W3WnZYwqCcWXy4UbYohQ4NfR+6vo/dX0fur6P3V9H7q+j91fR+6vo/dX0fur6P3V9H7q+j91fR+6vo/dX0fur6P3V9H7q+j91fR+6vo/dX0fur6P3V9H7q+j91CgIsgVQe+jjRJuc6GDaAEswGAvikEEi6Ap0k86gAbWweU+c0bUlgTpevo/dX0fur6P3V9H7q+j91fR+6vo/dX0fur6P3V9H7q+j91fR+6vo/dX0fur6P3V9H7q+j91fR+6vo/dUpAQjKyZInegxhnQ8EwnBqUM2vdbXxHGiwNIkj/FfgNpWXYMryrSnLncjB4vKmZtKiq7rRZZAQXeP8iKKKKKKKKKKKKKKKKKKKKKKJMQYKSWYttTnacMUZieFTy5TJjuFvCvuqRGG26zl6RUSRqq717/4kUUUUUUUUUUUUUUUUUURbWAAhAfSkoCiMiNxq35xE7XN81+NR/RwOYafyhqLdwFN07Vczze6lN/K6r1p8cAiMEa/woooooooooooooooosoX+cCyW3j+oIIIII1S4pIARbnVgagCl0Xub0synWDulnm191UUdw+8/VCX+Ij3hff8AiBRRRRRRRRRRRRRRRRRRPAgFMEidkxlpJY4ehk5ULFEmx6GvMt/LEhuU0BDcCuyzye+mBvckTpTGF1A518X9a+L+tfF/Wvi/rXxf1r4v618X9a+L+tfF/Wvi/rXxf1r4v618X9a+L+tfF/Wvi/rXxf1r4v618X9a+L+tfF/Wvi/rXxf1r4v60OYMEZuKJPMqf1shYUcu418f9a+P+tfF/Wvj/rXxf1r4v618X9a+L+tfF/Wvi/rXxf1r4v618X9a+L+tfF/Wvi/rXxf1r4v618X9a+L+tfF/Wvi/rXxf1qL4CBsl1OvZNol4rHAy82DnSNs3WVXfY6fxYCCA1SNkx3RUfRnF17HJh7DyaBEMmbV9V9q+q+1fVfavqvtX1X2r6r7V9V9q+q+1fVfavqvtX1X2r6r7V9V9q+q+1fVfavqvtX1X2r6r7V9V9q+q+1fVfavqvtX1X2qxDufETPeURjUyIgQb80r677V9J9q+q+1fVfavqvtX1X2r6r7V9V9q+q+1fVfavqvtX1X2r6r7V9V9q+q+1fVfavqvtX1X2r6r7V9V9q+q+1fVfavqvtRZwCpW6GOb2Qdgwlue46Z2oSbMJl5g16+H8rm0opww0jcSwqBxMnW2y9gCoQZdJr6r7V9V9q+q+1fVfavqvtX1X2r6r7V9V9q+q+1fVfavqvtX1X2r6r7V9V9q+q+1fVfavpPtVzU6AGUs9Gu7cv8AuEpJglxGuB3q4Herh9oq9xQxEhtVRYhvgdKk2zYBYVvyGvrPtX1X2r6r7V9J9q+u+1fVfavqvtX1X2r6r7V9V9q+q+1fVfavqvtX1X2r6r7V9V9q+q+1fVfavqvtX1X2r6r7V9V9q+q+1G+raEwEvl2BnDOg4rgOLUmni4becr3HD+bbDCxbluSomwVAtTqa8zuP5PyG/wDkjRgEDIvsu/K9b6FmfD1M/wAg4iRJDwSoBd9XlOfJR/q/xk3OP5FqYfADXWFQX7XyAeR30AF7RA6fzABQJqVOszRL3LTpbhSZkVTIIyP7ZTUMANVruKrvhUwNmsHveFePyM62orgBHyXokQOqxKq5d2sJjgPPWA/hL7oKjVPUg3znWf3efmqEwaEH8onMwgEBdVWrW9J4s4PPlQUR0Oee7+Y+Q3/8NGamgKgKmLwySe4vU2PaJB4+1WXjqe2gUTOhIdQnxoNsKZPfV0ebwXvgqM3dKXdEeNZa+AfGaeE3xvC2rhm4w7Q5f1YnN8hv/wCEDNTsKI1nJpLO1GLSk73D2r0o1MDa7t0I86s4DsZ7+dApvSfzNQ0E4kDvYKGGDqTPcSeNF7rPzTUVgf4yYqOAcHyf14nN8hv/AODjNTSDwY/vVlEvRJAiWxLV5K5vlNWSrvC8f8qFWTVvIgoruuKP7ETm+Q3/APBxmpwBI5EqfvHLN7yptS0CA7/eplSzpwy4/sxOb5Df/wALGamOuMsoXidzJ3UQoIDZDCh5G66E0JtmKA/sZOb5Df8A8LGanNKsEHMbN9eFtaCjhUlF4NLuTFBqfm4ccJ/Yyc3yG/8A7gM1MnN8hv8A+4DNTJzfIb/+4DNTJzfIb/4g3JRH9Mam/wBRJzLTj878hv8A1jS4tXYCWn+sIJhBYLwFizUmGl7CUCxfKUcdtCBzQQ60bBheQ3KsSp5BFCTwrRwiLhNhuVfVaXLoJjwr5rannLLK9Asca02dEnMG5267ZW8E9PGgC5e0D88qwOMnJ7WcUYfDgnjUGEwmwLc4VvoVOijJ7LQIoO4KEGpNsxMGuDygHMClMSGRkI7I3OtPOWWV6BY41ps6JOYNztMYbSnkao81OjkFuZcU0N87ABu0am7C/uYDxrl2T+DO5odWCjDGhVbhOzeHRmpho4EOlltHG06/h2ppOHGWRFDwJzaNCKzhNh3GrpmrRkAiYbklKAAIiMpiUCYaaVs2V6JY41CFw8qti9IM6UsxzkUAIwH4UDSUxQOLUMOgSthAL1v2xfpBusVmG7V6YOBUifdc8e14QuWV4wljjVlFYyRMxZBqw1xqQAsY02r5rahheCTyAu9KMpU2QjWAKUiJNpf1pv6w5ckCaDSUxQOLUMOgSthAL1v28FvAJYgO1WTXkMOAHBmKzXLXhmwGrQIoO4KEGpNsxMHtAgpl6AttgV4UlTxOSQ6v9OMxu3DYabGS/Hhe+4DJWsygJdrQ5n8UTmAOr8yQWSyz3UtjFEsjWbyiutWtfoSxIJMjQmgvnKoK14AxU69YuzyGXp2SyRtxWZsmlQrCmzCEu3bUUY02AFQ8UolCfT5qAAiJbsHaUPoUPeDYA6QdKf8Awuc6Tp2nkLHlAu9KnpQWVa4AnJUxtbFBKECGWvk99Nscajka0We8gckCelDJKYgKTlhBS80jxooxpsAKh4pRKE+nzUABES3ZJhpewlAsXylCtTC7p1JtclQfkS3XkK3YygOYGOtaL+V3WyZOvbY6oiBU3HG2O6lpmbsAb45VOMvchGyWrPlTlsshuhYhofpzhKJXKx1ofgQ0c3F7hfYihCQkHgJ0R/A/Ib+0Z0foQAWiOtvSngQ1DFupGnbLogqAG6eECdagbYXJcgnitYw0G0yHTFMZxTEqTl4z3aUsETwW49Kt4nxiahHDzVm5NwAzNzHyezb5rah+tFg5AG4LxtQP5WLKMKQW8b4O2ZI6yZBjwaRNwsg6VZBCTjHYvCgGES/eEdas9/MF8XXeaBGCAQBwr4TdSpnIsi2npU0y0iQSzvExV29CZQMG2jobVngDq1bIVC9izBcxVuAiVbwzr40P1osHIA3BeNqB/KxZRhSC3jfB2/NbdhnPLniKJPV4VZ0yoGSE2iNKX4Mh1CeAdg4d7yqnlCYAwEoy7anRrGtb6YU8+/8ABNTRoVhQ2HhPYcRoVhQ3DhPYEICq6RSwygsKyF4x0oA5mw7Ilm5NNPGgBZTjxoCIMAtkef8Au9JJClcAhDVDjc3aYjVzuGJhdPNp2fL7UtkNOLQlsZe+nUsGdCMINoo/Un1G0JuWz2KIkH5JjzoosIA6YnKiNLDd17SayEZhLBtkOlCUlAXA0XsN81tUExzfklDe2eLWH2flBYYziOS00E80v4XtNtd2rLWZtosl5jTrVshpxaEtjL306lgzoRhBtFH6k+o2hNy2e34/eipnIsi2npU0y0iQSzvExV29CZQMG2jobdr1hJKbDdMq6Zc0BPWYW6zczLO1G4UUAptaC1isWyOmTtCz44xRRJBD+FJzFEC3MyUETjLlJYi7pGvabCA2UG4nieNP9UGT5AlvZQ+bvwBHMeX1R6zRNJBO/wBVN1BBMm5sxfg7VLcsQWRNBWJI93Z49SJKlhgFu0lCp/QYWLEEtk3pSo1hsLkWxB2Cwlm22M1eknaZMFEgmJZTOr39rTgg5Bmw3s96pC1JBBA2mvg91fJ761jjzJMNc+Daoa0RaYETteeYNARTxjSu+MFOBgi5i2dNbEwVp2Wm0wnBKFT+gwsWIJbJvSlRrDYXItiD9EJ8SZboTS4Il93eQvSetY3S7AW8GGx6u/6PnNlTf1VnGp2zbWKufSyS3Rjnc4YtW/XtkIid7UC8xpavsu7OSrpruEH7PwPyG/8AWNP4/NkGkQ2ZO9Xc6ggnZirPdIYbFymdm1LBiM5tNk8qAZQ5iTMAvyZowU+lbWJx9d6hQYqTY3xk18qDYJQwGSbJO9qdJCnjbCI2qEfq47ibjV5re9JI8iXFot05HDj2i0nkJE2aXG8Wybs9sglkuSGR6NDuGNdJYsxxWm1uIncEuDlWcNSvVIk9yUWoi4RHFOakEJigKsGD18MVeFNyJaAaBL8sHiVrHpsaXnRzRsCDB7nbvhH6uO4m41ea3vSSPIlxaLdORw49suVu9BEtVj9/DIizzoHkGg/p/m1F+WYdUQ2SbVB10VljsnM9uBIp0VsQHcwFmJ18KnVnnFry4f7+GanOKHKAslA6LSIaFUd2UlvUf15rm8IGzx0ZhQZUVDIXuYmnlYsrIMpERbemmbiZTEbJODwo+JJsSGL3Jiveb+4xiI8amJh0XJMMBg1ogg2E842YO4pRwrNvjhLwqKUAspd+HZfQpGOJWEdhpU/SN1lar2kZZPFPBuMtuLeLUNqggmeWbmbVIWcsBGsCTV6vS24IMwZzQJ0oESIWLjAY20vJF6Ko7zc4GP8AZhYNlVrRqGuKDRuy5iW86f6EEGwnnGzB3FKOFZt8cJeFRSgFlLvw7bFpwqE3G7KumdaPxCXyI4pz4VIITFAVYMHr4Yq8KbkS0A0CX5Y7Ely5O9Y3VC4kQbTofLVf/oo/6BvGHlV4rczbcuY29JH8QTmKNFSXZG08JqUw5HCqQibEVCmOQFLMFxjVwpURfkUC5EabtC0PIGoWtGu5Vrfr+4oCLzfD3o0+TGT3cDSyTnufmZnhUFDekGVtAWu5mnowLzBhB69GrOPCysTBaTx1okKw2uWnYHQxk3KORWCb2YizSoOYup2mCrcQS0xcwY271wZIX1ot3e3Ks+AtS52UtoaipGYWCaXc5JLvkZb38otiRWliV4Zx53LvokhUYYuXi5UIamiC4TjfbxpuG+NKGH0qzjwsrEwWk8daJCsNrlp2ikA5QojdodxRQTNNNGs+2kz9uCYyvcf5rRNxGKvZ6F+HOez3m/uMYiPGr+CQBgYgNClkhhHMw6n3baNiatHouN6cqpjSgg5kWoawYVThmyeHjUU1tgB+B+Q3/tjKZNikaeOrJ3AI032RYy91eb2lP9Hamne5Qavds71k3gHK/wBQJzbxsJoiJycMeRR6gXe8CAev9G+Q3/sDLCJhJXlM0dZCRGZ/SEVxuAq0qVhItjGj8nNGbMEKvQo4+zGTpUCtASSwGc+usCV8sg2Tf9Nk1GVCUMF8pSODvRhxQNf2svIiA6tE0EJEbfqM+0iAcMn8U1ME9XsTOQoUCtASDjDD+oMqTNRjeR77Se4d1q3Uno6ZpICFKgugtTdb0jZuvm7+keXaILkSICOlAdYAn7SBHkWgCl+Z+rBAqHNQFjjUUPyu62RuPP8AHE5g2qAzyBdpGECzbGsAFz+qC5lSCJY3Z9dmj/BnACpIjMED3eFBiFImtDwQBlJuNbN/gfpFPoKhQZmC0xQQfmABuTC/tB5EAbmSPB/YE70xQcWrKn0QhMWH4b5Df+sZUh8GZQeUo6TQiiQ3QFR5RWBlI0NAN5YpRv2LG3O7HpemeY8lxMjxpmXEaHeFDZ9EOSNZ1ONR0jEOZoPB6o6UWAUAYCj/AAhJB2H5mkuxEUne3Sp/D74bVcd7dVfQ9E7dbobSroBq0NABCC7/AI8ag5JEwlyvicFSTD25UlWs3nCKvCM0tMjgFleFMy4jQ7wobPohyRrOpxrlt6cxkeFNCbizUdTjbxO2Bmm6gENkktR6NIuEbEtrxRnF9ZXWPCgdsLgdgI8+FE0EJEbdkUXyyc3tvExxpwSCIEqdPxLU9iw95H0pSGdQAiDa4v0UJEMhAkbTQjJMbPIX9fKalESY74m5r3O1FX2aSdsXem/dmOGRgjIwrPCp4iGNNXgaHVJSDmu+izscsO1tamTAJjsbXSr+jA8aGja8QYBeWej9EtwFwPC7jN7JioTB0GAXJua2ezb5rahJdqptFzhJ34Za7lEiTYG4wOdtLS/8cmPN2LuViilHENloJfvip2eZIBltD/aAtB3enDM7vSuXZsPHcvmZnhXpOoSjCyKWs5qnKxmvYvRufgTT3tJ0mrz4+lDJxLnYgSsFIkJbBHAB02gzAUY8VcqQ7FC/FdU/Gk5kCVgqZ7MKYweSwJ57tKEFArg4NABsnkcQuWNtZ2aIqV+kNRcbc0teabaOBwS7nLh3znGgTaxJnLBakgctlvt4kpV2Rmb07hKldOmThdx8tQMmY4LQacqLrkzlP+0lAFj30ry6qvMgcQ7VX7KCdoucJz5U6HAzBmSLjTsN81tV8hnwnBC64xvzjZ0nc7F2pf7pCisfYlXRSy3jiZ7+nGnwxpQv5HGhAWLJVLuDnTwKFSVuBJOz2JPuN8xXrnpxsvGc8KCpFgYvOqc03SmCiNTAm+e/WmMgoMgywjtZ+Qv6DQWkWSbjVhivnNn4b5Df2jXbMW7jEYUUugOY0YM9sgDdQwK0AqAhIjrQlUtHL6or49SzyihIxc8I8xOlL6rbh2BfywStJxLImNvt5tOZAFk1RV83Ys97AWS4nSoVxLZvE+Hf2DI3nJZ8V2wGlWeI49KE0EJEbdnxOClksj8m8VNsUGLCKgkvLMJfHSi+q24dgX8sErTy2w2Zk+PNqOOdjHF1JvHhW468kiMMWg07b/g20iAqNOSiyBhbGXrcOpSylszWJI7vCjmQociGT8Rg1PF1JJA4nHsZi6gklcXj2WnWLZQPOoA7caKpBrFx2jjVo6uMhxipQhQ3YJjnJ0qQkL7IAlvZ3vGo2MBQ5BNstG9GRG6bWITtrOTlRbTw5F7uoqDlK7iSUZ5cJkE586cUAgVlF+6nxm9WtQx7nAWXx8O2NckbKQUUgRtjKZjw6U6lqG4tnbs2+a2rH/PygXNy09SjAMlzNFl0bY4N6lh6CG3LamfGEvTY/tkYKSLuMqzdtTlZw23oLnfRBRlmJpoNGIqAO7tcYHLYQJjonSkE2TiWDD5z0oMSKSEC4uiU3kwpEyb8rx07AItaY++eT33vkJvWRQVBAuxNzudvxRObOQrEJcBgV60aWrV7AItaN00CiCB4AeM8GhiFKCU4FR/0Fq6rdE76uIEa4qvtIPhvVlOVuPOHorZjaVYk3XMy5htrRh2DpJeBToCKOAgneNS/AjDT7ikCzsiV0eNTpEwOk6d1AMNw9Zn0pWGXukjtHMp7CtSc4noaFpchcDqnYb5rapy7NxC7Bxvjg7VlBDpMZWoXno7VeEbOpYXwaJUqyoIyISN1PDSNaOWsaqwGGGB7qvncBLrBKV9gwoFmSB7WeoJvI5Og76HFWgaxdDnTdYhhcIeDE9aC+GTgBKaOJ6m/bgNUsPE2ZawGoWHiLEPZ85s/DfIb/wBYxH9h5kqaAsyruSIm+t6N4AdQ3Xeb0OaVzVu0RPjUIW4QBtUaSbTyGpELfnUfkkuqaqvIqevHe94uXM1qQgLjkcrl5RTQDRexs02SeerJoK1KAl0LbEj3GtFSbyJ0J4ecuvaU9I13t0qIjtIhtAY61gFkRCNJ2rurPyMkcKGzfhLcy1z5UZKxAZskS99QONJI4+t6jSTaeQ1Ihb86j8kl1TVV5FXhcznmtrwodVn8Rpt4adpZJBqT3UdpzYBnBR500rK3Gr7lApuEHjt26Jrp0zZvGI5TQySgx4ZcMtb/AI1e0mC34lqe/ogrxuoWiwoAJUB3Zda3lOEOaianIcSG64uV51NRokJaEqJpSJYErzUsVNnYeDainaXDHC6JPpoSGtYBmi5TkUOUtqAW0IZW4F2npeLcS+LL3ukfo3uHzgKJ60mSJJJVjKt1tUoXHyq3bU1Ayim1zRlKi6EaShShheSTzFu9aMk4MSMEoYpwNouQ7SLFLsxXEctqPPcUZI2sk/QtBZWluyJeNZr7YI2lu1lQpgPu3yUFv4HAGwGO0qG2uWDSUKVwj4bruuV5/jicxZiAcibQRjhNMkAScFabpjFSMNyoG0iMUpEsCV4KlikWEyVAnEoaTLVrkp0lKFLTARHakv8A0Jcq0t431YDAKESRGgsIZLkOkxUWq/xKiF4NwE7w4/oJM0Z8uQas0BMWBi7Lq1JyWSmNiFQ7elmTZshRc7Mk5CQlOBtDN5cpajmRmqSRMJDUJwmOQBTHSidHkBqS3nCu4sUdYCACI7Q0KRCA4qFrNcteObpaTzSUcu6gLWiMtD9OjJkXZcbtSOHKwI/hnyG/98adQLARcyvasAkUyhJO9/pTU+7+pE5jp/QvkN/6xkLxURORH+0bvl5STR0+NSDATOYSatqROiy0UOiT+i13YsPMl51erIUyBPQ0p6suhguAcoxRJSYUEMIldv3k0ngQO+3WyxG35RqbNACVW1DmS2gcSExxYrYtUyDo3Pm3amNdsLxN3TxqxdjCdyl4SpgSLMxpt+6p6suhguAcoxRJSYUEMIldv2gKbIBKbANJW86cbfkic0cEBTCMxArDwjjQ2TlaZjMNrmyHn+1IPJms5QtDZzHHsVao2QG0ZbRtl2v+5NeZBckMdTn8j8hv7RnzDCILwWrYamz2rA9uwwBLBMTrYtUcuUiNJV5jvBpTzZyXIkZITOM0B6iEgiwpbUtspmUg3OE0LUxJSZCKioJZHNFPYGVLtplCHUcdJAiwzsRGCkAVPKkyq57WYQZSjEjNlmbITXSsZHoqrJlkWYmL8aepiWABgBvOOtaOF6ZIQslobZ3zQQQIhSXHl2DE6QAQoZhtfeorl25so6M91YkyLRAXccGjQp0YDHAgAXaWlEAbYhFyEx4lXZDRGyYsk2SVdS2zwRQUmhOZs3oWg4WyRF7ZJyZqNXHaOZhLvam7lBOOW5hFWHWPXVkuuYQt9kK0kuxVKAkEGbVJeVF/mCSHEhwVw2+OiLsLLxtanwZvTKyERgcjp+JamdYCVWIr4760dZCRGZ7FyhCQ6AvBaPEcREfkFBajgwuVPRNRSowV3SraBG+mQqYkSK4ZTY2iYvRK5AQtm0vlijCDdjNhdFp2q2RYcUglyFdca4osMezAAKhmyRTOCQxkLAThWb/ArcEKmQwkSbYGgkvliS9Inig6Uo0MfjZZkGJxBh2pmO39gslKEK0Two9JhwsmGE7SKV9qCBSxESHupQ6rCEZRGCQzyG9O2rGVgLrld3pK4QwDVDXgjSnUvAIgkaDIy/pZhOzgFR3QmCJKWW0l4ywSJEh3NXuodiAI6lcuIaLPzir7SQ4gNWWyssaDyheMUIT3GwKACc4bUDFyFmAkMOUj0pjuA1mRmC3b5az48sVYLqtPHWrnEiCFMBBJGrnqHxSIkoQHeGL8ailRgrulW0CN9MhUxIkVwymxtExelV4YJZFwhzoQtekeEy85IhGdA66/iCczq2RBI99B7SSAcEz2IFCbsiSrS3cC6KPFUBXUaUfjSn2VKUSShgdLGumatIWUWBkQVUN83PB1CkZAylaQvjTWnCnHXC7BXN4SKYLsESCQDawqxMRFHPolgXgkmkkOKgGklsCulsbTVxnSJwNU5Qpw6ljFCIjXlUoAtgKlLPupqjQmshYhMxGdaRb00ebcdDuoCPExogzE+hioHiIey1G2WdbGx2hBJhGjNmZvr2nC51NUBdEapMKcsF1hMAopGoABIglYsKucRRSpigAyRYk3F6I5PBZIhYatzv6UeExifCbDwipWaDMEyYwQ6a06D2llsmMUeNPRi5XSi3WxOulHpMOFkwwnaRWZGFkosGsjjapagFCRImYIVhM9KbOTarIMFY2S9SM6ENoQo3cV/wADKcyyxhlvPe6/ivkN/aM5cZEQ9athqLPakh2wO6G8TNry5TFME5CSeEnONKaI2AiF2JQYYdKBSJKkCMExrvRuRFISNld6+S3r4Z5UJuRjIFYV70YgEw4gxCc8KfpUV4S3u0dK6sxLOW7HDNCJUBsGgGTWZuNR2PzTETdMZCBSvDv0GfDjacPMb0A4ZwGY4F/GSiVBmYGZ5J8KL+siznLYPCKnXAy41htdxtSp5xO8AboAww0XDIMNsyRbxc0WQTFYVBdJHwalbbCLgQhSYvmhpkutxRlDCyTJVjBHRdQNFVeJg1xXwm7stnrQZiJG2q5MU43NTZNKIXQ3k8KBLElxifxDUzrIQiTNfHfSjrAQARHYMebaAyHvCnECMLiyl0Em8i5ogqIXATe8AibTPbRKYzJLCiYOPnWD22W8pHhqHZT8TrXrsIIZaC8Nx2qfjCkIBLI4mWLUVerhEqo6wmm2pE6z5kQoK4W/RRi4YW3KrBlmMoBKWRjJHnShC44giTRlbcq+e2pY46xvMKuVKhLihG+9ymLEQdRXFN2zren6VFeEt7tHSurMSzluxwz23v8ArgYd0vQplw0rMxgeq9Iq6/gV1GYLxZmN6sbO7gOt7vCiq2gqSmbdYWdaGe4gIBBIhHBrTKDZw4mtT4S0OkoOzerm5XVIJwFIylBZQIkFXSiXW5NSU+IESUNzCN+2jCiUBYoWRRrh0qYkk8JBJw7C8Rw/EE5nV8iqV7qD2kEA4Bjs8DVBIawL8kWJJQRA1kihfgt3hNm91WLaUrdShESKbptU3IqwgSXLSiIFjNMrDIKEFpY1p2H2PEhMwpYm0yzRNvkm7rsKidEocPWIhNrKRN5YxUrdLGEMNl040HEWARakzwCiPOJ1kAu5BDOlGFITrKoCGHVzVscghWB0W16IJcMwgiW0jeLUzjAJDEzGS3NzWMRPCcIBHna9FDLUxJCAo3107U2BmG5IegO9pz4glnAnqAdWpjssCQuUuCJfcpXoFkRNsic8KcMaEjIAwZUhxqbQAtQL5RJ2i1K+DSynShY4DGVSWFJG6Sod5WxwpHNFasGWYygEpZGMkedKMKxYIk0ZW3b4ywGUMWG5JO40KF+arDe1lCPxCkABl2r5H60gLwhBaJFkjWrCjACUJFtaKfoEIYuyn9JsK+fDha4QCl62Yxhp0IgQrjnf2rOXoy5A/wABct1EkDXcjxavMaq2EYHHSzSo9VJq5a3CA/OMghIke9oUAQ1COYOZVnThAkC7YuhTQOiQroF/2IBvJOZ2DOjp2IjAhcMGJnKaf0a+u2zZa9Dc5m3YwcY2VWAqG5Czz5f6TnqMwzqnTJ137bZ4IOkrvVscDj/Thn6TiMX6vOKRFERG46dmmHl2LvQe94f1BQQC+0OOmlJKVQQiMI1j5mCZcdDB1/pSCQk0kBTrsLc6PhG9QbpQdHLz0OKUQEoWAMH9PwNUsFsqdcnXapkBBsGq8AleVGlBxxdV4rL/AFG8sXCzNfMO83ahYyfA/pZFGW4NJ2cd21JjLJL6XqeLw/qFrPQ8Vx76WA8jIML1TuD/AMFP/9oADAMBAAIAAwAAABDzzzzzzzzzzzzzzzzzzzzzzzzzzzzzzzzzzzzzzzzzzzzzzzzzzzzzzzzzzzzzzzzzzzzzzzzzzzzzzzzzzzzzzzzzzzzzzzzzzzzzzzzzzzzzzzzzzzzzzzzzzzzzzzzzzzzzzzTzzzzzzzzzzzzzzzzzzzzzzzzzzzzzzyWDzzzzTzzzzzzzzzzzzzzzzzzzzzzzzzzzzzzzzzzzzzzzjzzzzzzzzzzzzzzzzzzzzzzzzzzzzzzzzzzzzzzzzizzzzzzzzzzzzzzzzzzzzzzzzzzzzzzzwBXzzzyTTzzzzzzzzzzzzzzzzzzzzzzzzzzzzzzzzzzzzzyQzzzzzzzzzzzzzzzzzzzzzzzzzzzzzzzzzzzzzzzwzzzzzzzxxyvzzzzzzzzzzzzzzzzzzzzzhDTPzywhzzzzzzzzzzzzzzzzzzzzzzzzzzzzzzzzzzzzzzwwzzzzzzzzzzzzzzzzzzzzzzzzzzzzzzzzzzzzzzzzzzzzzzzwEuXzzzzzzzzzzzzzzzzzzzzyxyUDzzyjzzzzzzzzzzzzzzzzzzzzzzzzzzzzzzzzzzzzzzzzzzzzzzzzzzzzzzzzzzzzzzzzzzzzzzzzzzzzzzzzzzzzzzzzaTzzzzzzzzzzzzzzzzzzzzzzzzxfzzyjzzzzzzzzzzzzzzzzzzzzzzzzzzzzzzzzzzzzzzzzzzzzzzzzzzzzzzzzzzzzzzzzzzzzzzzzzzzzzzzzzzzzzzzXHzzzzzzzzzzzzzzzzzzzzzzzzzzirzyjzzzzzzzzzzzzzzzzzzzzzzzzzzzzzzzzzzzzzzzzzzzzzzzzzzzzzzzzzzzzzzzzzzzzzzzzzzzzzzzzzzzzzw/vzzzzzzzzzzzzzzzzzzzzzzzzzzx5vzyjzzzzzzzzzzzzzzzzzzzzzzzzzzzzzzzzzzzzzzzzzzzzzzzzzzzzzzzzzzzzzzzzzzzzzzzzzzzzzzzzzzzzybPbzzzzzzzzzzzzzzzzzzzzzzzzzzzzpryjzzzzzzzzzzzzzzzzzzzzzzzzzzzzzzzzzzzzzzzzzzzzzzzzzzzzzzzzzzzzzzzzzzzzzzzzzzzzzzzzzzzzwXDzzzzzzzzzzzzzzzzzzzzzzzzzzzzyYnyjzzzzzzzzzzzzzzzzzzzzzzzzzzzzzzzzzzzzzzzzzzzzzzzzzzzzzzzzzzzzzzzzzzzzzzzzzzzzzzzzzzzx9jzzzzzzzzzzzzzzzzzzzzzzzzzzzzzzxPyjw3zzzzzzzzzzzzzzzzzzzzzzzzzzzzzzzzzzw97zzzzzzzzzzzzzzzzzzzzzzzzzzzzzzzzzzzzzzzzzzzxs7zzzzzv5HzzzzzzzzzzzzzzzzzzzzzzzweCh0vzzzzzzYbvzzzzzzzzzzzzzzzzzzzzzzzzzwrHzzzzzzzzzyy9HzzzzzzzzzzzzzzzzzzzzzzzzzzzzzzxeHDyJBJj4bzzzzzzzzzzzzzzzzzzzzzzzw5ZQ4HzzyflO9h7zzzzzzzzzzzzzzzzzzzzzzzzzzr6wORjzzxlx+w3zzzzzzzzzzzzzzzzzzzzzzzzzzzzzzylw9FMaNzyDzzzzzzzzzzzzzzzzzzzzzzzzzwCfx7xqi/gbzDzzzzzzzzzzzzzzzzzzzzzzzzzyDjzzzzLN4Mv3yjzzzzzzzzzzzzzzzzzzzzzzzzzzzzzzwMZSSHbzzzwzzjzzzzzzzzzzzzzTzzzzzzzzzxHd+ftn/zzzzzzzTzzzzzzzzzzzzzzzzzzzzzzxgbzzwXLlDzzzzxzzDzzzzzzzzzzzzzyTAAAAAAAAAAAADp50AAAAAAAAAQjTzzzzzzzzzwywwwwwwwwwwwwjacwwwwwwwwxgjTzzzzzzzzzzzyBgwwwwwwwxXvPYKJMwwwwwwwwxxDzzzzzzzzzzzzzyzzzzzzzzzzzzzzzzzzzzzzzzzzzzzzzzzzzzzxzzzzzzzzzzzzyjzzzzzzzzzzywzzzzzzzzzzzzzyxzzzzzayTtombzzzzzzzzzzzzzzzzzzzzzzzzzzzzzzzzzzzzzzzzzzzzzzzzzzzzzzzzzzzzzzzzzzzzzzzzzzzzzzzyjzzzzzzzzzzzzzzzzzzzzzzzzzzzzu/eO1ibzzzzzzzzzzzzzzzzzzzzzzzzzzzzzzzzzzzzzzzzzzzzzzzzzzzzzzzzzzzzzzzzzzzzzzzzzzzzzzzzzzzyjzzzzzzzzzzzzzzzzzzzzzzzzzzzzw6bjzzzzzzzzzzzzzzzzzzzzzzzzzzzzzzzzzzzzzzzzzzzzzzzzzzzzzzzzzzzzzzzzzzzzzzzzzzzzzzzzzzzzzzyjzzzzzzzzzzzzzzzzzzzzzzzzzzzzzzyzzzzzzzzzzzzzzzzzzzzzzzzzzzzzzzzzzzzzzzzzzzzzzzzzzzzzzzzzzzzzzzzzzzzzzzzzzzzzzzzzzzzzzzyjzzzzzzzzzzzzzzzzzzzzzzzzzzzzzzzzzzzzzzzzzzzzzzzzzzzzzzzzzzzzzzzzzzzzzzzzzzzzzzzzzzzzzTjjDzzXzzDjjzzjjzjTzzzzzzzzzzzzzzyjzzzzTTjzxfzzDTDzzjzTzzDzzzzzzzzzzzzzzzzzzzzzDjTzCZPzzTDzjTzDzzDDjzzzzzzzzzzzzzzzzyxyjAAQzjyA5xgwBzSjyjwjzzzzzzzzzzzzzzyjxyzTTjhxTd/jxQgSjwQjxADzzzzzzzzzzzzzzzzzzxyRzzwjBr3yRgTDDTxzTyQTDzzzzzzzzzzzzzzzzzzzzzyzTTTzzjzzzzzTzzzzzzzzzzzzzzzzzzyjzzzTzzjPzzzjTzzzzTzzDzzzzzzzzzzzzzzzzzzzzzzjyxwAbzzzDzzzzzzzzzTzzzzzzzzzzzzzzzzzzzzSyxiBTBzyghxBxzgSjzzzzzzzzzzzzzzzzzyjjiwyzQwVDzwgDRxywBjyDzzzzzzzzzzzzzzzzzzzzjygAyRxcTyyjzxxwxzzzzzzzzzzzzzzzzzzzzzzzzzzwywziNzwwywwzyxzzwzzzzzzzzzzzzzzzzyjzzzzzyxOzyzyzyzzxzzxzzzzzzzzzzzzzzzzzzzzzzzxzzwwxzyzyyzzyyzzyxzzzzzzzzzzzzzzzzzzzzzyzRTwzTjjTDTiTjDTTzzzzzzzzzzzzzzzzzyjzyzzBzDTDTDTjzjTjxjzDjzzzzzzzzzzzzzzzzzzzjTDTzjTTxTTzjDDjTTDTzzzzzzzzzzzzzzzzzzzTzzzwxxwwxxzwzxzywzyzzzzzzzzzzzzzzzzzzyjzzzxwxwyySxwxyxwyzyxxzzzzzzzzzzzzzzzzzzDCxxxhwxzzyzzxwywwzyzzzzzzzzzzzzzzzzzzzzziDzzzzzzzzzzzzzzzzzzzzzzzzzzzzzzzzzzzzzDTzzzzzzzzzzzzzzzzzzzzzzzzzzzzzzzzzzzzzzzjzzzzzzzzzzzzzzzzzzzzzzzzzzzzzzzzzzzzzzzxzzzzzzzzzzzzzzzzzzzzzzzzzzzzzzzzzzzzzyzzzzzzzzzzzzzzzzzzzzzzzzzzzzzzzzzzzzzzzyzzzzzzzzzzzzzzzzzzzzzzzzzzzzzzzzzzzzzzzzzzzzzzzzzzzzzzzzzzzzzzzzzzzzzzzzzzzzzzzzzzzzzzzzzzzzzzzzzzzzzzzzzzzzzzzzzzzzzzzzzzzzzzzzzzzzzzzzzzzzzzzzzzz/xAAuEQABAQUFCAMAAwEAAAAAAAABABEhMUHwEFBhcZFAUWCBobHB0SDh8TBwgJD/2gAIAQMBAT8Q/qdrKL0vVhcbwd2uy6vA4fHs41mgfWBUdorHDOHg6EoxT2JgzfuFa7QYf+Jqs4ppw8NByGsBxsGD7PCD+5DxtkhQEWtAXbIDiGI4alwAJMFnnAmbSdu3xEL4ZBgCGBLbteWS/XCOF2BNSCzhFxiQlsJnNllhcgVRHOEWuvQxDCGyKdQkQ5rnaTZ+pLnGsMTwimPynnlL5vJiIhgQBtaGCJLQoJBwH8Yf7vQLIBCAZNyfq4bIAs8Ivp4TLuYmOx3E2F2C0pwFCVgYVhGBNgBPI5QRJJp2mKCLFYO2JHhDrHRTUvgASWBPFzSCCsJgT1rpkpyNoxbW7cCeYrdECmRiSfCLACeuEHymqIj4NgUHW0SlKDcjZmGVwcsxFaNPmoSo2cgRA1Aplh3FC7uXKybcSyUaILCB0c5xsddkk5nQOdAKkTFEkmnbQA0rRdpH45q4blQQ4gJyNSVjICoI3F+LtLilhQ8ThkmmE9kC9XTJLVqQ01abgmUPZWIwbYo4l8zqY2InnxFPNlwHMizl9EAGD4Q5byKl3dZpDlZOCx8YGmRKEGsLkBsJ/pWEJ+MnxbjAGAafnF0U3JVkaLwgo++iF1SIFR9Su3Fx79YYIPb59FnD30Ltu9ESSWnjPzyRSnE/4tICbjlvjC5hXoY2LFPaucANKMu7fd910lB/G4yejAMuVgSZpN4UdC58dQq3Tjrnl7BcztY3QURU7rpetzIMD1A8iABxsF0QaZAAzcyZulgdzA4MSLph8Mv+NX//xAAsEQABAwIFAwMDBQAAAAAAAAABABExIVAQQEFRYCBhoXGR8HCx4TCAkNHx/9oACAECAQE/EPpO8gqYebiMuQRqKnM0mAVW46S2aaj4lM/VSxiOO4E1zkweXN8AsH43KNMABhnhQqBxnGJhnwHuL71yyKZqsJ0b1feyGZoZIyNraM6zanSLnhYgwbTP4g6wBOdbg4J19wmQI79MEiwwdaw5okzUQI4CXbdsCyVvzBz1TRzUCGMcJXnCRgDw3uRNMdM9jhkKIgAwzbP3KoB+Tyh7ABAGggCm70EfDJ6VabZGEAm7q8EEGr4iCQIDRiRMobPDnlFJzDy5YyAFjgCSwXumfEdOohHd8laBa3Zi6KMWSU1ZlEWs3QgCLEBpVTUMWQhLB/pE/JEklzxJhFaMweDAspjBAOHQQmBywIAEcvAMboVMCTzNhBoyUoobmiBIGDfstqRkI+b2akUiHWk1ZwCSwQhrU/xaQSRoGoQJcvZRsESGrbyhxKzsO1UFtbOPuJZqmQtLSq00Y9mhQ8x/REHg9ohRXcHq+i0kvWYGkCg2mqPfw1f/xAAtEAABAwIEBQIHAQEAAAAAAAABABEhMUFRYXGBEJGhsfBQwSAwQGDR4fFwkP/aAAgBAQABPxD/AIfC3lkcuMzivDwkIfQzQwnEYXIEk5f5aAQFjkOHnZohQB9fMEYCAU48hDamp4QfWgo74Damr2N/khWCSWNIebAV+R3dkUyD7QsOmEToOTNKJTdQP2iI6JBMWGZoEaRPGwBjmomD7j6+EULxWHCb1YBHEFjjV8Bu+SOtwFJBJjvEPcZF9oKgLh5NWr/hLQACw8vcoQR9oU40F4QFnwDxUAaZgTxB2Dj14mCdWk2czC5FOqamAhsm+zzpyfFyQ9+/yDk2E/C6Q7Bfi3jHAEMikD8aG9x9nEbK6wvV9DmyNgJjc8AJbLXhdW/Q+zxBPIhjuUsCL0gt+N/ewtCljOPQhZWKFQ6jc+WWnAhOw4J2TRFqoD5VIJ0Jh5uANCCjAFdgq8i2zTM5K0eC8JeSAqll6oic39MvOs6k4Jym9rhkuUyUuTu+kxJZCLrJbMEA+RiAXKB5EoBIJwRcKKfFffUzukJqexwtp+CDbvzBZ4JAyMmZeMjV9nDdoIEM1oH9HDdr3DBUa142vkIlLHi1pgLg+3i+liQDrVr9gLkbYqVjzLf0luAeHYv+ou2qN1MDJCQu4ngAaQHNR6Y830ApufPxQqF+NV3FLBRnofxMeF54ejWIhghUN6p5gFFTWLNWq9LYq4/5x18+yvpEasrYoa4tAIJ7/wBMiDAgdMIymQjEVOLhkShutOi+IruiAln1GgqgZCompPjemGNMyans5a2mduaU214x2ykSZOAMG+dcjUwASR2U0r3G+JzuqKnkmqEE4Gf856+fZX04DBTAaYVKwZlaDYGGoEFBS1ebq0T8T+CSHbFAC/p7HDqtiZkV1FUbGSQ8Oqz51ugXG3+c9fPsr6Ta4CRKMcrChXKNjrV10upGkmg/qcedCw5O6nR76EWx/nPr59lfSW5x9fvuQPQY3I5oAeRGsFQBOGq0ephInU3GHlZEWCmABcKf5t18+yvpEpB5QIgmTmqfhQXQro8TkkyEoM0sxGJfAZN6qAgBwQ0oZDh68nSgMv1wZLPgklQH5/5r18+yvpcUi/YZ4BdGgqJBSisIDkNSuwWQBnWeqliFII4hrbTgsP8AV8k5pECQb/5n18+yvpsoYop6tMcDSgbkTCcy8A/A+rvQqDQRNXaYUfUUI4DtPkQHG/zPr59lfS9M054laJbwjXg31LAATkP1cQzIh07UCHhIlF5+c8Ot/mLr59lfTXgF7wjWFSv3vHQpHy/ABQftYvT1l2OC6ml7tiegZ40vmQLHZDNMGP8Al/Xz7K+myoMsnCc/DxvEQAFMJkl/CNUrRC13rJv6hkEGyr0im5yfIEfqPKI6GQJ3/wAv6+fZX0uzNAFV4ksweCwRvLmxQKlAADl62QGRA5HLgtUvbuFBE1C19R6gbGx/y/r59lfSIMuMSmjzQbim/E0AKATwKMXzOJNSU4G3rZIZBacCWYHyBAPdDuQACTllA/y3r59lfS2VkBkCZ5I8DkptGQCUAIIKDVsHwqv6+VsXkjp8EFdWFNyex2Hw9fKLMi8QFwsmkdynCgcQxH2O8IlgmAuGEWSgXAJDR9tn2V9JhXDrBUlPfsO5nNBgt8zr99n5KHY1b1/z3+JYJP8ADmlJ195R0aAEtctsKGPQGpKkHF0YgvjB6Of2OGgRR20qzX2Q0enkQwDdahA4boF/tk+yvpYMEWeA62v1XTS6kjJVzQ/nkgGAAo+UJQbJynnuUhbwTCwHzJQOoWQ/sUw6gocHPyeomvuWhAxCIPmyogH5BBtyCd1iePXzRG7wvaSwMSZmDOILIRGCA+wSQZ+aDFE+gRtOS9iHJwTjl5EAQgwXBQoNwT58NblCkDQfVLBR29lz6OzdknzVdCyYfFEIksDiXR9KfZAhjFkAhRuZczgWFuSqbVgPkENLtaY6hGvniicAm5I3vCQBpFjX19fTfRQRansCfxz0TtYUVfUjl65qdyzJ+WBTLgxuFDLcRXr7HRCHhgOw+wcIedg/ZqA6KwBJYk3OfqJG4sFcOgBnHqDhSRONE0idwkcpD8evm+iPa5VRZMwTSFq4hOCD4oxk3CXJ+a6hX2Sa4IbgQW/gtZ0kPWY7YgG8EFwbLhbvTZ35AeqA2w/CHGd/BUc2BYm4F0jcwJQMCNKwYfSn2TgBPg481r3xPOQ6dKdABJqtcnQIEDr1sN3eTFGgw/r6+lmpE/y0UfwXhYfoEGhfR74PsicYKxRbI8AajWjdGVdTiJDiGoCmwZA4oN0FHYvJfZDbgTy3gcxFDgjmEAIyvt7jslz9chRLkTu9u6VjmZQKLoMfk5q3qLwHUpYQPEem6xJzKFFBTgOUQOCiet44X8IuXLIBmUOJLYG/sdDTADuBwUafHDJwgcDHMqB6KYoDgj5JAX8L2VQff9N/AgCUJQFQUEYxHtdSOtCANXnIex5K/LnLsMqN/VYZaDgauMxXQGidxMARAgRrHETDYkNG13tnIBHFjAX82xA7ysyGdSfIjkhBzncsoWeSsfjBjhwDkMQ2ZWGsQXaY7JirjwYuQWTmCe5uh9fNIIH6Tq1A5umsgMuMRd8xBMi4u8S5v9gL6STjNzEFFZwml8kyIxirQLzQ7CMTlzAnupwzQ9uUXZZoj3RkwACAmN9DXEeE/HSD/SegFbNoJPp7iGvb6sIB9pU1Gz3FHKQIK2Pfhshb+EBLQmoIqoRbhX1GGCyvw8kpGaQeoZjRjs9WhWClSGbTaS+WgISbWrDUw8Ss75x/I8aCRMiQJ4l/VNNvjNFQ9m73Jz2FZ/KgokY9plQlKKNoHvP6wQ0uxhWGgAwAEBMIEMqK804NEWavqrtqhwxEp3oZpkqeq2wYOhnTuCo7aECrkVhW4eCQ4TPw7EDghDxpU8g+j8SMlgDRk3sKxEchB2N3b43jxnYAZlYJ1T8+jcmiE4PNYBweMsPvm4/4qghgoy/HIMc3QLMsLAMgEbwA46YIca4bqly2JnOSoqHKEbtBox9fX0wKYc1ONU1MPy2GKk7IHDZU4lIK8wPnoQk8hYm9ygnUQEM3N+bJZoRApAWFed0IGIABAMJtM4BblUG0Mvc5ATSobeLBJuajaHwlb2AwgjyBmB87ILZEACAOIBgKBJFpICovuug6iTvDNmzh53MrP1VxUuW5I5OSKFQfp5jh0DKyE0uCAF+J5PQOYQLpMAFs+Ip+ESGRJZIBiyADip9ajcoKace4eAfdioBQXOd5VY5IRPo7sJ6oBo4B5SW4uwQIp3BE6EbWa0+kLWHnQ7CAMJ/JwMgPVLKFOvc1UND+jux2QyyUNhCptuPkH2S0Y00/cGIVQaDjFMiAHLgDhg26IIZHJbhALg3sFbZwktIgUtjRH6RECPDfR2yNR+e5auYRCVRRg6jU7/A7wZEJC8pVRA8oG4x5WrzGiReyPr6+miqExuPB24bGzggub4wldV+EFEkMBEEJxJ0c/hEEBgQBdDhmubWjmi/9hG8A8rhQY/aaoZGqR1ofmn48XRBO4cEKSPx8IAZsSBmhF4BWywy5rRj7XqoezEqYI02Y0AB5oGLCzlPgT3CAQ0GDqUhVQgPADhxJg03Au9qMiRpkNn9HN2IdKVv2pDrhYAeRRA/ugRe8RM5+qd3Rz4V4tSAj0OjFHLyQODv1+gPqtllUVZDtUKfgGaUZ3EwD5IfZMAnEDsjjZI1GpPvGepRBJN/5A7hZTDLvDksEKoBOnMKG3/8AuRAHuVaAOqgzzYt2Q5lb1zT84bMhaCChGLVPwGtmExTuWZGKbp1KLMb2Pr/9x9tlYkMyYUm6ZMWxTJ5CAfE1/AjZCUYF+7t009CeYQoBaRmRRRABg8FSwAJgrjm1zyJVWwL9R7iaPkAlJ6obESgMlaOFDJAYcdjei8PHpQ9VDBmwRGoegaZ1NUuIJLAins4H4L3BTjBCRihgGKcQyOjSBoJYvxf2Md4dGXN8c5Y/pQSoC+L36FzJh0qy4t2AVo+Tef8AGNwEhZcRLBIJiJaxRzcSXqoYhskWGG4wQIORXVkW+M+zJDtzUESAh9Gh3uULXzn7RLfT+bDgAAKiY/kZCQgNhpBt+JMB2MAD5I1E/dMtDKMiy0Plf5wi34j0QiIAFSmaq3u37fN9STnxX2ap7v6IUNK2vyF0FkrwTuSAni2286+aN5iJIAJIf2CgxvmHNToAgAEMpQGCcUdGlfnA5rM9kk11WNOeOwCuQfqXY3sT/gCVe45VDm+z6aAQ+iHG10qlmh+IH96coxgBmjw7qPO9olOGwM/mmSEU54u6CZuy/wB5IIi3o28g+5AS7YQ9AFBkc0RZ2TRX50S10AkA+hJ4GANznktOQ+uc43PJsrREm5p+dgjQc30Ji+QQHsulHNcK3xH2QBxohimKPO7gotZONyewg61QqgZm0HrGPB5ieFED0CcggncO4VRXl8+lX2UGOhgQDm+zWptX11ppq9mP8P8AX0sGKQaDQe/fv379+/fv379+/fv379+/fv379lt6xgP0AC+4AJqjQMH4kdJUixOn6B9J9+/fv379+/fv379+/fv37953OhAAitUoUKSCcSjxB/AUfMWBiD9Lif0bCGwS0axH1WId+viHNP2B55555555555555555555554+ifWKgfv1QeJ1xWXCBi6ROBn9yicEDh9DOPWavpjzzzzzzzzzzzzzzzzzzzzXnAEkQAZwxCogGDiF54Hn6o5cED8mCOhAJcIyc1EoNUnmT6EHnnnnnnnnnnnnnnniYNZZTO6cPN+OHwoLIIYqo1i+SEchZ8vDxDvATuBg3api3X7IyJCEj5pIW+jZ5555555555555555558s6WPnXh/e4h2gdxKDWxqfVhkXZgsW6pxxh1BiZ2U+qlCcwbt27du3bt27du3bt27du3bt27du3RI3SFgEnjs5opz6gHjw49u3bt27du3bt27du3bt27dumcJWtOYOAepN1gDVMf8Ae2dgPpd2b2GJhuJ5M9yW7gBf7V9QIIECBAgQIECBAgQIECBAgQIECBAgbsN/jkcfF0BKCKo/phAgQIECBAgQIECBAgQIECBAgQBLSFcIB+sNC7INC4v2I7jk+qPpffZ4v3MwmHhkYn0cg/dWoQIECBAgQIECBAgQIECBG6wdP3R5Ao4QR/pPhhBCEFRxAJHzqQAB6wmq0EL/AE+AADwogQIECBAgQIECBAgQIECBAC+DRODClUoEKSC2bc82h/UPrXONjybKU9TlxxIwX0mU+MV8M5GiAgeAPMafUN75cHxEFEayz5Ci+hbHU1JKZD1Hr7/y+SWBiFAJMmpxBG2fWFZEMQQQgpqIEjkgUQaj8lhki+fJA38QE26BE9bzIBAS5C4elKsUYRDdygoQWXPpR0RkSvAagID4OADBKrie1NJwGYPIdUxjaDaJKDgRGwTrKFKXgxbD6o+y7c8MyQBCgikgVSYU547Eq5h/0VfT18NQ1JMIYx2GeahOx4i7k6Bjg0i5DhkbfAPRBUlDYWKc6lChWo5JIDwb+HJCQx5V0bnYmeF+MgmRAy5pmyEP/ED/AK0fZX09fOYRYBmRvQM3WT3MJ7ZuQ3WdTQQgHsWfYeiIfHZIAaTT+6yQkKSw+XDwOJLBICA491L7CeADFI8FlkC7shW/2M+yvp6/UOCqghSLyevpqjEYcxyUCQANx7LgihooQhf+klBVAo54mClRYm+YCMP+0UALIkiw58K/7IfZX09fLb7mBQwgbiHJKKWGBsgdHU4duYwSWPgyND/tp9lfT1+fCpz58DQhfwj5824MMsUL7MJhJAG1oGo3+3H2V9PXxYdK1MZMxX5hVgwW/J0tSwjQktUyDvJEfqP+o59lfT18+yvp6+fZX09fPsr6SIDgjoFMAADp9l9ftsgepDZhBiIP2cfZsoQHDxqj/gfYi+l2qt48cgjOfhJ02CSDIwoBwmknQE29Bx9+9m4IDG7psOCCoRiHSBPIGYnOsZMKAJBqoxHVdDPrunlcCFhBxBLs42yII7AV70Zi9UcXh+uYwcgfCCxFW/2gdPAUh45sh+BjRF5Ylgu0op4GCdBy0klZNoiI4ErNW3AhgZP75DB0yFAObVGuSH4xJfXTmwTYfyMJ2IQYELCDiCXZxtkQR2Ar3ozF6o4l7gXA/MCfMhEX4djCOZNdv8xoNEOskmHMuqh+CbhwNZ3zcQnSSNbbQdyBXEOaTXG7D6OOvtxUsLBzwQGBh3+kkQr8gXtHwoA1ISfcEIIlkPCTiDXZwOVgUcw5YRzFT9E0cR7tugNsAJZUjlnQpQ4MxZxoaNkcTAIIhlw3c+yfMZXDAGYiojB0RQsTUbJ54AglAG7MGXQVL5nd4bEGypvC4xbwME8nhTrmqVKtjtEZzgjM1AmAJARpntCHAMWQTjFBQYlpZBomVI5Z0KUODMWcaGjZHFglEtVglCRsFjpES+3UipggF/aRZiDBEMDJ/fIYOmQoBzao1y44hmrdgIAo2oqUzb0hV4lgOkGQdoQUfkP79VvBGk853BmsABoF6SfZdjqLJo6h6gjwuemuOQkOgKuzXvAwSE0cRm2BxISIT2inBGFQN9EOFRgI4Uc4iVXU4+ityOHUIlX5pikkk0C92y8rHmjmJhAwQrJoYmxsIzL+I8tZfwnB3IdwxDkbnxGkEtJ2KztkUaEYxsyIwYCxyjcZjJKjgHFWRYwfhULII292uNMNtRr+WA+ZKB6i8fsAB60JV+aYpJJNAvdsvKx5o5iYQMEcDCgHCaSdATi6qldP3AMUeSyABHArtkAgxXdKdMChA7qXIBxHTtyEAp0BIl3cLkWMmKOfBeImWjlfuT9DjpzgNCNJbBk25dQkNg1YAkaMouv8uUx/QCEAnXAEy8k9EX0jphNCnXJJa5X2tAFZjiKKFgvMoaOgqOyOXOsBklmOSYRbIaydw+xCyAlOPPdyNEGQWpb7hKw9iKCtWiADBhaQCEA2MxYEMqLN+CzyuBCKisQbSYDkVD8qCbBk7DidEOCogcEGF0rPM9iG+/dYBdWXvtH/AAkKCwM5EamlVNmoHwoBwOaN0NoZudAcy9xKjzCwTRlQq4DqpAKgkJNm5wGAuIgp6QXC7ZpW6CKisQbSYDkVD8qCbBk7Dj5PHwq44GoMGw/hdBLmQGOzeBBSr36zO24GHFmYwFKBIUPfIEbJQDmlBFmNG9COvnpEjGOsEmXHCiekSM4awwdc8KCI7gqKbCNzZGfsxbKKcQG2AhhIDiMQLBGxMP6KFvZHmQ8dyKsqIW0UnCTqjdG9ENECL453FJdPBhI06KzoS9BCOMYcAgBEIDblKsTnCLLcDdcjBe4CYuKgAEAwgYNUeIubiRzQMOeBtXd1HbFoNaF48ICiVB4V8nhQRjBzDSangimxi8dQsvSV0fMjCC2AN4YyFMwDJSMUKgY8I6eDCRp0VnQl6CEcYw4BACIQG3KVYnOEWW+A7o3Q2hm50BzL3EqPMLBNGVCrgOrxSrWStOlgdkVUlABwXll1LNffBfdBMhuHJwP5gUZr+XEt6KfZNwLUAhSdCqY0LrjjUHbuneIujGnNkw5lmWFIsQBy5biA6BhxG28GPYi0LXHHcyrEsQY7n9IE8VkbjcBV3xUWSOPAAIDxD3IiVWHhqumF5ZfhHZAMGIB6Ah618dNBrAXVHBD8GOTjWLtQgzAmuUn3rnZRVNxWB25FPd4XKllQxK0UCvAIAsnRJPa/VQRRnXHVgCP1ETnQJ2OucJHHgAEB4h7kRKrDw1XTC8tx8dijiKsDuIdkHA7GCRkBYRtysslA+Ekat1de2D/SHAI6Mxyohn6BgYJAIIwmaOxJK3nikge2udwh7EJHBfjH0hfSQId1cgZ8okEENEFUz0JzRTw14MsxYEqo/ptEs/M8skfj/aDRSEBKH0NhECB1PUgt7E3CAmSxMVEqvvrPo2BBKQ5UhueEaVgnI/2BYE7y6fBKNDiTWbISvljitXp5MohBuAGZgmFA8wAoWJQ2OLuClhVFgMUTREJhYjLJnSSDSHjhdSvQiXK8EMKu/YCDxN7/AOjI1NIQasrh5ZMDJMZVTVlW+w1RpWCcj/YFgTvLp8Eo0OIxQP1TkZpR/UkXlYKE2upDQHU+mxRnBYDSwhbcFCJR9lCqXnTBcm5NTwGKzKGb5o92zq0SApmG7CFA8Cxw8MDuZJH0Xr5wXK/eBFrFWQqUOfYvjmdEMw3gp9UIWnQghBFIBKIZsWrCUY5xzTGjBRAjRzTwDtO3eFlN63PyI6GOUb3acoDK1QeR3YH4B2CKvpT0i6rhBHLETSzFwAASrRYjMI7JSuXYazPdTVEMkoOGy4TWH6kJlRyUbAG9BPQPBxKOruDFJqE9kzA4vI0bKhMz+h+CMqDUhuneWL9uGAYhbAKS4XLGEeawiXOWaoDyO7A/AOwRV9KekXVcII5YiaWYuIXkjRqu1zAQgnC7BM4glyvBDCrv2Ag8Te/+jI1NI4gywhDIH1NTKf8AY26lyuVKEULOrrozYk2GNH7H0K2jFzekg+yH70SDw9oJoPBQmiaWqIcw5okIa1rBTu0hjbsJzEwhXRA3q/rU0PUVQOoo1mYje0ESKnOTitYNyTd4utBCGKGkMrp6CQ3oCe4IFDYlExYlEPK2edqIDCbDdyLSFBoiKVH3AxCKacHRoHc6OruFie24gbObMAKsYLFBdDkjLF1qKZCEGF5UsRl8Ed3QfyzcizhYPwYvuuSVUqQYQfM8GEEF0lb9KIMiEKQrBpT2GQjOwMLA1iQwJomLEoh5WzztRAYTYbuRa4i6UJ5hwmo3ckJIVBJbuku0P186sNudG40zv2ToGbiym9bn5EdHOHR/mDVgOiFWGwydB3mYIOdAskWLyoNCnKGWfj+gJmoT1CZXrgKxjFdhAjgIwYa+mL6RG7gxYI/qhI+qxLmVrZ7dGavMOPGAoApCgP2P1+/B/wAACw5qZupf2CvC4DduJYImHAf7MPsjpM0xhYcagJSbYcQecIoeqDgAwVkNAiPslfTl890g+RCYebgDQg/C9A6Fn5RDGsHJoYeAxEsmDnzMwSjYxaYFzKRyTQx8AgyAYQgDhRfRQcAfha0mB0DCSwAR25EgWgTgxf5QR6vrJwIacTuIYg/Fm6nGk/YNB6V18D52CVKE5pCEeiACAskgENiMPigMn3gqk6dLkYlEAJsALlGMJIfaQi3YIN6AWD3ZBe9rT4o/XxB95FJDHN4CAWXdVYh/lF12cARATFLH4gGlcDTiGIVBGBJAYwobJAPTj7IbLI0NR3ItAn1gW8GdoQfF0hRpkNSPcB9B3GSOH1vcOroERgfcAaEFXYWOtPgOqJ+I1adxgQAZuh1LUBwAH3+UL5lI6ERZnw/f5DCyMsYIhzY9uFwQRI9NX05NA5x8huiV5VBaoQ6FmQPnAGSDHVgAGakqpKYSoTVriAxcmEcYOwFZQunlkdbRTzyYwwIIENxuCbJ7s5rIALoewFAE+ALJfVGQlMArF7ifWvZBelesOrAorA6VnwqsLcWKADg5oux5CogXHCEEP0ISHVDZB4MD5mClgYXOSGggnQ8scuakPI4DUI4h+YLKF08sjraKeeTGGBBAjDIZv07NmupBZIbw0ebBDEPBrwF0UpZGSPF2V3DGYsrBQ552A8swqCC4kjw/cg04ncQxB4RTa6MXhAHBgqcU94aek9fCZgfGYECZBuD8vaYTJGr8NgFVgpOXE6VMtdGQscj1L+qGwUp+km6xemxWUOzYnKt/Ym5EEV+ZVxnB2Q+0JXIOfV3RSaLQJks4Mh5oVnbVgEXRmHCZIfohtJlRZnjM4sxoisLRxK6OzAkrBAJuFf8AAWeVwJn/AEB1Ow0BqSao0GxmKDQgHoeaIR+ApmtRAUSxs2IIbzl73UTywIMiv2gGdBbc8qh+DqvA6KPNzruAXqmAwEaex0IMRV64hIIWQYGidZa02AuaAWHApIwco5sTqwTHIEg/nHJOGwrvTYD7JSRg5QOosNRSB/AGYZy6ScNUFSt6+jIgEqyEH4EceZDU6ARd3ssYK3QarIJT9FpjYHMA7ptozyLioBkBwRMxyTnigiATJM5gUDIFjC9w0IsCMxBwR0FVgdmDukSd7GIHHEPMRLkhedhYYZC580hrBTrteFfJ4U36DdCQwmwKoByiVwoRabDQhwaz6Siz0RzyTf8AqZMkbYwZFqt4LCsXzDFCpCioIwPCx7yIHd1Y8cjw/YgQudo/CRaS6Gkq5diSTzrExiGjDoe4CUT4u0XYv6D4QxWyJsTK4D0bl6S1X0lfGtUkRuR+4ZiT0Ew43i4i0fTpJjZQwzgDcIsWAl2c5O6FzFAUqlEBv9Jo+XMCK/YOByZH7AF3oC7ROYyQTsILAAz4d6vtqjYc1TUG+KoOCA2cs0F4G3FEMQW4ZMacTuIYg8WDCjVdbepoU/f84hN5quduIV+wcDkyP2AMWoPlDMPZ6EAFySTx8czHgnCcBE0SPmS3ECQASActZZF65DghBTgMFZbUgQKO697VW5UPO0lEz9Iv6+N/VdxDOWR6Mb+qbiGcvwEuBhP2oQwzCQH1sDcFCqQcBDxVXCjG+APUiGbDFECmuBxoYouwmqPeVIqGQzKa02ew90hiwhW4jf8ADJA+h7xY5FPESBcDnbHlUyAAYQNb8FR4fLX1EpyrgQVPBeXvcZH08zr1FOF6zOitLXTvTkyrhZ5XAn558ZQ3+ixkyLI4oGyLlJfNOqahdRAN4BBlEPNABCpHQ9PNLFOps+Yr83pghqApNTxFfk6WCLA6gtFg9RTaTIkyIj6RswIKic7SMAeI+FEQGKIxlBHCdiXcYAY6qOKkI+lDx9kWb5eTkIiEIj24I4FEQGKDC5QOr+FFkUMpbBY6oaFGbGMNVzqxbIziTvF3H8CwFX6LwbNyda9qIzWIW2KQLhgyHOEoA/rymd5jYtsIiHXjSd+TmTIF66GYAMXluhGlhpi/HQTKRE0f5qE+QDOLHEMnXppCq7S4QrlBA0yoHCvk8KzQMqEzVKGh6SUWH2QoIKAXtbH2DJNn2TDaKhexCZM/vtGDzIS4/Eokg1EbQBAwHFrOqqOi/YkAsyTnnQAIVNY7DDDFcs5H/FLiYTuXGM9fLeXZUO9bLeXZ9PhqvpLz2wXMrcGyPHJTR6BahGAcKT1O4nEY0QsAHTHIwPKUZQVGzETk6lmDhhcgbBwDg4sJPQwChfBxLz8sCgIRJn37dRFddL1n2C4QkZQGoeJrG6CZiDuAnoDz7oMYcQPwNQ7gQRJA0MggIDRtkQoZGBi/tNOpARi7f8pypEs512jRDAohTJEliVJIBzQ2KreAHFUku6oonJ1LMHDC5A2DgHBxYSehgEdaZcsuZA7pg/NGO2BpoCgWpY4lYtbR1YRqFAd+PBdrlQh6ICi06q6UGVMEMlwvGYEwuo4lCjABgFo8QzI0tRPplaQNym1s8OSI9J6+4emh9MObAohOQPggE/MdkJtQAFoUcm5NVAUQgwJ3zRFMTEAWwJCQxywQuIw4u7FlyOtALVlGeBRB8CS2RQEQBQToNMCHQ05GPIYbEWWnBgHgTmQR4ycoBW+BMf6U6/FFUaHPEDgWASSo5hyyjGKsaa6CDAaoCE5wAmaBTAMEplzVKlHx3iAeMvlzEwKM6M8Oc/IA+GCJjJuxiVSzCHtE0ACUscYfB+6/BEnBBIEywBuS5NQ1KLxRO+blCAD7HR1IAOIjlgBpoKYFCUPjsudYluiPpx9lm0H5xOyckMdYN5QApQp7qGFhHcfkwdDqrBC7uZcjqs0uzxjQez3OKeBoBjVQZYAUF8xzglUFB16jWmNgVRDBeX8QEId/Kj7X2EADAIRH78gbDCYD3fwRcCA9poBk6Dkb2yLjk1FkVfUlGFLBNg+5sHIAcFzVUdwWFFijvSO0GiGTocFADLUMFBdXNSZWNP2YpvaIRtyp8wam870oTDzcAKADiMYQdaFBuQQC3tYswBipMm7mckYGsSgfVYaPYd/haHTVBJgNVDKQRCSA9Vr6S0iYOJgAXJJJKOasmGntk6ICwNz9ldfBaHBAA1b7RPsseFDNP2QvpMlUoEYAMUElRFhXxH1RLb7oYYNRgwOje2V/YnSrRaM/gPCOUS4LZ7kbNXlqZoe2E8AbizqLEsGSXhFAv856NGh0bgOuEx6n186cTOAYkp8bjV2BfqEP35NhBmDK4u4DGNTWVD2JU6q80jOnyC/0zDJfmngDcWdRYlgyS8IoF/lMCshHyNiCxHqYfZL+0BMVU6FArOMcMGI3CHZ8k7OFlC5tOnYcBWG6YddUWfmgNO5+IcGAPwJ9TX03J3fSYkOhgimLBriPGfyiORRM1E3QmeB1sGm0oAxKhpVh3AWKqG2r/uLKUTU3mgwIklCWDsBgQzEFiDwixtiDO0BEAFCy2AYBIPkRydcgIl54r7Y76N6UluPSQFTfDFczgwiQA62BeIxC+OXFHGcONEuQ1LZQYIRl6OE3b74O8zEIh+s2X5G+apM/65JLNQbCZ9MZh0nNMjCSEVDrRCQHoOpiKkmI8xkBEGO9x0mZMB1BEqyX5iyILTWJl8BI3oOUuoxuRAgMeLM0AEJ/QHoXkwQiTAYJqvLarvhNnBGBRNBYaEzwJLlMqASGj+iSjTh8iSnwAHHpLr5mHm4AVJPBqJh5uANCDwMfjAJ9F5GAEhdIHrzjeJJgh36qw8DClsQRlkhs+WC/mixvxLuMtLAQO3CDIWAY2InNUrP/AIQGQz62IOE3HkDJyDUOsuWgjRMoTjiBujHdRiUIDW0L/aJUzsxQrNk/7UVqAJkCV0461PQ2ocjtPmfYZbZagHTg8ToImDagoFnflGJtawCEEfMtPV2YN4R2gX406hhUnaV2Q2pDEcPwr7aVMV/GcjDxQjqqaYEwkgu22R8gS9BkIcDkATpfnYIEKNYeUxTt3B7Uup5N0Zwj0MQGiCcOxAxB9Qmt1U7DNVs5QrzY1Q42S3Z1EO5CBrDa2ZzWFoikCNFI34FiZmQ79VYeBhS2IIyyQ2fLBfzRV29ZrqKz+YBbUAFshsacnpB9kwqiGCqCFzpEJsgBwbM0Bbu4CDZSaVxcnIfk4Ei9tA3JwgkF5vcAazAeEzrQQOKDEGId7g5VjF2RAXegqRjgAOAKYm9+AOcQv7xAI76uXcYTqxuLYIY2E4wFTrrFUc+gn+NMA6yTYcIl1WbcQ3IiaNc6zUIfwhH+e45gOBINVXpkoK45tMYHDOgM2ggiXoz0McEAM+4jMLUyDgRLiarLlVeqOUcvqq0om3ydpC7AU4gvvYqgA40AxAWxLkA5hkCmxxcnRFyBjXECZRZU6tQeTXRQfcIdyyGKBgolgGZwiqU7T5n2GW2WoB0I3Q0PWw3KxOFMFwQkIakLYjS2DRgXKIiHjoiaW9JOihCjiqzmBywPTYvpab48YwAlkMAUxcNYR4gAhmC4sEKH8xLARFeSX/EdjIrwKlzawC4LlazMILU6PdZgZoX49sbUjcvcEyQ2xTncB1fLJCCAgT5bkzWhEXKbTixQ2cjXGmMIEDB2wue3oAFfh9ANEBLUGgDREMYwJSlQytRoA3gAzR6mUiBJwZliBiAEvscSTODjC5RGDSwSgArLuIB0IogclMm5DxLodx23scqNiibF4IyQmR/DAnCeeUugsXMHAWI6xGygjKAURaHHh9BOHYWAQAFrZiZJ9I6+Zh5uANQRwaiYebgBQAcBLNnZtZTFnvN64EAh7wMMVACcBYGA6w4mSmljzyxAx0JKmTFdTOEg08QnhvcoxC/IMdARYj4KGGZcMuxDkJ/NgAr90pLJ4azG8Dh+RPYq63gWYbZGVQxVChHMRoRJpsH6+6hPjgx2JlRlaRWN1JeDdO5c7qBBQJ48He2lIBAgIE+W5M1oRFym05xxTvBkQkLylVRT3BJ4SxpriSIAHACoGGxQsNYQijCSolQ/MWNOjEbQfyoX1ChcckLNhu3XBmRqzIOLtscBODKHEcSr7UAqJQVSJW1YYQcNFmTP+RkAH2K8DJOr4sRDKEs8oRjGW8GCXGVD+kD7JhVEsFUkrlSITZADg71BNX3cTX/YiGO7ggMhva4zEt5qC5CEwZeFMEbUuoCXT0IKBA7nkRgOYEAmtBxAwNIgGFuEN4KZoQ3AVmay+jhFxZKiU0FzNQXvSs2ogakHD8BFewsMIYCQsxDuxBvWMFCzCNMw1PoXAvUFMwagkhsxVCnE5Nj8AUTJAiMw9NVlzA0qGEhnEc+V24E4JHHIVG12s0ywdNWyoJ1IUGoqEIw6MwhlOA8hOZSyeiknmTGkARyC6hl1Kh3xdHJaIwGcYKiChsEwxR9MHLB7u0EYxihiqFCOYjQiTTYHl5ZZjY5Nx/PUhZAl8FmEbJgud6LcQGVkRh6QdDu5CwDg/OaK+lggMY2o9YEhJqmbFjAfslrkhH43kL3pLqky6BQTo9xXkIEAYQ4d23rQP0B655BhH5A6GZ8c3gw+wQQQirgEMMfLA+t/XHFfmg4hp1VsTyrgYfmK9pM7sQAKTM4FUFR+RXwNgw0vO4I3hKFXX/sYKJrDw8yOIB/TsERjgzwQGQH2SeRCEMVxtQJgTzZmH2cC1cK/aPowcRAAJPmkfaAYAAeX2Oq14MNbxgCnW8CS/V+yjMYDBBuiBfEyMSAaikyQFHXRbNyPs8sJBISRKmdJIBMhUVraoGv2iYqFj5OcopCEMIE0xM8fsufK8ncp7iAxMYLov2D7QMLA4aXTPocXQT7o/hwncf8ABT//2Q==)"
   ]
  },
  {
   "cell_type": "code",
   "execution_count": 5,
   "metadata": {
    "executionInfo": {
     "elapsed": 14,
     "status": "ok",
     "timestamp": 1665502875565,
     "user": {
      "displayName": "alessandro celestini",
      "userId": "05873352416691815837"
     },
     "user_tz": -120
    },
    "id": "ykpDMqszd5h3"
   },
   "outputs": [],
   "source": [
    "# We can compute the cosine similarity between two vectors as follows:\n",
    "\n",
    "import math\n",
    "\n",
    "def dot(a, b):\n",
    "    return sum(a_i * b_i for a_i, b_i in zip(a, b))\n",
    "\n",
    "def cosine_similarity(a, b):\n",
    "    return dot(a, b) / math.sqrt(dot(a, a) * dot(b, b))"
   ]
  },
  {
   "cell_type": "markdown",
   "metadata": {
    "id": "L7Gis-uqfcs5"
   },
   "source": [
    "* If A and B point in the same direction, then the numerator and denominator are equal, and their cosine similarity equals 1. \n",
    "* If A and B point in opposite directions, then their cosine similarity equals -1. \n",
    "* If A and B are perpendicular they have a 90-degree angle between them and a cosine similarity of 0."
   ]
  },
  {
   "cell_type": "markdown",
   "metadata": {},
   "source": [
    "### **Users vectors**\n",
    "\n",
    "* **Q1:** How do we create users vectors?"
   ]
  },
  {
   "cell_type": "code",
   "execution_count": 6,
   "metadata": {
    "colab": {
     "base_uri": "https://localhost:8080/"
    },
    "executionInfo": {
     "elapsed": 14,
     "status": "ok",
     "timestamp": 1665502875566,
     "user": {
      "displayName": "alessandro celestini",
      "userId": "05873352416691815837"
     },
     "user_tz": -120
    },
    "id": "teMw6Qulgy3T",
    "outputId": "184e6159-241a-4d6f-fcd5-60bb7e1c8139"
   },
   "outputs": [
    {
     "name": "stdout",
     "output_type": "stream",
     "text": [
      "Ordered list\n",
      "['Big Data', 'C++', 'Cassandra', 'HBase', 'Hadoop', 'Haskell', 'Java', 'Mahout', 'MapReduce', 'MongoDB', 'MySQL', 'NoSQL', 'Postgres', 'Python', 'R', 'Spark', 'Storm', 'artificial intelligence', 'databases', 'decision trees', 'deep learning', 'libsvm', 'machine learning', 'mathematics', 'neural networks', 'numpy', 'pandas', 'probability', 'programming languages', 'regression', 'scikit-learn', 'scipy', 'statistics', 'statsmodels', 'support vector machines', 'theory']\n",
      "\n",
      "User 0's interestes\n",
      "['Big Data', 'Cassandra', 'HBase', 'Hadoop', 'Java', 'Spark', 'Storm']\n",
      "\n",
      "User 0's vector\n",
      "[1, 0, 1, 1, 1, 0, 1, 0, 0, 0, 0, 0, 0, 0, 0, 1, 1, 0, 0, 0, 0, 0, 0, 0, 0, 0, 0, 0, 0, 0, 0, 0, 0, 0, 0, 0]\n"
     ]
    }
   ],
   "source": [
    "#\n",
    "# We need to create the users vectors.\n",
    "# Given the vector v, the element v[i] will be 1 if \n",
    "# the user has specified the i-th interest, 0 otherwise.\n",
    "#\n",
    "\n",
    "# 1. We create the ordered list of interests \n",
    "\n",
    "unique_interests = sorted( list( { interest \n",
    "                                  for user_interests in users_interests \n",
    "                                  for interest in user_interests }))\n",
    "\n",
    "print(\"Ordered list\")\n",
    "print(unique_interests)\n",
    "\n",
    "# 2. We create a function that produces the vectors.\n",
    "\n",
    "def make_user_interest_vector(user_interests):\n",
    "    return [1 if interest in user_interests else 0 \n",
    "          for interest in unique_interests ]\n",
    "\n",
    "users_interests[0].sort()\n",
    "print(\"\\nUser 0's interestes\")\n",
    "print(users_interests[0])\n",
    "print(\"\\nUser 0's vector\")\n",
    "print(make_user_interest_vector(users_interests[0]))"
   ]
  },
  {
   "cell_type": "markdown",
   "metadata": {},
   "source": [
    "### **Cosine Similarity**\n",
    "\n",
    "* **Q1:** How do we compute the pairwise similarities between all of our users?"
   ]
  },
  {
   "cell_type": "code",
   "execution_count": 7,
   "metadata": {},
   "outputs": [
    {
     "name": "stdout",
     "output_type": "stream",
     "text": [
      "User 0 - Interest 0 - Value: 1\n"
     ]
    }
   ],
   "source": [
    "# 3. We create the user interest matrix. \n",
    "#    The rows of the matrix are the users,\n",
    "#    the columns of the matrix are the interests.  \n",
    "#    Each row of the matrix is a user vector.\n",
    "\n",
    "user_interest_matrix = [ make_user_interest_vector(ui) for ui in users_interests]\n",
    "\n",
    "#    user_interest_matrix[i][j] equals 1 if \n",
    "#    user i specified interest j, 0 otherwise.\n",
    "\n",
    "print(f\"User 0 - Interest 0 - Value: {user_interest_matrix[0][0]}\")"
   ]
  },
  {
   "cell_type": "markdown",
   "metadata": {},
   "source": [
    "#### How the *user_interest_matrix* looks like.\n",
    "\n",
    "<img src=\"img/Example-4x3-binary-matrix-4-3-binary-matrix-representing-4-genes-and-3-samples_W640.jpg\" alt=\"drawing\" width=\"100\"/>"
   ]
  },
  {
   "cell_type": "code",
   "execution_count": 8,
   "metadata": {
    "colab": {
     "base_uri": "https://localhost:8080/"
    },
    "executionInfo": {
     "elapsed": 10,
     "status": "ok",
     "timestamp": 1665502875566,
     "user": {
      "displayName": "alessandro celestini",
      "userId": "05873352416691815837"
     },
     "user_tz": -120
    },
    "id": "cgiN65pnlknB",
    "outputId": "3913dd78-e4cc-46a9-af63-2d2eafaa21bb"
   },
   "outputs": [
    {
     "name": "stdout",
     "output_type": "stream",
     "text": [
      "\n",
      "Similarity of the pair (user 0, user 1)\n",
      "0.3380617018914066\n"
     ]
    }
   ],
   "source": [
    "# 4. We compute the pairwise similarities between all of our users.\n",
    "#    We use the cosine_similarity() function to compute the similarity\n",
    "#    between each pair of users.  \n",
    "\n",
    "user_similarities = [ [cosine_similarity(interest_vector_i, interest_vector_j) \n",
    "                       for interest_vector_j in user_interest_matrix]\n",
    "                     for interest_vector_i in user_interest_matrix]\n",
    "\n",
    "#     user_similarities[i][j] gives us the similarity between users i and j.\n",
    "                    \n",
    "print(\"\\nSimilarity of the pair (user 0, user 1)\")\n",
    "print(user_similarities[0][1])"
   ]
  },
  {
   "cell_type": "markdown",
   "metadata": {
    "id": "T9O7eGn5mY2Z"
   },
   "source": [
    "### **Recommendations**\n",
    "\n",
    "#### **Q1:** How do we use pairwise similarities to make recommendations?\n",
    "\n",
    "For each user we find the most similar users to the given user, and we sort them from the most similar to the least similar.\n",
    "\n",
    "We suggest to the user other similar users' interests that the user did not yet select.\n"
   ]
  },
  {
   "cell_type": "code",
   "execution_count": 9,
   "metadata": {
    "executionInfo": {
     "elapsed": 5,
     "status": "ok",
     "timestamp": 1665502875566,
     "user": {
      "displayName": "alessandro celestini",
      "userId": "05873352416691815837"
     },
     "user_tz": -120
    },
    "id": "NNC5rFDznHiu"
   },
   "outputs": [],
   "source": [
    "\n",
    "# 5. We find the most similar users to a given user.\n",
    "#    We sort the results from the most similar to \n",
    "#    the least similar. We exclude the user herself, \n",
    "#    and any other users with zero similarity. \n",
    "\n",
    "def most_similar_users_to(user_id): \n",
    "\n",
    "    pairs = [(other_user_id, similarity)\n",
    "            for other_user_id, similarity in enumerate(user_similarities[user_id])\n",
    "            if user_id != other_user_id and similarity > 0]\n",
    "\n",
    "    return sorted(pairs, key = lambda p : p[1],\n",
    "                  reverse = True)\n",
    "\n",
    "# 6. We suggest interests selected by similar users. \n",
    "#    We write a function that takes in input the user id and\n",
    "#    returns as output the list of recommendations. \n",
    "\n",
    "from collections import defaultdict\n",
    "\n",
    "def user_based_suggestions(user_id, include_current_interests=False): \n",
    "    suggestions = defaultdict(float)\n",
    "\n",
    "    # We sum up all similarity values of similar products\n",
    "    for (other_user_id, similarity) in most_similar_users_to(user_id): # similar users\n",
    "        for interest in users_interests[other_user_id]: # user's interests\n",
    "            suggestions[interest] += similarity\n",
    "\n",
    "    suggestions = sorted(suggestions.items(), \n",
    "                       key=lambda s: s[1],\n",
    "                       reverse=True)\n",
    "    if include_current_interests: \n",
    "        return suggestions\n",
    "    else:\n",
    "        return [(suggestion, weight)\n",
    "             for suggestion, weight in suggestions\n",
    "             if suggestion not in users_interests[user_id] ] # exclude own interests\n",
    "  \n"
   ]
  },
  {
   "cell_type": "markdown",
   "metadata": {},
   "source": [
    "#### We are ready to suggest new interests to our users"
   ]
  },
  {
   "cell_type": "code",
   "execution_count": 10,
   "metadata": {
    "colab": {
     "base_uri": "https://localhost:8080/"
    },
    "executionInfo": {
     "elapsed": 827,
     "status": "ok",
     "timestamp": 1665502876388,
     "user": {
      "displayName": "alessandro celestini",
      "userId": "05873352416691815837"
     },
     "user_tz": -120
    },
    "id": "oTVfBmlNHU23",
    "outputId": "1c3605f1-e02c-4644-a008-15f4c7bf3633"
   },
   "outputs": [
    {
     "data": {
      "text/plain": [
       "[('MapReduce', 0.5669467095138409),\n",
       " ('MongoDB', 0.50709255283711),\n",
       " ('Postgres', 0.50709255283711),\n",
       " ('NoSQL', 0.3380617018914066),\n",
       " ('neural networks', 0.1889822365046136)]"
      ]
     },
     "execution_count": 10,
     "metadata": {},
     "output_type": "execute_result"
    }
   ],
   "source": [
    "# Let's see what we suggest to user 0\n",
    "\n",
    "user_based_suggestions(0)[:5]"
   ]
  },
  {
   "cell_type": "markdown",
   "metadata": {
    "id": "hl0gogW2mYEh"
   },
   "source": [
    "## **Item-Based Collaborative Filtering**\n",
    "\n",
    "An alternative approach is to compute similarities between interests directly. \n",
    "\n",
    "We can then generate suggestions for each user by aggregating interests that are similar to her current interests.\n",
    "\n",
    "* **Q1:** How do we represent interests?\n",
    "\n",
    "* **Q2:** How do we compute interests similarity?\n"
   ]
  },
  {
   "cell_type": "markdown",
   "metadata": {},
   "source": [
    "### **Interests vectors**\n",
    "\n",
    "We build a new matrix whose rows are the **interests vectors**, instead of **users vectors**. \n",
    "\n",
    "Interests vectors are vectors of 0s and 1s, 0 means that the user did not select the interest, 1 means that the user selected the interest.\n",
    "\n",
    "To build the new matrix we can use the user matrix we just built, the coulmns of the user matrix will be the rows of the interests matrix. The interests matrix is the transpose of the user matrix.\n"
   ]
  },
  {
   "cell_type": "code",
   "execution_count": 11,
   "metadata": {
    "colab": {
     "base_uri": "https://localhost:8080/"
    },
    "executionInfo": {
     "elapsed": 16,
     "status": "ok",
     "timestamp": 1665502876389,
     "user": {
      "displayName": "alessandro celestini",
      "userId": "05873352416691815837"
     },
     "user_tz": -120
    },
    "id": "8Li98pk6cJ5e",
    "outputId": "b8b60cc0-560b-4e23-c5db-c7128dc015d0"
   },
   "outputs": [
    {
     "name": "stdout",
     "output_type": "stream",
     "text": [
      "Interest: Big Data\n",
      "row: [1, 0, 0, 0, 0, 0, 0, 0, 1, 1, 0, 0, 0, 0, 0]\n"
     ]
    }
   ],
   "source": [
    "\n",
    "# 1. We transpose our user-interest matrix so that rows \n",
    "#    correspond to interests and columns correspond to users.\n",
    "#    Each interest is a vector of 0s and 1s, 1 means that user i\n",
    "#    is interested.   \n",
    "\n",
    "\n",
    "interest_user_matrix = [ [ user_interest_vector[j]\n",
    "                           for user_interest_vector in user_interest_matrix ]\n",
    "                           for j, _ in enumerate(unique_interests) ]\n",
    "\n",
    "# Example\n",
    "#\n",
    "# Users 0, 8, and 9 indicated interest in Big Data.\n",
    "# unique_interests[0] is Big Data, and so interest_user_matrix[0] is:\n",
    "#\n",
    "#   [1, 0, 0, 0, 0, 0, 0, 0, 1, 1, 0, 0, 0, 0, 0]\n",
    "#\n",
    "\n",
    "print(f\"Interest: {unique_interests[0]}\" )\n",
    "print(f\"row: {interest_user_matrix[0]}\" )\n"
   ]
  },
  {
   "cell_type": "markdown",
   "metadata": {},
   "source": [
    "### **Cosine Similarity**\n",
    "\n",
    "* **Q1:** How do we compute the pairwise similarities between all interests?"
   ]
  },
  {
   "cell_type": "code",
   "execution_count": 12,
   "metadata": {
    "colab": {
     "base_uri": "https://localhost:8080/"
    },
    "executionInfo": {
     "elapsed": 11,
     "status": "ok",
     "timestamp": 1665502876389,
     "user": {
      "displayName": "alessandro celestini",
      "userId": "05873352416691815837"
     },
     "user_tz": -120
    },
    "id": "gi_FgrU-dbmJ",
    "outputId": "b6c93898-d5ef-41f2-c588-39a2b305dcc6"
   },
   "outputs": [
    {
     "name": "stdout",
     "output_type": "stream",
     "text": [
      "Interest: Big Data\n",
      "[('Hadoop', 0.8164965809277261), ('Java', 0.6666666666666666), ('MapReduce', 0.5773502691896258), ('Spark', 0.5773502691896258), ('Storm', 0.5773502691896258)]\n"
     ]
    }
   ],
   "source": [
    "#\n",
    "# 2. We use cosine similarity to compute interests similarity.\n",
    "#    If precisely the same users are interested in two topics, \n",
    "#    their similarity will be 1. If no two users are interested \n",
    "#    in both topics, their similarity will be 0:\n",
    "\n",
    "interest_similarities = [ [ cosine_similarity(user_vector_i, user_vector_j) \n",
    "                            for user_vector_j in interest_user_matrix ]\n",
    "                          for user_vector_i in interest_user_matrix ]\n",
    "\n",
    "#\n",
    "# 3. We find the interests most similar to a given interest\n",
    "#\n",
    "\n",
    "def most_similar_interests_to(interest_id):\n",
    "  \n",
    "    similarities = interest_similarities[interest_id]\n",
    "\n",
    "    pairs = [ (unique_interests[other_interest_id], similarity)\n",
    "            for other_interest_id, similarity in enumerate(similarities)\n",
    "            if interest_id != other_interest_id and similarity > 0 ] \n",
    "\n",
    "    return sorted(pairs, key=lambda s: s[1], reverse=True)\n",
    "\n",
    "\n",
    "print(f\"Interest: {unique_interests[0]}\" )\n",
    "print(most_similar_interests_to(0)[:5] )"
   ]
  },
  {
   "cell_type": "markdown",
   "metadata": {
    "id": "zmVc1LqHjaWW"
   },
   "source": [
    "#### Given an interst, we can use the function ***most_similar_interests_to*** to suggest similar interests.\n",
    "\n",
    "* Do you have any example of online store that try to suggest you similar products?"
   ]
  },
  {
   "cell_type": "markdown",
   "metadata": {},
   "source": [
    "#### We are ready to suggest new interests to our users"
   ]
  },
  {
   "cell_type": "code",
   "execution_count": 13,
   "metadata": {
    "colab": {
     "base_uri": "https://localhost:8080/"
    },
    "executionInfo": {
     "elapsed": 8,
     "status": "ok",
     "timestamp": 1665502876390,
     "user": {
      "displayName": "alessandro celestini",
      "userId": "05873352416691815837"
     },
     "user_tz": -120
    },
    "id": "Ag1fUVeykVjK",
    "outputId": "b2369d0f-ad0f-4ef2-d7e1-498766c383fb"
   },
   "outputs": [
    {
     "name": "stdout",
     "output_type": "stream",
     "text": [
      "Recommendations for user 0\n",
      "\n"
     ]
    },
    {
     "data": {
      "text/plain": [
       "[('MapReduce', 1.861807319565799),\n",
       " ('MongoDB', 1.3164965809277263),\n",
       " ('Postgres', 1.3164965809277263),\n",
       " ('NoSQL', 1.2844570503761732),\n",
       " ('MySQL', 0.5773502691896258),\n",
       " ('databases', 0.5773502691896258),\n",
       " ('Haskell', 0.5773502691896258),\n",
       " ('programming languages', 0.5773502691896258),\n",
       " ('artificial intelligence', 0.4082482904638631),\n",
       " ('deep learning', 0.4082482904638631),\n",
       " ('neural networks', 0.4082482904638631),\n",
       " ('C++', 0.4082482904638631),\n",
       " ('Python', 0.2886751345948129),\n",
       " ('R', 0.2886751345948129)]"
      ]
     },
     "execution_count": 13,
     "metadata": {},
     "output_type": "execute_result"
    }
   ],
   "source": [
    "#\n",
    "# 4. We can create recommendations for a user by summing up \n",
    "#    the similarities of the interests similar to hers. \n",
    "#    For each interest of the user we get the list of most similar interests,\n",
    "#    for each new interest we sum up all the similiarity values we get.\n",
    "#    We sort the list from the most similar to the least similar.   \n",
    "#\n",
    "\n",
    "def item_based_suggestions(user_id, include_current_interests=False): \n",
    "    suggestions = defaultdict(float)\n",
    "    user_interest_vector = user_interest_matrix[user_id]\n",
    "\n",
    "  # user_interest_vector[i] is 1 if the user is interested\n",
    "  # in the i-th interest\n",
    "  \n",
    "    for interest_id, is_interested in enumerate(user_interest_vector): \n",
    "        if is_interested == 1:\n",
    "            similar_interests = most_similar_interests_to(interest_id) \n",
    "            for interest, similarity in similar_interests:\n",
    "                suggestions[interest] += similarity\n",
    "\n",
    "    suggestions = sorted( suggestions.items(), key= lambda s: s[1], reverse=True)\n",
    "\n",
    "    if include_current_interests: \n",
    "        return suggestions\n",
    "    else:\n",
    "        return [(suggestion, weight)\n",
    "            for suggestion, weight in suggestions\n",
    "            if suggestion not in users_interests[user_id]]\n",
    "\n",
    "\n",
    "print(\"Recommendations for user 0\\n\")\n",
    "item_based_suggestions(0)"
   ]
  },
  {
   "cell_type": "markdown",
   "metadata": {
    "id": "YiI0dhnrtpHU"
   },
   "source": [
    "---"
   ]
  },
  {
   "cell_type": "markdown",
   "metadata": {
    "id": "z3SyW9attq0j"
   },
   "source": [
    "## **Case Study: Amazon - Ratings (Beauty Products)**\n",
    "\n",
    "You can find the data set [here](https://www.kaggle.com/datasets/skillsmuggler/amazon-ratings). \n",
    "\n",
    "#### **Content**\n",
    "\n",
    "This is a dataset related to over 2 Million customer reviews and ratings of Beauty related products sold on their website.\n",
    "\n",
    "It contains\n",
    "\n",
    "* the unique **UserId** (Customer Identification),\n",
    "* the product **ASIN** (Amazon's unique product identification code for each product),\n",
    "* **Ratings** (ranging from 1-5 based on customer satisfaction) and\n",
    "* the **Timestamp** of the rating (in UNIX time)\n",
    "\n",
    "If you want to know which are the products in the data set you can check this [website](https://amazon-asin.com)"
   ]
  },
  {
   "cell_type": "code",
   "execution_count": 14,
   "metadata": {
    "colab": {
     "base_uri": "https://localhost:8080/",
     "height": 204
    },
    "executionInfo": {
     "elapsed": 2572,
     "status": "ok",
     "timestamp": 1665504391394,
     "user": {
      "displayName": "alessandro celestini",
      "userId": "05873352416691815837"
     },
     "user_tz": -120
    },
    "id": "7uRqwtT8xZPV",
    "outputId": "3b808c54-9cd9-4521-e735-778e9c5b70ef"
   },
   "outputs": [
    {
     "data": {
      "text/html": [
       "<div>\n",
       "<style scoped>\n",
       "    .dataframe tbody tr th:only-of-type {\n",
       "        vertical-align: middle;\n",
       "    }\n",
       "\n",
       "    .dataframe tbody tr th {\n",
       "        vertical-align: top;\n",
       "    }\n",
       "\n",
       "    .dataframe thead th {\n",
       "        text-align: right;\n",
       "    }\n",
       "</style>\n",
       "<table border=\"1\" class=\"dataframe\">\n",
       "  <thead>\n",
       "    <tr style=\"text-align: right;\">\n",
       "      <th></th>\n",
       "      <th>UserId</th>\n",
       "      <th>ProductId</th>\n",
       "      <th>Rating</th>\n",
       "      <th>Timestamp</th>\n",
       "    </tr>\n",
       "  </thead>\n",
       "  <tbody>\n",
       "    <tr>\n",
       "      <th>0</th>\n",
       "      <td>A39HTATAQ9V7YF</td>\n",
       "      <td>0205616461</td>\n",
       "      <td>5.0</td>\n",
       "      <td>1369699200</td>\n",
       "    </tr>\n",
       "    <tr>\n",
       "      <th>1</th>\n",
       "      <td>A3JM6GV9MNOF9X</td>\n",
       "      <td>0558925278</td>\n",
       "      <td>3.0</td>\n",
       "      <td>1355443200</td>\n",
       "    </tr>\n",
       "    <tr>\n",
       "      <th>2</th>\n",
       "      <td>A1Z513UWSAAO0F</td>\n",
       "      <td>0558925278</td>\n",
       "      <td>5.0</td>\n",
       "      <td>1404691200</td>\n",
       "    </tr>\n",
       "    <tr>\n",
       "      <th>3</th>\n",
       "      <td>A1WMRR494NWEWV</td>\n",
       "      <td>0733001998</td>\n",
       "      <td>4.0</td>\n",
       "      <td>1382572800</td>\n",
       "    </tr>\n",
       "    <tr>\n",
       "      <th>4</th>\n",
       "      <td>A3IAAVS479H7M7</td>\n",
       "      <td>0737104473</td>\n",
       "      <td>1.0</td>\n",
       "      <td>1274227200</td>\n",
       "    </tr>\n",
       "    <tr>\n",
       "      <th>5</th>\n",
       "      <td>AKJHHD5VEH7VG</td>\n",
       "      <td>0762451459</td>\n",
       "      <td>5.0</td>\n",
       "      <td>1404518400</td>\n",
       "    </tr>\n",
       "    <tr>\n",
       "      <th>6</th>\n",
       "      <td>A1BG8QW55XHN6U</td>\n",
       "      <td>1304139212</td>\n",
       "      <td>5.0</td>\n",
       "      <td>1371945600</td>\n",
       "    </tr>\n",
       "    <tr>\n",
       "      <th>7</th>\n",
       "      <td>A22VW0P4VZHDE3</td>\n",
       "      <td>1304139220</td>\n",
       "      <td>5.0</td>\n",
       "      <td>1373068800</td>\n",
       "    </tr>\n",
       "    <tr>\n",
       "      <th>8</th>\n",
       "      <td>A3V3RE4132GKRO</td>\n",
       "      <td>130414089X</td>\n",
       "      <td>5.0</td>\n",
       "      <td>1401840000</td>\n",
       "    </tr>\n",
       "    <tr>\n",
       "      <th>9</th>\n",
       "      <td>A327B0I7CYTEJC</td>\n",
       "      <td>130414643X</td>\n",
       "      <td>4.0</td>\n",
       "      <td>1389052800</td>\n",
       "    </tr>\n",
       "  </tbody>\n",
       "</table>\n",
       "</div>"
      ],
      "text/plain": [
       "           UserId   ProductId  Rating   Timestamp\n",
       "0  A39HTATAQ9V7YF  0205616461     5.0  1369699200\n",
       "1  A3JM6GV9MNOF9X  0558925278     3.0  1355443200\n",
       "2  A1Z513UWSAAO0F  0558925278     5.0  1404691200\n",
       "3  A1WMRR494NWEWV  0733001998     4.0  1382572800\n",
       "4  A3IAAVS479H7M7  0737104473     1.0  1274227200\n",
       "5   AKJHHD5VEH7VG  0762451459     5.0  1404518400\n",
       "6  A1BG8QW55XHN6U  1304139212     5.0  1371945600\n",
       "7  A22VW0P4VZHDE3  1304139220     5.0  1373068800\n",
       "8  A3V3RE4132GKRO  130414089X     5.0  1401840000\n",
       "9  A327B0I7CYTEJC  130414643X     4.0  1389052800"
      ]
     },
     "execution_count": 14,
     "metadata": {},
     "output_type": "execute_result"
    }
   ],
   "source": [
    "import pandas as pd\n",
    "\n",
    "amazon = pd.read_csv('ratings_Beauty.csv')\n",
    "amazon = amazon.dropna()\n",
    "amazon.head(10)"
   ]
  },
  {
   "cell_type": "code",
   "execution_count": 15,
   "metadata": {
    "colab": {
     "base_uri": "https://localhost:8080/"
    },
    "executionInfo": {
     "elapsed": 6,
     "status": "ok",
     "timestamp": 1665504391394,
     "user": {
      "displayName": "alessandro celestini",
      "userId": "05873352416691815837"
     },
     "user_tz": -120
    },
    "id": "E3LM31uaxw3T",
    "outputId": "37a737cd-5ea9-420e-dbc0-a3d64c03a389"
   },
   "outputs": [
    {
     "data": {
      "text/plain": [
       "(2023070, 4)"
      ]
     },
     "execution_count": 15,
     "metadata": {},
     "output_type": "execute_result"
    }
   ],
   "source": [
    "amazon.shape"
   ]
  },
  {
   "cell_type": "markdown",
   "metadata": {},
   "source": [
    "There are indeed over 2 Million customer reviews in the data set."
   ]
  },
  {
   "cell_type": "markdown",
   "metadata": {},
   "source": [
    "### **Exercise**\n",
    "\n",
    "**Q1:** Count the number of unique users and products.\n",
    "\n",
    "**Q2:** Check the constraint (UserId,ProductId)/Rating, each user may rate only once each product.\n",
    "\n",
    "**Q3:** Count the number of ratings per user.\n"
   ]
  },
  {
   "cell_type": "code",
   "execution_count": 16,
   "metadata": {},
   "outputs": [],
   "source": [
    "# The code goes here!"
   ]
  },
  {
   "cell_type": "markdown",
   "metadata": {
    "id": "mvIqGWMMyEZG"
   },
   "source": [
    "## **Product Popularity Based Recommendation**\n",
    "\n",
    "We recommend what is popular.\n",
    "\n",
    "#### **Q1:** How do we proceed?\n",
    "\n",
    "* We count the number of ratings for each product in the data set. \n",
    "\n",
    "* We sort products by number of ratings. \n",
    "\n",
    "* We suggest the most popular products.\n"
   ]
  },
  {
   "cell_type": "code",
   "execution_count": 17,
   "metadata": {
    "colab": {
     "base_uri": "https://localhost:8080/",
     "height": 390
    },
    "executionInfo": {
     "elapsed": 656,
     "status": "ok",
     "timestamp": 1665504398407,
     "user": {
      "displayName": "alessandro celestini",
      "userId": "05873352416691815837"
     },
     "user_tz": -120
    },
    "id": "MfakQemAyQUy",
    "outputId": "228c8a8e-5957-420c-b2e4-b7d4e8bf102b"
   },
   "outputs": [
    {
     "data": {
      "text/html": [
       "<div>\n",
       "<style scoped>\n",
       "    .dataframe tbody tr th:only-of-type {\n",
       "        vertical-align: middle;\n",
       "    }\n",
       "\n",
       "    .dataframe tbody tr th {\n",
       "        vertical-align: top;\n",
       "    }\n",
       "\n",
       "    .dataframe thead th {\n",
       "        text-align: right;\n",
       "    }\n",
       "</style>\n",
       "<table border=\"1\" class=\"dataframe\">\n",
       "  <thead>\n",
       "    <tr style=\"text-align: right;\">\n",
       "      <th></th>\n",
       "      <th>ProductId</th>\n",
       "      <th>Rating</th>\n",
       "    </tr>\n",
       "  </thead>\n",
       "  <tbody>\n",
       "    <tr>\n",
       "      <th>65766</th>\n",
       "      <td>B001MA0QY2</td>\n",
       "      <td>7533</td>\n",
       "    </tr>\n",
       "    <tr>\n",
       "      <th>10516</th>\n",
       "      <td>B0009V1YR8</td>\n",
       "      <td>2869</td>\n",
       "    </tr>\n",
       "    <tr>\n",
       "      <th>110873</th>\n",
       "      <td>B0043OYFKU</td>\n",
       "      <td>2477</td>\n",
       "    </tr>\n",
       "    <tr>\n",
       "      <th>2365</th>\n",
       "      <td>B0000YUXI0</td>\n",
       "      <td>2143</td>\n",
       "    </tr>\n",
       "    <tr>\n",
       "      <th>105018</th>\n",
       "      <td>B003V265QW</td>\n",
       "      <td>2088</td>\n",
       "    </tr>\n",
       "    <tr>\n",
       "      <th>41474</th>\n",
       "      <td>B000ZMBSPE</td>\n",
       "      <td>2041</td>\n",
       "    </tr>\n",
       "    <tr>\n",
       "      <th>94769</th>\n",
       "      <td>B003BQ6QXK</td>\n",
       "      <td>1918</td>\n",
       "    </tr>\n",
       "    <tr>\n",
       "      <th>124659</th>\n",
       "      <td>B004OHQR1Q</td>\n",
       "      <td>1885</td>\n",
       "    </tr>\n",
       "    <tr>\n",
       "      <th>43368</th>\n",
       "      <td>B00121UVU0</td>\n",
       "      <td>1838</td>\n",
       "    </tr>\n",
       "    <tr>\n",
       "      <th>17629</th>\n",
       "      <td>B000FS05VG</td>\n",
       "      <td>1589</td>\n",
       "    </tr>\n",
       "  </tbody>\n",
       "</table>\n",
       "</div>"
      ],
      "text/plain": [
       "         ProductId  Rating\n",
       "65766   B001MA0QY2    7533\n",
       "10516   B0009V1YR8    2869\n",
       "110873  B0043OYFKU    2477\n",
       "2365    B0000YUXI0    2143\n",
       "105018  B003V265QW    2088\n",
       "41474   B000ZMBSPE    2041\n",
       "94769   B003BQ6QXK    1918\n",
       "124659  B004OHQR1Q    1885\n",
       "43368   B00121UVU0    1838\n",
       "17629   B000FS05VG    1589"
      ]
     },
     "execution_count": 17,
     "metadata": {},
     "output_type": "execute_result"
    }
   ],
   "source": [
    "# We count the number of ratings for each product in the data set\n",
    "pop_products = pd.DataFrame(amazon.groupby('ProductId', as_index=False)['Rating'].count())\n",
    "\n",
    "# We sort products by number of ratings.\n",
    "most_popular = pop_products.sort_values('Rating', ascending=False)\n",
    "\n",
    "# We suggest the most popular products.\n",
    "most_popular.head(10)"
   ]
  },
  {
   "cell_type": "markdown",
   "metadata": {},
   "source": [
    "### **Exercise**\n",
    "\n",
    "**Q1:** Write a function that takes as input a UserId and return the user's product vector.\n",
    "\n",
    "**Q2:** Write a function that takes as input a UserId and return a list of recommended products. Filter the products already rated by the user."
   ]
  },
  {
   "cell_type": "code",
   "execution_count": 18,
   "metadata": {},
   "outputs": [],
   "source": [
    "# The code goes here!          "
   ]
  },
  {
   "cell_type": "markdown",
   "metadata": {},
   "source": [
    "## **Item-Based or User-Based Similarity?**\n",
    "\n",
    "Which one should you use? The choice depends on how many users you may have or how many items you may have.\n",
    "\n",
    "* Item-based scales with the number of items, and user-based scales with the number of users you have.\n",
    "\n",
    "* If you have a lot of users, then you’ll probably want to go with item-based similarity.\n",
    "\n",
    "   * For most product-driven recommendation engines, the number of users outnumbers the number of items. \n",
    "   * There are more people buying items than unique items for sale.\n"
   ]
  },
  {
   "cell_type": "markdown",
   "metadata": {},
   "source": [
    "### **Item-Based**"
   ]
  },
  {
   "cell_type": "code",
   "execution_count": 19,
   "metadata": {},
   "outputs": [
    {
     "data": {
      "text/html": [
       "<div>\n",
       "<style scoped>\n",
       "    .dataframe tbody tr th:only-of-type {\n",
       "        vertical-align: middle;\n",
       "    }\n",
       "\n",
       "    .dataframe tbody tr th {\n",
       "        vertical-align: top;\n",
       "    }\n",
       "\n",
       "    .dataframe thead th {\n",
       "        text-align: right;\n",
       "    }\n",
       "</style>\n",
       "<table border=\"1\" class=\"dataframe\">\n",
       "  <thead>\n",
       "    <tr style=\"text-align: right;\">\n",
       "      <th>UserId</th>\n",
       "      <th>A00205921JHJK5X9LNP42</th>\n",
       "      <th>A00473363TJ8YSZ3YAGG9</th>\n",
       "      <th>A01437583CZ7V02UKZQ5S</th>\n",
       "      <th>A020135981U0UNEAE4JV</th>\n",
       "      <th>A024581134CV80ZBLIZTZ</th>\n",
       "      <th>A03056581JJIOL5FSKJY7</th>\n",
       "      <th>A03099101ZRK4K607JVHH</th>\n",
       "      <th>A03454732N8VEYJAMGTTH</th>\n",
       "      <th>A0505229A7NSH3FRXRR4</th>\n",
       "      <th>A05492663T95KW63BR75K</th>\n",
       "      <th>...</th>\n",
       "      <th>AZYR51QTD6FAY</th>\n",
       "      <th>AZZ5ENX41WOYZ</th>\n",
       "      <th>AZZ8A0TEQOD7J</th>\n",
       "      <th>AZZDA9BRMPP1B</th>\n",
       "      <th>AZZHB6U54UDYW</th>\n",
       "      <th>AZZHJZP4GQPPZ</th>\n",
       "      <th>AZZNK89PXD006</th>\n",
       "      <th>AZZOFVMQC0BJG</th>\n",
       "      <th>AZZQXL8VDCFTV</th>\n",
       "      <th>AZZTJQ7CQZUD8</th>\n",
       "    </tr>\n",
       "    <tr>\n",
       "      <th>ProductId</th>\n",
       "      <th></th>\n",
       "      <th></th>\n",
       "      <th></th>\n",
       "      <th></th>\n",
       "      <th></th>\n",
       "      <th></th>\n",
       "      <th></th>\n",
       "      <th></th>\n",
       "      <th></th>\n",
       "      <th></th>\n",
       "      <th></th>\n",
       "      <th></th>\n",
       "      <th></th>\n",
       "      <th></th>\n",
       "      <th></th>\n",
       "      <th></th>\n",
       "      <th></th>\n",
       "      <th></th>\n",
       "      <th></th>\n",
       "      <th></th>\n",
       "      <th></th>\n",
       "    </tr>\n",
       "  </thead>\n",
       "  <tbody>\n",
       "    <tr>\n",
       "      <th>0205616461</th>\n",
       "      <td>0</td>\n",
       "      <td>0</td>\n",
       "      <td>0</td>\n",
       "      <td>0</td>\n",
       "      <td>0</td>\n",
       "      <td>0</td>\n",
       "      <td>0</td>\n",
       "      <td>0</td>\n",
       "      <td>0</td>\n",
       "      <td>0</td>\n",
       "      <td>...</td>\n",
       "      <td>0</td>\n",
       "      <td>0</td>\n",
       "      <td>0</td>\n",
       "      <td>0</td>\n",
       "      <td>0</td>\n",
       "      <td>0</td>\n",
       "      <td>0</td>\n",
       "      <td>0</td>\n",
       "      <td>0</td>\n",
       "      <td>0</td>\n",
       "    </tr>\n",
       "    <tr>\n",
       "      <th>0558925278</th>\n",
       "      <td>0</td>\n",
       "      <td>0</td>\n",
       "      <td>0</td>\n",
       "      <td>0</td>\n",
       "      <td>0</td>\n",
       "      <td>0</td>\n",
       "      <td>0</td>\n",
       "      <td>0</td>\n",
       "      <td>0</td>\n",
       "      <td>0</td>\n",
       "      <td>...</td>\n",
       "      <td>0</td>\n",
       "      <td>0</td>\n",
       "      <td>0</td>\n",
       "      <td>0</td>\n",
       "      <td>0</td>\n",
       "      <td>0</td>\n",
       "      <td>0</td>\n",
       "      <td>0</td>\n",
       "      <td>0</td>\n",
       "      <td>0</td>\n",
       "    </tr>\n",
       "    <tr>\n",
       "      <th>0733001998</th>\n",
       "      <td>0</td>\n",
       "      <td>0</td>\n",
       "      <td>0</td>\n",
       "      <td>0</td>\n",
       "      <td>0</td>\n",
       "      <td>0</td>\n",
       "      <td>0</td>\n",
       "      <td>0</td>\n",
       "      <td>0</td>\n",
       "      <td>0</td>\n",
       "      <td>...</td>\n",
       "      <td>0</td>\n",
       "      <td>0</td>\n",
       "      <td>0</td>\n",
       "      <td>0</td>\n",
       "      <td>0</td>\n",
       "      <td>0</td>\n",
       "      <td>0</td>\n",
       "      <td>0</td>\n",
       "      <td>0</td>\n",
       "      <td>0</td>\n",
       "    </tr>\n",
       "    <tr>\n",
       "      <th>0737104473</th>\n",
       "      <td>0</td>\n",
       "      <td>0</td>\n",
       "      <td>0</td>\n",
       "      <td>0</td>\n",
       "      <td>0</td>\n",
       "      <td>0</td>\n",
       "      <td>0</td>\n",
       "      <td>0</td>\n",
       "      <td>0</td>\n",
       "      <td>0</td>\n",
       "      <td>...</td>\n",
       "      <td>0</td>\n",
       "      <td>0</td>\n",
       "      <td>0</td>\n",
       "      <td>0</td>\n",
       "      <td>0</td>\n",
       "      <td>0</td>\n",
       "      <td>0</td>\n",
       "      <td>0</td>\n",
       "      <td>0</td>\n",
       "      <td>0</td>\n",
       "    </tr>\n",
       "    <tr>\n",
       "      <th>0762451459</th>\n",
       "      <td>0</td>\n",
       "      <td>0</td>\n",
       "      <td>0</td>\n",
       "      <td>0</td>\n",
       "      <td>0</td>\n",
       "      <td>0</td>\n",
       "      <td>0</td>\n",
       "      <td>0</td>\n",
       "      <td>0</td>\n",
       "      <td>0</td>\n",
       "      <td>...</td>\n",
       "      <td>0</td>\n",
       "      <td>0</td>\n",
       "      <td>0</td>\n",
       "      <td>0</td>\n",
       "      <td>0</td>\n",
       "      <td>0</td>\n",
       "      <td>0</td>\n",
       "      <td>0</td>\n",
       "      <td>0</td>\n",
       "      <td>0</td>\n",
       "    </tr>\n",
       "  </tbody>\n",
       "</table>\n",
       "<p>5 rows × 19101 columns</p>\n",
       "</div>"
      ],
      "text/plain": [
       "UserId      A00205921JHJK5X9LNP42  A00473363TJ8YSZ3YAGG9  \\\n",
       "ProductId                                                  \n",
       "0205616461                      0                      0   \n",
       "0558925278                      0                      0   \n",
       "0733001998                      0                      0   \n",
       "0737104473                      0                      0   \n",
       "0762451459                      0                      0   \n",
       "\n",
       "UserId      A01437583CZ7V02UKZQ5S  A020135981U0UNEAE4JV  \\\n",
       "ProductId                                                 \n",
       "0205616461                      0                     0   \n",
       "0558925278                      0                     0   \n",
       "0733001998                      0                     0   \n",
       "0737104473                      0                     0   \n",
       "0762451459                      0                     0   \n",
       "\n",
       "UserId      A024581134CV80ZBLIZTZ  A03056581JJIOL5FSKJY7  \\\n",
       "ProductId                                                  \n",
       "0205616461                      0                      0   \n",
       "0558925278                      0                      0   \n",
       "0733001998                      0                      0   \n",
       "0737104473                      0                      0   \n",
       "0762451459                      0                      0   \n",
       "\n",
       "UserId      A03099101ZRK4K607JVHH  A03454732N8VEYJAMGTTH  \\\n",
       "ProductId                                                  \n",
       "0205616461                      0                      0   \n",
       "0558925278                      0                      0   \n",
       "0733001998                      0                      0   \n",
       "0737104473                      0                      0   \n",
       "0762451459                      0                      0   \n",
       "\n",
       "UserId      A0505229A7NSH3FRXRR4  A05492663T95KW63BR75K  ...  AZYR51QTD6FAY  \\\n",
       "ProductId                                                ...                  \n",
       "0205616461                     0                      0  ...              0   \n",
       "0558925278                     0                      0  ...              0   \n",
       "0733001998                     0                      0  ...              0   \n",
       "0737104473                     0                      0  ...              0   \n",
       "0762451459                     0                      0  ...              0   \n",
       "\n",
       "UserId      AZZ5ENX41WOYZ  AZZ8A0TEQOD7J  AZZDA9BRMPP1B  AZZHB6U54UDYW  \\\n",
       "ProductId                                                                \n",
       "0205616461              0              0              0              0   \n",
       "0558925278              0              0              0              0   \n",
       "0733001998              0              0              0              0   \n",
       "0737104473              0              0              0              0   \n",
       "0762451459              0              0              0              0   \n",
       "\n",
       "UserId      AZZHJZP4GQPPZ  AZZNK89PXD006  AZZOFVMQC0BJG  AZZQXL8VDCFTV  \\\n",
       "ProductId                                                                \n",
       "0205616461              0              0              0              0   \n",
       "0558925278              0              0              0              0   \n",
       "0733001998              0              0              0              0   \n",
       "0737104473              0              0              0              0   \n",
       "0762451459              0              0              0              0   \n",
       "\n",
       "UserId      AZZTJQ7CQZUD8  \n",
       "ProductId                  \n",
       "0205616461              0  \n",
       "0558925278              0  \n",
       "0733001998              0  \n",
       "0737104473              0  \n",
       "0762451459              0  \n",
       "\n",
       "[5 rows x 19101 columns]"
      ]
     },
     "execution_count": 19,
     "metadata": {},
     "output_type": "execute_result"
    }
   ],
   "source": [
    "\n",
    "# 1. Given the large size of the data set, we select a subset of it.\n",
    "#    We do not have enough (computational) time to consider the entire data set during \n",
    "#    the lecture. A different approach should be used to create the interest matrix,\n",
    "#    but this is out of the scope of the lecture.  \n",
    "\n",
    "ratings = amazon.head(20000)\n",
    "\n",
    "# 2. We create the product matrix: rows are products and columns are users.\n",
    "#    Cell values are the ratings given by users to each product.\n",
    "\n",
    "prod_matrix = ratings.pivot_table(values='Rating', index='ProductId', columns='UserId', fill_value=0)\n",
    "prod_matrix.head()\n",
    "\n",
    "# ** NOTE **\n",
    "#\n",
    "# pivot_table()\n",
    "#    Create a spreadsheet-style pivot table as a DataFrame.\n",
    "#\n",
    "# ** NOTE **"
   ]
  },
  {
   "cell_type": "markdown",
   "metadata": {},
   "source": [
    "#### The matrix we get is a sparse matrix, in which we filled up the unknown values with 0s.\n"
   ]
  },
  {
   "cell_type": "code",
   "execution_count": 20,
   "metadata": {},
   "outputs": [
    {
     "data": {
      "text/plain": [
       "(1398, 19101)"
      ]
     },
     "execution_count": 20,
     "metadata": {},
     "output_type": "execute_result"
    }
   ],
   "source": [
    "prod_matrix.shape"
   ]
  },
  {
   "cell_type": "markdown",
   "metadata": {},
   "source": [
    "#### **Q1:** We observe that the matrix has a lot of columns, do we need all of them?\n",
    "\n",
    "#### **Q2:** The large number of columns can affect our recommender system?"
   ]
  },
  {
   "cell_type": "markdown",
   "metadata": {},
   "source": [
    "## **The Dimensionality Problem**\n",
    "\n",
    "When the dimensionality increases, the volume of the space increases so fast that the available data become sparse. \n",
    "\n",
    "Organizing and searching data often relies on detecting areas where objects form **groups with similar properties**; in high dimensional data, however, **all objects appear to be sparse and dissimilar in many ways**, which prevents common data organization strategies from being efficient.\n",
    "\n",
    "* High-dimensional spaces are vast and points in high-dimensional spaces tend not to be close to one another at all.\n",
    "\n",
    "* In low-dimensional data sets, the closest points tend to be much closer than average.\n",
    "\n",
    "* When you have a lot of dimensions, it’s likely that the closest points aren’t much closer than average, which means that two points being close doesn’t mean very much.\n",
    " \n",
    "#### **Dimensionality Reduction** \n",
    "\n",
    "We can use techniques to extract the most important dimensions, that is one or more dimensions that capture as much of the variation in the data as possible.\n",
    "\n",
    "The techniques tipically used for dimensionality reduction are:\n",
    "\n",
    "*  Singular Value Decomposition (SVD)  \n",
    "\n",
    "*  Principal Component Analysis (PCA)\n"
   ]
  },
  {
   "attachments": {
    "9ad638f6-bc32-4126-a724-863d56e2c58e.png": {
     "image/png": "[encoded data removed]"
    }
   },
   "cell_type": "markdown",
   "metadata": {},
   "source": [
    "![02ea50cd-5589-46e8-8bf3-388c3ed9c326.png](attachment:9ad638f6-bc32-4126-a724-863d56e2c58e.png)"
   ]
  },
  {
   "cell_type": "markdown",
   "metadata": {},
   "source": [
    "#### Here is an other example of how you can understand 'Dimensionality Reduction'\n",
    "\n",
    "Let’s think about how we reduce dimensions and create “latent features” internally every day. \n",
    "\n",
    "* For example, people invent concepts like “coolness,” but we can’t directly measure how cool someone is. Other people exhibit different patterns of behavior, which we internally map or reduce to our one dimension of “coolness.” \n",
    "\n",
    "* So coolness is an example of a latent feature in that it’s unobserved and not measurable directly, and we could think of it as reducing dimensions because perhaps it’s a **combination** of many “features” we’ve observed about the person and implictly weighted in our mind."
   ]
  },
  {
   "cell_type": "markdown",
   "metadata": {},
   "source": [
    "## Singular Value Decomposition (SVD)\n",
    "\n",
    "We are going to use SVD for our data set. \n",
    "\n",
    "#### **Q1:** How does SVD work?\n",
    "\n",
    "* The assumption is that few pieces of data in our data set can contain most of the information in our data set. The other information in the matrix is noise or irrelevant.\n",
    "\n",
    "* To identify the most relevant information we can decompose our original matrix. The decomposition is done to put the original matrix in a new form that is easier to work with. \n",
    "\n",
    "The SVD takes an original data set matrix $M$ and decomposes it into three matrices called $U$, $\\Sigma$, and $V^T$.\n",
    " \n",
    "$M = U\\Sigma V^T$ \n",
    "\n",
    "where if $M$ is size $mxn$, then $U$ will be $mxm$, $\\Sigma$ will be $mxn$, and $V^T$ will be $nxn$. \n",
    "\n",
    "* The decomposition creates the $\\Sigma$, which will have only diagonal elements; all other elements of this matrix are 0. \n",
    "* The diagonal elements of $\\Sigma$ are sorted from largest to smallest. \n",
    "* The diagonal elements of $\\Sigma$ are called singular values and they correspond to the singular values of our original data set, Data.\n",
    "\n",
    "To reduce the size of our original matrix we select only the most relevent singular values in $\\Sigma$.\n",
    "\n"
   ]
  },
  {
   "cell_type": "markdown",
   "metadata": {},
   "source": [
    "<img src=\"img/SVD.png\" alt=\"SVD\" width=\"500\"/>\n",
    "\n",
    "**The light gray areas show the original data, and the dark gray areas show the only data used in the matrix approximation.**"
   ]
  },
  {
   "cell_type": "markdown",
   "metadata": {},
   "source": [
    "### **How many dimensions?** \n",
    "\n",
    "#### **Q1:** How do we decide how many singular values (dimensions) we want to keep?\n",
    "\n",
    "\n",
    "You typically want to keep 90% of the energy expressed in the matrix. \n",
    "* To calculate the total energy, you add up all the squared singular values. \n",
    "* You can then add squared singular values until you reach 90% of the total. \n",
    "\n"
   ]
  },
  {
   "cell_type": "code",
   "execution_count": 21,
   "metadata": {},
   "outputs": [
    {
     "name": "stdout",
     "output_type": "stream",
     "text": [
      "Tot Energy: 382923.9999999998\n",
      "90%: 344631.59999999986\n",
      "Number of components: 405\n"
     ]
    }
   ],
   "source": [
    "from sklearn.utils.extmath import randomized_svd\n",
    "\n",
    "U, Sigma, VT = randomized_svd(prod_matrix.to_numpy(), n_components = min(prod_matrix.shape) )\n",
    "\n",
    "# ** NOTE ** \n",
    "#\n",
    "# randomized_svd()\n",
    "#   Computes a truncated randomized SVD.\n",
    "#\n",
    "# ** NOTE ** \n",
    "\n",
    "# \n",
    "# We set -- n_components = min(prod_matrix.shape) -- because we do not know\n",
    "# yet how many components/dimensions we want to keep. We keep all of them.\n",
    "# Sigma is a diagonal matrix, it contains at most min(m,n) singolar values.\n",
    "#\n",
    "\n",
    "Sigma2=Sigma**2\n",
    "print(f\"Tot Energy: {sum(Sigma2)}\")\n",
    "print(f\"90%: {sum(Sigma2)*0.9}\")\n",
    "\n",
    "#\n",
    "# We use the following function to select the number of dimensions to keep\n",
    "#\n",
    "\n",
    "def get_number_of_dimensions_to_keep( S, max_d ):\n",
    "    S2 = S**2\n",
    "    energy_90 = sum(S2)*0.9\n",
    "    for i in range(max_d):\n",
    "        if sum(S2[:i]) >= energy_90:\n",
    "            return i\n",
    "    return max_d\n",
    "\n",
    "n_comp = get_number_of_dimensions_to_keep(Sigma,prod_matrix.shape[0])\n",
    "print(f\"Number of components: {n_comp}\")\n"
   ]
  },
  {
   "cell_type": "markdown",
   "metadata": {},
   "source": [
    "#### We now compute the approximated matrix we will use for our recommander system"
   ]
  },
  {
   "cell_type": "code",
   "execution_count": 22,
   "metadata": {},
   "outputs": [
    {
     "name": "stdout",
     "output_type": "stream",
     "text": [
      "Original matrix: (1398, 19101)\n",
      "Approximation: (1398, 405)\n"
     ]
    }
   ],
   "source": [
    "from sklearn.decomposition import TruncatedSVD\n",
    "\n",
    "SVD = TruncatedSVD(n_components=n_comp)\n",
    "de_matrix = SVD.fit_transform(prod_matrix)\n",
    "\n",
    "print(f\"Original matrix: {prod_matrix.shape}\")\n",
    "print(f\"Approximation: {de_matrix.shape}\")"
   ]
  },
  {
   "cell_type": "markdown",
   "metadata": {},
   "source": [
    "## **Similarity (item-based)** \n",
    "\n",
    "Three commons approaches to measure similarity are:\n",
    "\n",
    "* Euclidian distance\n",
    "* Pearson correlation\n",
    "* Cosine similarity\n",
    "\n",
    "For our amazon data set we are going to use Pearson correlation that is efficiently implemented in Numpy."
   ]
  },
  {
   "cell_type": "markdown",
   "metadata": {},
   "source": [
    "### **Pearson correlation**\n",
    "\n",
    "Pearson correlation is insensitive to the magnitude of users’ ratings. \n",
    "\n",
    "* Say one person is manic and rates everything with 5s; another person isn’t so happy and rates everything with 1s. The Pearson correlation tells us that these two vectors are equal.\n",
    "\n",
    "* Both Pearson correlation and cosine similarity are invariant to scaling, i.e. multiplying all elements by a nonzero constant. \n",
    "  * Pearson correlation is also invariant to adding any constant to all elements. \n",
    "    * $pearson(X_1, X_2)$ == $pearson(X_1, a*X_2+b)$\n",
    "    * $cos(X_1, X_2)$ != $cos(X_1, a*X_2+b)$\n",
    "    * $cos(X_1, X_2)$ == $cos(X_1, a*X_2)$\n"
   ]
  },
  {
   "cell_type": "code",
   "execution_count": 23,
   "metadata": {},
   "outputs": [
    {
     "data": {
      "text/plain": [
       "(1398, 1398)"
      ]
     },
     "execution_count": 23,
     "metadata": {},
     "output_type": "execute_result"
    }
   ],
   "source": [
    "import numpy as np\n",
    "\n",
    "# We compute the Pearson correlation between products pairs\n",
    "\n",
    "corr_matrix = np.corrcoef(de_matrix)\n",
    "corr_matrix.shape\n",
    "\n",
    "# corr_matrix[i][j] contains the correlation between product i and product j\n"
   ]
  },
  {
   "cell_type": "markdown",
   "metadata": {},
   "source": [
    "#### **Q1:** How do we suggest similar products to a given product?\n",
    "\n",
    "We use the correlation matrix to list the products that are the most similar to the given product."
   ]
  },
  {
   "cell_type": "code",
   "execution_count": 24,
   "metadata": {},
   "outputs": [
    {
     "name": "stdout",
     "output_type": "stream",
     "text": [
      "Product ID: 602260074X, index: 90\n"
     ]
    }
   ],
   "source": [
    "# Given a product ID we can suggest new products\n",
    "\n",
    "prod_ID = '602260074X'\n",
    "\n",
    "# We need the index of the product to find it in the correlation matrix.\n",
    "\n",
    "product_names = list(prod_matrix.index)\n",
    "prod_idx = product_names.index(prod_ID)\n",
    "\n",
    "print( f\"Product ID: {prod_ID}, index: {prod_idx}\")\n",
    "\n",
    "# List of correlation values for product prod_ID whose index is prod_idx\n",
    "                           \n",
    "corr_products = corr_matrix[prod_idx]\n"
   ]
  },
  {
   "cell_type": "markdown",
   "metadata": {},
   "source": [
    "#### We can recommend similar products sorting them by correlation values."
   ]
  },
  {
   "cell_type": "code",
   "execution_count": 25,
   "metadata": {},
   "outputs": [
    {
     "data": {
      "text/html": [
       "<div>\n",
       "<style scoped>\n",
       "    .dataframe tbody tr th:only-of-type {\n",
       "        vertical-align: middle;\n",
       "    }\n",
       "\n",
       "    .dataframe tbody tr th {\n",
       "        vertical-align: top;\n",
       "    }\n",
       "\n",
       "    .dataframe thead th {\n",
       "        text-align: right;\n",
       "    }\n",
       "</style>\n",
       "<table border=\"1\" class=\"dataframe\">\n",
       "  <thead>\n",
       "    <tr style=\"text-align: right;\">\n",
       "      <th></th>\n",
       "      <th>ProdId</th>\n",
       "      <th>Corr</th>\n",
       "    </tr>\n",
       "  </thead>\n",
       "  <tbody>\n",
       "    <tr>\n",
       "      <th>506</th>\n",
       "      <td>9790790996</td>\n",
       "      <td>0.012376</td>\n",
       "    </tr>\n",
       "    <tr>\n",
       "      <th>505</th>\n",
       "      <td>9790790988</td>\n",
       "      <td>0.012370</td>\n",
       "    </tr>\n",
       "    <tr>\n",
       "      <th>1243</th>\n",
       "      <td>B0000536PC</td>\n",
       "      <td>0.011887</td>\n",
       "    </tr>\n",
       "    <tr>\n",
       "      <th>727</th>\n",
       "      <td>B000050RO8</td>\n",
       "      <td>0.011878</td>\n",
       "    </tr>\n",
       "    <tr>\n",
       "      <th>519</th>\n",
       "      <td>9790792115</td>\n",
       "      <td>0.011571</td>\n",
       "    </tr>\n",
       "    <tr>\n",
       "      <th>828</th>\n",
       "      <td>B000052YLU</td>\n",
       "      <td>0.011051</td>\n",
       "    </tr>\n",
       "    <tr>\n",
       "      <th>481</th>\n",
       "      <td>9790789343</td>\n",
       "      <td>0.011032</td>\n",
       "    </tr>\n",
       "    <tr>\n",
       "      <th>1148</th>\n",
       "      <td>B00005336V</td>\n",
       "      <td>0.010796</td>\n",
       "    </tr>\n",
       "    <tr>\n",
       "      <th>877</th>\n",
       "      <td>B000052YPF</td>\n",
       "      <td>0.010746</td>\n",
       "    </tr>\n",
       "    <tr>\n",
       "      <th>342</th>\n",
       "      <td>9790776144</td>\n",
       "      <td>0.009461</td>\n",
       "    </tr>\n",
       "  </tbody>\n",
       "</table>\n",
       "</div>"
      ],
      "text/plain": [
       "          ProdId      Corr\n",
       "506   9790790996  0.012376\n",
       "505   9790790988  0.012370\n",
       "1243  B0000536PC  0.011887\n",
       "727   B000050RO8  0.011878\n",
       "519   9790792115  0.011571\n",
       "828   B000052YLU  0.011051\n",
       "481   9790789343  0.011032\n",
       "1148  B00005336V  0.010796\n",
       "877   B000052YPF  0.010746\n",
       "342   9790776144  0.009461"
      ]
     },
     "execution_count": 25,
     "metadata": {},
     "output_type": "execute_result"
    }
   ],
   "source": [
    "rec_df = pd.DataFrame( {\"ProdId\":prod_matrix.index, \"Corr\":corr_products} ).sort_values(by='Corr', ascending=False)\n",
    "\n",
    "# We remove the current product from the list\n",
    "\n",
    "rec_df[ rec_df['ProdId'] != prod_ID ].head(10)\n"
   ]
  },
  {
   "cell_type": "markdown",
   "metadata": {},
   "source": [
    "### **Exercise**\n",
    "\n",
    "* **Q1:** Write a function that takes in input a product ID and return as output a list of recommended products.\n"
   ]
  },
  {
   "cell_type": "code",
   "execution_count": 26,
   "metadata": {},
   "outputs": [],
   "source": [
    "#\n",
    "# The code goes here!\n",
    "#    "
   ]
  },
  {
   "cell_type": "markdown",
   "metadata": {},
   "source": [
    "### **Recommending new products to users.**\n",
    "\n",
    "#### **Q1:** How do we suggest new products to customers?"
   ]
  },
  {
   "cell_type": "code",
   "execution_count": 27,
   "metadata": {},
   "outputs": [],
   "source": [
    "\n",
    "def item_based_suggestions( user_id ): \n",
    "    \n",
    "    suggestions = defaultdict(float)\n",
    "    \n",
    "    # We get the list of products of <user_id>\n",
    "    user_prod = [ prod for prod in ratings[ ratings['UserId'] == user_id ]['ProductId'] ]\n",
    "    # NOTE: ratings is the catted data set\n",
    "  \n",
    "    # For each product in the (user) list we\n",
    "    # get the list of correlated products\n",
    "    for prod_id in user_prod: \n",
    "        prod_idx = product_names.index(prod_id)\n",
    "        corr_products = corr_matrix[prod_idx]\n",
    "        for i,p in enumerate(product_names):\n",
    "            # We skip the product already rated by the user\n",
    "            if p == prod_id: \n",
    "                continue\n",
    "            suggestions[p] += corr_products[i]\n",
    "\n",
    "    suggestions = sorted( suggestions.items(), key= lambda s: s[1], reverse=True)\n",
    "\n",
    "    return suggestions\n"
   ]
  },
  {
   "cell_type": "code",
   "execution_count": 28,
   "metadata": {},
   "outputs": [
    {
     "data": {
      "text/plain": [
       "[('B00005377T', 0.6625359032710745),\n",
       " ('B00005321X', 0.5950237241989481),\n",
       " ('B000052ZEK', 0.5845604792527873),\n",
       " ('9790792557', 0.5664019625408924),\n",
       " ('9742189889', 0.5545092826126011)]"
      ]
     },
     "execution_count": 28,
     "metadata": {},
     "output_type": "execute_result"
    }
   ],
   "source": [
    "item_based_suggestions('A39HTATAQ9V7YF')[:5]"
   ]
  },
  {
   "cell_type": "code",
   "execution_count": 29,
   "metadata": {},
   "outputs": [
    {
     "data": {
      "text/plain": [
       "[('B00005375E', 0.019738071186788813),\n",
       " ('9790776691', 0.019549494920828477),\n",
       " ('B0000531VG', 0.01930245736314842),\n",
       " ('B0000531QP', 0.018700548664557747),\n",
       " ('9790795076', 0.018678288971415907)]"
      ]
     },
     "execution_count": 29,
     "metadata": {},
     "output_type": "execute_result"
    }
   ],
   "source": [
    "item_based_suggestions('AO76PCGL4LTDY')[:5]"
   ]
  }
 ],
 "metadata": {
  "colab": {
   "authorship_tag": "ABX9TyPtHjzGbg128R7MaeBaNCxV",
   "collapsed_sections": [],
   "provenance": []
  },
  "kernelspec": {
   "display_name": "Python 3",
   "language": "python",
   "name": "python3"
  },
  "language_info": {
   "codemirror_mode": {
    "name": "ipython",
    "version": 3
   },
   "file_extension": ".py",
   "mimetype": "text/x-python",
   "name": "python",
   "nbconvert_exporter": "python",
   "pygments_lexer": "ipython3",
   "version": "3.9.12"
  }
 },
 "nbformat": 4,
 "nbformat_minor": 4
}

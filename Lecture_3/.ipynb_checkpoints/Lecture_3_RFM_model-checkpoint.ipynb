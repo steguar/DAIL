{
 "cells": [
  {
   "cell_type": "markdown",
   "metadata": {
    "id": "gqdSk5Kegv5I"
   },
   "source": [
    "## **Rescaling**\n",
    "\n",
    "#### **Q1:** Why do we need to rescale our data?\n",
    "\n",
    "Many techniques are sensitive to the ***scale*** of your data (*data range*). Let's explain it with an example: \n",
    "\n",
    "* Imagine that you have a data set consisting of the *heights* and *weights* of hundreds of people, and that you are trying to identify clusters of body sizes.\n",
    "\n",
    "* Intuitively, we would like clusters to represent points near each other, which means that we need some notion of distance between points. \n",
    "\n",
    "   * A natural approach might be to treat (height, weight) pairs as points in two-dimensional space and compute the Euclidean distance between them."
   ]
  },
  {
   "cell_type": "code",
   "execution_count": 1,
   "metadata": {
    "colab": {
     "base_uri": "https://localhost:8080/",
     "height": 142
    },
    "executionInfo": {
     "elapsed": 787,
     "status": "ok",
     "timestamp": 1664872625784,
     "user": {
      "displayName": "alessandro celestini",
      "userId": "05873352416691815837"
     },
     "user_tz": -120
    },
    "id": "cHuwaqJTim6n",
    "outputId": "ef54bd94-1200-424f-d4e4-85b55eeffe21"
   },
   "outputs": [
    {
     "data": {
      "text/html": [
       "<div>\n",
       "<style scoped>\n",
       "    .dataframe tbody tr th:only-of-type {\n",
       "        vertical-align: middle;\n",
       "    }\n",
       "\n",
       "    .dataframe tbody tr th {\n",
       "        vertical-align: top;\n",
       "    }\n",
       "\n",
       "    .dataframe thead th {\n",
       "        text-align: right;\n",
       "    }\n",
       "</style>\n",
       "<table border=\"1\" class=\"dataframe\">\n",
       "  <thead>\n",
       "    <tr style=\"text-align: right;\">\n",
       "      <th></th>\n",
       "      <th>Person</th>\n",
       "      <th>Height (inches)</th>\n",
       "      <th>Height (centimeters)</th>\n",
       "      <th>Weight (pounds)</th>\n",
       "    </tr>\n",
       "  </thead>\n",
       "  <tbody>\n",
       "    <tr>\n",
       "      <th>0</th>\n",
       "      <td>A</td>\n",
       "      <td>63</td>\n",
       "      <td>160.0</td>\n",
       "      <td>150</td>\n",
       "    </tr>\n",
       "    <tr>\n",
       "      <th>1</th>\n",
       "      <td>B</td>\n",
       "      <td>67</td>\n",
       "      <td>170.2</td>\n",
       "      <td>160</td>\n",
       "    </tr>\n",
       "    <tr>\n",
       "      <th>2</th>\n",
       "      <td>C</td>\n",
       "      <td>70</td>\n",
       "      <td>177.8</td>\n",
       "      <td>171</td>\n",
       "    </tr>\n",
       "  </tbody>\n",
       "</table>\n",
       "</div>"
      ],
      "text/plain": [
       "  Person  Height (inches)  Height (centimeters)  Weight (pounds)\n",
       "0      A               63                 160.0              150\n",
       "1      B               67                 170.2              160\n",
       "2      C               70                 177.8              171"
      ]
     },
     "execution_count": 1,
     "metadata": {},
     "output_type": "execute_result"
    }
   ],
   "source": [
    "#  Consider the following dataframe\n",
    "import pandas as pd\n",
    "\n",
    "df = pd.DataFrame( {'Person':['A','B','C'], 'Height (inches)':[63,67,70], \n",
    "      'Height (centimeters)':[160,170.2,177.8], 'Weight (pounds)':[150,160,171] })\n",
    "\n",
    "df"
   ]
  },
  {
   "cell_type": "code",
   "execution_count": 2,
   "metadata": {
    "colab": {
     "base_uri": "https://localhost:8080/"
    },
    "executionInfo": {
     "elapsed": 40,
     "status": "ok",
     "timestamp": 1664872625785,
     "user": {
      "displayName": "alessandro celestini",
      "userId": "05873352416691815837"
     },
     "user_tz": -120
    },
    "id": "xu7zizOjm7wn",
    "outputId": "4740eeae-72e0-4b40-f284-0df18bab8f4c"
   },
   "outputs": [
    {
     "name": "stdout",
     "output_type": "stream",
     "text": [
      "AB: 10.77 - 14.28\n",
      "AC: 22.14 - 27.53\n",
      "BC: 11.40 - 13.37\n"
     ]
    }
   ],
   "source": [
    "import math \n",
    "\n",
    "def distance (v, w):\n",
    "       return math.sqrt( sum([ (v_i-w_i)**2 for v_i, w_i in zip(v,w) ]) )\n",
    "\n",
    "# inches\n",
    "Ai = [ df['Height (inches)'][0], df['Weight (pounds)'][0] ]\n",
    "Bi = [ df['Height (inches)'][1], df['Weight (pounds)'][1] ] \n",
    "Ci = [ df['Height (inches)'][2], df['Weight (pounds)'][2] ]\n",
    "\n",
    "# centimeters\n",
    "Ac = [ df['Height (centimeters)'][0], df['Weight (pounds)'][0] ]\n",
    "Bc = [ df['Height (centimeters)'][1], df['Weight (pounds)'][1] ] \n",
    "Cc = [ df['Height (centimeters)'][2], df['Weight (pounds)'][2] ]\n",
    "\n",
    "print(f\"AB: {distance(Ai,Bi):.2f} - {distance(Ac,Bc):.2f}\")\n",
    "print(f\"AC: {distance(Ai,Ci):.2f} - {distance(Ac,Cc):.2f}\")\n",
    "print(f\"BC: {distance(Bi,Ci):.2f} - {distance(Bc,Cc):.2f}\")\n"
   ]
  },
  {
   "cell_type": "markdown",
   "metadata": {
    "id": "m9zm_6S8p-lj"
   },
   "source": [
    "* **Q1:** Does the scale of the data affect results?\n",
    "\n",
    "* **Q2:** What is the closest pair of points?"
   ]
  },
  {
   "cell_type": "markdown",
   "metadata": {
    "id": "HjJHgcX3qd0R"
   },
   "source": [
    "### **Standardizing**\n",
    "\n",
    "* It’s problematic if changing units can change results like this. \n",
    "\n",
    "* When dimensions aren’t comparable with one another, we will sometimes rescale our data so that each dimension has **mean 0** and **standard deviation 1**. \n",
    "\n",
    "   * This effectively gets rid of the units, converting each dimension to “standard deviations from the mean.”\n",
    "\n",
    "   * This value is known as standard score and is most commonly called **z-scores**.\n",
    "\n",
    "#### **Z-score**\n",
    "\n",
    "We compute the standardized value $z_i$ of a data point $x_i$ as follow:\n",
    "\n",
    "$z_i = \\frac{x_i - mean(x)}{std(x)}$\n",
    "\n",
    "Where,\n",
    "\n",
    "$z_i$: ith standardized value,\n",
    "\n",
    "$x$: all values,\n",
    "\n",
    "$mean(x)$: the mean value of all x values\n",
    "\n",
    "$std(x)$: the standard deviation of the x values"
   ]
  },
  {
   "cell_type": "code",
   "execution_count": 3,
   "metadata": {
    "colab": {
     "base_uri": "https://localhost:8080/"
    },
    "executionInfo": {
     "elapsed": 30,
     "status": "ok",
     "timestamp": 1664872625785,
     "user": {
      "displayName": "alessandro celestini",
      "userId": "05873352416691815837"
     },
     "user_tz": -120
    },
    "id": "XwQ-XVs9rT3n",
    "outputId": "6fe9ed89-d7e2-43c0-91f2-41de796ffa11"
   },
   "outputs": [
    {
     "data": {
      "text/plain": [
       "Height (inches)         3.511885\n",
       "Height (centimeters)    8.931592\n",
       "dtype: float64"
      ]
     },
     "execution_count": 3,
     "metadata": {},
     "output_type": "execute_result"
    }
   ],
   "source": [
    "# Calculate the standard deviation of the two columns\n",
    "\n",
    "df[['Height (inches)', 'Height (centimeters)']].std()"
   ]
  },
  {
   "cell_type": "code",
   "execution_count": 4,
   "metadata": {
    "colab": {
     "base_uri": "https://localhost:8080/"
    },
    "executionInfo": {
     "elapsed": 25,
     "status": "ok",
     "timestamp": 1664872625786,
     "user": {
      "displayName": "alessandro celestini",
      "userId": "05873352416691815837"
     },
     "user_tz": -120
    },
    "id": "qeNatRuz_QLm",
    "outputId": "a621c7c4-917f-4fd4-c739-a40906b029fa"
   },
   "outputs": [
    {
     "data": {
      "text/plain": [
       "Height (inches)          66.666667\n",
       "Height (centimeters)    169.333333\n",
       "dtype: float64"
      ]
     },
     "execution_count": 4,
     "metadata": {},
     "output_type": "execute_result"
    }
   ],
   "source": [
    "# Calculate the means of the two columns.\n",
    "\n",
    "df[['Height (inches)', 'Height (centimeters)']].mean()"
   ]
  },
  {
   "cell_type": "code",
   "execution_count": 5,
   "metadata": {
    "colab": {
     "base_uri": "https://localhost:8080/",
     "height": 142
    },
    "executionInfo": {
     "elapsed": 19,
     "status": "ok",
     "timestamp": 1664872625786,
     "user": {
      "displayName": "alessandro celestini",
      "userId": "05873352416691815837"
     },
     "user_tz": -120
    },
    "id": "Tpo-sB2w_50u",
    "outputId": "9b7c9e00-d9c7-4261-801f-52953fa1f999"
   },
   "outputs": [
    {
     "data": {
      "text/html": [
       "<div>\n",
       "<style scoped>\n",
       "    .dataframe tbody tr th:only-of-type {\n",
       "        vertical-align: middle;\n",
       "    }\n",
       "\n",
       "    .dataframe tbody tr th {\n",
       "        vertical-align: top;\n",
       "    }\n",
       "\n",
       "    .dataframe thead th {\n",
       "        text-align: right;\n",
       "    }\n",
       "</style>\n",
       "<table border=\"1\" class=\"dataframe\">\n",
       "  <thead>\n",
       "    <tr style=\"text-align: right;\">\n",
       "      <th></th>\n",
       "      <th>Person</th>\n",
       "      <th>Height (inches)</th>\n",
       "      <th>Height (centimeters)</th>\n",
       "      <th>Weight (pounds)</th>\n",
       "      <th>z_inches</th>\n",
       "      <th>z_cm</th>\n",
       "    </tr>\n",
       "  </thead>\n",
       "  <tbody>\n",
       "    <tr>\n",
       "      <th>0</th>\n",
       "      <td>A</td>\n",
       "      <td>63</td>\n",
       "      <td>160.0</td>\n",
       "      <td>150</td>\n",
       "      <td>-1.044074</td>\n",
       "      <td>-1.044980</td>\n",
       "    </tr>\n",
       "    <tr>\n",
       "      <th>1</th>\n",
       "      <td>B</td>\n",
       "      <td>67</td>\n",
       "      <td>170.2</td>\n",
       "      <td>160</td>\n",
       "      <td>0.094916</td>\n",
       "      <td>0.097034</td>\n",
       "    </tr>\n",
       "    <tr>\n",
       "      <th>2</th>\n",
       "      <td>C</td>\n",
       "      <td>70</td>\n",
       "      <td>177.8</td>\n",
       "      <td>171</td>\n",
       "      <td>0.949158</td>\n",
       "      <td>0.947946</td>\n",
       "    </tr>\n",
       "  </tbody>\n",
       "</table>\n",
       "</div>"
      ],
      "text/plain": [
       "  Person  Height (inches)  Height (centimeters)  Weight (pounds)  z_inches  \\\n",
       "0      A               63                 160.0              150 -1.044074   \n",
       "1      B               67                 170.2              160  0.094916   \n",
       "2      C               70                 177.8              171  0.949158   \n",
       "\n",
       "       z_cm  \n",
       "0 -1.044980  \n",
       "1  0.097034  \n",
       "2  0.947946  "
      ]
     },
     "execution_count": 5,
     "metadata": {},
     "output_type": "execute_result"
    }
   ],
   "source": [
    "df['z_inches'] = ( df['Height (inches)'] - df['Height (inches)'].mean()) / df['Height (inches)'].std()\n",
    "df['z_cm'] = ( df['Height (centimeters)'] - df['Height (centimeters)'].mean()) / df['Height (centimeters)'].std()\n",
    "\n",
    "df.head()"
   ]
  },
  {
   "cell_type": "markdown",
   "metadata": {
    "id": "U1a9kvd6KRru"
   },
   "source": [
    "We go back to our two preliminar questions:\n",
    "\n",
    "* **Q1:** Does the scale of the data affect results?\n",
    "\n",
    "* **Q2:** What is the closest pair of points?"
   ]
  },
  {
   "cell_type": "code",
   "execution_count": 6,
   "metadata": {
    "colab": {
     "base_uri": "https://localhost:8080/"
    },
    "executionInfo": {
     "elapsed": 17,
     "status": "ok",
     "timestamp": 1664872625786,
     "user": {
      "displayName": "alessandro celestini",
      "userId": "05873352416691815837"
     },
     "user_tz": -120
    },
    "id": "kGMhImhZKAsv",
    "outputId": "4f6e0760-e3cf-4140-ea7e-0af87397eaeb"
   },
   "outputs": [
    {
     "name": "stdout",
     "output_type": "stream",
     "text": [
      "AB: 10.06 - 10.06\n",
      "AC: 21.09 - 21.09\n",
      "BC: 11.03 - 11.03\n"
     ]
    }
   ],
   "source": [
    "# inches\n",
    "Ai = [ df['z_inches'][0], df['Weight (pounds)'][0] ]\n",
    "Bi = [ df['z_inches'][1], df['Weight (pounds)'][1] ] \n",
    "Ci = [ df['z_inches'][2], df['Weight (pounds)'][2] ]\n",
    "\n",
    "# centimeters\n",
    "Ac = [ df['z_cm'][0], df['Weight (pounds)'][0] ]\n",
    "Bc = [ df['z_cm'][1], df['Weight (pounds)'][1] ] \n",
    "Cc = [ df['z_cm'][2], df['Weight (pounds)'][2] ]\n",
    "\n",
    "print(f\"AB: {distance(Ai,Bi):.2f} - {distance(Ac,Bc):.2f}\")\n",
    "print(f\"AC: {distance(Ai,Ci):.2f} - {distance(Ac,Cc):.2f}\")\n",
    "print(f\"BC: {distance(Bi,Ci):.2f} - {distance(Bc,Cc):.2f}\")"
   ]
  },
  {
   "cell_type": "markdown",
   "metadata": {},
   "source": [
    "#### This solve the issuse of the height misured with two different scale. \n",
    "\n",
    "#### To obtain reliable results we must standardized all features. In our case we must apply the same procedure to the **Weight** column.\n"
   ]
  },
  {
   "cell_type": "code",
   "execution_count": 7,
   "metadata": {},
   "outputs": [
    {
     "name": "stderr",
     "output_type": "stream",
     "text": [
      "<ipython-input-7-e0fc582b03ed>:31: UserWarning: Matplotlib is currently using module://ipykernel.pylab.backend_inline, which is a non-GUI backend, so cannot show the figure.\n",
      "  fig.show()\n"
     ]
    },
    {
     "data": {
      "image/png": "[encoded data removed]",
      "text/plain": [
       "<Figure size 864x576 with 4 Axes>"
      ]
     },
     "metadata": {
      "needs_background": "light"
     },
     "output_type": "display_data"
    }
   ],
   "source": [
    "import matplotlib.pyplot as plt\n",
    "%matplotlib inline\n",
    "\n",
    "fig, axs = plt.subplots(nrows=2, ncols=2, figsize=(12, 8))\n",
    "\n",
    "axs[0,0].scatter(df['Weight (pounds)'], df['Height (inches)'])\n",
    "axs[0,0].set_xlabel('Weight (pounds)') # Add an x-label to the axes.\n",
    "axs[0,0].set_ylabel('Height (inches)') # Add a y-label to the axes.\n",
    "axs[0,0].set_xlim(-10,200)\n",
    "axs[0,0].set_ylim(-10,200)\n",
    "\n",
    "axs[0,1].scatter(df['Weight (pounds)'], df['Height (centimeters)'])\n",
    "axs[0,1].set_xlabel('Weight (pounds)') # Add an x-label to the axes.\n",
    "axs[0,1].set_ylabel('Height (centimeters)') # Add a y-label to the axes.\n",
    "axs[0,1].set_xlim(-10,200)\n",
    "axs[0,1].set_ylim(-10,200)\n",
    "\n",
    "axs[1,0].scatter(df['Weight (pounds)'], df['z_inches'])\n",
    "axs[1,0].set_xlabel('Weight (pounds)') # Add an x-label to the axes.\n",
    "axs[1,0].set_ylabel('z_inches') # Add a y-label to the axes.\n",
    "axs[1,0].set_xlim(-10,200)\n",
    "axs[1,0].set_ylim(-10,200)\n",
    "\n",
    "axs[1,1].scatter(df['Weight (pounds)'], df['z_cm'])\n",
    "axs[1,1].set_xlabel('Weight (pounds)') # Add an x-label to the axes.\n",
    "axs[1,1].set_ylabel('z_cm') # Add a y-label to the axes.\n",
    "axs[1,1].set_xlim(-10,200)\n",
    "axs[1,1].set_ylim(-10,200)\n",
    "\n",
    "fig.tight_layout()\n",
    "fig.show()"
   ]
  },
  {
   "cell_type": "markdown",
   "metadata": {
    "id": "QfPrCH381iBG"
   },
   "source": [
    "### **Exercise**\n",
    "\n",
    "* **Q1:** How do you standardize the 'Weight (pounds)' column?\n",
    "\n",
    "* **Q2:** What is the closest pair of points?"
   ]
  },
  {
   "cell_type": "code",
   "execution_count": 8,
   "metadata": {
    "executionInfo": {
     "elapsed": 10,
     "status": "ok",
     "timestamp": 1664872625787,
     "user": {
      "displayName": "alessandro celestini",
      "userId": "05873352416691815837"
     },
     "user_tz": -120
    },
    "id": "5abyamoN1T7B"
   },
   "outputs": [],
   "source": [
    "### The code goes here!"
   ]
  },
  {
   "cell_type": "markdown",
   "metadata": {
    "id": "c5LhWOjitTsk"
   },
   "source": [
    "## **Clustering**\n",
    "\n",
    "* **Q1:** How do we group data in homogeneous clusters?\n",
    "\n",
    "* **Q2:** How do we group our customers?"
   ]
  },
  {
   "cell_type": "markdown",
   "metadata": {
    "id": "NyyO_HjEtT6H"
   },
   "source": [
    "#### **K-means**\n",
    "\n",
    "* K-means is an ***unsupervised*** machine learning ***clustering*** algorithm.\n",
    "\n",
    "  1. **Input:** unlabeled data.\n",
    "\n",
    "      * We do not have a set of labeled data that we can use for making predictions about new, unlabeled data. \n",
    "\n",
    "  2. **Output:** unlabeled clusters. \n",
    "  \n",
    "      * The clusters won’t label themselves, you’ll have to do that by looking at the data."
   ]
  },
  {
   "cell_type": "markdown",
   "metadata": {
    "id": "UidmovKQtUDf"
   },
   "source": [
    "#### How the algorithm works\n",
    "\n",
    "* The k-means algorithm searches for a **predetermined number of clusters** within an unlabeled multidimensional dataset.\n",
    "\n",
    "   * The number of clusters $k$ is chosen in advance (user input);\n",
    "   \n",
    "   * The goal is to partition the inputs into $k$ sets $S_1$, ..., $S_k$;\n",
    "\n",
    "     * Minimizing the total sum of squared distances from each point to the center of its assigned cluster.\n",
    "\n",
    "   * The “*cluster center*” is the arithmetic **mean** of all the points belonging to the cluster."
   ]
  },
  {
   "cell_type": "markdown",
   "metadata": {
    "id": "kF-6RmJOlSFZ"
   },
   "source": [
    "#### The algorithm apply the following procedure\n",
    "\n",
    "1. Start with a set of k-means (cluster centers), which are points in d-dimensional space.\n",
    "\n",
    "2. Assign each point to the mean (cluster center) to which it is closest.\n",
    "\n",
    "3. If no point’s assignment has changed, stop and keep the clusters.\n",
    "\n",
    "4. If some point’s assignment has changed, recompute the means (cluster centers) and return to step 2.\n",
    "\n",
    "In step 2 we assign each point to a cluster, based on its distance from the  cluster center (mean). In step 4 we recompute the value of the cluster centers (k-means) as the arithmetic mean of all the points belonging to the cluster.  "
   ]
  },
  {
   "cell_type": "markdown",
   "metadata": {
    "id": "9ecUSgLH0_qh"
   },
   "source": [
    "#### We use a synthetic dataset to show how k-means works."
   ]
  },
  {
   "cell_type": "code",
   "execution_count": 9,
   "metadata": {
    "colab": {
     "base_uri": "https://localhost:8080/",
     "height": 204
    },
    "executionInfo": {
     "elapsed": 2030,
     "status": "ok",
     "timestamp": 1664872627807,
     "user": {
      "displayName": "alessandro celestini",
      "userId": "05873352416691815837"
     },
     "user_tz": -120
    },
    "id": "9sJvjY7i3WA3",
    "outputId": "a4ef8bbb-1a32-4ca7-d337-f074b34dff96"
   },
   "outputs": [
    {
     "data": {
      "text/html": [
       "<div>\n",
       "<style scoped>\n",
       "    .dataframe tbody tr th:only-of-type {\n",
       "        vertical-align: middle;\n",
       "    }\n",
       "\n",
       "    .dataframe tbody tr th {\n",
       "        vertical-align: top;\n",
       "    }\n",
       "\n",
       "    .dataframe thead th {\n",
       "        text-align: right;\n",
       "    }\n",
       "</style>\n",
       "<table border=\"1\" class=\"dataframe\">\n",
       "  <thead>\n",
       "    <tr style=\"text-align: right;\">\n",
       "      <th></th>\n",
       "      <th>age</th>\n",
       "      <th>salary</th>\n",
       "    </tr>\n",
       "  </thead>\n",
       "  <tbody>\n",
       "    <tr>\n",
       "      <th>0</th>\n",
       "      <td>37</td>\n",
       "      <td>47180</td>\n",
       "    </tr>\n",
       "    <tr>\n",
       "      <th>1</th>\n",
       "      <td>22</td>\n",
       "      <td>35545</td>\n",
       "    </tr>\n",
       "    <tr>\n",
       "      <th>2</th>\n",
       "      <td>47</td>\n",
       "      <td>33381</td>\n",
       "    </tr>\n",
       "    <tr>\n",
       "      <th>3</th>\n",
       "      <td>32</td>\n",
       "      <td>26099</td>\n",
       "    </tr>\n",
       "    <tr>\n",
       "      <th>4</th>\n",
       "      <td>27</td>\n",
       "      <td>32159</td>\n",
       "    </tr>\n",
       "  </tbody>\n",
       "</table>\n",
       "</div>"
      ],
      "text/plain": [
       "   age  salary\n",
       "0   37   47180\n",
       "1   22   35545\n",
       "2   47   33381\n",
       "3   32   26099\n",
       "4   27   32159"
      ]
     },
     "execution_count": 9,
     "metadata": {},
     "output_type": "execute_result"
    }
   ],
   "source": [
    "import matplotlib.pyplot as plt\n",
    "from sklearn import cluster\n",
    "%matplotlib inline\n",
    "\n",
    "# 1. We load the dataset \n",
    "\n",
    "df = pd.read_csv(\"customer.csv\")\n",
    "df.head()"
   ]
  },
  {
   "cell_type": "code",
   "execution_count": 10,
   "metadata": {
    "colab": {
     "base_uri": "https://localhost:8080/",
     "height": 279
    },
    "executionInfo": {
     "elapsed": 14,
     "status": "ok",
     "timestamp": 1664872627807,
     "user": {
      "displayName": "alessandro celestini",
      "userId": "05873352416691815837"
     },
     "user_tz": -120
    },
    "id": "_9Hjjtwk1jvq",
    "outputId": "d5996fa3-c67b-417f-e79a-5e8acfb4daba"
   },
   "outputs": [
    {
     "name": "stderr",
     "output_type": "stream",
     "text": [
      "<ipython-input-10-414dc2c641ea>:10: UserWarning: Matplotlib is currently using module://ipykernel.pylab.backend_inline, which is a non-GUI backend, so cannot show the figure.\n",
      "  fig.show()\n"
     ]
    },
    {
     "data": {
      "image/png": "[encoded data removed]",
      "text/plain": [
       "<Figure size 432x288 with 1 Axes>"
      ]
     },
     "metadata": {
      "needs_background": "light"
     },
     "output_type": "display_data"
    }
   ],
   "source": [
    "# 2. We plot the data\n",
    "\n",
    "fig, ax = plt.subplots()\n",
    "\n",
    "ax.scatter(df['salary'], df['age'])\n",
    "\n",
    "ax.set_xlabel('Salary') # Add an x-label to the axes.\n",
    "ax.set_ylabel('Age') # Add a y-label to the axes.\n",
    "\n",
    "fig.show()\n"
   ]
  },
  {
   "cell_type": "markdown",
   "metadata": {
    "id": "4bRNRrGk-wot"
   },
   "source": [
    "* **Q1:** How do we chose the value of $k$?\n",
    "\n",
    "In this case we can set $k=4$ by looking at the plot. We will see later on how we can adjust this parameter."
   ]
  },
  {
   "cell_type": "code",
   "execution_count": 11,
   "metadata": {
    "colab": {
     "base_uri": "https://localhost:8080/",
     "height": 204
    },
    "executionInfo": {
     "elapsed": 11,
     "status": "ok",
     "timestamp": 1664872627808,
     "user": {
      "displayName": "alessandro celestini",
      "userId": "05873352416691815837"
     },
     "user_tz": -120
    },
    "id": "jfA1mO1D1ezh",
    "outputId": "87ce5421-e14e-4083-f521-c5a543336df0"
   },
   "outputs": [
    {
     "data": {
      "text/html": [
       "<div>\n",
       "<style scoped>\n",
       "    .dataframe tbody tr th:only-of-type {\n",
       "        vertical-align: middle;\n",
       "    }\n",
       "\n",
       "    .dataframe tbody tr th {\n",
       "        vertical-align: top;\n",
       "    }\n",
       "\n",
       "    .dataframe thead th {\n",
       "        text-align: right;\n",
       "    }\n",
       "</style>\n",
       "<table border=\"1\" class=\"dataframe\">\n",
       "  <thead>\n",
       "    <tr style=\"text-align: right;\">\n",
       "      <th></th>\n",
       "      <th>age</th>\n",
       "      <th>salary</th>\n",
       "      <th>z_salary</th>\n",
       "      <th>z_age</th>\n",
       "    </tr>\n",
       "  </thead>\n",
       "  <tbody>\n",
       "    <tr>\n",
       "      <th>0</th>\n",
       "      <td>37</td>\n",
       "      <td>47180</td>\n",
       "      <td>-0.339615</td>\n",
       "      <td>-0.734964</td>\n",
       "    </tr>\n",
       "    <tr>\n",
       "      <th>1</th>\n",
       "      <td>22</td>\n",
       "      <td>35545</td>\n",
       "      <td>-1.036505</td>\n",
       "      <td>-1.787216</td>\n",
       "    </tr>\n",
       "    <tr>\n",
       "      <th>2</th>\n",
       "      <td>47</td>\n",
       "      <td>33381</td>\n",
       "      <td>-1.166120</td>\n",
       "      <td>-0.033462</td>\n",
       "    </tr>\n",
       "    <tr>\n",
       "      <th>3</th>\n",
       "      <td>32</td>\n",
       "      <td>26099</td>\n",
       "      <td>-1.602283</td>\n",
       "      <td>-1.085715</td>\n",
       "    </tr>\n",
       "    <tr>\n",
       "      <th>4</th>\n",
       "      <td>27</td>\n",
       "      <td>32159</td>\n",
       "      <td>-1.239313</td>\n",
       "      <td>-1.436466</td>\n",
       "    </tr>\n",
       "  </tbody>\n",
       "</table>\n",
       "</div>"
      ],
      "text/plain": [
       "   age  salary  z_salary     z_age\n",
       "0   37   47180 -0.339615 -0.734964\n",
       "1   22   35545 -1.036505 -1.787216\n",
       "2   47   33381 -1.166120 -0.033462\n",
       "3   32   26099 -1.602283 -1.085715\n",
       "4   27   32159 -1.239313 -1.436466"
      ]
     },
     "execution_count": 11,
     "metadata": {},
     "output_type": "execute_result"
    }
   ],
   "source": [
    "# 3. We standardize the columns\n",
    "\n",
    "df['z_salary'] = (df['salary'] - df['salary'].mean())/df['salary'].std()\n",
    "df['z_age'] = (df['age'] - df['age'].mean())/df['age'].std()\n",
    "\n",
    "df.head()"
   ]
  },
  {
   "cell_type": "markdown",
   "metadata": {
    "id": "w-1Sj11o7fZC"
   },
   "source": [
    "* **Q1:** Why do we standardize columns?\n",
    "\n",
    "* **Q2:** What does it mean to standardize a column?"
   ]
  },
  {
   "cell_type": "code",
   "execution_count": 12,
   "metadata": {
    "colab": {
     "base_uri": "https://localhost:8080/",
     "height": 204
    },
    "executionInfo": {
     "elapsed": 10,
     "status": "ok",
     "timestamp": 1664872627808,
     "user": {
      "displayName": "alessandro celestini",
      "userId": "05873352416691815837"
     },
     "user_tz": -120
    },
    "id": "7jvR414g3sdN",
    "outputId": "fc08af3e-424c-4391-9ad9-bcf34378eeb2"
   },
   "outputs": [
    {
     "data": {
      "text/html": [
       "<div>\n",
       "<style scoped>\n",
       "    .dataframe tbody tr th:only-of-type {\n",
       "        vertical-align: middle;\n",
       "    }\n",
       "\n",
       "    .dataframe tbody tr th {\n",
       "        vertical-align: top;\n",
       "    }\n",
       "\n",
       "    .dataframe thead th {\n",
       "        text-align: right;\n",
       "    }\n",
       "</style>\n",
       "<table border=\"1\" class=\"dataframe\">\n",
       "  <thead>\n",
       "    <tr style=\"text-align: right;\">\n",
       "      <th></th>\n",
       "      <th>age</th>\n",
       "      <th>salary</th>\n",
       "      <th>z_salary</th>\n",
       "      <th>z_age</th>\n",
       "      <th>cluster</th>\n",
       "    </tr>\n",
       "  </thead>\n",
       "  <tbody>\n",
       "    <tr>\n",
       "      <th>0</th>\n",
       "      <td>37</td>\n",
       "      <td>47180</td>\n",
       "      <td>-0.339615</td>\n",
       "      <td>-0.734964</td>\n",
       "      <td>3</td>\n",
       "    </tr>\n",
       "    <tr>\n",
       "      <th>1</th>\n",
       "      <td>22</td>\n",
       "      <td>35545</td>\n",
       "      <td>-1.036505</td>\n",
       "      <td>-1.787216</td>\n",
       "      <td>3</td>\n",
       "    </tr>\n",
       "    <tr>\n",
       "      <th>2</th>\n",
       "      <td>47</td>\n",
       "      <td>33381</td>\n",
       "      <td>-1.166120</td>\n",
       "      <td>-0.033462</td>\n",
       "      <td>3</td>\n",
       "    </tr>\n",
       "    <tr>\n",
       "      <th>3</th>\n",
       "      <td>32</td>\n",
       "      <td>26099</td>\n",
       "      <td>-1.602283</td>\n",
       "      <td>-1.085715</td>\n",
       "      <td>3</td>\n",
       "    </tr>\n",
       "    <tr>\n",
       "      <th>4</th>\n",
       "      <td>27</td>\n",
       "      <td>32159</td>\n",
       "      <td>-1.239313</td>\n",
       "      <td>-1.436466</td>\n",
       "      <td>3</td>\n",
       "    </tr>\n",
       "  </tbody>\n",
       "</table>\n",
       "</div>"
      ],
      "text/plain": [
       "   age  salary  z_salary     z_age  cluster\n",
       "0   37   47180 -0.339615 -0.734964        3\n",
       "1   22   35545 -1.036505 -1.787216        3\n",
       "2   47   33381 -1.166120 -0.033462        3\n",
       "3   32   26099 -1.602283 -1.085715        3\n",
       "4   27   32159 -1.239313 -1.436466        3"
      ]
     },
     "execution_count": 12,
     "metadata": {},
     "output_type": "execute_result"
    }
   ],
   "source": [
    "# 4. We run k-means clustering with 4 clusters.\n",
    "\n",
    "model = cluster.KMeans(n_clusters=4, random_state=10)\n",
    "\n",
    "# ** NOTE **\n",
    "#\n",
    "#  n_clusters: int, default=8\n",
    "#\n",
    "#     The number of clusters to form as well as the number of centroids to generate\n",
    "#\n",
    "#  random_state: int, RandomState instance or None, default=None\n",
    "#\n",
    "#     Determines random number generation for centroid initialization. \n",
    "#     Use an int to make the randomness deterministic.\n",
    "#\n",
    "# ** NOTE **\n",
    "\n",
    "model.fit(df[['z_salary','z_age']])\n",
    "\n",
    "# ** NOTE **\n",
    "#\n",
    "#  fit()\n",
    "#\n",
    "#     Compute k-means clustering.\n",
    "#\n",
    "# ** NOTE **\n",
    "\n",
    "\n",
    "# We create a column called cluster that contains \n",
    "# the label of the cluster to which each data point belongs.\n",
    "\n",
    "df['cluster'] = model.labels_\n",
    "\n",
    "df.head()\n"
   ]
  },
  {
   "cell_type": "code",
   "execution_count": 13,
   "metadata": {
    "colab": {
     "base_uri": "https://localhost:8080/",
     "height": 279
    },
    "executionInfo": {
     "elapsed": 9,
     "status": "ok",
     "timestamp": 1664872627809,
     "user": {
      "displayName": "alessandro celestini",
      "userId": "05873352416691815837"
     },
     "user_tz": -120
    },
    "id": "Ip4rnezH3uWT",
    "outputId": "d4045f2d-60e8-4c10-a839-d638f8be433d"
   },
   "outputs": [
    {
     "name": "stderr",
     "output_type": "stream",
     "text": [
      "<ipython-input-13-ad3b33804d54>:14: UserWarning: Matplotlib is currently using module://ipykernel.pylab.backend_inline, which is a non-GUI backend, so cannot show the figure.\n",
      "  fig.show()\n"
     ]
    },
    {
     "data": {
      "image/png": "[encoded data removed]",
      "text/plain": [
       "<Figure size 432x288 with 1 Axes>"
      ]
     },
     "metadata": {
      "needs_background": "light"
     },
     "output_type": "display_data"
    }
   ],
   "source": [
    "\n",
    "# 4. We plot the clusters.\n",
    "\n",
    "fig, ax = plt.subplots()\n",
    "\n",
    "colors = ['r', 'b', 'k', 'g']\n",
    "markers = ['^', 'o', 'd', 's']\n",
    "\n",
    "for c in df['cluster'].unique():\n",
    "  d =  df[ df['cluster'] == c ]\n",
    "  ax.scatter(d['salary'], d['age'], marker=markers[c], color=colors[c])\n",
    "\n",
    "ax.set_xlabel('Salary')\n",
    "ax.set_ylabel('Age')\n",
    "fig.show()"
   ]
  },
  {
   "cell_type": "markdown",
   "metadata": {
    "id": "6wGoXftvAaP8"
   },
   "source": [
    "## **Recency-Frequency-Monetary (RFM) model**\n",
    "\n",
    "* **Q1:** What information do we use to create/learn clusters?\n",
    "\n",
    "#### **Customer Segmentation**\n",
    "\n",
    "* Customer segmentation is the practice of **dividing** a customer base into **groups of individuals** that are similar.\n",
    "\n",
    "    * Age, gender, interests and spending habits.\n",
    "\n",
    "* RFM analysis is a proven marketing model for behavior based customer segmentation. It groups customers based on their transaction history: \n",
    "   \n",
    "   * *How recently*, *how often* and *how much* did they buy.\n"
   ]
  },
  {
   "cell_type": "markdown",
   "metadata": {
    "id": "xxUVTFnsGLug"
   },
   "source": [
    "### What is Recency, Frequency and Monetary analysis?\n",
    "\n",
    "The RFM model combines three different customer attributes to rank customers.\n",
    "\n",
    "1. **Recency:** time since the customer made his/her most recent purchase.\n",
    "\n",
    "2. **Frequency:** number of purchases this customer made within a designated time period.\n",
    "\n",
    "3. **Monetary:** total money spent.\n",
    "\n",
    "We combine these three scores to create the RFM score, that can be used to segment our customers into different groups.\n",
    "\n",
    " \n"
   ]
  },
  {
   "cell_type": "markdown",
   "metadata": {
    "id": "Pt5XBTSqKMHJ"
   },
   "source": [
    "### **Case Study: Online Retail Store**\n",
    "\n",
    "* Dataset - https://archive.ics.uci.edu/ml/datasets/online+retail\n",
    "\n",
    "**About Dataset**\n",
    "\n",
    "This is a transnational data set which contains all the transactions occurring between 01/12/2010 and 09/12/2011 for a UK-based and registered non-store online retail.The company mainly sells unique all-occasion gifts. Many customers of the company are wholesalers.\n",
    "\n",
    "**Dataset Description**\n",
    "\n",
    "* **InvoiceNo:** Invoice number. Nominal, a 6-digit integral number uniquely assigned to each transaction. If this code starts with letter 'C', it indicates a cancellation. \n",
    "* **StockCode:** Product (item) code. Nominal, a 5-digit integral number uniquely assigned to each distinct product. \n",
    "* **Description:** Product (item) name. Nominal. \n",
    "* **Quantity:** The quantities of each product (item) per transaction. Numeric. \n",
    "* **InvoiceDate:** Invice Date and time. Numeric, the day and time when each transaction was generated. \n",
    "* **UnitPrice:** Unit price. Numeric, Product price per unit in sterling. \n",
    "* **CustomerID:** Customer number. Nominal, a 5-digit integral number uniquely assigned to each customer. \n",
    "* **Country:** Country name. Nominal, the name of the country where each customer resides.\n",
    "\n",
    "*Nominal:* a type of data that is used to label variables without providing any quantitative value."
   ]
  },
  {
   "cell_type": "code",
   "execution_count": 14,
   "metadata": {
    "colab": {
     "base_uri": "https://localhost:8080/",
     "height": 204
    },
    "executionInfo": {
     "elapsed": 836,
     "status": "ok",
     "timestamp": 1664872628637,
     "user": {
      "displayName": "alessandro celestini",
      "userId": "05873352416691815837"
     },
     "user_tz": -120
    },
    "id": "0DVt2Nb7eHXO",
    "outputId": "b8fc4ec1-e021-44f3-8517-f4230771270a"
   },
   "outputs": [
    {
     "data": {
      "text/html": [
       "<div>\n",
       "<style scoped>\n",
       "    .dataframe tbody tr th:only-of-type {\n",
       "        vertical-align: middle;\n",
       "    }\n",
       "\n",
       "    .dataframe tbody tr th {\n",
       "        vertical-align: top;\n",
       "    }\n",
       "\n",
       "    .dataframe thead th {\n",
       "        text-align: right;\n",
       "    }\n",
       "</style>\n",
       "<table border=\"1\" class=\"dataframe\">\n",
       "  <thead>\n",
       "    <tr style=\"text-align: right;\">\n",
       "      <th></th>\n",
       "      <th>InvoiceNo</th>\n",
       "      <th>StockCode</th>\n",
       "      <th>Description</th>\n",
       "      <th>Quantity</th>\n",
       "      <th>InvoiceDate</th>\n",
       "      <th>UnitPrice</th>\n",
       "      <th>CustomerID</th>\n",
       "      <th>Country</th>\n",
       "    </tr>\n",
       "  </thead>\n",
       "  <tbody>\n",
       "    <tr>\n",
       "      <th>0</th>\n",
       "      <td>536365</td>\n",
       "      <td>85123A</td>\n",
       "      <td>WHITE HANGING HEART T-LIGHT HOLDER</td>\n",
       "      <td>6</td>\n",
       "      <td>2010-12-01 08:26:00</td>\n",
       "      <td>2.55</td>\n",
       "      <td>17850.0</td>\n",
       "      <td>United Kingdom</td>\n",
       "    </tr>\n",
       "    <tr>\n",
       "      <th>1</th>\n",
       "      <td>536365</td>\n",
       "      <td>71053</td>\n",
       "      <td>WHITE METAL LANTERN</td>\n",
       "      <td>6</td>\n",
       "      <td>2010-12-01 08:26:00</td>\n",
       "      <td>3.39</td>\n",
       "      <td>17850.0</td>\n",
       "      <td>United Kingdom</td>\n",
       "    </tr>\n",
       "    <tr>\n",
       "      <th>2</th>\n",
       "      <td>536365</td>\n",
       "      <td>84406B</td>\n",
       "      <td>CREAM CUPID HEARTS COAT HANGER</td>\n",
       "      <td>8</td>\n",
       "      <td>2010-12-01 08:26:00</td>\n",
       "      <td>2.75</td>\n",
       "      <td>17850.0</td>\n",
       "      <td>United Kingdom</td>\n",
       "    </tr>\n",
       "    <tr>\n",
       "      <th>3</th>\n",
       "      <td>536365</td>\n",
       "      <td>84029G</td>\n",
       "      <td>KNITTED UNION FLAG HOT WATER BOTTLE</td>\n",
       "      <td>6</td>\n",
       "      <td>2010-12-01 08:26:00</td>\n",
       "      <td>3.39</td>\n",
       "      <td>17850.0</td>\n",
       "      <td>United Kingdom</td>\n",
       "    </tr>\n",
       "    <tr>\n",
       "      <th>4</th>\n",
       "      <td>536365</td>\n",
       "      <td>84029E</td>\n",
       "      <td>RED WOOLLY HOTTIE WHITE HEART.</td>\n",
       "      <td>6</td>\n",
       "      <td>2010-12-01 08:26:00</td>\n",
       "      <td>3.39</td>\n",
       "      <td>17850.0</td>\n",
       "      <td>United Kingdom</td>\n",
       "    </tr>\n",
       "  </tbody>\n",
       "</table>\n",
       "</div>"
      ],
      "text/plain": [
       "  InvoiceNo StockCode                          Description  Quantity  \\\n",
       "0    536365    85123A   WHITE HANGING HEART T-LIGHT HOLDER         6   \n",
       "1    536365     71053                  WHITE METAL LANTERN         6   \n",
       "2    536365    84406B       CREAM CUPID HEARTS COAT HANGER         8   \n",
       "3    536365    84029G  KNITTED UNION FLAG HOT WATER BOTTLE         6   \n",
       "4    536365    84029E       RED WOOLLY HOTTIE WHITE HEART.         6   \n",
       "\n",
       "           InvoiceDate  UnitPrice  CustomerID         Country  \n",
       "0  2010-12-01 08:26:00       2.55     17850.0  United Kingdom  \n",
       "1  2010-12-01 08:26:00       3.39     17850.0  United Kingdom  \n",
       "2  2010-12-01 08:26:00       2.75     17850.0  United Kingdom  \n",
       "3  2010-12-01 08:26:00       3.39     17850.0  United Kingdom  \n",
       "4  2010-12-01 08:26:00       3.39     17850.0  United Kingdom  "
      ]
     },
     "execution_count": 14,
     "metadata": {},
     "output_type": "execute_result"
    }
   ],
   "source": [
    "# We load the dataset\n",
    "\n",
    "df = pd.read_csv(\"Online_Retail.csv\")\n",
    "df.head()"
   ]
  },
  {
   "cell_type": "code",
   "execution_count": 15,
   "metadata": {
    "colab": {
     "base_uri": "https://localhost:8080/"
    },
    "executionInfo": {
     "elapsed": 12,
     "status": "ok",
     "timestamp": 1664872628637,
     "user": {
      "displayName": "alessandro celestini",
      "userId": "05873352416691815837"
     },
     "user_tz": -120
    },
    "id": "RvfUqRXGkUiH",
    "outputId": "607d0d87-45fe-44f8-bacb-588861bcfc0a"
   },
   "outputs": [
    {
     "data": {
      "text/plain": [
       "(541909, 8)"
      ]
     },
     "execution_count": 15,
     "metadata": {},
     "output_type": "execute_result"
    }
   ],
   "source": [
    "# We check the number of rows and columns\n",
    "\n",
    "df.shape"
   ]
  },
  {
   "cell_type": "code",
   "execution_count": 16,
   "metadata": {
    "executionInfo": {
     "elapsed": 515,
     "status": "ok",
     "timestamp": 1664872629149,
     "user": {
      "displayName": "alessandro celestini",
      "userId": "05873352416691815837"
     },
     "user_tz": -120
    },
    "id": "F68cORVbkaBp"
   },
   "outputs": [],
   "source": [
    "# We know that if the InvoiceNo code starts with letter 'C', \n",
    "# it indicates a cancellation.\n",
    "#\n",
    "# We remove all transactions that have been cancelled\n",
    "#\n",
    "\n",
    "df = df[ ~df['InvoiceNo'].str.startswith('C') ]"
   ]
  },
  {
   "cell_type": "code",
   "execution_count": 17,
   "metadata": {
    "colab": {
     "base_uri": "https://localhost:8080/",
     "height": 297
    },
    "executionInfo": {
     "elapsed": 7,
     "status": "ok",
     "timestamp": 1664872629149,
     "user": {
      "displayName": "alessandro celestini",
      "userId": "05873352416691815837"
     },
     "user_tz": -120
    },
    "id": "wclZv3bPlgxX",
    "outputId": "78eac53a-c2ea-4af3-c85d-a560d93a8ee8"
   },
   "outputs": [
    {
     "data": {
      "text/html": [
       "<div>\n",
       "<style scoped>\n",
       "    .dataframe tbody tr th:only-of-type {\n",
       "        vertical-align: middle;\n",
       "    }\n",
       "\n",
       "    .dataframe tbody tr th {\n",
       "        vertical-align: top;\n",
       "    }\n",
       "\n",
       "    .dataframe thead th {\n",
       "        text-align: right;\n",
       "    }\n",
       "</style>\n",
       "<table border=\"1\" class=\"dataframe\">\n",
       "  <thead>\n",
       "    <tr style=\"text-align: right;\">\n",
       "      <th></th>\n",
       "      <th>Quantity</th>\n",
       "      <th>UnitPrice</th>\n",
       "    </tr>\n",
       "  </thead>\n",
       "  <tbody>\n",
       "    <tr>\n",
       "      <th>count</th>\n",
       "      <td>532621.000000</td>\n",
       "      <td>532621.000000</td>\n",
       "    </tr>\n",
       "    <tr>\n",
       "      <th>mean</th>\n",
       "      <td>10.239972</td>\n",
       "      <td>3.847621</td>\n",
       "    </tr>\n",
       "    <tr>\n",
       "      <th>std</th>\n",
       "      <td>159.593551</td>\n",
       "      <td>41.758023</td>\n",
       "    </tr>\n",
       "    <tr>\n",
       "      <th>min</th>\n",
       "      <td>-9600.000000</td>\n",
       "      <td>-11062.060000</td>\n",
       "    </tr>\n",
       "    <tr>\n",
       "      <th>25%</th>\n",
       "      <td>1.000000</td>\n",
       "      <td>1.250000</td>\n",
       "    </tr>\n",
       "    <tr>\n",
       "      <th>50%</th>\n",
       "      <td>3.000000</td>\n",
       "      <td>2.080000</td>\n",
       "    </tr>\n",
       "    <tr>\n",
       "      <th>75%</th>\n",
       "      <td>10.000000</td>\n",
       "      <td>4.130000</td>\n",
       "    </tr>\n",
       "    <tr>\n",
       "      <th>max</th>\n",
       "      <td>80995.000000</td>\n",
       "      <td>13541.330000</td>\n",
       "    </tr>\n",
       "  </tbody>\n",
       "</table>\n",
       "</div>"
      ],
      "text/plain": [
       "            Quantity      UnitPrice\n",
       "count  532621.000000  532621.000000\n",
       "mean       10.239972       3.847621\n",
       "std       159.593551      41.758023\n",
       "min     -9600.000000  -11062.060000\n",
       "25%         1.000000       1.250000\n",
       "50%         3.000000       2.080000\n",
       "75%        10.000000       4.130000\n",
       "max     80995.000000   13541.330000"
      ]
     },
     "execution_count": 17,
     "metadata": {},
     "output_type": "execute_result"
    }
   ],
   "source": [
    "# We have two numeric columns: Quantity and Unit Price.\n",
    "\n",
    "df[['Quantity','UnitPrice']].describe()"
   ]
  },
  {
   "cell_type": "markdown",
   "metadata": {
    "id": "uP7SduTFnJ2K"
   },
   "source": [
    "* We observe that *Quantity* and *Unit Price* columns include negative values.\n",
    "\n",
    "  * We are interested in transactions that describe customer purchases.\n",
    "\n",
    "  * We can remove these rows.\n",
    "\n",
    "* **Q1:** What are these transactions?"
   ]
  },
  {
   "cell_type": "code",
   "execution_count": 18,
   "metadata": {
    "colab": {
     "base_uri": "https://localhost:8080/",
     "height": 419
    },
    "executionInfo": {
     "elapsed": 7,
     "status": "ok",
     "timestamp": 1664872629150,
     "user": {
      "displayName": "alessandro celestini",
      "userId": "05873352416691815837"
     },
     "user_tz": -120
    },
    "id": "AWhxTDPxovIK",
    "outputId": "976d6e1b-12ca-444c-d6f9-ed6590dcae73"
   },
   "outputs": [
    {
     "data": {
      "text/html": [
       "<div>\n",
       "<style scoped>\n",
       "    .dataframe tbody tr th:only-of-type {\n",
       "        vertical-align: middle;\n",
       "    }\n",
       "\n",
       "    .dataframe tbody tr th {\n",
       "        vertical-align: top;\n",
       "    }\n",
       "\n",
       "    .dataframe thead th {\n",
       "        text-align: right;\n",
       "    }\n",
       "</style>\n",
       "<table border=\"1\" class=\"dataframe\">\n",
       "  <thead>\n",
       "    <tr style=\"text-align: right;\">\n",
       "      <th></th>\n",
       "      <th>InvoiceNo</th>\n",
       "      <th>StockCode</th>\n",
       "      <th>Description</th>\n",
       "      <th>Quantity</th>\n",
       "      <th>InvoiceDate</th>\n",
       "      <th>UnitPrice</th>\n",
       "      <th>CustomerID</th>\n",
       "      <th>Country</th>\n",
       "    </tr>\n",
       "  </thead>\n",
       "  <tbody>\n",
       "    <tr>\n",
       "      <th>7313</th>\n",
       "      <td>537032</td>\n",
       "      <td>21275</td>\n",
       "      <td>?</td>\n",
       "      <td>-30</td>\n",
       "      <td>2010-12-03 16:50:00</td>\n",
       "      <td>0.0</td>\n",
       "      <td>NaN</td>\n",
       "      <td>United Kingdom</td>\n",
       "    </tr>\n",
       "    <tr>\n",
       "      <th>13217</th>\n",
       "      <td>537425</td>\n",
       "      <td>84968F</td>\n",
       "      <td>check</td>\n",
       "      <td>-20</td>\n",
       "      <td>2010-12-06 15:35:00</td>\n",
       "      <td>0.0</td>\n",
       "      <td>NaN</td>\n",
       "      <td>United Kingdom</td>\n",
       "    </tr>\n",
       "    <tr>\n",
       "      <th>13218</th>\n",
       "      <td>537426</td>\n",
       "      <td>84968E</td>\n",
       "      <td>check</td>\n",
       "      <td>-35</td>\n",
       "      <td>2010-12-06 15:36:00</td>\n",
       "      <td>0.0</td>\n",
       "      <td>NaN</td>\n",
       "      <td>United Kingdom</td>\n",
       "    </tr>\n",
       "    <tr>\n",
       "      <th>13264</th>\n",
       "      <td>537432</td>\n",
       "      <td>35833G</td>\n",
       "      <td>damages</td>\n",
       "      <td>-43</td>\n",
       "      <td>2010-12-06 16:10:00</td>\n",
       "      <td>0.0</td>\n",
       "      <td>NaN</td>\n",
       "      <td>United Kingdom</td>\n",
       "    </tr>\n",
       "    <tr>\n",
       "      <th>21338</th>\n",
       "      <td>538072</td>\n",
       "      <td>22423</td>\n",
       "      <td>faulty</td>\n",
       "      <td>-13</td>\n",
       "      <td>2010-12-09 14:10:00</td>\n",
       "      <td>0.0</td>\n",
       "      <td>NaN</td>\n",
       "      <td>United Kingdom</td>\n",
       "    </tr>\n",
       "    <tr>\n",
       "      <th>...</th>\n",
       "      <td>...</td>\n",
       "      <td>...</td>\n",
       "      <td>...</td>\n",
       "      <td>...</td>\n",
       "      <td>...</td>\n",
       "      <td>...</td>\n",
       "      <td>...</td>\n",
       "      <td>...</td>\n",
       "    </tr>\n",
       "    <tr>\n",
       "      <th>535333</th>\n",
       "      <td>581210</td>\n",
       "      <td>23395</td>\n",
       "      <td>check</td>\n",
       "      <td>-26</td>\n",
       "      <td>2011-12-07 18:36:00</td>\n",
       "      <td>0.0</td>\n",
       "      <td>NaN</td>\n",
       "      <td>United Kingdom</td>\n",
       "    </tr>\n",
       "    <tr>\n",
       "      <th>535335</th>\n",
       "      <td>581212</td>\n",
       "      <td>22578</td>\n",
       "      <td>lost</td>\n",
       "      <td>-1050</td>\n",
       "      <td>2011-12-07 18:38:00</td>\n",
       "      <td>0.0</td>\n",
       "      <td>NaN</td>\n",
       "      <td>United Kingdom</td>\n",
       "    </tr>\n",
       "    <tr>\n",
       "      <th>535336</th>\n",
       "      <td>581213</td>\n",
       "      <td>22576</td>\n",
       "      <td>check</td>\n",
       "      <td>-30</td>\n",
       "      <td>2011-12-07 18:38:00</td>\n",
       "      <td>0.0</td>\n",
       "      <td>NaN</td>\n",
       "      <td>United Kingdom</td>\n",
       "    </tr>\n",
       "    <tr>\n",
       "      <th>536908</th>\n",
       "      <td>581226</td>\n",
       "      <td>23090</td>\n",
       "      <td>missing</td>\n",
       "      <td>-338</td>\n",
       "      <td>2011-12-08 09:56:00</td>\n",
       "      <td>0.0</td>\n",
       "      <td>NaN</td>\n",
       "      <td>United Kingdom</td>\n",
       "    </tr>\n",
       "    <tr>\n",
       "      <th>538919</th>\n",
       "      <td>581422</td>\n",
       "      <td>23169</td>\n",
       "      <td>smashed</td>\n",
       "      <td>-235</td>\n",
       "      <td>2011-12-08 15:24:00</td>\n",
       "      <td>0.0</td>\n",
       "      <td>NaN</td>\n",
       "      <td>United Kingdom</td>\n",
       "    </tr>\n",
       "  </tbody>\n",
       "</table>\n",
       "<p>474 rows × 8 columns</p>\n",
       "</div>"
      ],
      "text/plain": [
       "       InvoiceNo StockCode Description  Quantity          InvoiceDate  \\\n",
       "7313      537032     21275           ?       -30  2010-12-03 16:50:00   \n",
       "13217     537425    84968F       check       -20  2010-12-06 15:35:00   \n",
       "13218     537426    84968E       check       -35  2010-12-06 15:36:00   \n",
       "13264     537432    35833G     damages       -43  2010-12-06 16:10:00   \n",
       "21338     538072     22423      faulty       -13  2010-12-09 14:10:00   \n",
       "...          ...       ...         ...       ...                  ...   \n",
       "535333    581210     23395       check       -26  2011-12-07 18:36:00   \n",
       "535335    581212     22578        lost     -1050  2011-12-07 18:38:00   \n",
       "535336    581213     22576       check       -30  2011-12-07 18:38:00   \n",
       "536908    581226     23090     missing      -338  2011-12-08 09:56:00   \n",
       "538919    581422     23169     smashed      -235  2011-12-08 15:24:00   \n",
       "\n",
       "        UnitPrice  CustomerID         Country  \n",
       "7313          0.0         NaN  United Kingdom  \n",
       "13217         0.0         NaN  United Kingdom  \n",
       "13218         0.0         NaN  United Kingdom  \n",
       "13264         0.0         NaN  United Kingdom  \n",
       "21338         0.0         NaN  United Kingdom  \n",
       "...           ...         ...             ...  \n",
       "535333        0.0         NaN  United Kingdom  \n",
       "535335        0.0         NaN  United Kingdom  \n",
       "535336        0.0         NaN  United Kingdom  \n",
       "536908        0.0         NaN  United Kingdom  \n",
       "538919        0.0         NaN  United Kingdom  \n",
       "\n",
       "[474 rows x 8 columns]"
      ]
     },
     "execution_count": 18,
     "metadata": {},
     "output_type": "execute_result"
    }
   ],
   "source": [
    "# We try do understand from the description what is \n",
    "# the content of these rows.\n",
    "\n",
    "df[ (df['Quantity'] <= 0) & (~df['Description'].isnull()) ]"
   ]
  },
  {
   "cell_type": "markdown",
   "metadata": {
    "id": "FEPIkw2go64i"
   },
   "source": [
    "* It seems that the dataset includes lost, damaged and returned items.\n"
   ]
  },
  {
   "cell_type": "code",
   "execution_count": 19,
   "metadata": {
    "executionInfo": {
     "elapsed": 468,
     "status": "ok",
     "timestamp": 1664872629613,
     "user": {
      "displayName": "alessandro celestini",
      "userId": "05873352416691815837"
     },
     "user_tz": -120
    },
    "id": "QaFgTZQLqFzj"
   },
   "outputs": [],
   "source": [
    "# We remove the transactions with a negative Quantity\n",
    "\n",
    "df = df[ df['Quantity'] > 0 ]\n",
    "\n",
    "# We remove the transactions with a negative Unit Price\n",
    "\n",
    "df = df[ df['UnitPrice'] > 0]"
   ]
  },
  {
   "cell_type": "markdown",
   "metadata": {
    "id": "QlxbADp_rY6h"
   },
   "source": [
    "#### **Q1:** Does the dataframe contain null values?\n",
    "\n",
    "\n",
    "\n"
   ]
  },
  {
   "cell_type": "code",
   "execution_count": 20,
   "metadata": {
    "colab": {
     "base_uri": "https://localhost:8080/"
    },
    "executionInfo": {
     "elapsed": 5,
     "status": "ok",
     "timestamp": 1664872629614,
     "user": {
      "displayName": "alessandro celestini",
      "userId": "05873352416691815837"
     },
     "user_tz": -120
    },
    "id": "rwKqzONDrPWV",
    "outputId": "13aa9b88-95da-48e8-8357-a42cd1b08987"
   },
   "outputs": [
    {
     "data": {
      "text/plain": [
       "InvoiceNo           0\n",
       "StockCode           0\n",
       "Description         0\n",
       "Quantity            0\n",
       "InvoiceDate         0\n",
       "UnitPrice           0\n",
       "CustomerID     132220\n",
       "Country             0\n",
       "dtype: int64"
      ]
     },
     "execution_count": 20,
     "metadata": {},
     "output_type": "execute_result"
    }
   ],
   "source": [
    "df.isna().sum()"
   ]
  },
  {
   "cell_type": "markdown",
   "metadata": {
    "id": "N4m4YQPPdVGU"
   },
   "source": [
    "* The dataframe contains transaction that failed to capture the CustomerID. \n",
    "\n",
    "* We want to cluster our customers, thus these rows are of not use for our task. \n",
    "\n",
    "   *  We remove the rows."
   ]
  },
  {
   "cell_type": "code",
   "execution_count": 21,
   "metadata": {
    "executionInfo": {
     "elapsed": 304,
     "status": "ok",
     "timestamp": 1664872629915,
     "user": {
      "displayName": "alessandro celestini",
      "userId": "05873352416691815837"
     },
     "user_tz": -120
    },
    "id": "Seaw1rPVrxDF"
   },
   "outputs": [],
   "source": [
    "df.dropna(inplace=True)\n",
    "\n",
    "# ** NOTE **\n",
    "#\n",
    "#  dropna()\n",
    "#\n",
    "#    Remove missing values.\n",
    "#\n",
    "#    inplace: bool, default False\n",
    "#      Whether to modify the DataFrame rather than creating a new one.\n",
    "#\n",
    "# ** NOTE **\n"
   ]
  },
  {
   "cell_type": "markdown",
   "metadata": {
    "id": "UOeY_eIIrJ3Q"
   },
   "source": [
    "#### **Q1:** Does the dataframe contain duplicated rows?\n",
    "\n"
   ]
  },
  {
   "cell_type": "code",
   "execution_count": 22,
   "metadata": {
    "colab": {
     "base_uri": "https://localhost:8080/"
    },
    "executionInfo": {
     "elapsed": 3,
     "status": "ok",
     "timestamp": 1664872629915,
     "user": {
      "displayName": "alessandro celestini",
      "userId": "05873352416691815837"
     },
     "user_tz": -120
    },
    "id": "dnZU5k8sf7rH",
    "outputId": "2c0a6e14-61ce-4bd4-cfae-155b5865f8d9"
   },
   "outputs": [
    {
     "data": {
      "text/plain": [
       "5192"
      ]
     },
     "execution_count": 22,
     "metadata": {},
     "output_type": "execute_result"
    }
   ],
   "source": [
    "df.duplicated().sum()"
   ]
  },
  {
   "cell_type": "code",
   "execution_count": 23,
   "metadata": {
    "executionInfo": {
     "elapsed": 477,
     "status": "ok",
     "timestamp": 1664872630390,
     "user": {
      "displayName": "alessandro celestini",
      "userId": "05873352416691815837"
     },
     "user_tz": -120
    },
    "id": "FweciquCg5do"
   },
   "outputs": [],
   "source": [
    "df = df.drop_duplicates()\n",
    "\n",
    "# ** NOTE **\n",
    "#\n",
    "#  drop_duplicates()\n",
    "# \n",
    "#   Return DataFrame with duplicate rows removed.\n",
    "#\n",
    "# ** NOTE **"
   ]
  },
  {
   "cell_type": "code",
   "execution_count": 24,
   "metadata": {
    "colab": {
     "base_uri": "https://localhost:8080/",
     "height": 204
    },
    "executionInfo": {
     "elapsed": 13,
     "status": "ok",
     "timestamp": 1664872630390,
     "user": {
      "displayName": "alessandro celestini",
      "userId": "05873352416691815837"
     },
     "user_tz": -120
    },
    "id": "5X0IXiPMeR-S",
    "outputId": "86d02790-4fe1-49a9-be62-518e6d32fdec"
   },
   "outputs": [
    {
     "data": {
      "text/html": [
       "<div>\n",
       "<style scoped>\n",
       "    .dataframe tbody tr th:only-of-type {\n",
       "        vertical-align: middle;\n",
       "    }\n",
       "\n",
       "    .dataframe tbody tr th {\n",
       "        vertical-align: top;\n",
       "    }\n",
       "\n",
       "    .dataframe thead th {\n",
       "        text-align: right;\n",
       "    }\n",
       "</style>\n",
       "<table border=\"1\" class=\"dataframe\">\n",
       "  <thead>\n",
       "    <tr style=\"text-align: right;\">\n",
       "      <th></th>\n",
       "      <th>InvoiceNo</th>\n",
       "      <th>StockCode</th>\n",
       "      <th>Description</th>\n",
       "      <th>Quantity</th>\n",
       "      <th>InvoiceDate</th>\n",
       "      <th>UnitPrice</th>\n",
       "      <th>CustomerID</th>\n",
       "      <th>Country</th>\n",
       "    </tr>\n",
       "  </thead>\n",
       "  <tbody>\n",
       "    <tr>\n",
       "      <th>0</th>\n",
       "      <td>536365</td>\n",
       "      <td>85123A</td>\n",
       "      <td>WHITE HANGING HEART T-LIGHT HOLDER</td>\n",
       "      <td>6</td>\n",
       "      <td>2010-12-01 08:26:00</td>\n",
       "      <td>2.55</td>\n",
       "      <td>17850.0</td>\n",
       "      <td>United Kingdom</td>\n",
       "    </tr>\n",
       "    <tr>\n",
       "      <th>1</th>\n",
       "      <td>536365</td>\n",
       "      <td>71053</td>\n",
       "      <td>WHITE METAL LANTERN</td>\n",
       "      <td>6</td>\n",
       "      <td>2010-12-01 08:26:00</td>\n",
       "      <td>3.39</td>\n",
       "      <td>17850.0</td>\n",
       "      <td>United Kingdom</td>\n",
       "    </tr>\n",
       "    <tr>\n",
       "      <th>2</th>\n",
       "      <td>536365</td>\n",
       "      <td>84406B</td>\n",
       "      <td>CREAM CUPID HEARTS COAT HANGER</td>\n",
       "      <td>8</td>\n",
       "      <td>2010-12-01 08:26:00</td>\n",
       "      <td>2.75</td>\n",
       "      <td>17850.0</td>\n",
       "      <td>United Kingdom</td>\n",
       "    </tr>\n",
       "    <tr>\n",
       "      <th>3</th>\n",
       "      <td>536365</td>\n",
       "      <td>84029G</td>\n",
       "      <td>KNITTED UNION FLAG HOT WATER BOTTLE</td>\n",
       "      <td>6</td>\n",
       "      <td>2010-12-01 08:26:00</td>\n",
       "      <td>3.39</td>\n",
       "      <td>17850.0</td>\n",
       "      <td>United Kingdom</td>\n",
       "    </tr>\n",
       "    <tr>\n",
       "      <th>4</th>\n",
       "      <td>536365</td>\n",
       "      <td>84029E</td>\n",
       "      <td>RED WOOLLY HOTTIE WHITE HEART.</td>\n",
       "      <td>6</td>\n",
       "      <td>2010-12-01 08:26:00</td>\n",
       "      <td>3.39</td>\n",
       "      <td>17850.0</td>\n",
       "      <td>United Kingdom</td>\n",
       "    </tr>\n",
       "  </tbody>\n",
       "</table>\n",
       "</div>"
      ],
      "text/plain": [
       "  InvoiceNo StockCode                          Description  Quantity  \\\n",
       "0    536365    85123A   WHITE HANGING HEART T-LIGHT HOLDER         6   \n",
       "1    536365     71053                  WHITE METAL LANTERN         6   \n",
       "2    536365    84406B       CREAM CUPID HEARTS COAT HANGER         8   \n",
       "3    536365    84029G  KNITTED UNION FLAG HOT WATER BOTTLE         6   \n",
       "4    536365    84029E       RED WOOLLY HOTTIE WHITE HEART.         6   \n",
       "\n",
       "           InvoiceDate  UnitPrice  CustomerID         Country  \n",
       "0  2010-12-01 08:26:00       2.55     17850.0  United Kingdom  \n",
       "1  2010-12-01 08:26:00       3.39     17850.0  United Kingdom  \n",
       "2  2010-12-01 08:26:00       2.75     17850.0  United Kingdom  \n",
       "3  2010-12-01 08:26:00       3.39     17850.0  United Kingdom  \n",
       "4  2010-12-01 08:26:00       3.39     17850.0  United Kingdom  "
      ]
     },
     "execution_count": 24,
     "metadata": {},
     "output_type": "execute_result"
    }
   ],
   "source": [
    "df.head()"
   ]
  },
  {
   "cell_type": "markdown",
   "metadata": {
    "id": "v1m_qokdeuJV"
   },
   "source": [
    "### **Exercise**\n",
    "\n",
    "#### Exploratory Data Analysis\n",
    "\n",
    "* **Q1:** Top 10 ordering countries (number of orders).\n",
    "\n",
    "* **Q2:** Number of unique customers.\n",
    "\n",
    "* **Q3:** Check the constraint StockCode/Description."
   ]
  },
  {
   "cell_type": "code",
   "execution_count": 25,
   "metadata": {
    "executionInfo": {
     "elapsed": 13,
     "status": "ok",
     "timestamp": 1664872630391,
     "user": {
      "displayName": "alessandro celestini",
      "userId": "05873352416691815837"
     },
     "user_tz": -120
    },
    "id": "GCWnFhX9uQTo"
   },
   "outputs": [],
   "source": [
    "# The code goes here!"
   ]
  },
  {
   "cell_type": "markdown",
   "metadata": {
    "id": "SG98S5oAqhnE"
   },
   "source": [
    "### **Checking Data Types**"
   ]
  },
  {
   "cell_type": "code",
   "execution_count": 26,
   "metadata": {
    "colab": {
     "base_uri": "https://localhost:8080/"
    },
    "executionInfo": {
     "elapsed": 12,
     "status": "ok",
     "timestamp": 1664872630391,
     "user": {
      "displayName": "alessandro celestini",
      "userId": "05873352416691815837"
     },
     "user_tz": -120
    },
    "id": "YcthRYxwqh5y",
    "outputId": "d87b4ab2-3b11-4f90-8d1b-3c705004b36b"
   },
   "outputs": [
    {
     "data": {
      "text/plain": [
       "InvoiceNo       object\n",
       "StockCode       object\n",
       "Description     object\n",
       "Quantity         int64\n",
       "InvoiceDate     object\n",
       "UnitPrice      float64\n",
       "CustomerID     float64\n",
       "Country         object\n",
       "dtype: object"
      ]
     },
     "execution_count": 26,
     "metadata": {},
     "output_type": "execute_result"
    }
   ],
   "source": [
    "df.dtypes"
   ]
  },
  {
   "cell_type": "code",
   "execution_count": 27,
   "metadata": {
    "executionInfo": {
     "elapsed": 298,
     "status": "ok",
     "timestamp": 1664872630685,
     "user": {
      "displayName": "alessandro celestini",
      "userId": "05873352416691815837"
     },
     "user_tz": -120
    },
    "id": "EfH1aaqqqyfd"
   },
   "outputs": [],
   "source": [
    "# We convert the InvoiceDate to DateTime\n",
    "\n",
    "df['InvoiceDate'] = pd.to_datetime(df['InvoiceDate'])\n",
    "\n",
    "df = df.astype({'CustomerID': 'int64'})"
   ]
  },
  {
   "cell_type": "code",
   "execution_count": 28,
   "metadata": {
    "colab": {
     "base_uri": "https://localhost:8080/"
    },
    "executionInfo": {
     "elapsed": 5,
     "status": "ok",
     "timestamp": 1664872630685,
     "user": {
      "displayName": "alessandro celestini",
      "userId": "05873352416691815837"
     },
     "user_tz": -120
    },
    "id": "-FmCjISy9yV7",
    "outputId": "596fd781-d88d-4838-de09-b293f1737c8a"
   },
   "outputs": [
    {
     "data": {
      "text/plain": [
       "InvoiceNo              object\n",
       "StockCode              object\n",
       "Description            object\n",
       "Quantity                int64\n",
       "InvoiceDate    datetime64[ns]\n",
       "UnitPrice             float64\n",
       "CustomerID              int64\n",
       "Country                object\n",
       "dtype: object"
      ]
     },
     "execution_count": 28,
     "metadata": {},
     "output_type": "execute_result"
    }
   ],
   "source": [
    "df.dtypes"
   ]
  },
  {
   "cell_type": "markdown",
   "metadata": {
    "id": "Y86UZuRZFkgZ"
   },
   "source": [
    "We expect each invoice to have a unique date, let's check the constraint InvoiceNo/InvoiceDate."
   ]
  },
  {
   "cell_type": "code",
   "execution_count": 29,
   "metadata": {
    "colab": {
     "base_uri": "https://localhost:8080/",
     "height": 419
    },
    "executionInfo": {
     "elapsed": 5,
     "status": "ok",
     "timestamp": 1664872630686,
     "user": {
      "displayName": "alessandro celestini",
      "userId": "05873352416691815837"
     },
     "user_tz": -120
    },
    "id": "7BbQV_UM-QRE",
    "outputId": "fc311e75-392f-4511-a684-e316fa320da2"
   },
   "outputs": [
    {
     "data": {
      "text/html": [
       "<div>\n",
       "<style scoped>\n",
       "    .dataframe tbody tr th:only-of-type {\n",
       "        vertical-align: middle;\n",
       "    }\n",
       "\n",
       "    .dataframe tbody tr th {\n",
       "        vertical-align: top;\n",
       "    }\n",
       "\n",
       "    .dataframe thead th {\n",
       "        text-align: right;\n",
       "    }\n",
       "</style>\n",
       "<table border=\"1\" class=\"dataframe\">\n",
       "  <thead>\n",
       "    <tr style=\"text-align: right;\">\n",
       "      <th></th>\n",
       "      <th>InvoiceNo</th>\n",
       "      <th>StockCode</th>\n",
       "      <th>Description</th>\n",
       "      <th>Quantity</th>\n",
       "      <th>InvoiceDate</th>\n",
       "      <th>UnitPrice</th>\n",
       "      <th>CustomerID</th>\n",
       "      <th>Country</th>\n",
       "    </tr>\n",
       "  </thead>\n",
       "  <tbody>\n",
       "    <tr>\n",
       "      <th>2421</th>\n",
       "      <td>536591</td>\n",
       "      <td>21427</td>\n",
       "      <td>SKULLS STORAGE BOX SMALL</td>\n",
       "      <td>1</td>\n",
       "      <td>2010-12-01 16:57:00</td>\n",
       "      <td>2.10</td>\n",
       "      <td>14606</td>\n",
       "      <td>United Kingdom</td>\n",
       "    </tr>\n",
       "    <tr>\n",
       "      <th>2440</th>\n",
       "      <td>536591</td>\n",
       "      <td>20768</td>\n",
       "      <td>GREEN FERN JOURNAL</td>\n",
       "      <td>1</td>\n",
       "      <td>2010-12-01 16:57:00</td>\n",
       "      <td>2.55</td>\n",
       "      <td>14606</td>\n",
       "      <td>United Kingdom</td>\n",
       "    </tr>\n",
       "    <tr>\n",
       "      <th>2441</th>\n",
       "      <td>536591</td>\n",
       "      <td>22081</td>\n",
       "      <td>RIBBON REEL FLORA + FAUNA</td>\n",
       "      <td>1</td>\n",
       "      <td>2010-12-01 16:57:00</td>\n",
       "      <td>1.65</td>\n",
       "      <td>14606</td>\n",
       "      <td>United Kingdom</td>\n",
       "    </tr>\n",
       "    <tr>\n",
       "      <th>2442</th>\n",
       "      <td>536591</td>\n",
       "      <td>20780</td>\n",
       "      <td>BLACK EAR MUFF HEADPHONES</td>\n",
       "      <td>1</td>\n",
       "      <td>2010-12-01 16:57:00</td>\n",
       "      <td>5.49</td>\n",
       "      <td>14606</td>\n",
       "      <td>United Kingdom</td>\n",
       "    </tr>\n",
       "    <tr>\n",
       "      <th>2443</th>\n",
       "      <td>536591</td>\n",
       "      <td>51014C</td>\n",
       "      <td>FEATHER PEN,COAL BLACK</td>\n",
       "      <td>12</td>\n",
       "      <td>2010-12-01 16:57:00</td>\n",
       "      <td>0.85</td>\n",
       "      <td>14606</td>\n",
       "      <td>United Kingdom</td>\n",
       "    </tr>\n",
       "    <tr>\n",
       "      <th>...</th>\n",
       "      <td>...</td>\n",
       "      <td>...</td>\n",
       "      <td>...</td>\n",
       "      <td>...</td>\n",
       "      <td>...</td>\n",
       "      <td>...</td>\n",
       "      <td>...</td>\n",
       "      <td>...</td>\n",
       "    </tr>\n",
       "    <tr>\n",
       "      <th>498962</th>\n",
       "      <td>578548</td>\n",
       "      <td>84347</td>\n",
       "      <td>ROTATING SILVER ANGELS T-LIGHT HLDR</td>\n",
       "      <td>2</td>\n",
       "      <td>2011-11-24 15:02:00</td>\n",
       "      <td>2.55</td>\n",
       "      <td>17345</td>\n",
       "      <td>United Kingdom</td>\n",
       "    </tr>\n",
       "    <tr>\n",
       "      <th>498963</th>\n",
       "      <td>578548</td>\n",
       "      <td>85048</td>\n",
       "      <td>15CM CHRISTMAS GLASS BALL 20 LIGHTS</td>\n",
       "      <td>2</td>\n",
       "      <td>2011-11-24 15:02:00</td>\n",
       "      <td>7.95</td>\n",
       "      <td>17345</td>\n",
       "      <td>United Kingdom</td>\n",
       "    </tr>\n",
       "    <tr>\n",
       "      <th>498952</th>\n",
       "      <td>578548</td>\n",
       "      <td>84673A</td>\n",
       "      <td>PINK FLY SWAT</td>\n",
       "      <td>2</td>\n",
       "      <td>2011-11-24 15:02:00</td>\n",
       "      <td>0.65</td>\n",
       "      <td>17345</td>\n",
       "      <td>United Kingdom</td>\n",
       "    </tr>\n",
       "    <tr>\n",
       "      <th>498991</th>\n",
       "      <td>578548</td>\n",
       "      <td>84347</td>\n",
       "      <td>ROTATING SILVER ANGELS T-LIGHT HLDR</td>\n",
       "      <td>3</td>\n",
       "      <td>2011-11-24 15:03:00</td>\n",
       "      <td>2.55</td>\n",
       "      <td>17345</td>\n",
       "      <td>United Kingdom</td>\n",
       "    </tr>\n",
       "    <tr>\n",
       "      <th>498992</th>\n",
       "      <td>578548</td>\n",
       "      <td>22411</td>\n",
       "      <td>JUMBO SHOPPER VINTAGE RED PAISLEY</td>\n",
       "      <td>1</td>\n",
       "      <td>2011-11-24 15:03:00</td>\n",
       "      <td>2.08</td>\n",
       "      <td>17345</td>\n",
       "      <td>United Kingdom</td>\n",
       "    </tr>\n",
       "  </tbody>\n",
       "</table>\n",
       "<p>1586 rows × 8 columns</p>\n",
       "</div>"
      ],
      "text/plain": [
       "       InvoiceNo StockCode                          Description  Quantity  \\\n",
       "2421      536591     21427             SKULLS STORAGE BOX SMALL         1   \n",
       "2440      536591     20768                  GREEN FERN JOURNAL          1   \n",
       "2441      536591     22081           RIBBON REEL FLORA + FAUNA          1   \n",
       "2442      536591     20780            BLACK EAR MUFF HEADPHONES         1   \n",
       "2443      536591    51014C               FEATHER PEN,COAL BLACK        12   \n",
       "...          ...       ...                                  ...       ...   \n",
       "498962    578548     84347  ROTATING SILVER ANGELS T-LIGHT HLDR         2   \n",
       "498963    578548     85048  15CM CHRISTMAS GLASS BALL 20 LIGHTS         2   \n",
       "498952    578548    84673A                        PINK FLY SWAT         2   \n",
       "498991    578548     84347  ROTATING SILVER ANGELS T-LIGHT HLDR         3   \n",
       "498992    578548     22411    JUMBO SHOPPER VINTAGE RED PAISLEY         1   \n",
       "\n",
       "               InvoiceDate  UnitPrice  CustomerID         Country  \n",
       "2421   2010-12-01 16:57:00       2.10       14606  United Kingdom  \n",
       "2440   2010-12-01 16:57:00       2.55       14606  United Kingdom  \n",
       "2441   2010-12-01 16:57:00       1.65       14606  United Kingdom  \n",
       "2442   2010-12-01 16:57:00       5.49       14606  United Kingdom  \n",
       "2443   2010-12-01 16:57:00       0.85       14606  United Kingdom  \n",
       "...                    ...        ...         ...             ...  \n",
       "498962 2011-11-24 15:02:00       2.55       17345  United Kingdom  \n",
       "498963 2011-11-24 15:02:00       7.95       17345  United Kingdom  \n",
       "498952 2011-11-24 15:02:00       0.65       17345  United Kingdom  \n",
       "498991 2011-11-24 15:03:00       2.55       17345  United Kingdom  \n",
       "498992 2011-11-24 15:03:00       2.08       17345  United Kingdom  \n",
       "\n",
       "[1586 rows x 8 columns]"
      ]
     },
     "execution_count": 29,
     "metadata": {},
     "output_type": "execute_result"
    }
   ],
   "source": [
    "df[ df.groupby([\"InvoiceNo\"])[\"InvoiceDate\"].transform('nunique').gt(1) ].sort_values(by=['InvoiceDate'])"
   ]
  },
  {
   "cell_type": "markdown",
   "metadata": {
    "id": "cXK7tdcu-SuX"
   },
   "source": [
    "It seems that the same invoice can contains different dates, it is that correct?"
   ]
  },
  {
   "cell_type": "code",
   "execution_count": 30,
   "metadata": {
    "colab": {
     "base_uri": "https://localhost:8080/",
     "height": 49
    },
    "executionInfo": {
     "elapsed": 502,
     "status": "ok",
     "timestamp": 1664872631184,
     "user": {
      "displayName": "alessandro celestini",
      "userId": "05873352416691815837"
     },
     "user_tz": -120
    },
    "id": "KCTzN2QG98rQ",
    "outputId": "bb4f52d3-bda5-40c7-db4f-59dc37d425d4"
   },
   "outputs": [
    {
     "data": {
      "text/html": [
       "<div>\n",
       "<style scoped>\n",
       "    .dataframe tbody tr th:only-of-type {\n",
       "        vertical-align: middle;\n",
       "    }\n",
       "\n",
       "    .dataframe tbody tr th {\n",
       "        vertical-align: top;\n",
       "    }\n",
       "\n",
       "    .dataframe thead th {\n",
       "        text-align: right;\n",
       "    }\n",
       "</style>\n",
       "<table border=\"1\" class=\"dataframe\">\n",
       "  <thead>\n",
       "    <tr style=\"text-align: right;\">\n",
       "      <th></th>\n",
       "      <th>InvoiceNo</th>\n",
       "      <th>StockCode</th>\n",
       "      <th>Description</th>\n",
       "      <th>Quantity</th>\n",
       "      <th>InvoiceDate</th>\n",
       "      <th>UnitPrice</th>\n",
       "      <th>CustomerID</th>\n",
       "      <th>Country</th>\n",
       "      <th>Date</th>\n",
       "    </tr>\n",
       "  </thead>\n",
       "  <tbody>\n",
       "  </tbody>\n",
       "</table>\n",
       "</div>"
      ],
      "text/plain": [
       "Empty DataFrame\n",
       "Columns: [InvoiceNo, StockCode, Description, Quantity, InvoiceDate, UnitPrice, CustomerID, Country, Date]\n",
       "Index: []"
      ]
     },
     "execution_count": 30,
     "metadata": {},
     "output_type": "execute_result"
    }
   ],
   "source": [
    "# We create a new column containing only the date.\n",
    "\n",
    "df['Date'] = df[\"InvoiceDate\"].dt.date\n",
    "df['Date'] = pd.to_datetime(df['Date'])\n",
    "\n",
    "# We check the constraint InvoiceNo/Date\n",
    "\n",
    "df[ df.groupby([\"InvoiceNo\"])[\"Date\"].transform('nunique').gt(1) ].sort_values(by=['Date'])"
   ]
  },
  {
   "cell_type": "markdown",
   "metadata": {
    "id": "zz3WQnG2_Zoe"
   },
   "source": [
    "### **RFM Dataframe**\n",
    "\n",
    "To apply the RFM analysis we need the following information: *Recency*, *Frequency*, *Monetary*.\n",
    "\n",
    "* **Q1**: How do we extranct these information from our dataset?\n",
    "\n"
   ]
  },
  {
   "cell_type": "code",
   "execution_count": 31,
   "metadata": {
    "colab": {
     "base_uri": "https://localhost:8080/",
     "height": 204
    },
    "executionInfo": {
     "elapsed": 547,
     "status": "ok",
     "timestamp": 1664872631728,
     "user": {
      "displayName": "alessandro celestini",
      "userId": "05873352416691815837"
     },
     "user_tz": -120
    },
    "id": "cvv5-isJCPee",
    "outputId": "71b84144-6ba2-4b01-e318-9682e3c7d293"
   },
   "outputs": [
    {
     "data": {
      "text/html": [
       "<div>\n",
       "<style scoped>\n",
       "    .dataframe tbody tr th:only-of-type {\n",
       "        vertical-align: middle;\n",
       "    }\n",
       "\n",
       "    .dataframe tbody tr th {\n",
       "        vertical-align: top;\n",
       "    }\n",
       "\n",
       "    .dataframe thead th {\n",
       "        text-align: right;\n",
       "    }\n",
       "</style>\n",
       "<table border=\"1\" class=\"dataframe\">\n",
       "  <thead>\n",
       "    <tr style=\"text-align: right;\">\n",
       "      <th></th>\n",
       "      <th>InvoiceNo</th>\n",
       "      <th>CustomerID</th>\n",
       "      <th>Date</th>\n",
       "      <th>TotalPrice</th>\n",
       "    </tr>\n",
       "  </thead>\n",
       "  <tbody>\n",
       "    <tr>\n",
       "      <th>0</th>\n",
       "      <td>536365</td>\n",
       "      <td>17850</td>\n",
       "      <td>2010-12-01</td>\n",
       "      <td>15.30</td>\n",
       "    </tr>\n",
       "    <tr>\n",
       "      <th>1</th>\n",
       "      <td>536365</td>\n",
       "      <td>17850</td>\n",
       "      <td>2010-12-01</td>\n",
       "      <td>20.34</td>\n",
       "    </tr>\n",
       "    <tr>\n",
       "      <th>2</th>\n",
       "      <td>536365</td>\n",
       "      <td>17850</td>\n",
       "      <td>2010-12-01</td>\n",
       "      <td>22.00</td>\n",
       "    </tr>\n",
       "    <tr>\n",
       "      <th>3</th>\n",
       "      <td>536365</td>\n",
       "      <td>17850</td>\n",
       "      <td>2010-12-01</td>\n",
       "      <td>20.34</td>\n",
       "    </tr>\n",
       "    <tr>\n",
       "      <th>4</th>\n",
       "      <td>536365</td>\n",
       "      <td>17850</td>\n",
       "      <td>2010-12-01</td>\n",
       "      <td>20.34</td>\n",
       "    </tr>\n",
       "  </tbody>\n",
       "</table>\n",
       "</div>"
      ],
      "text/plain": [
       "  InvoiceNo  CustomerID       Date  TotalPrice\n",
       "0    536365       17850 2010-12-01       15.30\n",
       "1    536365       17850 2010-12-01       20.34\n",
       "2    536365       17850 2010-12-01       22.00\n",
       "3    536365       17850 2010-12-01       20.34\n",
       "4    536365       17850 2010-12-01       20.34"
      ]
     },
     "execution_count": 31,
     "metadata": {},
     "output_type": "execute_result"
    }
   ],
   "source": [
    "# 1. We create a new column called 'TotalPrice'\n",
    "\n",
    "df['TotalPrice'] = df['UnitPrice']*df['Quantity']\n",
    "\n",
    "# 2. We remove the columns we do not need\n",
    "\n",
    "df.drop(['StockCode','Description', 'Country', 'UnitPrice', 'Quantity', 'InvoiceDate'], axis=1, inplace=True)\n",
    "\n",
    "# 3. We group data by 'InvoiceNo'\n",
    "\n",
    "df.head()"
   ]
  },
  {
   "cell_type": "markdown",
   "metadata": {
    "id": "RGdrbhcEEAjY"
   },
   "source": [
    "Before this operation we need to check the following constraints:\n",
    "\n",
    " * InvoiceNo/CustomerID"
   ]
  },
  {
   "cell_type": "code",
   "execution_count": 32,
   "metadata": {
    "colab": {
     "base_uri": "https://localhost:8080/",
     "height": 49
    },
    "executionInfo": {
     "elapsed": 18,
     "status": "ok",
     "timestamp": 1664872631729,
     "user": {
      "displayName": "alessandro celestini",
      "userId": "05873352416691815837"
     },
     "user_tz": -120
    },
    "id": "aFoVo_5YEVLT",
    "outputId": "21beeea5-222d-479c-ee2b-cb4d7d9c52b6"
   },
   "outputs": [
    {
     "data": {
      "text/html": [
       "<div>\n",
       "<style scoped>\n",
       "    .dataframe tbody tr th:only-of-type {\n",
       "        vertical-align: middle;\n",
       "    }\n",
       "\n",
       "    .dataframe tbody tr th {\n",
       "        vertical-align: top;\n",
       "    }\n",
       "\n",
       "    .dataframe thead th {\n",
       "        text-align: right;\n",
       "    }\n",
       "</style>\n",
       "<table border=\"1\" class=\"dataframe\">\n",
       "  <thead>\n",
       "    <tr style=\"text-align: right;\">\n",
       "      <th></th>\n",
       "      <th>InvoiceNo</th>\n",
       "      <th>CustomerID</th>\n",
       "      <th>Date</th>\n",
       "      <th>TotalPrice</th>\n",
       "    </tr>\n",
       "  </thead>\n",
       "  <tbody>\n",
       "  </tbody>\n",
       "</table>\n",
       "</div>"
      ],
      "text/plain": [
       "Empty DataFrame\n",
       "Columns: [InvoiceNo, CustomerID, Date, TotalPrice]\n",
       "Index: []"
      ]
     },
     "execution_count": 32,
     "metadata": {},
     "output_type": "execute_result"
    }
   ],
   "source": [
    "# InvoiceNo/CustomerID constraint\n",
    "\n",
    "df[ df.groupby([\"InvoiceNo\"])[\"CustomerID\"].transform('nunique').gt(1) ]"
   ]
  },
  {
   "cell_type": "code",
   "execution_count": 33,
   "metadata": {
    "colab": {
     "base_uri": "https://localhost:8080/",
     "height": 419
    },
    "executionInfo": {
     "elapsed": 17,
     "status": "ok",
     "timestamp": 1664872631729,
     "user": {
      "displayName": "alessandro celestini",
      "userId": "05873352416691815837"
     },
     "user_tz": -120
    },
    "id": "r4jJd3WVERfz",
    "outputId": "2f19c5ea-a659-4098-a6e1-b206d08bb4e3"
   },
   "outputs": [
    {
     "data": {
      "text/html": [
       "<div>\n",
       "<style scoped>\n",
       "    .dataframe tbody tr th:only-of-type {\n",
       "        vertical-align: middle;\n",
       "    }\n",
       "\n",
       "    .dataframe tbody tr th {\n",
       "        vertical-align: top;\n",
       "    }\n",
       "\n",
       "    .dataframe thead th {\n",
       "        text-align: right;\n",
       "    }\n",
       "</style>\n",
       "<table border=\"1\" class=\"dataframe\">\n",
       "  <thead>\n",
       "    <tr style=\"text-align: right;\">\n",
       "      <th></th>\n",
       "      <th>InvoiceNo</th>\n",
       "      <th>Date</th>\n",
       "      <th>CustomerID</th>\n",
       "      <th>TotalPrice</th>\n",
       "    </tr>\n",
       "  </thead>\n",
       "  <tbody>\n",
       "    <tr>\n",
       "      <th>0</th>\n",
       "      <td>536365</td>\n",
       "      <td>2010-12-01</td>\n",
       "      <td>17850</td>\n",
       "      <td>139.12</td>\n",
       "    </tr>\n",
       "    <tr>\n",
       "      <th>1</th>\n",
       "      <td>536366</td>\n",
       "      <td>2010-12-01</td>\n",
       "      <td>17850</td>\n",
       "      <td>22.20</td>\n",
       "    </tr>\n",
       "    <tr>\n",
       "      <th>2</th>\n",
       "      <td>536367</td>\n",
       "      <td>2010-12-01</td>\n",
       "      <td>13047</td>\n",
       "      <td>278.73</td>\n",
       "    </tr>\n",
       "    <tr>\n",
       "      <th>3</th>\n",
       "      <td>536368</td>\n",
       "      <td>2010-12-01</td>\n",
       "      <td>13047</td>\n",
       "      <td>70.05</td>\n",
       "    </tr>\n",
       "    <tr>\n",
       "      <th>4</th>\n",
       "      <td>536369</td>\n",
       "      <td>2010-12-01</td>\n",
       "      <td>13047</td>\n",
       "      <td>17.85</td>\n",
       "    </tr>\n",
       "    <tr>\n",
       "      <th>...</th>\n",
       "      <td>...</td>\n",
       "      <td>...</td>\n",
       "      <td>...</td>\n",
       "      <td>...</td>\n",
       "    </tr>\n",
       "    <tr>\n",
       "      <th>18527</th>\n",
       "      <td>581583</td>\n",
       "      <td>2011-12-09</td>\n",
       "      <td>13777</td>\n",
       "      <td>124.60</td>\n",
       "    </tr>\n",
       "    <tr>\n",
       "      <th>18528</th>\n",
       "      <td>581584</td>\n",
       "      <td>2011-12-09</td>\n",
       "      <td>13777</td>\n",
       "      <td>140.64</td>\n",
       "    </tr>\n",
       "    <tr>\n",
       "      <th>18529</th>\n",
       "      <td>581585</td>\n",
       "      <td>2011-12-09</td>\n",
       "      <td>15804</td>\n",
       "      <td>329.05</td>\n",
       "    </tr>\n",
       "    <tr>\n",
       "      <th>18530</th>\n",
       "      <td>581586</td>\n",
       "      <td>2011-12-09</td>\n",
       "      <td>13113</td>\n",
       "      <td>339.20</td>\n",
       "    </tr>\n",
       "    <tr>\n",
       "      <th>18531</th>\n",
       "      <td>581587</td>\n",
       "      <td>2011-12-09</td>\n",
       "      <td>12680</td>\n",
       "      <td>249.45</td>\n",
       "    </tr>\n",
       "  </tbody>\n",
       "</table>\n",
       "<p>18532 rows × 4 columns</p>\n",
       "</div>"
      ],
      "text/plain": [
       "      InvoiceNo       Date  CustomerID  TotalPrice\n",
       "0        536365 2010-12-01       17850      139.12\n",
       "1        536366 2010-12-01       17850       22.20\n",
       "2        536367 2010-12-01       13047      278.73\n",
       "3        536368 2010-12-01       13047       70.05\n",
       "4        536369 2010-12-01       13047       17.85\n",
       "...         ...        ...         ...         ...\n",
       "18527    581583 2011-12-09       13777      124.60\n",
       "18528    581584 2011-12-09       13777      140.64\n",
       "18529    581585 2011-12-09       15804      329.05\n",
       "18530    581586 2011-12-09       13113      339.20\n",
       "18531    581587 2011-12-09       12680      249.45\n",
       "\n",
       "[18532 rows x 4 columns]"
      ]
     },
     "execution_count": 33,
     "metadata": {},
     "output_type": "execute_result"
    }
   ],
   "source": [
    "# 3. We group data by 'InvoiceNo'\n",
    "\n",
    "df.groupby(['InvoiceNo'], as_index=False).agg({'Date': 'first', 'CustomerID': 'first', 'TotalPrice': 'sum'})"
   ]
  },
  {
   "cell_type": "markdown",
   "metadata": {
    "id": "pm0M6Dt4C-do"
   },
   "source": [
    "#### **Recency**\n",
    "\n",
    "**Q1**: How many days ago was customers last purchase?\n",
    "\n",
    "* We need to fix a reference date to compute how recent is the most recent tranasction of each customer.\n",
    "\n",
    "* We fix the reference date to a day after the most recent transaction date in the dataset."
   ]
  },
  {
   "cell_type": "code",
   "execution_count": 34,
   "metadata": {
    "colab": {
     "base_uri": "https://localhost:8080/"
    },
    "executionInfo": {
     "elapsed": 16,
     "status": "ok",
     "timestamp": 1664872631729,
     "user": {
      "displayName": "alessandro celestini",
      "userId": "05873352416691815837"
     },
     "user_tz": -120
    },
    "id": "xwubmQ9ZC93P",
    "outputId": "02f1e36a-b399-4c0e-9141-4ced974ab286"
   },
   "outputs": [
    {
     "name": "stdout",
     "output_type": "stream",
     "text": [
      "2011-12-09 00:00:00\n",
      "2011-12-10 00:00:00\n"
     ]
    }
   ],
   "source": [
    "# Reference date\n",
    "\n",
    "refDate = df['Date'].max()\n",
    "print(refDate)\n",
    "\n",
    "refDate += pd.Timedelta(\"1 day\")\n",
    "print(refDate)"
   ]
  },
  {
   "cell_type": "code",
   "execution_count": 35,
   "metadata": {
    "colab": {
     "base_uri": "https://localhost:8080/",
     "height": 204
    },
    "executionInfo": {
     "elapsed": 492,
     "status": "ok",
     "timestamp": 1664872632215,
     "user": {
      "displayName": "alessandro celestini",
      "userId": "05873352416691815837"
     },
     "user_tz": -120
    },
    "id": "lu2OafbhKVcH",
    "outputId": "a4aaba26-4d9a-41eb-bf32-1c647a07745c"
   },
   "outputs": [
    {
     "data": {
      "text/html": [
       "<div>\n",
       "<style scoped>\n",
       "    .dataframe tbody tr th:only-of-type {\n",
       "        vertical-align: middle;\n",
       "    }\n",
       "\n",
       "    .dataframe tbody tr th {\n",
       "        vertical-align: top;\n",
       "    }\n",
       "\n",
       "    .dataframe thead th {\n",
       "        text-align: right;\n",
       "    }\n",
       "</style>\n",
       "<table border=\"1\" class=\"dataframe\">\n",
       "  <thead>\n",
       "    <tr style=\"text-align: right;\">\n",
       "      <th></th>\n",
       "      <th>CustomerID</th>\n",
       "      <th>Recency</th>\n",
       "    </tr>\n",
       "  </thead>\n",
       "  <tbody>\n",
       "    <tr>\n",
       "      <th>0</th>\n",
       "      <td>12346</td>\n",
       "      <td>326</td>\n",
       "    </tr>\n",
       "    <tr>\n",
       "      <th>1</th>\n",
       "      <td>12347</td>\n",
       "      <td>3</td>\n",
       "    </tr>\n",
       "    <tr>\n",
       "      <th>2</th>\n",
       "      <td>12348</td>\n",
       "      <td>76</td>\n",
       "    </tr>\n",
       "    <tr>\n",
       "      <th>3</th>\n",
       "      <td>12349</td>\n",
       "      <td>19</td>\n",
       "    </tr>\n",
       "    <tr>\n",
       "      <th>4</th>\n",
       "      <td>12350</td>\n",
       "      <td>311</td>\n",
       "    </tr>\n",
       "  </tbody>\n",
       "</table>\n",
       "</div>"
      ],
      "text/plain": [
       "   CustomerID  Recency\n",
       "0       12346      326\n",
       "1       12347        3\n",
       "2       12348       76\n",
       "3       12349       19\n",
       "4       12350      311"
      ]
     },
     "execution_count": 35,
     "metadata": {},
     "output_type": "execute_result"
    }
   ],
   "source": [
    "# We calculate the days difference between the most recent transaction \n",
    "# carried out by the customer and the reference date.\n",
    "\n",
    "df['Recency'] = (refDate - df['Date']).dt.days\n",
    "\n",
    "dfRFM = df.groupby(\"CustomerID\", as_index=False).agg({'Recency' : 'min'})\n",
    "\n",
    "dfRFM.head()"
   ]
  },
  {
   "cell_type": "markdown",
   "metadata": {
    "id": "o301_w_wOb5w"
   },
   "source": [
    "#### **Frequency**\n",
    "\n",
    "**Q1**: How many purchases did customers make?"
   ]
  },
  {
   "cell_type": "code",
   "execution_count": 36,
   "metadata": {
    "colab": {
     "base_uri": "https://localhost:8080/",
     "height": 204
    },
    "executionInfo": {
     "elapsed": 11,
     "status": "ok",
     "timestamp": 1664872632215,
     "user": {
      "displayName": "alessandro celestini",
      "userId": "05873352416691815837"
     },
     "user_tz": -120
    },
    "id": "G-_KSZ7ROs38",
    "outputId": "776a8c91-4fd2-40e8-bd88-d669d39e8a44"
   },
   "outputs": [
    {
     "data": {
      "text/html": [
       "<div>\n",
       "<style scoped>\n",
       "    .dataframe tbody tr th:only-of-type {\n",
       "        vertical-align: middle;\n",
       "    }\n",
       "\n",
       "    .dataframe tbody tr th {\n",
       "        vertical-align: top;\n",
       "    }\n",
       "\n",
       "    .dataframe thead th {\n",
       "        text-align: right;\n",
       "    }\n",
       "</style>\n",
       "<table border=\"1\" class=\"dataframe\">\n",
       "  <thead>\n",
       "    <tr style=\"text-align: right;\">\n",
       "      <th></th>\n",
       "      <th>CustomerID</th>\n",
       "      <th>Frequency</th>\n",
       "    </tr>\n",
       "  </thead>\n",
       "  <tbody>\n",
       "    <tr>\n",
       "      <th>0</th>\n",
       "      <td>12346</td>\n",
       "      <td>1</td>\n",
       "    </tr>\n",
       "    <tr>\n",
       "      <th>1</th>\n",
       "      <td>12347</td>\n",
       "      <td>182</td>\n",
       "    </tr>\n",
       "    <tr>\n",
       "      <th>2</th>\n",
       "      <td>12348</td>\n",
       "      <td>31</td>\n",
       "    </tr>\n",
       "    <tr>\n",
       "      <th>3</th>\n",
       "      <td>12349</td>\n",
       "      <td>73</td>\n",
       "    </tr>\n",
       "    <tr>\n",
       "      <th>4</th>\n",
       "      <td>12350</td>\n",
       "      <td>17</td>\n",
       "    </tr>\n",
       "  </tbody>\n",
       "</table>\n",
       "</div>"
      ],
      "text/plain": [
       "   CustomerID  Frequency\n",
       "0       12346          1\n",
       "1       12347        182\n",
       "2       12348         31\n",
       "3       12349         73\n",
       "4       12350         17"
      ]
     },
     "execution_count": 36,
     "metadata": {},
     "output_type": "execute_result"
    }
   ],
   "source": [
    "# We count the number of orders made by each customer\n",
    "\n",
    "F = df[['CustomerID', 'InvoiceNo']].groupby('CustomerID', as_index=False).count()\n",
    "F.rename(columns={'InvoiceNo': 'Frequency'}, inplace= True)\n",
    "\n",
    "F.head()"
   ]
  },
  {
   "cell_type": "code",
   "execution_count": 37,
   "metadata": {
    "colab": {
     "base_uri": "https://localhost:8080/",
     "height": 204
    },
    "executionInfo": {
     "elapsed": 10,
     "status": "ok",
     "timestamp": 1664872632216,
     "user": {
      "displayName": "alessandro celestini",
      "userId": "05873352416691815837"
     },
     "user_tz": -120
    },
    "id": "JZWeE6U0SE1s",
    "outputId": "0c9faa15-bda7-4af7-b75b-f8b0d2b75638"
   },
   "outputs": [
    {
     "data": {
      "text/html": [
       "<div>\n",
       "<style scoped>\n",
       "    .dataframe tbody tr th:only-of-type {\n",
       "        vertical-align: middle;\n",
       "    }\n",
       "\n",
       "    .dataframe tbody tr th {\n",
       "        vertical-align: top;\n",
       "    }\n",
       "\n",
       "    .dataframe thead th {\n",
       "        text-align: right;\n",
       "    }\n",
       "</style>\n",
       "<table border=\"1\" class=\"dataframe\">\n",
       "  <thead>\n",
       "    <tr style=\"text-align: right;\">\n",
       "      <th></th>\n",
       "      <th>CustomerID</th>\n",
       "      <th>Recency</th>\n",
       "      <th>Frequency</th>\n",
       "    </tr>\n",
       "  </thead>\n",
       "  <tbody>\n",
       "    <tr>\n",
       "      <th>0</th>\n",
       "      <td>12346</td>\n",
       "      <td>326</td>\n",
       "      <td>1</td>\n",
       "    </tr>\n",
       "    <tr>\n",
       "      <th>1</th>\n",
       "      <td>12347</td>\n",
       "      <td>3</td>\n",
       "      <td>182</td>\n",
       "    </tr>\n",
       "    <tr>\n",
       "      <th>2</th>\n",
       "      <td>12348</td>\n",
       "      <td>76</td>\n",
       "      <td>31</td>\n",
       "    </tr>\n",
       "    <tr>\n",
       "      <th>3</th>\n",
       "      <td>12349</td>\n",
       "      <td>19</td>\n",
       "      <td>73</td>\n",
       "    </tr>\n",
       "    <tr>\n",
       "      <th>4</th>\n",
       "      <td>12350</td>\n",
       "      <td>311</td>\n",
       "      <td>17</td>\n",
       "    </tr>\n",
       "  </tbody>\n",
       "</table>\n",
       "</div>"
      ],
      "text/plain": [
       "   CustomerID  Recency  Frequency\n",
       "0       12346      326          1\n",
       "1       12347        3        182\n",
       "2       12348       76         31\n",
       "3       12349       19         73\n",
       "4       12350      311         17"
      ]
     },
     "execution_count": 37,
     "metadata": {},
     "output_type": "execute_result"
    }
   ],
   "source": [
    "# We merge the two dataframe\n",
    "\n",
    "dfRFM = dfRFM.merge(F)\n",
    "\n",
    "# ** NOTE **\n",
    "#\n",
    "#  merge()\n",
    "# \n",
    "#    Merge DataFrame or named Series objects with a database-style join.\n",
    "#    A named Series object is treated as a DataFrame with a single named column.\n",
    "#\n",
    "# ** NOTE **\n",
    "\n",
    "dfRFM.head()"
   ]
  },
  {
   "cell_type": "markdown",
   "metadata": {
    "id": "e_uzzl2OBIuA"
   },
   "source": [
    "#### **Monetary**\n",
    "\n",
    "**Q1:** How much did customers spend for their purchases?"
   ]
  },
  {
   "cell_type": "code",
   "execution_count": 38,
   "metadata": {
    "colab": {
     "base_uri": "https://localhost:8080/",
     "height": 204
    },
    "executionInfo": {
     "elapsed": 9,
     "status": "ok",
     "timestamp": 1664872632216,
     "user": {
      "displayName": "alessandro celestini",
      "userId": "05873352416691815837"
     },
     "user_tz": -120
    },
    "id": "P1d0CoYUuH_g",
    "outputId": "6e7b02f3-f53f-4ae1-ce1c-9011dd6126ae"
   },
   "outputs": [
    {
     "data": {
      "text/html": [
       "<div>\n",
       "<style scoped>\n",
       "    .dataframe tbody tr th:only-of-type {\n",
       "        vertical-align: middle;\n",
       "    }\n",
       "\n",
       "    .dataframe tbody tr th {\n",
       "        vertical-align: top;\n",
       "    }\n",
       "\n",
       "    .dataframe thead th {\n",
       "        text-align: right;\n",
       "    }\n",
       "</style>\n",
       "<table border=\"1\" class=\"dataframe\">\n",
       "  <thead>\n",
       "    <tr style=\"text-align: right;\">\n",
       "      <th></th>\n",
       "      <th>CustomerID</th>\n",
       "      <th>Monetary</th>\n",
       "    </tr>\n",
       "  </thead>\n",
       "  <tbody>\n",
       "    <tr>\n",
       "      <th>0</th>\n",
       "      <td>12346</td>\n",
       "      <td>77183.60</td>\n",
       "    </tr>\n",
       "    <tr>\n",
       "      <th>1</th>\n",
       "      <td>12347</td>\n",
       "      <td>4310.00</td>\n",
       "    </tr>\n",
       "    <tr>\n",
       "      <th>2</th>\n",
       "      <td>12348</td>\n",
       "      <td>1797.24</td>\n",
       "    </tr>\n",
       "    <tr>\n",
       "      <th>3</th>\n",
       "      <td>12349</td>\n",
       "      <td>1757.55</td>\n",
       "    </tr>\n",
       "    <tr>\n",
       "      <th>4</th>\n",
       "      <td>12350</td>\n",
       "      <td>334.40</td>\n",
       "    </tr>\n",
       "  </tbody>\n",
       "</table>\n",
       "</div>"
      ],
      "text/plain": [
       "   CustomerID  Monetary\n",
       "0       12346  77183.60\n",
       "1       12347   4310.00\n",
       "2       12348   1797.24\n",
       "3       12349   1757.55\n",
       "4       12350    334.40"
      ]
     },
     "execution_count": 38,
     "metadata": {},
     "output_type": "execute_result"
    }
   ],
   "source": [
    "# We compute the total amount spent by each customer\n",
    "\n",
    "M = df[['CustomerID', 'TotalPrice']].groupby('CustomerID', as_index=False).sum()\n",
    "M.rename(columns={'TotalPrice': 'Monetary'}, inplace= True)\n",
    "\n",
    "M.head()"
   ]
  },
  {
   "cell_type": "code",
   "execution_count": 39,
   "metadata": {
    "colab": {
     "base_uri": "https://localhost:8080/",
     "height": 204
    },
    "executionInfo": {
     "elapsed": 277,
     "status": "ok",
     "timestamp": 1664872632485,
     "user": {
      "displayName": "alessandro celestini",
      "userId": "05873352416691815837"
     },
     "user_tz": -120
    },
    "id": "waf-lnL-V06Y",
    "outputId": "aee58899-9469-418d-e28f-54f48f8acc90"
   },
   "outputs": [
    {
     "data": {
      "text/html": [
       "<div>\n",
       "<style scoped>\n",
       "    .dataframe tbody tr th:only-of-type {\n",
       "        vertical-align: middle;\n",
       "    }\n",
       "\n",
       "    .dataframe tbody tr th {\n",
       "        vertical-align: top;\n",
       "    }\n",
       "\n",
       "    .dataframe thead th {\n",
       "        text-align: right;\n",
       "    }\n",
       "</style>\n",
       "<table border=\"1\" class=\"dataframe\">\n",
       "  <thead>\n",
       "    <tr style=\"text-align: right;\">\n",
       "      <th></th>\n",
       "      <th>CustomerID</th>\n",
       "      <th>Recency</th>\n",
       "      <th>Frequency</th>\n",
       "      <th>Monetary</th>\n",
       "    </tr>\n",
       "  </thead>\n",
       "  <tbody>\n",
       "    <tr>\n",
       "      <th>0</th>\n",
       "      <td>12346</td>\n",
       "      <td>326</td>\n",
       "      <td>1</td>\n",
       "      <td>77183.60</td>\n",
       "    </tr>\n",
       "    <tr>\n",
       "      <th>1</th>\n",
       "      <td>12347</td>\n",
       "      <td>3</td>\n",
       "      <td>182</td>\n",
       "      <td>4310.00</td>\n",
       "    </tr>\n",
       "    <tr>\n",
       "      <th>2</th>\n",
       "      <td>12348</td>\n",
       "      <td>76</td>\n",
       "      <td>31</td>\n",
       "      <td>1797.24</td>\n",
       "    </tr>\n",
       "    <tr>\n",
       "      <th>3</th>\n",
       "      <td>12349</td>\n",
       "      <td>19</td>\n",
       "      <td>73</td>\n",
       "      <td>1757.55</td>\n",
       "    </tr>\n",
       "    <tr>\n",
       "      <th>4</th>\n",
       "      <td>12350</td>\n",
       "      <td>311</td>\n",
       "      <td>17</td>\n",
       "      <td>334.40</td>\n",
       "    </tr>\n",
       "  </tbody>\n",
       "</table>\n",
       "</div>"
      ],
      "text/plain": [
       "   CustomerID  Recency  Frequency  Monetary\n",
       "0       12346      326          1  77183.60\n",
       "1       12347        3        182   4310.00\n",
       "2       12348       76         31   1797.24\n",
       "3       12349       19         73   1757.55\n",
       "4       12350      311         17    334.40"
      ]
     },
     "execution_count": 39,
     "metadata": {},
     "output_type": "execute_result"
    }
   ],
   "source": [
    "# We merge the two dataframe\n",
    "\n",
    "dfRFM = dfRFM.merge(M)\n",
    "\n",
    "dfRFM.head()"
   ]
  },
  {
   "cell_type": "markdown",
   "metadata": {
    "id": "SgzM5v-5W7bo"
   },
   "source": [
    "## **Clustering**\n",
    "\n",
    "To do customer segmentation we use the k-means clustering algorithm. \n",
    "\n",
    "Before applying the algorithm:\n",
    "\n",
    "* We check for outliers\n",
    "\n",
    "  * We look for outliers from the data analysis point of view. These are transactions that are valid from the business point of view as they are genuine transaction records. \n",
    "\n",
    "* We standardize our data\n",
    "\n",
    "\n",
    "\n",
    "\n",
    "\n"
   ]
  },
  {
   "cell_type": "markdown",
   "metadata": {
    "id": "_vaGpQR205vW"
   },
   "source": [
    "### **Outliers**\n",
    "\n",
    "* An outlier is a point or set of data points that lie away from the rest of the data values of the dataset. \n",
    "\n",
    "  * An outlier is a data point(s) that appear away from the overall distribution of data values in a dataset.\n",
    "\n",
    "**Q1:** How do we check if our data contain outliers?\n",
    "\n",
    "**Q2:** How do we identify outliers?\n",
    "\n",
    "**Q3:** How do we treat outliers? \n",
    "\n",
    "**Q4:** Why is important to look for outliers?\n",
    " "
   ]
  },
  {
   "cell_type": "markdown",
   "metadata": {
    "id": "ivwctTNDrA6u"
   },
   "source": [
    "#### **Q1:** How do we check if our data contain outliers?\n"
   ]
  },
  {
   "cell_type": "code",
   "execution_count": 40,
   "metadata": {
    "colab": {
     "base_uri": "https://localhost:8080/",
     "height": 585
    },
    "executionInfo": {
     "elapsed": 4368,
     "status": "ok",
     "timestamp": 1664872636851,
     "user": {
      "displayName": "alessandro celestini",
      "userId": "05873352416691815837"
     },
     "user_tz": -120
    },
    "id": "iv3B7JH5Kc-d",
    "outputId": "dbd58331-6df1-4bb1-c9dd-203db8e05464"
   },
   "outputs": [
    {
     "name": "stderr",
     "output_type": "stream",
     "text": [
      "<ipython-input-40-989edda0c82b>:9: UserWarning: Matplotlib is currently using module://ipykernel.pylab.backend_inline, which is a non-GUI backend, so cannot show the figure.\n",
      "  fig.show()\n"
     ]
    },
    {
     "data": {
      "image/png": "[encoded data removed]",
      "text/plain": [
       "<Figure size 864x576 with 3 Axes>"
      ]
     },
     "metadata": {
      "needs_background": "light"
     },
     "output_type": "display_data"
    }
   ],
   "source": [
    "fig, (ax1,ax2,ax3) = plt.subplots(nrows=3, ncols=1, figsize=(12, 8))\n",
    "\n",
    "nBins = 200\n",
    "ax1.hist( dfRFM['Recency'],   nBins,  density=True)\n",
    "ax2.hist( dfRFM['Frequency'], nBins,  density=True)\n",
    "ax3.hist( dfRFM['Monetary'],  nBins,  density=True)\n",
    "\n",
    "fig.tight_layout()\n",
    "fig.show()"
   ]
  },
  {
   "cell_type": "code",
   "execution_count": 41,
   "metadata": {
    "colab": {
     "base_uri": "https://localhost:8080/",
     "height": 369
    },
    "executionInfo": {
     "elapsed": 1064,
     "status": "ok",
     "timestamp": 1664872637912,
     "user": {
      "displayName": "alessandro celestini",
      "userId": "05873352416691815837"
     },
     "user_tz": -120
    },
    "id": "IHNC632x1B4k",
    "outputId": "c8c69018-0356-4125-8d3f-e8bc9c4962bd"
   },
   "outputs": [
    {
     "name": "stderr",
     "output_type": "stream",
     "text": [
      "<ipython-input-41-978721c10cf5>:8: UserWarning: Matplotlib is currently using module://ipykernel.pylab.backend_inline, which is a non-GUI backend, so cannot show the figure.\n",
      "  fig.show()\n"
     ]
    },
    {
     "data": {
      "image/png": "[encoded data removed]",
      "text/plain": [
       "<Figure size 864x360 with 3 Axes>"
      ]
     },
     "metadata": {
      "needs_background": "light"
     },
     "output_type": "display_data"
    }
   ],
   "source": [
    "fig, (ax1,ax2,ax3) = plt.subplots(nrows=3, ncols=1, figsize=(12, 5))\n",
    "\n",
    "ax1.boxplot( dfRFM['Recency'],    vert=False, labels=['Recency']   )\n",
    "ax2.boxplot( dfRFM['Frequency'],  vert=False, labels=['Frequency'] )\n",
    "ax3.boxplot( dfRFM['Monetary'],   vert=False, labels=['Monetary']  )\n",
    "\n",
    "fig.tight_layout()\n",
    "fig.show()"
   ]
  },
  {
   "cell_type": "markdown",
   "metadata": {
    "id": "MaYMPQ_lGcKt"
   },
   "source": [
    "We observe for all features that several data points, on the right side of the distribution, are marked as outliers.\n",
    "\n",
    "* In the box plot all points greater than Q3+1.5*IQR are considered outliers."
   ]
  },
  {
   "cell_type": "markdown",
   "metadata": {
    "id": "zCaFfjOELJk-"
   },
   "source": [
    "### **Q2:** How do we identify outliers?\n",
    "\n",
    "You can use a different methods to identify outliers based on the distribution of the data. Here we outline 3 main approaches\n",
    "\n",
    "* **Z-score**\n",
    "  \n",
    "  * Data points falling below $\\mu-3\\sigma$ or above $\\mu+3\\sigma$ are outliers. \n",
    "    \n",
    "     * For standardized data it is just $+/-3\\sigma$\n",
    "\n",
    "  * It can be applied to normal distributions.\n",
    "\n",
    "* **IQR** (Inter Quartile Range)\n",
    "  \n",
    "  * Data points falling below Q1 – 1.5 IQR or above Q3 + 1.5 IQR are outliers.\n",
    "\n",
    "  * It can be applied to skewed distributions.\n",
    "\n",
    "* **Percentile-based** approach\n",
    "\n",
    "  * Data points above 99th-95th percentile and below 1st-5th percentile are considered outliers.\n",
    "\n"
   ]
  },
  {
   "cell_type": "markdown",
   "metadata": {
    "id": "5_POIIyfPVFx"
   },
   "source": [
    "### **Q3:** How do we treat outliers? \n",
    "\n",
    "The two main approaches are *trimming* and *capping*:\n",
    "\n",
    "* **Trimming**: We exclude outliers from our analysis, we remove them from our dataset. \n",
    "\n",
    "  * By applying this technique we reduce the size of our dataset.\n",
    "\n",
    "* **Capping**: We cap our outliers data. We set a min and max value and outliers are modified to be inside the new range.\n",
    "\n",
    "  * Outliers below the min take the min value, outliers above the max take the max value.\n",
    "\n"
   ]
  },
  {
   "cell_type": "code",
   "execution_count": 42,
   "metadata": {
    "colab": {
     "base_uri": "https://localhost:8080/",
     "height": 204
    },
    "executionInfo": {
     "elapsed": 6,
     "status": "ok",
     "timestamp": 1664872637913,
     "user": {
      "displayName": "alessandro celestini",
      "userId": "05873352416691815837"
     },
     "user_tz": -120
    },
    "id": "3v-AXx3XOusA",
    "outputId": "b6dd1722-aff2-4643-d74d-b53ae087a31b"
   },
   "outputs": [
    {
     "data": {
      "text/html": [
       "<div>\n",
       "<style scoped>\n",
       "    .dataframe tbody tr th:only-of-type {\n",
       "        vertical-align: middle;\n",
       "    }\n",
       "\n",
       "    .dataframe tbody tr th {\n",
       "        vertical-align: top;\n",
       "    }\n",
       "\n",
       "    .dataframe thead th {\n",
       "        text-align: right;\n",
       "    }\n",
       "</style>\n",
       "<table border=\"1\" class=\"dataframe\">\n",
       "  <thead>\n",
       "    <tr style=\"text-align: right;\">\n",
       "      <th></th>\n",
       "      <th>CustomerID</th>\n",
       "      <th>Recency</th>\n",
       "      <th>Frequency</th>\n",
       "      <th>Monetary</th>\n",
       "    </tr>\n",
       "  </thead>\n",
       "  <tbody>\n",
       "    <tr>\n",
       "      <th>0</th>\n",
       "      <td>12348</td>\n",
       "      <td>76</td>\n",
       "      <td>31</td>\n",
       "      <td>1797.24</td>\n",
       "    </tr>\n",
       "    <tr>\n",
       "      <th>1</th>\n",
       "      <td>12349</td>\n",
       "      <td>19</td>\n",
       "      <td>73</td>\n",
       "      <td>1757.55</td>\n",
       "    </tr>\n",
       "    <tr>\n",
       "      <th>2</th>\n",
       "      <td>12350</td>\n",
       "      <td>311</td>\n",
       "      <td>17</td>\n",
       "      <td>334.40</td>\n",
       "    </tr>\n",
       "    <tr>\n",
       "      <th>3</th>\n",
       "      <td>12352</td>\n",
       "      <td>37</td>\n",
       "      <td>85</td>\n",
       "      <td>2506.04</td>\n",
       "    </tr>\n",
       "    <tr>\n",
       "      <th>4</th>\n",
       "      <td>12353</td>\n",
       "      <td>205</td>\n",
       "      <td>4</td>\n",
       "      <td>89.00</td>\n",
       "    </tr>\n",
       "  </tbody>\n",
       "</table>\n",
       "</div>"
      ],
      "text/plain": [
       "   CustomerID  Recency  Frequency  Monetary\n",
       "0       12348       76         31   1797.24\n",
       "1       12349       19         73   1757.55\n",
       "2       12350      311         17    334.40\n",
       "3       12352       37         85   2506.04\n",
       "4       12353      205          4     89.00"
      ]
     },
     "execution_count": 42,
     "metadata": {},
     "output_type": "execute_result"
    }
   ],
   "source": [
    "import numpy as np\n",
    "\n",
    "# \n",
    "# IQR: We have 3 skewed distributions, thus we apply the IQR method.\n",
    "#\n",
    "# Trimming: We remove outliers, in our case we need to remove \n",
    "# all values above Q3 + 1.5 IQR.\n",
    "#\n",
    "      \n",
    "RFM_col = ['Frequency', 'Monetary']\n",
    "\n",
    "trRFM = dfRFM.copy()\n",
    "\n",
    "for c in RFM_col:\n",
    "   Q1 = trRFM[c].quantile(0.25)\n",
    "   Q3 = trRFM[c].quantile(0.75)\n",
    "   IQR = Q3 - Q1\n",
    "   upper = (Q3+1.5*IQR)\n",
    "   trRFM[c] = np.where(trRFM[c] > upper, np.nan, trRFM[c])\n",
    "\n",
    "# ** NOTE **\n",
    "#\n",
    "#  numpy.where(condition, [x, y, ]/)\n",
    "#\n",
    "#    Return elements chosen from x or y depending on condition.\n",
    "#    Where True, yield x, otherwise yield y.\n",
    "#\n",
    "# ** NOTE **\n",
    "\n",
    "trRFM.dropna(inplace=True)\n",
    "trRFM.reset_index(inplace=True, drop=True)\n",
    "\n",
    "# ** NOTE **\n",
    "#\n",
    "#  dropbool, default False\n",
    "#    Do not try to insert index into dataframe columns. \n",
    "#\n",
    "# ** NOTE **\n",
    "\n",
    "trRFM = trRFM.astype({'Recency': 'int64', 'Frequency': 'int64'})\n",
    "\n",
    "trRFM.head()"
   ]
  },
  {
   "cell_type": "markdown",
   "metadata": {
    "id": "HxaEgO09ppBy"
   },
   "source": [
    "We plot our new dataframe"
   ]
  },
  {
   "cell_type": "code",
   "execution_count": 43,
   "metadata": {
    "colab": {
     "base_uri": "https://localhost:8080/",
     "height": 585
    },
    "executionInfo": {
     "elapsed": 4293,
     "status": "ok",
     "timestamp": 1664872642202,
     "user": {
      "displayName": "alessandro celestini",
      "userId": "05873352416691815837"
     },
     "user_tz": -120
    },
    "id": "Cjt4CbWTdSPI",
    "outputId": "fb91768e-5b08-433f-e669-712bb00d750a"
   },
   "outputs": [
    {
     "name": "stderr",
     "output_type": "stream",
     "text": [
      "<ipython-input-43-fcaaafde9c88>:9: UserWarning: Matplotlib is currently using module://ipykernel.pylab.backend_inline, which is a non-GUI backend, so cannot show the figure.\n",
      "  fig.show()\n"
     ]
    },
    {
     "data": {
      "image/png": "[encoded data removed]",
      "text/plain": [
       "<Figure size 864x576 with 3 Axes>"
      ]
     },
     "metadata": {
      "needs_background": "light"
     },
     "output_type": "display_data"
    }
   ],
   "source": [
    "fig, (ax1,ax2,ax3) = plt.subplots(nrows=3, ncols=1, figsize=(12, 8))\n",
    "\n",
    "nBins = 200\n",
    "ax1.hist( trRFM['Recency'],   nBins,  density=True)\n",
    "ax2.hist( trRFM['Frequency'], nBins,  density=True)\n",
    "ax3.hist( trRFM['Monetary'],  nBins,  density=True)\n",
    "\n",
    "fig.tight_layout()\n",
    "fig.show()"
   ]
  },
  {
   "cell_type": "code",
   "execution_count": 44,
   "metadata": {
    "colab": {
     "base_uri": "https://localhost:8080/",
     "height": 297
    },
    "executionInfo": {
     "elapsed": 1247,
     "status": "ok",
     "timestamp": 1664872643445,
     "user": {
      "displayName": "alessandro celestini",
      "userId": "05873352416691815837"
     },
     "user_tz": -120
    },
    "id": "s9k1I0vJkCu7",
    "outputId": "75641787-85ef-4078-d42f-01d4fa359033"
   },
   "outputs": [
    {
     "name": "stderr",
     "output_type": "stream",
     "text": [
      "<ipython-input-44-54c024a76f26>:10: UserWarning: Matplotlib is currently using module://ipykernel.pylab.backend_inline, which is a non-GUI backend, so cannot show the figure.\n",
      "  fig.show()\n"
     ]
    },
    {
     "data": {
      "image/png": "[encoded data removed]",
      "text/plain": [
       "<Figure size 432x288 with 1 Axes>"
      ]
     },
     "metadata": {
      "needs_background": "light"
     },
     "output_type": "display_data"
    }
   ],
   "source": [
    "fig, ax = plt.subplots(subplot_kw={\"projection\": \"3d\"})\n",
    "\n",
    "ax.scatter(trRFM['Recency'], trRFM['Frequency'], trRFM['Monetary'], s=5)\n",
    "\n",
    "ax.set_xlabel('Recency')\n",
    "ax.set_ylabel('Frequency')\n",
    "ax.set_zlabel('Monetary')\n",
    "\n",
    "fig.tight_layout()\n",
    "fig.show()"
   ]
  },
  {
   "cell_type": "markdown",
   "metadata": {
    "id": "11wfjK4up0FC"
   },
   "source": [
    "### **Q4:** Why is important to look for outliers?\n",
    "\n",
    "Some algorithms can be sensitive to outliers. \n",
    "\n",
    "* The *k-means* clustering algorithm is very sensitive to a dataset\n",
    "that contains outliers or variables that are of incomparable scales or magnitudes. "
   ]
  },
  {
   "cell_type": "markdown",
   "metadata": {
    "id": "GXKfrPs3sJh-"
   },
   "source": [
    "### Standardaizing"
   ]
  },
  {
   "cell_type": "code",
   "execution_count": 45,
   "metadata": {
    "colab": {
     "base_uri": "https://localhost:8080/",
     "height": 204
    },
    "executionInfo": {
     "elapsed": 6,
     "status": "ok",
     "timestamp": 1664872643446,
     "user": {
      "displayName": "alessandro celestini",
      "userId": "05873352416691815837"
     },
     "user_tz": -120
    },
    "id": "1yEjPjpilXkE",
    "outputId": "9ce87ea7-79df-4b47-9891-a31a21ec6f76"
   },
   "outputs": [
    {
     "data": {
      "text/html": [
       "<div>\n",
       "<style scoped>\n",
       "    .dataframe tbody tr th:only-of-type {\n",
       "        vertical-align: middle;\n",
       "    }\n",
       "\n",
       "    .dataframe tbody tr th {\n",
       "        vertical-align: top;\n",
       "    }\n",
       "\n",
       "    .dataframe thead th {\n",
       "        text-align: right;\n",
       "    }\n",
       "</style>\n",
       "<table border=\"1\" class=\"dataframe\">\n",
       "  <thead>\n",
       "    <tr style=\"text-align: right;\">\n",
       "      <th></th>\n",
       "      <th>CustomerID</th>\n",
       "      <th>Recency</th>\n",
       "      <th>Frequency</th>\n",
       "      <th>Monetary</th>\n",
       "      <th>zR</th>\n",
       "      <th>zF</th>\n",
       "      <th>zM</th>\n",
       "    </tr>\n",
       "  </thead>\n",
       "  <tbody>\n",
       "    <tr>\n",
       "      <th>0</th>\n",
       "      <td>12348</td>\n",
       "      <td>76</td>\n",
       "      <td>31</td>\n",
       "      <td>1797.24</td>\n",
       "      <td>-0.267252</td>\n",
       "      <td>-0.400331</td>\n",
       "      <td>1.241948</td>\n",
       "    </tr>\n",
       "    <tr>\n",
       "      <th>1</th>\n",
       "      <td>12349</td>\n",
       "      <td>19</td>\n",
       "      <td>73</td>\n",
       "      <td>1757.55</td>\n",
       "      <td>-0.824378</td>\n",
       "      <td>0.501933</td>\n",
       "      <td>1.191057</td>\n",
       "    </tr>\n",
       "    <tr>\n",
       "      <th>2</th>\n",
       "      <td>12350</td>\n",
       "      <td>311</td>\n",
       "      <td>17</td>\n",
       "      <td>334.40</td>\n",
       "      <td>2.029673</td>\n",
       "      <td>-0.701086</td>\n",
       "      <td>-0.633750</td>\n",
       "    </tr>\n",
       "    <tr>\n",
       "      <th>3</th>\n",
       "      <td>12352</td>\n",
       "      <td>37</td>\n",
       "      <td>85</td>\n",
       "      <td>2506.04</td>\n",
       "      <td>-0.648443</td>\n",
       "      <td>0.759723</td>\n",
       "      <td>2.150794</td>\n",
       "    </tr>\n",
       "    <tr>\n",
       "      <th>4</th>\n",
       "      <td>12353</td>\n",
       "      <td>205</td>\n",
       "      <td>4</td>\n",
       "      <td>89.00</td>\n",
       "      <td>0.993613</td>\n",
       "      <td>-0.980358</td>\n",
       "      <td>-0.948410</td>\n",
       "    </tr>\n",
       "  </tbody>\n",
       "</table>\n",
       "</div>"
      ],
      "text/plain": [
       "   CustomerID  Recency  Frequency  Monetary        zR        zF        zM\n",
       "0       12348       76         31   1797.24 -0.267252 -0.400331  1.241948\n",
       "1       12349       19         73   1757.55 -0.824378  0.501933  1.191057\n",
       "2       12350      311         17    334.40  2.029673 -0.701086 -0.633750\n",
       "3       12352       37         85   2506.04 -0.648443  0.759723  2.150794\n",
       "4       12353      205          4     89.00  0.993613 -0.980358 -0.948410"
      ]
     },
     "execution_count": 45,
     "metadata": {},
     "output_type": "execute_result"
    }
   ],
   "source": [
    "trRFM['zR'] = ( trRFM['Recency'] - trRFM['Recency'].mean()) / trRFM['Recency'].std()\n",
    "trRFM['zF'] = ( trRFM['Frequency'] - trRFM['Frequency'].mean()) / trRFM['Frequency'].std()\n",
    "trRFM['zM'] = ( trRFM['Monetary'] - trRFM['Monetary'].mean()) / trRFM['Monetary'].std()\n",
    "\n",
    "trRFM.head()"
   ]
  },
  {
   "cell_type": "markdown",
   "metadata": {
    "id": "bF6Nre2Ww2Uh"
   },
   "source": [
    "\n",
    "### **K-means**\n",
    "\n",
    "**Q1:** How do we choose $k$?\n",
    "\n",
    "* The Elbow Method\n",
    "\n",
    "  * We plot the sum of squared errors (between each point and the mean of its cluster) as a function of k and we look at where the graph “bends” (this is visible as an elbow). \n",
    "  \n",
    "\n",
    "* The Silhouette Method\n",
    "\n",
    "  * The silhouette value measures how similar a point is to its own cluster (cohesion) compared to other clusters (separation)."
   ]
  },
  {
   "cell_type": "markdown",
   "metadata": {
    "id": "8ZvFcVx-sORB"
   },
   "source": [
    "#### **The Elbow Method**"
   ]
  },
  {
   "cell_type": "code",
   "execution_count": 46,
   "metadata": {
    "executionInfo": {
     "elapsed": 12177,
     "status": "ok",
     "timestamp": 1664872655619,
     "user": {
      "displayName": "alessandro celestini",
      "userId": "05873352416691815837"
     },
     "user_tz": -120
    },
    "id": "FE1WICTC1N6h"
   },
   "outputs": [
    {
     "name": "stderr",
     "output_type": "stream",
     "text": [
      "Exception ignored on calling ctypes callback function: <function _ThreadpoolInfo._find_modules_with_dl_iterate_phdr.<locals>.match_module_callback at 0x7fa5b4e464c0>\n",
      "Traceback (most recent call last):\n",
      "  File \"/home/stefano/Ricerca/Code/myvenv/lib/python3.8/site-packages/threadpoolctl.py\", line 400, in match_module_callback\n",
      "    self._make_module_from_path(filepath)\n",
      "  File \"/home/stefano/Ricerca/Code/myvenv/lib/python3.8/site-packages/threadpoolctl.py\", line 515, in _make_module_from_path\n",
      "    module = module_class(filepath, prefix, user_api, internal_api)\n",
      "  File \"/home/stefano/Ricerca/Code/myvenv/lib/python3.8/site-packages/threadpoolctl.py\", line 606, in __init__\n",
      "    self.version = self.get_version()\n",
      "  File \"/home/stefano/Ricerca/Code/myvenv/lib/python3.8/site-packages/threadpoolctl.py\", line 646, in get_version\n",
      "    config = get_config().split()\n",
      "AttributeError: 'NoneType' object has no attribute 'split'\n",
      "Exception ignored on calling ctypes callback function: <function _ThreadpoolInfo._find_modules_with_dl_iterate_phdr.<locals>.match_module_callback at 0x7fa5b5153040>\n",
      "Traceback (most recent call last):\n",
      "  File \"/home/stefano/Ricerca/Code/myvenv/lib/python3.8/site-packages/threadpoolctl.py\", line 400, in match_module_callback\n",
      "    self._make_module_from_path(filepath)\n",
      "  File \"/home/stefano/Ricerca/Code/myvenv/lib/python3.8/site-packages/threadpoolctl.py\", line 515, in _make_module_from_path\n",
      "    module = module_class(filepath, prefix, user_api, internal_api)\n",
      "  File \"/home/stefano/Ricerca/Code/myvenv/lib/python3.8/site-packages/threadpoolctl.py\", line 606, in __init__\n",
      "    self.version = self.get_version()\n",
      "  File \"/home/stefano/Ricerca/Code/myvenv/lib/python3.8/site-packages/threadpoolctl.py\", line 646, in get_version\n",
      "    config = get_config().split()\n",
      "AttributeError: 'NoneType' object has no attribute 'split'\n",
      "Exception ignored on calling ctypes callback function: <function _ThreadpoolInfo._find_modules_with_dl_iterate_phdr.<locals>.match_module_callback at 0x7fa5b4e469d0>\n",
      "Traceback (most recent call last):\n",
      "  File \"/home/stefano/Ricerca/Code/myvenv/lib/python3.8/site-packages/threadpoolctl.py\", line 400, in match_module_callback\n",
      "    self._make_module_from_path(filepath)\n",
      "  File \"/home/stefano/Ricerca/Code/myvenv/lib/python3.8/site-packages/threadpoolctl.py\", line 515, in _make_module_from_path\n",
      "    module = module_class(filepath, prefix, user_api, internal_api)\n",
      "  File \"/home/stefano/Ricerca/Code/myvenv/lib/python3.8/site-packages/threadpoolctl.py\", line 606, in __init__\n",
      "    self.version = self.get_version()\n",
      "  File \"/home/stefano/Ricerca/Code/myvenv/lib/python3.8/site-packages/threadpoolctl.py\", line 646, in get_version\n",
      "    config = get_config().split()\n",
      "AttributeError: 'NoneType' object has no attribute 'split'\n",
      "Exception ignored on calling ctypes callback function: <function _ThreadpoolInfo._find_modules_with_dl_iterate_phdr.<locals>.match_module_callback at 0x7fa5b4e46700>\n",
      "Traceback (most recent call last):\n",
      "  File \"/home/stefano/Ricerca/Code/myvenv/lib/python3.8/site-packages/threadpoolctl.py\", line 400, in match_module_callback\n",
      "    self._make_module_from_path(filepath)\n",
      "  File \"/home/stefano/Ricerca/Code/myvenv/lib/python3.8/site-packages/threadpoolctl.py\", line 515, in _make_module_from_path\n",
      "    module = module_class(filepath, prefix, user_api, internal_api)\n",
      "  File \"/home/stefano/Ricerca/Code/myvenv/lib/python3.8/site-packages/threadpoolctl.py\", line 606, in __init__\n",
      "    self.version = self.get_version()\n",
      "  File \"/home/stefano/Ricerca/Code/myvenv/lib/python3.8/site-packages/threadpoolctl.py\", line 646, in get_version\n",
      "    config = get_config().split()\n",
      "AttributeError: 'NoneType' object has no attribute 'split'\n",
      "Exception ignored on calling ctypes callback function: <function _ThreadpoolInfo._find_modules_with_dl_iterate_phdr.<locals>.match_module_callback at 0x7fa5b4e469d0>\n",
      "Traceback (most recent call last):\n",
      "  File \"/home/stefano/Ricerca/Code/myvenv/lib/python3.8/site-packages/threadpoolctl.py\", line 400, in match_module_callback\n",
      "    self._make_module_from_path(filepath)\n",
      "  File \"/home/stefano/Ricerca/Code/myvenv/lib/python3.8/site-packages/threadpoolctl.py\", line 515, in _make_module_from_path\n",
      "    module = module_class(filepath, prefix, user_api, internal_api)\n",
      "  File \"/home/stefano/Ricerca/Code/myvenv/lib/python3.8/site-packages/threadpoolctl.py\", line 606, in __init__\n",
      "    self.version = self.get_version()\n",
      "  File \"/home/stefano/Ricerca/Code/myvenv/lib/python3.8/site-packages/threadpoolctl.py\", line 646, in get_version\n",
      "    config = get_config().split()\n",
      "AttributeError: 'NoneType' object has no attribute 'split'\n",
      "Exception ignored on calling ctypes callback function: <function _ThreadpoolInfo._find_modules_with_dl_iterate_phdr.<locals>.match_module_callback at 0x7fa5b4e464c0>\n",
      "Traceback (most recent call last):\n",
      "  File \"/home/stefano/Ricerca/Code/myvenv/lib/python3.8/site-packages/threadpoolctl.py\", line 400, in match_module_callback\n",
      "    self._make_module_from_path(filepath)\n",
      "  File \"/home/stefano/Ricerca/Code/myvenv/lib/python3.8/site-packages/threadpoolctl.py\", line 515, in _make_module_from_path\n",
      "    module = module_class(filepath, prefix, user_api, internal_api)\n",
      "  File \"/home/stefano/Ricerca/Code/myvenv/lib/python3.8/site-packages/threadpoolctl.py\", line 606, in __init__\n",
      "    self.version = self.get_version()\n",
      "  File \"/home/stefano/Ricerca/Code/myvenv/lib/python3.8/site-packages/threadpoolctl.py\", line 646, in get_version\n",
      "    config = get_config().split()\n",
      "AttributeError: 'NoneType' object has no attribute 'split'\n",
      "Exception ignored on calling ctypes callback function: <function _ThreadpoolInfo._find_modules_with_dl_iterate_phdr.<locals>.match_module_callback at 0x7fa5b4e46700>\n",
      "Traceback (most recent call last):\n",
      "  File \"/home/stefano/Ricerca/Code/myvenv/lib/python3.8/site-packages/threadpoolctl.py\", line 400, in match_module_callback\n",
      "    self._make_module_from_path(filepath)\n",
      "  File \"/home/stefano/Ricerca/Code/myvenv/lib/python3.8/site-packages/threadpoolctl.py\", line 515, in _make_module_from_path\n",
      "    module = module_class(filepath, prefix, user_api, internal_api)\n",
      "  File \"/home/stefano/Ricerca/Code/myvenv/lib/python3.8/site-packages/threadpoolctl.py\", line 606, in __init__\n",
      "    self.version = self.get_version()\n",
      "  File \"/home/stefano/Ricerca/Code/myvenv/lib/python3.8/site-packages/threadpoolctl.py\", line 646, in get_version\n",
      "    config = get_config().split()\n",
      "AttributeError: 'NoneType' object has no attribute 'split'\n",
      "Exception ignored on calling ctypes callback function: <function _ThreadpoolInfo._find_modules_with_dl_iterate_phdr.<locals>.match_module_callback at 0x7fa5b4e469d0>\n",
      "Traceback (most recent call last):\n",
      "  File \"/home/stefano/Ricerca/Code/myvenv/lib/python3.8/site-packages/threadpoolctl.py\", line 400, in match_module_callback\n",
      "    self._make_module_from_path(filepath)\n",
      "  File \"/home/stefano/Ricerca/Code/myvenv/lib/python3.8/site-packages/threadpoolctl.py\", line 515, in _make_module_from_path\n",
      "    module = module_class(filepath, prefix, user_api, internal_api)\n",
      "  File \"/home/stefano/Ricerca/Code/myvenv/lib/python3.8/site-packages/threadpoolctl.py\", line 606, in __init__\n",
      "    self.version = self.get_version()\n",
      "  File \"/home/stefano/Ricerca/Code/myvenv/lib/python3.8/site-packages/threadpoolctl.py\", line 646, in get_version\n",
      "    config = get_config().split()\n",
      "AttributeError: 'NoneType' object has no attribute 'split'\n",
      "Exception ignored on calling ctypes callback function: <function _ThreadpoolInfo._find_modules_with_dl_iterate_phdr.<locals>.match_module_callback at 0x7fa5b4e464c0>\n",
      "Traceback (most recent call last):\n",
      "  File \"/home/stefano/Ricerca/Code/myvenv/lib/python3.8/site-packages/threadpoolctl.py\", line 400, in match_module_callback\n",
      "    self._make_module_from_path(filepath)\n",
      "  File \"/home/stefano/Ricerca/Code/myvenv/lib/python3.8/site-packages/threadpoolctl.py\", line 515, in _make_module_from_path\n",
      "    module = module_class(filepath, prefix, user_api, internal_api)\n",
      "  File \"/home/stefano/Ricerca/Code/myvenv/lib/python3.8/site-packages/threadpoolctl.py\", line 606, in __init__\n",
      "    self.version = self.get_version()\n",
      "  File \"/home/stefano/Ricerca/Code/myvenv/lib/python3.8/site-packages/threadpoolctl.py\", line 646, in get_version\n",
      "    config = get_config().split()\n",
      "AttributeError: 'NoneType' object has no attribute 'split'\n"
     ]
    },
    {
     "name": "stderr",
     "output_type": "stream",
     "text": [
      "Exception ignored on calling ctypes callback function: <function _ThreadpoolInfo._find_modules_with_dl_iterate_phdr.<locals>.match_module_callback at 0x7fa5b4e46700>\n",
      "Traceback (most recent call last):\n",
      "  File \"/home/stefano/Ricerca/Code/myvenv/lib/python3.8/site-packages/threadpoolctl.py\", line 400, in match_module_callback\n",
      "    self._make_module_from_path(filepath)\n",
      "  File \"/home/stefano/Ricerca/Code/myvenv/lib/python3.8/site-packages/threadpoolctl.py\", line 515, in _make_module_from_path\n",
      "    module = module_class(filepath, prefix, user_api, internal_api)\n",
      "  File \"/home/stefano/Ricerca/Code/myvenv/lib/python3.8/site-packages/threadpoolctl.py\", line 606, in __init__\n",
      "    self.version = self.get_version()\n",
      "  File \"/home/stefano/Ricerca/Code/myvenv/lib/python3.8/site-packages/threadpoolctl.py\", line 646, in get_version\n",
      "    config = get_config().split()\n",
      "AttributeError: 'NoneType' object has no attribute 'split'\n"
     ]
    }
   ],
   "source": [
    "cols = ['zR','zF','zM']\n",
    "\n",
    "def distance (v, w):\n",
    "    return math.sqrt( sum([ (v_i-w_i)**2 for v_i, w_i in zip(v,w) ]) )\n",
    "\n",
    "k_val = list(range(1,10))\n",
    "sse = []\n",
    "\n",
    "for k in k_val:\n",
    "  kmeans = cluster.KMeans(n_clusters=k, random_state=10).fit( trRFM [cols] )\n",
    "  centroids = kmeans.cluster_centers_\n",
    "  pred_clusters = kmeans.predict(trRFM [cols])\n",
    "  k_sse = 0\n",
    "\n",
    "  for i in range(trRFM.shape[0]):\n",
    "    center = centroids[pred_clusters[i]]\n",
    "    point = [ trRFM['zR'][i], trRFM['zF'][i], trRFM['zM'][i]   ]\n",
    "    k_sse += distance( point, center)\n",
    "\n",
    "  sse.append(k_sse)\n",
    "\n",
    "# ** NOTE **\n",
    "#\n",
    "#  cluster_centers_ : ndarray of shape (n_clusters, n_features)\n",
    "#    Coordinates of cluster centers.\n",
    "#\n",
    "#  labels_ : ndarray of shape (n_samples,)\n",
    "#    Labels of each point \n",
    "#\n",
    "# ** NOTE **\n",
    "\n",
    "#trRFM.head()\n"
   ]
  },
  {
   "cell_type": "code",
   "execution_count": 47,
   "metadata": {
    "colab": {
     "base_uri": "https://localhost:8080/",
     "height": 297
    },
    "executionInfo": {
     "elapsed": 7,
     "status": "ok",
     "timestamp": 1664872655620,
     "user": {
      "displayName": "alessandro celestini",
      "userId": "05873352416691815837"
     },
     "user_tz": -120
    },
    "id": "d0uqzwouorzC",
    "outputId": "e32e83a8-f02a-408d-f249-92a0ea31c810"
   },
   "outputs": [
    {
     "name": "stderr",
     "output_type": "stream",
     "text": [
      "<ipython-input-47-1fb321af3d43>:7: UserWarning: Matplotlib is currently using module://ipykernel.pylab.backend_inline, which is a non-GUI backend, so cannot show the figure.\n",
      "  fig.show()\n"
     ]
    },
    {
     "data": {
      "image/png": "[encoded data removed]",
      "text/plain": [
       "<Figure size 432x288 with 1 Axes>"
      ]
     },
     "metadata": {
      "needs_background": "light"
     },
     "output_type": "display_data"
    }
   ],
   "source": [
    "from matplotlib.ticker import MaxNLocator\n",
    "\n",
    "fig, ax = plt.subplots()\n",
    "ax.plot( k_val, sse)\n",
    "ax.xaxis.set_major_locator(MaxNLocator(integer=True))\n",
    "fig.tight_layout()\n",
    "fig.show()"
   ]
  },
  {
   "cell_type": "markdown",
   "metadata": {
    "id": "ncGOJnPZ20_x"
   },
   "source": [
    "\n",
    "The Elbow Method suggests that 3 is the 'right' number of clusters, the main bend in the chart is at $k=3$."
   ]
  },
  {
   "cell_type": "markdown",
   "metadata": {
    "id": "EQEqgl2asKUI"
   },
   "source": [
    "#### **The Silhouette Method**\n",
    "\n",
    "* The silhouette value measures how similar a point is to its own cluster (cohesion) compared to other clusters (separation).\n",
    "\n",
    "  * The range of the Silhouette value is between +1 and -1. \n",
    "  \n",
    "  * A high value is desirable and indicates that the point is placed in the correct cluster.\n",
    "\n",
    "  * If many points have a negative Silhouette value, it may indicate that we have created too many or too few clusters.\n",
    "\n",
    "\n",
    "The silhouette value of one data point $i \\in C_I$ is defined as:\n",
    "\n",
    "$s(i) = \\frac{b(i)-a(i)}{max\\{a(i),b(i)\\} }$, if $ |C_I| > 1$\n",
    "\n",
    "and\n",
    "\n",
    "$s(i) = 0 $, if $ |C_I| = 1$\n",
    "\n",
    "where $a(i)$ is the similarity of point $i$ with the points in its own cluster and $b(i)$ is the similarity of point $i$ with the points in the neighboring cluster. The similarity is computed as the mean distance from all other points in the cluster.\n",
    "\n",
    "#### **Mean Silhouette Value**\n",
    "\n",
    "We compute the mean over all points to get a single value for each $k$.\n",
    "\n"
   ]
  },
  {
   "cell_type": "code",
   "execution_count": 48,
   "metadata": {
    "executionInfo": {
     "elapsed": 5833,
     "status": "ok",
     "timestamp": 1664872661449,
     "user": {
      "displayName": "alessandro celestini",
      "userId": "05873352416691815837"
     },
     "user_tz": -120
    },
    "id": "f37mkIelzAIc"
   },
   "outputs": [],
   "source": [
    "from sklearn.metrics import silhouette_score\n",
    "\n",
    "k_val = list(range(2,10))\n",
    "sil = []\n",
    "\n",
    "for k in k_val:\n",
    "  kmeans = cluster.KMeans(n_clusters=k, random_state=10).fit( trRFM [cols] )\n",
    "  labels = kmeans.labels_\n",
    "  sil.append(silhouette_score(trRFM [cols], labels))\n"
   ]
  },
  {
   "cell_type": "code",
   "execution_count": 49,
   "metadata": {
    "colab": {
     "base_uri": "https://localhost:8080/",
     "height": 297
    },
    "executionInfo": {
     "elapsed": 9,
     "status": "ok",
     "timestamp": 1664872661450,
     "user": {
      "displayName": "alessandro celestini",
      "userId": "05873352416691815837"
     },
     "user_tz": -120
    },
    "id": "ONtlsoMS2VZb",
    "outputId": "591cf65f-29fe-4ecc-8189-adfb0073dfa1"
   },
   "outputs": [
    {
     "name": "stderr",
     "output_type": "stream",
     "text": [
      "<ipython-input-49-602644e046ac>:4: UserWarning: Matplotlib is currently using module://ipykernel.pylab.backend_inline, which is a non-GUI backend, so cannot show the figure.\n",
      "  fig.show()\n"
     ]
    },
    {
     "data": {
      "image/png": "[encoded data removed]",
      "text/plain": [
       "<Figure size 432x288 with 1 Axes>"
      ]
     },
     "metadata": {
      "needs_background": "light"
     },
     "output_type": "display_data"
    }
   ],
   "source": [
    "fig, ax = plt.subplots()\n",
    "ax.plot( k_val, sil)\n",
    "fig.tight_layout()\n",
    "fig.show()"
   ]
  },
  {
   "cell_type": "markdown",
   "metadata": {
    "id": "NPoDd2VU4l6U"
   },
   "source": [
    "The Silhouette Method suggests that both 3 and 5 would be good choices for k.\n",
    "\n",
    "* We can have a better idea of the silhouette values of all points by plotting them.\n",
    "\n",
    "* We plot all silhouette values for $k=3$ and $k=5$."
   ]
  },
  {
   "cell_type": "code",
   "execution_count": 50,
   "metadata": {
    "colab": {
     "base_uri": "https://localhost:8080/",
     "height": 607
    },
    "executionInfo": {
     "elapsed": 2422,
     "status": "ok",
     "timestamp": 1664872663867,
     "user": {
      "displayName": "alessandro celestini",
      "userId": "05873352416691815837"
     },
     "user_tz": -120
    },
    "id": "uDfDTIQD4-V8",
    "outputId": "4e09c3c8-d251-4fbd-cacb-823fc2afed05"
   },
   "outputs": [
    {
     "name": "stdout",
     "output_type": "stream",
     "text": [
      "For k = 3 the average silhouette_score is : 0.4492051114823549\n",
      "For k = 5 the average silhouette_score is : 0.4090005716393428\n"
     ]
    },
    {
     "data": {
      "image/png": "[encoded data removed]",
      "text/plain": [
       "<Figure size 432x288 with 1 Axes>"
      ]
     },
     "metadata": {
      "needs_background": "light"
     },
     "output_type": "display_data"
    },
    {
     "data": {
      "image/png": "[encoded data removed]",
      "text/plain": [
       "<Figure size 432x288 with 1 Axes>"
      ]
     },
     "metadata": {
      "needs_background": "light"
     },
     "output_type": "display_data"
    }
   ],
   "source": [
    "from sklearn.cluster import KMeans\n",
    "from sklearn.metrics import silhouette_samples, silhouette_score\n",
    "import matplotlib.cm as cm\n",
    "\n",
    "\n",
    "cluster_centers = dict()\n",
    "k_val = [3,5]\n",
    "\n",
    "for k in k_val:\n",
    "  fig, ax = plt.subplots()\n",
    "  # The silhouette coefficient can range from -1, 1,\n",
    "  # but we do not have values less than -0.2\n",
    "  ax.set_xlim([-0.2, 1])\n",
    "  # The (k+1)*100 is for inserting blank space between silhouette\n",
    "  # plots of individual clusters, to demarcate them clearly.\n",
    "  ax.set_ylim([0, trRFM.shape[0] + (k + 1) * 100])\n",
    "\n",
    "  kmeans = cluster.KMeans(n_clusters=k, random_state=10).fit( trRFM [cols] )\n",
    "  labels = kmeans.labels_\n",
    "  silhouette_avg = silhouette_score(trRFM [cols], labels)\n",
    "  print(f\"For k = {k} the average silhouette_score is : {silhouette_avg}\")\n",
    "  cluster_centers.update( { k : {\n",
    "                                        'center':kmeans.cluster_centers_,\n",
    "                                        'silhouette_avg':silhouette_avg,\n",
    "                                        'labels':labels}\n",
    "                           })\n",
    "\n",
    "  # Compute the silhouette scores for each sample\n",
    "  sample_silhouette_values = silhouette_samples(trRFM [cols], labels)\n",
    "\n",
    "  y_lower = 100\n",
    "  for i in range(k):\n",
    "    # Select only value belonging to cluster i\n",
    "    ith_cluster_silhouette_values = sample_silhouette_values[labels == i]\n",
    "    # Sort them\n",
    "    ith_cluster_silhouette_values.sort()\n",
    "\n",
    "    size_cluster_i = ith_cluster_silhouette_values.shape[0]\n",
    "    y_upper = y_lower + size_cluster_i\n",
    "\n",
    "    # We create a list of k colors from the color map nipy_spectral\n",
    "    color = cm.nipy_spectral(float(i) / k)\n",
    "    ax.fill_betweenx(\n",
    "            np.arange(y_lower, y_upper),\n",
    "            0,\n",
    "            ith_cluster_silhouette_values,\n",
    "            facecolor=color,\n",
    "            edgecolor=color,\n",
    "            alpha=0.7,\n",
    "    )\n",
    "\n",
    "# ** NOTE **\n",
    "# \n",
    "#  fill_between(y, x1, x2, ... )\n",
    "#\n",
    "#    Fill the area between two vertical curves.\n",
    "#    The curves are defined by the points (y, x1) and (y, x2). \n",
    "#    This creates one or multiple polygons describing the filled area.\n",
    "#\n",
    "#  arange() \n",
    "#\n",
    "#    Return evenly spaced values within a given interval\n",
    "#\n",
    "# ** NOTE **\n",
    "\n",
    "    # Label the silhouette plots with their cluster numbers at the middle\n",
    "    ax.text(-0.05, y_lower + 0.5 * size_cluster_i, str(i))\n",
    "\n",
    "    # Compute the new y_lower for next plot\n",
    "    y_lower = y_upper + 100  # 10 for the 0 samples\n",
    "\n",
    "  ax.set_title(\"The silhouette plot for the various clusters.\")\n",
    "  ax.set_xlabel(\"The silhouette coefficient values\")\n",
    "  ax.set_ylabel(\"Cluster label\")\n",
    "\n",
    "  # The vertical line for average silhouette score of all the values\n",
    "  ax.axvline(x=silhouette_avg, color=\"red\", linestyle=\"--\")\n",
    "\n",
    "  ax.set_yticks([])  # Clear the yaxis labels / ticks\n",
    "  ax.set_xticks([-0.2, -0.1, 0, 0.2, 0.4, 0.6, 0.8, 1])\n"
   ]
  },
  {
   "cell_type": "markdown",
   "metadata": {
    "id": "OPpdCR4PfTIs"
   },
   "source": [
    "#### **Labeling Clusters**\n",
    "\n",
    "We de-standardize the center of each cluster, to understand what is the profile of the customers inside each of them."
   ]
  },
  {
   "cell_type": "code",
   "execution_count": 51,
   "metadata": {
    "colab": {
     "base_uri": "https://localhost:8080/",
     "height": 297
    },
    "executionInfo": {
     "elapsed": 10,
     "status": "ok",
     "timestamp": 1664872663868,
     "user": {
      "displayName": "alessandro celestini",
      "userId": "05873352416691815837"
     },
     "user_tz": -120
    },
    "id": "x1MQ_i-zaRh-",
    "outputId": "d9ad1166-e2bb-494b-d9ed-2a577cf53595"
   },
   "outputs": [
    {
     "data": {
      "text/html": [
       "<div>\n",
       "<style scoped>\n",
       "    .dataframe tbody tr th:only-of-type {\n",
       "        vertical-align: middle;\n",
       "    }\n",
       "\n",
       "    .dataframe tbody tr th {\n",
       "        vertical-align: top;\n",
       "    }\n",
       "\n",
       "    .dataframe thead th {\n",
       "        text-align: right;\n",
       "    }\n",
       "</style>\n",
       "<table border=\"1\" class=\"dataframe\">\n",
       "  <thead>\n",
       "    <tr style=\"text-align: right;\">\n",
       "      <th></th>\n",
       "      <th>Recency</th>\n",
       "      <th>Frequency</th>\n",
       "      <th>Monetary</th>\n",
       "      <th>Cluster</th>\n",
       "      <th>k</th>\n",
       "    </tr>\n",
       "  </thead>\n",
       "  <tbody>\n",
       "    <tr>\n",
       "      <th>0</th>\n",
       "      <td>53.702797</td>\n",
       "      <td>35.140360</td>\n",
       "      <td>592.000201</td>\n",
       "      <td>0</td>\n",
       "      <td>3</td>\n",
       "    </tr>\n",
       "    <tr>\n",
       "      <th>1</th>\n",
       "      <td>43.563204</td>\n",
       "      <td>119.725907</td>\n",
       "      <td>1979.652004</td>\n",
       "      <td>1</td>\n",
       "      <td>3</td>\n",
       "    </tr>\n",
       "    <tr>\n",
       "      <th>2</th>\n",
       "      <td>256.139148</td>\n",
       "      <td>21.614746</td>\n",
       "      <td>365.664465</td>\n",
       "      <td>2</td>\n",
       "      <td>3</td>\n",
       "    </tr>\n",
       "    <tr>\n",
       "      <th>3</th>\n",
       "      <td>259.502703</td>\n",
       "      <td>21.117838</td>\n",
       "      <td>357.833362</td>\n",
       "      <td>0</td>\n",
       "      <td>5</td>\n",
       "    </tr>\n",
       "    <tr>\n",
       "      <th>4</th>\n",
       "      <td>51.482270</td>\n",
       "      <td>60.883688</td>\n",
       "      <td>1376.148553</td>\n",
       "      <td>1</td>\n",
       "      <td>5</td>\n",
       "    </tr>\n",
       "    <tr>\n",
       "      <th>5</th>\n",
       "      <td>57.082544</td>\n",
       "      <td>25.658999</td>\n",
       "      <td>406.899468</td>\n",
       "      <td>2</td>\n",
       "      <td>5</td>\n",
       "    </tr>\n",
       "    <tr>\n",
       "      <th>6</th>\n",
       "      <td>41.226519</td>\n",
       "      <td>130.596685</td>\n",
       "      <td>2631.633925</td>\n",
       "      <td>3</td>\n",
       "      <td>5</td>\n",
       "    </tr>\n",
       "    <tr>\n",
       "      <th>7</th>\n",
       "      <td>45.425170</td>\n",
       "      <td>133.231293</td>\n",
       "      <td>897.386905</td>\n",
       "      <td>4</td>\n",
       "      <td>5</td>\n",
       "    </tr>\n",
       "  </tbody>\n",
       "</table>\n",
       "</div>"
      ],
      "text/plain": [
       "      Recency   Frequency     Monetary  Cluster  k\n",
       "0   53.702797   35.140360   592.000201        0  3\n",
       "1   43.563204  119.725907  1979.652004        1  3\n",
       "2  256.139148   21.614746   365.664465        2  3\n",
       "3  259.502703   21.117838   357.833362        0  5\n",
       "4   51.482270   60.883688  1376.148553        1  5\n",
       "5   57.082544   25.658999   406.899468        2  5\n",
       "6   41.226519  130.596685  2631.633925        3  5\n",
       "7   45.425170  133.231293   897.386905        4  5"
      ]
     },
     "execution_count": 51,
     "metadata": {},
     "output_type": "execute_result"
    }
   ],
   "source": [
    "k_val = [3,5]\n",
    "cols = ['Recency','Frequency','Monetary']\n",
    "dfDic = {'Recency':[],'Frequency':[],'Monetary':[], 'Cluster':[] , 'k':[]}\n",
    "\n",
    "for k in k_val:\n",
    "  center = cluster_centers[k]['center']\n",
    "  for ce in range(k):\n",
    "    dfDic['k'].append(k)\n",
    "    dfDic['Cluster'].append(ce)\n",
    "    for i,co in enumerate(cols):      \n",
    "      dfDic[co].append(trRFM[co].std()*center[ce][i]+trRFM[co].mean())\n",
    "\n",
    "dfClusters = pd.DataFrame(dfDic)\n",
    "dfClusters"
   ]
  },
  {
   "cell_type": "code",
   "execution_count": 52,
   "metadata": {
    "colab": {
     "base_uri": "https://localhost:8080/",
     "height": 142
    },
    "executionInfo": {
     "elapsed": 436,
     "status": "ok",
     "timestamp": 1664872664296,
     "user": {
      "displayName": "alessandro celestini",
      "userId": "05873352416691815837"
     },
     "user_tz": -120
    },
    "id": "8be6pO10lYfd",
    "outputId": "dd2623a4-4412-4026-fc0b-b6fe551edca9"
   },
   "outputs": [
    {
     "data": {
      "text/html": [
       "<div>\n",
       "<style scoped>\n",
       "    .dataframe tbody tr th:only-of-type {\n",
       "        vertical-align: middle;\n",
       "    }\n",
       "\n",
       "    .dataframe tbody tr th {\n",
       "        vertical-align: top;\n",
       "    }\n",
       "\n",
       "    .dataframe thead th {\n",
       "        text-align: right;\n",
       "    }\n",
       "</style>\n",
       "<table border=\"1\" class=\"dataframe\">\n",
       "  <thead>\n",
       "    <tr style=\"text-align: right;\">\n",
       "      <th></th>\n",
       "      <th>Recency</th>\n",
       "      <th>Frequency</th>\n",
       "      <th>Monetary</th>\n",
       "      <th>Cluster</th>\n",
       "      <th>k</th>\n",
       "    </tr>\n",
       "  </thead>\n",
       "  <tbody>\n",
       "    <tr>\n",
       "      <th>0</th>\n",
       "      <td>53.702797</td>\n",
       "      <td>35.140360</td>\n",
       "      <td>592.000201</td>\n",
       "      <td>0</td>\n",
       "      <td>3</td>\n",
       "    </tr>\n",
       "    <tr>\n",
       "      <th>1</th>\n",
       "      <td>43.563204</td>\n",
       "      <td>119.725907</td>\n",
       "      <td>1979.652004</td>\n",
       "      <td>1</td>\n",
       "      <td>3</td>\n",
       "    </tr>\n",
       "    <tr>\n",
       "      <th>2</th>\n",
       "      <td>256.139148</td>\n",
       "      <td>21.614746</td>\n",
       "      <td>365.664465</td>\n",
       "      <td>2</td>\n",
       "      <td>3</td>\n",
       "    </tr>\n",
       "  </tbody>\n",
       "</table>\n",
       "</div>"
      ],
      "text/plain": [
       "      Recency   Frequency     Monetary  Cluster  k\n",
       "0   53.702797   35.140360   592.000201        0  3\n",
       "1   43.563204  119.725907  1979.652004        1  3\n",
       "2  256.139148   21.614746   365.664465        2  3"
      ]
     },
     "execution_count": 52,
     "metadata": {},
     "output_type": "execute_result"
    }
   ],
   "source": [
    "dfClusters[ dfClusters['k'] == 3]"
   ]
  },
  {
   "cell_type": "markdown",
   "metadata": {
    "id": "o5-1YQw1ldr-"
   },
   "source": [
    "#### **Three Clusters (Customer Segments):** \n",
    "\n",
    "* **High value customer:** Customers in *cluster 0* place orders with the highest value at a very high relative frequency compared to other customers. They are also the ones who placed an order the most recently.\n",
    "\n",
    "* **Medium value customer:** Customers in *cluster 2* place orders of considerable amount, though not as much as high as customers in *cluster 0*, but still higher than customers in *cluster 1*. Their orders are relative more frequent than those placed by customers in *cluster 1* and slightly less recent that customers in *cluster 0*. \n",
    "\n",
    "* **Low value customer:** Customers in *cluster 1* rarely shop and when they order, their orders are pretty low valued. They placed their last order a long time ago. Customers in this cluster could be at risk.\n"
   ]
  },
  {
   "cell_type": "code",
   "execution_count": 53,
   "metadata": {
    "colab": {
     "base_uri": "https://localhost:8080/",
     "height": 204
    },
    "executionInfo": {
     "elapsed": 11,
     "status": "ok",
     "timestamp": 1664872664296,
     "user": {
      "displayName": "alessandro celestini",
      "userId": "05873352416691815837"
     },
     "user_tz": -120
    },
    "id": "H6fgEaOXlnKS",
    "outputId": "139787ea-392b-4e13-e724-4d1b8bbc95de"
   },
   "outputs": [
    {
     "data": {
      "text/html": [
       "<div>\n",
       "<style scoped>\n",
       "    .dataframe tbody tr th:only-of-type {\n",
       "        vertical-align: middle;\n",
       "    }\n",
       "\n",
       "    .dataframe tbody tr th {\n",
       "        vertical-align: top;\n",
       "    }\n",
       "\n",
       "    .dataframe thead th {\n",
       "        text-align: right;\n",
       "    }\n",
       "</style>\n",
       "<table border=\"1\" class=\"dataframe\">\n",
       "  <thead>\n",
       "    <tr style=\"text-align: right;\">\n",
       "      <th></th>\n",
       "      <th>Recency</th>\n",
       "      <th>Frequency</th>\n",
       "      <th>Monetary</th>\n",
       "      <th>Cluster</th>\n",
       "      <th>k</th>\n",
       "    </tr>\n",
       "  </thead>\n",
       "  <tbody>\n",
       "    <tr>\n",
       "      <th>3</th>\n",
       "      <td>259.502703</td>\n",
       "      <td>21.117838</td>\n",
       "      <td>357.833362</td>\n",
       "      <td>0</td>\n",
       "      <td>5</td>\n",
       "    </tr>\n",
       "    <tr>\n",
       "      <th>4</th>\n",
       "      <td>51.482270</td>\n",
       "      <td>60.883688</td>\n",
       "      <td>1376.148553</td>\n",
       "      <td>1</td>\n",
       "      <td>5</td>\n",
       "    </tr>\n",
       "    <tr>\n",
       "      <th>5</th>\n",
       "      <td>57.082544</td>\n",
       "      <td>25.658999</td>\n",
       "      <td>406.899468</td>\n",
       "      <td>2</td>\n",
       "      <td>5</td>\n",
       "    </tr>\n",
       "    <tr>\n",
       "      <th>6</th>\n",
       "      <td>41.226519</td>\n",
       "      <td>130.596685</td>\n",
       "      <td>2631.633925</td>\n",
       "      <td>3</td>\n",
       "      <td>5</td>\n",
       "    </tr>\n",
       "    <tr>\n",
       "      <th>7</th>\n",
       "      <td>45.425170</td>\n",
       "      <td>133.231293</td>\n",
       "      <td>897.386905</td>\n",
       "      <td>4</td>\n",
       "      <td>5</td>\n",
       "    </tr>\n",
       "  </tbody>\n",
       "</table>\n",
       "</div>"
      ],
      "text/plain": [
       "      Recency   Frequency     Monetary  Cluster  k\n",
       "3  259.502703   21.117838   357.833362        0  5\n",
       "4   51.482270   60.883688  1376.148553        1  5\n",
       "5   57.082544   25.658999   406.899468        2  5\n",
       "6   41.226519  130.596685  2631.633925        3  5\n",
       "7   45.425170  133.231293   897.386905        4  5"
      ]
     },
     "execution_count": 53,
     "metadata": {},
     "output_type": "execute_result"
    }
   ],
   "source": [
    "dfClusters[ dfClusters['k'] == 5]"
   ]
  },
  {
   "cell_type": "markdown",
   "metadata": {
    "id": "3J-296d9lmYs"
   },
   "source": [
    "#### **Five Clusters (Customer Segments):** \n",
    "\n",
    "* **Top customer:** Customers in *cluster 3* are high value customer who has shopped recently and shops regularly for high value orders.\n",
    "\n",
    "* **High value customer:** Customers in *cluster 4* place quite high valued orders but do not do so frequently or have not done it much recently. \n",
    "\n",
    "* **Medium value customer:** Customers in *cluster 0* have recently placed medium valued orders. Consumers in this group have a high value of frequency. In the long-term view, some of the consumers might be potentially very highly profitable. \n",
    "\n",
    "* **Low value customers:** Customers in *cluster 2* placed medium valued orders quite a long time ago and they do not do so frequently.\n",
    " \n",
    "* **Lost Customers:** Customers in *cluster 1* have not shopped in the longest time, nor do they shop frequently and their orders are of the lowest values. The low value of frequency and the high value of recency are signals that these customers are at risk or we have already lost them.\n"
   ]
  },
  {
   "cell_type": "markdown",
   "metadata": {
    "id": "iG5nkpzwxnX8"
   },
   "source": [
    "#### **Exercise**\n",
    "\n",
    "* **Q1:** What is the size of each cluster?\n",
    "\n",
    "* **Q2:** What percentage of the total sales do the customers in the most valuable cluster represent?\n",
    "  * **Q2.1:** What is the sales percentage of each cluster?\n",
    "  \n",
    "  \n",
    "* **Q3:** How does the result of our analysis change if: we cap our data instead of trimming them, we apply the percentile approach to identify outliers, we keep all outliers without *treating* them? "
   ]
  },
  {
   "cell_type": "markdown",
   "metadata": {
    "id": "nWelPL0Wo8N6"
   },
   "source": [
    "## **Clustering (percentiles)**\n",
    "\n",
    "We can use other methods to cluster our customers, a common approach is to use percentiles.\n",
    "\n",
    "* RFM analysis involves scoring and ranking customers according to three attributes separately.\n",
    "\n",
    "* A common approach is to have five grades for each attribute, yielding a total of 125 combinations.\n",
    "\n",
    "  * We assign a score from one to five to recency, frequency and monetary values individually for each customer. \n",
    "  \n",
    "  * Five is the best/highest value, and one is the lowest/worst value. A final RFM score is calculated simply by combining individual RFM score numbers.\n",
    "  \n",
    "    * Customers who purchased recently, are frequent buyers and spend a lot are assigned score of 555 – Recency(R) – 5, Frequency(F) – 5, Monetary(M) – 5. They are your best customers.\n",
    "\n",
    "    * Customers spending the lowest, making hardly any purchase and that too a long time ago are assigned score of 555. Recency(R) – 1, Frequency(F) – 1, Monetary(M) – 1. \n",
    "\n",
    "\n"
   ]
  },
  {
   "cell_type": "markdown",
   "metadata": {
    "id": "C1BdPJKu4ysZ"
   },
   "source": [
    "#### **Q1:** How do we calculate RFM scores on scale of 1-5?\n",
    "\n",
    "* We make five equal parts based on available values. We use percentiles.\n",
    "\n",
    "* Percentile is simply the percentage of values that fall at or below a certain observation.\n",
    "\n",
    "The following image is taken from MathIsFun.com."
   ]
  },
  {
   "cell_type": "markdown",
   "metadata": {
    "id": "md5v3XHlK9qR"
   },
   "source": [
    "\n",
    "\n",
    "  ![percentile.png](data:image/png;base64,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)"
   ]
  },
  {
   "cell_type": "markdown",
   "metadata": {
    "id": "FSV9eHPeM7fl"
   },
   "source": [
    "#### **Quintiles**\n",
    "\n",
    "We use quintiles that are like percentile, but instead of dividing the data in 100 parts, we divide it in 5 equal parts."
   ]
  },
  {
   "cell_type": "code",
   "execution_count": 54,
   "metadata": {
    "colab": {
     "base_uri": "https://localhost:8080/",
     "height": 419
    },
    "executionInfo": {
     "elapsed": 10,
     "status": "ok",
     "timestamp": 1664872664297,
     "user": {
      "displayName": "alessandro celestini",
      "userId": "05873352416691815837"
     },
     "user_tz": -120
    },
    "id": "s5FgdLNwIOjA",
    "outputId": "a6359e84-11a4-4c0b-de6a-dc0baf5dce85"
   },
   "outputs": [
    {
     "data": {
      "text/html": [
       "<div>\n",
       "<style scoped>\n",
       "    .dataframe tbody tr th:only-of-type {\n",
       "        vertical-align: middle;\n",
       "    }\n",
       "\n",
       "    .dataframe tbody tr th {\n",
       "        vertical-align: top;\n",
       "    }\n",
       "\n",
       "    .dataframe thead th {\n",
       "        text-align: right;\n",
       "    }\n",
       "</style>\n",
       "<table border=\"1\" class=\"dataframe\">\n",
       "  <thead>\n",
       "    <tr style=\"text-align: right;\">\n",
       "      <th></th>\n",
       "      <th>CustomerID</th>\n",
       "      <th>Recency</th>\n",
       "      <th>Frequency</th>\n",
       "      <th>Monetary</th>\n",
       "      <th>R</th>\n",
       "      <th>F</th>\n",
       "      <th>M</th>\n",
       "      <th>RFM_Score</th>\n",
       "    </tr>\n",
       "  </thead>\n",
       "  <tbody>\n",
       "    <tr>\n",
       "      <th>0</th>\n",
       "      <td>12346</td>\n",
       "      <td>326</td>\n",
       "      <td>1</td>\n",
       "      <td>77183.60</td>\n",
       "      <td>1</td>\n",
       "      <td>1</td>\n",
       "      <td>5</td>\n",
       "      <td>115</td>\n",
       "    </tr>\n",
       "    <tr>\n",
       "      <th>1</th>\n",
       "      <td>12347</td>\n",
       "      <td>3</td>\n",
       "      <td>182</td>\n",
       "      <td>4310.00</td>\n",
       "      <td>5</td>\n",
       "      <td>5</td>\n",
       "      <td>5</td>\n",
       "      <td>555</td>\n",
       "    </tr>\n",
       "    <tr>\n",
       "      <th>2</th>\n",
       "      <td>12348</td>\n",
       "      <td>76</td>\n",
       "      <td>31</td>\n",
       "      <td>1797.24</td>\n",
       "      <td>2</td>\n",
       "      <td>3</td>\n",
       "      <td>4</td>\n",
       "      <td>234</td>\n",
       "    </tr>\n",
       "    <tr>\n",
       "      <th>3</th>\n",
       "      <td>12349</td>\n",
       "      <td>19</td>\n",
       "      <td>73</td>\n",
       "      <td>1757.55</td>\n",
       "      <td>4</td>\n",
       "      <td>4</td>\n",
       "      <td>4</td>\n",
       "      <td>444</td>\n",
       "    </tr>\n",
       "    <tr>\n",
       "      <th>4</th>\n",
       "      <td>12350</td>\n",
       "      <td>311</td>\n",
       "      <td>17</td>\n",
       "      <td>334.40</td>\n",
       "      <td>1</td>\n",
       "      <td>2</td>\n",
       "      <td>2</td>\n",
       "      <td>122</td>\n",
       "    </tr>\n",
       "    <tr>\n",
       "      <th>...</th>\n",
       "      <td>...</td>\n",
       "      <td>...</td>\n",
       "      <td>...</td>\n",
       "      <td>...</td>\n",
       "      <td>...</td>\n",
       "      <td>...</td>\n",
       "      <td>...</td>\n",
       "      <td>...</td>\n",
       "    </tr>\n",
       "    <tr>\n",
       "      <th>4333</th>\n",
       "      <td>18280</td>\n",
       "      <td>278</td>\n",
       "      <td>10</td>\n",
       "      <td>180.60</td>\n",
       "      <td>1</td>\n",
       "      <td>1</td>\n",
       "      <td>1</td>\n",
       "      <td>111</td>\n",
       "    </tr>\n",
       "    <tr>\n",
       "      <th>4334</th>\n",
       "      <td>18281</td>\n",
       "      <td>181</td>\n",
       "      <td>7</td>\n",
       "      <td>80.82</td>\n",
       "      <td>1</td>\n",
       "      <td>1</td>\n",
       "      <td>1</td>\n",
       "      <td>111</td>\n",
       "    </tr>\n",
       "    <tr>\n",
       "      <th>4335</th>\n",
       "      <td>18282</td>\n",
       "      <td>8</td>\n",
       "      <td>12</td>\n",
       "      <td>178.05</td>\n",
       "      <td>5</td>\n",
       "      <td>1</td>\n",
       "      <td>1</td>\n",
       "      <td>511</td>\n",
       "    </tr>\n",
       "    <tr>\n",
       "      <th>4336</th>\n",
       "      <td>18283</td>\n",
       "      <td>4</td>\n",
       "      <td>721</td>\n",
       "      <td>2045.53</td>\n",
       "      <td>5</td>\n",
       "      <td>5</td>\n",
       "      <td>4</td>\n",
       "      <td>554</td>\n",
       "    </tr>\n",
       "    <tr>\n",
       "      <th>4337</th>\n",
       "      <td>18287</td>\n",
       "      <td>43</td>\n",
       "      <td>70</td>\n",
       "      <td>1837.28</td>\n",
       "      <td>3</td>\n",
       "      <td>4</td>\n",
       "      <td>4</td>\n",
       "      <td>344</td>\n",
       "    </tr>\n",
       "  </tbody>\n",
       "</table>\n",
       "<p>4338 rows × 8 columns</p>\n",
       "</div>"
      ],
      "text/plain": [
       "      CustomerID  Recency  Frequency  Monetary  R  F  M RFM_Score\n",
       "0          12346      326          1  77183.60  1  1  5       115\n",
       "1          12347        3        182   4310.00  5  5  5       555\n",
       "2          12348       76         31   1797.24  2  3  4       234\n",
       "3          12349       19         73   1757.55  4  4  4       444\n",
       "4          12350      311         17    334.40  1  2  2       122\n",
       "...          ...      ...        ...       ... .. .. ..       ...\n",
       "4333       18280      278         10    180.60  1  1  1       111\n",
       "4334       18281      181          7     80.82  1  1  1       111\n",
       "4335       18282        8         12    178.05  5  1  1       511\n",
       "4336       18283        4        721   2045.53  5  5  4       554\n",
       "4337       18287       43         70   1837.28  3  4  4       344\n",
       "\n",
       "[4338 rows x 8 columns]"
      ]
     },
     "execution_count": 54,
     "metadata": {},
     "output_type": "execute_result"
    }
   ],
   "source": [
    "# We compute the RFM score of each customer\n",
    "\n",
    "dfRFM[\"R\"] = pd.qcut( dfRFM[\"Recency\"],    5,  labels=[5,4,3,2,1] )\n",
    "dfRFM[\"F\"] = pd.qcut( dfRFM[\"Frequency\"],  5,  labels=[1,2,3,4,5] )\n",
    "dfRFM[\"M\"] = pd.qcut( dfRFM[\"Monetary\"],   5,  labels=[1,2,3,4,5] )\n",
    "\n",
    "# ** NOTE **\n",
    "# \n",
    "#  qcut(x, q, labels=None, ...)\n",
    "#\n",
    "#    Quantile-based discretization function.\n",
    "#    Discretize variable into equal-sized buckets based on rank \n",
    "#    or based on sample quantiles. \n",
    "# \n",
    "#    x: 1d ndarray or Series\n",
    "#\n",
    "#    q: int or list-like of float\n",
    "#      Number of quantiles. 10 for deciles, 4 for quartiles, etc. \n",
    "#      Alternately array of quantiles, e.g. [0, .25, .5, .75, 1.] for quartiles.\n",
    "#\n",
    "#    labels: array or False, default None\n",
    "#      Used as labels for the resulting bins. Must be of the same length \n",
    "#      as the resulting bins. If False, return only integer indicators of \n",
    "#      the bins. If True, raises an error. \n",
    "#\n",
    "# ** NOTE **\n",
    "\n",
    "dfRFM[\"RFM_Score\"] = dfRFM[\"R\"].astype(str) + dfRFM[\"F\"].astype(str) + dfRFM[\"M\"].astype(str)\n",
    "\n",
    "dfRFM"
   ]
  },
  {
   "cell_type": "markdown",
   "metadata": {
    "id": "nEJArY-5_G5e"
   },
   "source": [
    "### **Exercise**\n",
    "\n",
    "* **Q1:** What is the maximum number of clusters that this method creates?\n",
    "\n",
    "* **Q2:** How many clusters did we create?\n",
    "\n",
    "* **Q3:** How many customers do we have inside each cluster?\n",
    "\n",
    "* **Q4:** Which are the most populated clusters (top10)?"
   ]
  },
  {
   "cell_type": "markdown",
   "metadata": {
    "id": "9_ysnN2t_vzs"
   },
   "source": [
    "### **Labeling**\n",
    "\n",
    "* **Q1:** How do we label our clusters?"
   ]
  },
  {
   "cell_type": "markdown",
   "metadata": {
    "id": "OMsrIn4cE00H"
   },
   "source": [
    "We propose the following labeling with 7 clusters. \n",
    "\n",
    "* We treat Frequency and Monetary as a single combined value (dimension)."
   ]
  },
  {
   "cell_type": "markdown",
   "metadata": {
    "id": "YTsKlKgCXbLV"
   },
   "source": [
    "| Label |\tDescription |\tR | F+M |\n",
    "| --- | --- | --- | --- | \n",
    "| Champions | Bought recently, buy often<br> and spend a good amount. | 5 | 9-10 |\n",
    "| Loyal | Buy often from our store<br> and spend a good amount.<br> Customers who have the<br> most potential to become<br> the Champions. | 3-4 | 8-10 |\n",
    "| Recent | Bought recently, but not<br>  often or for a small amount<br>  amount. | 4<br>5 | 2-7<br>2-8 |\n",
    "| Needing Attention | Above average recency or<br> frequency or monetary<br> values.  |2<br>3 |8-10<br>2-7 |\n",
    "| About to sleep | Below average recency,<br> frequency and monetary<br> value. | 2| 2-7 |\n",
    "| Can't lose them| Made big purchases, and<br> often. They have not<br> returned for a long time.|1| 8-10 |\n",
    "|Hibernating|Last purchase was long back,<br> low spenders and low number<br> of orders|1|2-7|"
   ]
  },
  {
   "cell_type": "code",
   "execution_count": 55,
   "metadata": {
    "colab": {
     "base_uri": "https://localhost:8080/",
     "height": 419
    },
    "executionInfo": {
     "elapsed": 414,
     "status": "ok",
     "timestamp": 1664876767801,
     "user": {
      "displayName": "alessandro celestini",
      "userId": "05873352416691815837"
     },
     "user_tz": -120
    },
    "id": "XWwXaYQHep4v",
    "outputId": "02410026-3d96-4947-d56e-da8fb8d153f7"
   },
   "outputs": [
    {
     "data": {
      "text/html": [
       "<div>\n",
       "<style scoped>\n",
       "    .dataframe tbody tr th:only-of-type {\n",
       "        vertical-align: middle;\n",
       "    }\n",
       "\n",
       "    .dataframe tbody tr th {\n",
       "        vertical-align: top;\n",
       "    }\n",
       "\n",
       "    .dataframe thead th {\n",
       "        text-align: right;\n",
       "    }\n",
       "</style>\n",
       "<table border=\"1\" class=\"dataframe\">\n",
       "  <thead>\n",
       "    <tr style=\"text-align: right;\">\n",
       "      <th></th>\n",
       "      <th>CustomerID</th>\n",
       "      <th>Recency</th>\n",
       "      <th>Frequency</th>\n",
       "      <th>Monetary</th>\n",
       "      <th>R</th>\n",
       "      <th>F</th>\n",
       "      <th>M</th>\n",
       "      <th>RFM_Score</th>\n",
       "      <th>Label</th>\n",
       "    </tr>\n",
       "  </thead>\n",
       "  <tbody>\n",
       "    <tr>\n",
       "      <th>0</th>\n",
       "      <td>12346</td>\n",
       "      <td>326</td>\n",
       "      <td>1</td>\n",
       "      <td>77183.60</td>\n",
       "      <td>1</td>\n",
       "      <td>1</td>\n",
       "      <td>5</td>\n",
       "      <td>115</td>\n",
       "      <td>Hibernationg</td>\n",
       "    </tr>\n",
       "    <tr>\n",
       "      <th>1</th>\n",
       "      <td>12347</td>\n",
       "      <td>3</td>\n",
       "      <td>182</td>\n",
       "      <td>4310.00</td>\n",
       "      <td>5</td>\n",
       "      <td>5</td>\n",
       "      <td>5</td>\n",
       "      <td>555</td>\n",
       "      <td>Champions</td>\n",
       "    </tr>\n",
       "    <tr>\n",
       "      <th>2</th>\n",
       "      <td>12348</td>\n",
       "      <td>76</td>\n",
       "      <td>31</td>\n",
       "      <td>1797.24</td>\n",
       "      <td>2</td>\n",
       "      <td>3</td>\n",
       "      <td>4</td>\n",
       "      <td>234</td>\n",
       "      <td>About to Sleep</td>\n",
       "    </tr>\n",
       "    <tr>\n",
       "      <th>3</th>\n",
       "      <td>12349</td>\n",
       "      <td>19</td>\n",
       "      <td>73</td>\n",
       "      <td>1757.55</td>\n",
       "      <td>4</td>\n",
       "      <td>4</td>\n",
       "      <td>4</td>\n",
       "      <td>444</td>\n",
       "      <td>Loyal</td>\n",
       "    </tr>\n",
       "    <tr>\n",
       "      <th>4</th>\n",
       "      <td>12350</td>\n",
       "      <td>311</td>\n",
       "      <td>17</td>\n",
       "      <td>334.40</td>\n",
       "      <td>1</td>\n",
       "      <td>2</td>\n",
       "      <td>2</td>\n",
       "      <td>122</td>\n",
       "      <td>Hibernationg</td>\n",
       "    </tr>\n",
       "    <tr>\n",
       "      <th>...</th>\n",
       "      <td>...</td>\n",
       "      <td>...</td>\n",
       "      <td>...</td>\n",
       "      <td>...</td>\n",
       "      <td>...</td>\n",
       "      <td>...</td>\n",
       "      <td>...</td>\n",
       "      <td>...</td>\n",
       "      <td>...</td>\n",
       "    </tr>\n",
       "    <tr>\n",
       "      <th>4333</th>\n",
       "      <td>18280</td>\n",
       "      <td>278</td>\n",
       "      <td>10</td>\n",
       "      <td>180.60</td>\n",
       "      <td>1</td>\n",
       "      <td>1</td>\n",
       "      <td>1</td>\n",
       "      <td>111</td>\n",
       "      <td>Hibernationg</td>\n",
       "    </tr>\n",
       "    <tr>\n",
       "      <th>4334</th>\n",
       "      <td>18281</td>\n",
       "      <td>181</td>\n",
       "      <td>7</td>\n",
       "      <td>80.82</td>\n",
       "      <td>1</td>\n",
       "      <td>1</td>\n",
       "      <td>1</td>\n",
       "      <td>111</td>\n",
       "      <td>Hibernationg</td>\n",
       "    </tr>\n",
       "    <tr>\n",
       "      <th>4335</th>\n",
       "      <td>18282</td>\n",
       "      <td>8</td>\n",
       "      <td>12</td>\n",
       "      <td>178.05</td>\n",
       "      <td>5</td>\n",
       "      <td>1</td>\n",
       "      <td>1</td>\n",
       "      <td>511</td>\n",
       "      <td>Recent</td>\n",
       "    </tr>\n",
       "    <tr>\n",
       "      <th>4336</th>\n",
       "      <td>18283</td>\n",
       "      <td>4</td>\n",
       "      <td>721</td>\n",
       "      <td>2045.53</td>\n",
       "      <td>5</td>\n",
       "      <td>5</td>\n",
       "      <td>4</td>\n",
       "      <td>554</td>\n",
       "      <td>Champions</td>\n",
       "    </tr>\n",
       "    <tr>\n",
       "      <th>4337</th>\n",
       "      <td>18287</td>\n",
       "      <td>43</td>\n",
       "      <td>70</td>\n",
       "      <td>1837.28</td>\n",
       "      <td>3</td>\n",
       "      <td>4</td>\n",
       "      <td>4</td>\n",
       "      <td>344</td>\n",
       "      <td>Loyal</td>\n",
       "    </tr>\n",
       "  </tbody>\n",
       "</table>\n",
       "<p>4338 rows × 9 columns</p>\n",
       "</div>"
      ],
      "text/plain": [
       "      CustomerID  Recency  Frequency  Monetary  R  F  M RFM_Score  \\\n",
       "0          12346      326          1  77183.60  1  1  5       115   \n",
       "1          12347        3        182   4310.00  5  5  5       555   \n",
       "2          12348       76         31   1797.24  2  3  4       234   \n",
       "3          12349       19         73   1757.55  4  4  4       444   \n",
       "4          12350      311         17    334.40  1  2  2       122   \n",
       "...          ...      ...        ...       ... .. .. ..       ...   \n",
       "4333       18280      278         10    180.60  1  1  1       111   \n",
       "4334       18281      181          7     80.82  1  1  1       111   \n",
       "4335       18282        8         12    178.05  5  1  1       511   \n",
       "4336       18283        4        721   2045.53  5  5  4       554   \n",
       "4337       18287       43         70   1837.28  3  4  4       344   \n",
       "\n",
       "               Label  \n",
       "0       Hibernationg  \n",
       "1          Champions  \n",
       "2     About to Sleep  \n",
       "3              Loyal  \n",
       "4       Hibernationg  \n",
       "...              ...  \n",
       "4333    Hibernationg  \n",
       "4334    Hibernationg  \n",
       "4335          Recent  \n",
       "4336       Champions  \n",
       "4337           Loyal  \n",
       "\n",
       "[4338 rows x 9 columns]"
      ]
     },
     "execution_count": 55,
     "metadata": {},
     "output_type": "execute_result"
    }
   ],
   "source": [
    "# We apply our lables to our dataset\n",
    "\n",
    "dfRFM['Label'] = [np.nan]*dfRFM.shape[0]\n",
    "\n",
    "dfRFM.loc[ (dfRFM['R'].astype(int) == 5) & ((dfRFM[\"F\"].astype(int)+dfRFM[\"F\"].astype(int)) >= 9 ), 'Label'] = \"Champions\"\n",
    "\n",
    "dfRFM.loc[ (dfRFM['R'].astype(int) == 4) & ((dfRFM[\"F\"].astype(int)+dfRFM[\"F\"].astype(int)) >= 8 ), 'Label'] = \"Loyal\"\n",
    "dfRFM.loc[ (dfRFM['R'].astype(int) == 3) & ((dfRFM[\"F\"].astype(int)+dfRFM[\"F\"].astype(int)) >= 8 ), 'Label'] = \"Loyal\"\n",
    "\n",
    "dfRFM.loc[ (dfRFM['R'].astype(int) == 5) & ((dfRFM[\"F\"].astype(int)+dfRFM[\"F\"].astype(int)) <= 8 ), 'Label'] = \"Recent\"\n",
    "dfRFM.loc[ (dfRFM['R'].astype(int) == 4) & ((dfRFM[\"F\"].astype(int)+dfRFM[\"F\"].astype(int)) <= 7 ), 'Label'] = \"Recent\"\n",
    "\n",
    "dfRFM.loc[ (dfRFM['R'].astype(int) == 2) & ((dfRFM[\"F\"].astype(int)+dfRFM[\"F\"].astype(int)) >= 8 ), 'Label'] = \"Needing Attention\"\n",
    "dfRFM.loc[ (dfRFM['R'].astype(int) == 3) & ((dfRFM[\"F\"].astype(int)+dfRFM[\"F\"].astype(int)) <= 7 ), 'Label'] = \"Needing Attention\"\n",
    "\n",
    "dfRFM.loc[ (dfRFM['R'].astype(int) == 2) & ((dfRFM[\"F\"].astype(int)+dfRFM[\"F\"].astype(int)) <= 7 ), 'Label'] = \"About to Sleep\"\n",
    "\n",
    "dfRFM.loc[ (dfRFM['R'].astype(int) == 1) & ((dfRFM[\"F\"].astype(int)+dfRFM[\"F\"].astype(int)) >= 8 ), 'Label'] = \"Can't Lose Them\"\n",
    "\n",
    "dfRFM.loc[ (dfRFM['R'].astype(int) == 1) & ((dfRFM[\"F\"].astype(int)+dfRFM[\"F\"].astype(int)) <= 7 ), 'Label'] = \"Hibernationg\"\n",
    "\n",
    "dfRFM\n",
    "\n"
   ]
  },
  {
   "cell_type": "code",
   "execution_count": 57,
   "metadata": {
    "colab": {
     "base_uri": "https://localhost:8080/",
     "height": 297
    },
    "executionInfo": {
     "elapsed": 877,
     "status": "ok",
     "timestamp": 1664876771752,
     "user": {
      "displayName": "alessandro celestini",
      "userId": "05873352416691815837"
     },
     "user_tz": -120
    },
    "id": "yg1uEgLliVfm",
    "outputId": "533e0a9a-29c1-4807-e6d2-5ef3084e5a92"
   },
   "outputs": [
    {
     "name": "stderr",
     "output_type": "stream",
     "text": [
      "<ipython-input-57-e5c87d301f04>:9: UserWarning: Matplotlib is currently using module://ipykernel.pylab.backend_inline, which is a non-GUI backend, so cannot show the figure.\n",
      "  fig.show()\n"
     ]
    },
    {
     "data": {
      "image/png": "[encoded data removed]",
      "text/plain": [
       "<Figure size 432x288 with 1 Axes>"
      ]
     },
     "metadata": {
      "needs_background": "light"
     },
     "output_type": "display_data"
    }
   ],
   "source": [
    "fig, ax = plt.subplots()\n",
    "\n",
    "pltRFM = dfRFM.groupby('Label', as_index=False).aggregate({'CustomerID':'nunique'})\n",
    "\n",
    "ax.bar(x=pltRFM['Label'], height=pltRFM[\"CustomerID\"])\n",
    "#ax.set_title(\"Transaction Types\") # Add a title to the axes.\n",
    "ax.tick_params(axis='x', labelrotation=45)\n",
    "fig.tight_layout()\n",
    "fig.show()"
   ]
  },
  {
   "cell_type": "code",
   "execution_count": null,
   "metadata": {},
   "outputs": [],
   "source": []
  }
 ],
 "metadata": {
  "colab": {
   "authorship_tag": "ABX9TyMthzOUdbw5czj74Q8RSWUf",
   "collapsed_sections": [],
   "provenance": []
  },
  "kernelspec": {
   "display_name": "Python 3",
   "language": "python",
   "name": "python3"
  },
  "language_info": {
   "codemirror_mode": {
    "name": "ipython",
    "version": 3
   },
   "file_extension": ".py",
   "mimetype": "text/x-python",
   "name": "python",
   "nbconvert_exporter": "python",
   "pygments_lexer": "ipython3",
   "version": "3.8.10"
  }
 },
 "nbformat": 4,
 "nbformat_minor": 4
}

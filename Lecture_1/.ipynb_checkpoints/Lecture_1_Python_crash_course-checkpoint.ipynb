{
 "cells": [
  {
   "cell_type": "markdown",
   "metadata": {
    "slideshow": {
     "slide_type": "fragment"
    }
   },
   "source": [
    "# Python crash course"
   ]
  },
  {
   "cell_type": "markdown",
   "metadata": {
    "slideshow": {
     "slide_type": "slide"
    }
   },
   "source": [
    "## What it is, how it started\n",
    "\n",
    "![](python.png)\n",
    "\n",
    "- 1989: Guido van Rossum needed an \"advanced\" scripting language for his distributed OS Amoeba.\n",
    "- First version: 1991.\n",
    "- Name inspired by the “Monty Python's Flying Circus”."
   ]
  },
  {
   "cell_type": "code",
   "execution_count": null,
   "metadata": {
    "slideshow": {
     "slide_type": "slide"
    }
   },
   "outputs": [],
   "source": [
    "from IPython.display import YouTubeVideo\n",
    "\n",
    "# Youtube\n",
    "YouTubeVideo('i21OJ8SkBMQ', width=800, height=300)"
   ]
  },
  {
   "cell_type": "markdown",
   "metadata": {
    "slideshow": {
     "slide_type": "slide"
    }
   },
   "source": [
    "- Python is **interpreted**:\n",
    "    - the instructions are translated and executed one at a time\n",
    "    - it is easy to write\n",
    "    - it has great portability\n",
    "- Immediately used with success in the Amoeba project and other projects; improved with time, it is today a mature and solid language.\n",
    "- The standard library is very rich; a number of external libraries are available for web applications, graphics, games, multimedia, scientific computing, ... \n",
    "- It is very easy to learn and use.\n",
    "- Nowadays, only version 3 is supported (but you might find some projects written using version 2, which is partially incompatible with the 3).\n",
    "\n",
    "To know exactly what Python version you are using, run \n",
    "\n",
    "```shell\n",
    "python --version\n",
    "```\n",
    "\n",
    "at the command line, or put a ! in front from inside a notebook:"
   ]
  },
  {
   "cell_type": "code",
   "execution_count": null,
   "metadata": {},
   "outputs": [],
   "source": [
    "!python --version"
   ]
  },
  {
   "cell_type": "markdown",
   "metadata": {
    "slideshow": {
     "slide_type": "slide"
    }
   },
   "source": [
    "## Interactive and script mode\n",
    "\n",
    "You can write and execute small pieces of code (for instance, before inserting them into a script) in **interactive mode**.\n",
    "- Directly within the Python interpreter (or, better, in an IPython shell).\n",
    "- Through a Jupyter Notebook (like this one): a web-based interactive environment to create, execute and visualize code, similar to the notebook interfaces of other programming languages such as Maple or Mathematica.\n",
    "\n",
    "For example:"
   ]
  },
  {
   "cell_type": "code",
   "execution_count": null,
   "metadata": {
    "scrolled": true,
    "slideshow": {
     "slide_type": "fragment"
    }
   },
   "outputs": [],
   "source": [
    "2+3"
   ]
  },
  {
   "cell_type": "markdown",
   "metadata": {
    "slideshow": {
     "slide_type": "slide"
    }
   },
   "source": [
    "Alternatively, you can write a **script**, that is a file having .py extension that contains your Python code.\n",
    "\n",
    "From the terminal, you run the file *test_script.py* like this:\n",
    "\n",
    "```bash\n",
    "python test_script.py\n",
    "```\n",
    "\n",
    "In a notebook, you run it like this:"
   ]
  },
  {
   "cell_type": "code",
   "execution_count": null,
   "metadata": {},
   "outputs": [],
   "source": [
    "!python test_script.py"
   ]
  },
  {
   "cell_type": "markdown",
   "metadata": {
    "slideshow": {
     "slide_type": "slide"
    }
   },
   "source": [
    "## Why Python?\n",
    "\n",
    "Exercise: writhe a program that prints the sentence \"Hello World!\".\n",
    "    \n",
    "Solution:"
   ]
  },
  {
   "cell_type": "code",
   "execution_count": null,
   "metadata": {
    "slideshow": {
     "slide_type": "fragment"
    }
   },
   "outputs": [],
   "source": [
    "print(\"Hello World!\")"
   ]
  },
  {
   "cell_type": "markdown",
   "metadata": {
    "slideshow": {
     "slide_type": "slide"
    }
   },
   "source": [
    "`print` is a built-in function that allows to visualize an object or an expression on the screen (or to print it on some other output \"device\")."
   ]
  },
  {
   "cell_type": "markdown",
   "metadata": {
    "slideshow": {
     "slide_type": "fragment"
    }
   },
   "source": [
    "![](helloworld.png)"
   ]
  },
  {
   "cell_type": "markdown",
   "metadata": {
    "slideshow": {
     "slide_type": "slide"
    }
   },
   "source": [
    "## Duck-typing (\"dynamic\" typing)\n",
    "\n",
    "Python distinguishes between different data formats (integers, real numbers, sequences, words) by associating to each value a **type**.\n",
    "To know the type of any Python expression, you can use the built-in function `type`.\n",
    "To each data type it corresponds a built-in function (with the same name of the type) that transforms (\"casts\") its input into that type (if possible)."
   ]
  },
  {
   "cell_type": "code",
   "execution_count": null,
   "metadata": {
    "slideshow": {
     "slide_type": "fragment"
    }
   },
   "outputs": [],
   "source": [
    "type(5)"
   ]
  },
  {
   "cell_type": "code",
   "execution_count": null,
   "metadata": {
    "slideshow": {
     "slide_type": "fragment"
    }
   },
   "outputs": [],
   "source": [
    "float(5)"
   ]
  },
  {
   "cell_type": "markdown",
   "metadata": {
    "slideshow": {
     "slide_type": "subslide"
    }
   },
   "source": [
    "However, Python is actually a **object-oriented** language, implementing so-called \"duck-typing\": a dynamic typing style where the semantic of an object is determined by the current set of its **methods** and its **attributes**, rather than the fact of belonging to a specific class or implementing a specific interface.\n",
    "\n",
    "*When I see a bird that walks like a duck and swims like a duck and quacks like a duck, I call that bird a duck.”*<br>(James Whitcomb Riley)\n",
    "\n",
    "As a matter of fact, what matters is what an object can do, not its type:\n",
    "- In Java you would write a function that takes an object of type Duck and calls its methods \"quack\" and \"walk\"\n",
    "- In Python you can write a function that takes **any** object and calls its methods \"quack\" and \"walk\"\n",
    "\n",
    "If the object does not have the methods we call, the function causes a **run-time error**. It is up to the programmer to make sure that everything works, with the pros and cons that follows."
   ]
  },
  {
   "cell_type": "markdown",
   "metadata": {
    "slideshow": {
     "slide_type": "subslide"
    }
   },
   "source": [
    "Evaluating an expression results in the creation of an **object**.\n",
    "The object can be **assigned** to a **variable** with the **=** operator.\n",
    "We say that the variable is a **pointer** or a **reference** to the object."
   ]
  },
  {
   "cell_type": "code",
   "execution_count": null,
   "metadata": {},
   "outputs": [],
   "source": [
    "x = 2+3\n",
    "print(x, type(x))"
   ]
  },
  {
   "cell_type": "markdown",
   "metadata": {
    "slideshow": {
     "slide_type": "slide"
    }
   },
   "source": [
    "## Indentation\n",
    "\n",
    "Playing with the **indentation** is the way you group instuctions into blocks in Python.\n",
    "\n",
    "You can easily understand when a block starts and ends based on its indentation:\n",
    "- A block starts when the indentation increases.\n",
    "- A block can contain other blocks (indented with respect to the main block).\n",
    "- A block ends when the indentation decreases to zero or to the indentation of a block that contains it.\n",
    "\n",
    "Every line of the same block must have the same level of indentation. The guidelines say that each level is 4 white spaces (this is not a rule, but a good practice).\n",
    "\n",
    "Let us quickly see how the indentation works with an example of a conditional statement (we will be back on this example later):"
   ]
  },
  {
   "cell_type": "code",
   "execution_count": null,
   "metadata": {
    "slideshow": {
     "slide_type": "fragment"
    }
   },
   "outputs": [],
   "source": [
    "x = int(input('insert an integer: '))\n",
    "if x < 0:\n",
    "    print('Negative')\n",
    "elif x == 0:\n",
    "    print('Zero')\n",
    "else:\n",
    "    print('Positive')"
   ]
  },
  {
   "cell_type": "markdown",
   "metadata": {},
   "source": [
    "## Types and basic operators"
   ]
  },
  {
   "cell_type": "code",
   "execution_count": null,
   "metadata": {
    "slideshow": {
     "slide_type": "fragment"
    }
   },
   "outputs": [],
   "source": [
    "# first of all: all lines that start with a # are comments, ignored by the interpreter"
   ]
  },
  {
   "cell_type": "code",
   "execution_count": null,
   "metadata": {},
   "outputs": [],
   "source": [
    "x = 5.5  # float\n",
    "y = 9    # int\n",
    "print(x + y)     # addition\n",
    "print(y - 1)     # subtraction\n",
    "print(x * 2)     # multiplication\n",
    "print(y ** 2.5)  # exponentiation\n",
    "print(y/2)       # division\n",
    "print(y//2, y%2) # quotient and reminder of integer division\n",
    "# check the type of the result"
   ]
  },
  {
   "cell_type": "code",
   "execution_count": null,
   "metadata": {},
   "outputs": [],
   "source": [
    "x += 1    # short for x = x+1\n",
    "print(x)\n",
    "x *= 2    # short for x = x*2\n",
    "print(x)"
   ]
  },
  {
   "cell_type": "code",
   "execution_count": null,
   "metadata": {},
   "outputs": [],
   "source": [
    "s1 = 'hello'            # string\n",
    "s2 = \"world\"            # string\n",
    "s1 + ',\\n' + s2 + '!'   # string, for strings the + operator is the concatenation"
   ]
  },
  {
   "cell_type": "code",
   "execution_count": null,
   "metadata": {},
   "outputs": [],
   "source": [
    "print(s1 + ',\\n' + s2 + '!')   # a string is interpreted by the function print"
   ]
  },
  {
   "cell_type": "code",
   "execution_count": null,
   "metadata": {},
   "outputs": [],
   "source": [
    "print(s1, s2)   # I can print as many expression as I want, separated by a space"
   ]
  },
  {
   "cell_type": "code",
   "execution_count": null,
   "metadata": {},
   "outputs": [],
   "source": [
    "print(s1*3)   # for strings, the * operator is the repetition"
   ]
  },
  {
   "cell_type": "markdown",
   "metadata": {},
   "source": [
    "The fact that `+` and `*` do different things depending on the type of their arguments is an example of **operator overloading**.\n",
    "\n",
    "What action a binary operator implements in Python depends on the type of the first argument."
   ]
  },
  {
   "cell_type": "code",
   "execution_count": null,
   "metadata": {},
   "outputs": [],
   "source": [
    "'my favorite number is ' + y   # be careful to operators used with mixed data types!"
   ]
  },
  {
   "cell_type": "code",
   "execution_count": null,
   "metadata": {},
   "outputs": [],
   "source": [
    "'my favorite number is ' + str(y)   # can be solved like this"
   ]
  },
  {
   "cell_type": "code",
   "execution_count": null,
   "metadata": {},
   "outputs": [],
   "source": [
    "# you can also \"put things\" into a string, with .format or so-called f-strings\n",
    "x = 12\n",
    "s = 'greater'\n",
    "y = 10\n",
    "print('{} is {} than {}'.format(y, 'less', x))\n",
    "print(f'{x} is {s} than {y}')"
   ]
  },
  {
   "cell_type": "markdown",
   "metadata": {},
   "source": [
    "The built-in function `input` allows a program to ask the user (anyone who is currently executing the program) to insert some values that the program needs to complete its execution.\n",
    "The **argument** within the parentheses of input is a message that is printed and shown to the user."
   ]
  },
  {
   "cell_type": "code",
   "execution_count": null,
   "metadata": {},
   "outputs": [],
   "source": [
    "x = input('insert an integer: ')   # input interprets whatever it receives as a string\n",
    "print(x*2)"
   ]
  },
  {
   "cell_type": "code",
   "execution_count": null,
   "metadata": {},
   "outputs": [],
   "source": [
    "x = int(input('insert an integer: '))   # but I can cast what input returns\n",
    "print(x*2)"
   ]
  },
  {
   "cell_type": "code",
   "execution_count": null,
   "metadata": {},
   "outputs": [],
   "source": [
    "# I can even evaluate what the user inserts, interpreting the string as a Python expression\n",
    "x = eval(input('insert an expression: '))   \n",
    "print(x*2)"
   ]
  },
  {
   "cell_type": "markdown",
   "metadata": {},
   "source": [
    "A **boolean** expression is something that is either **`True`** or **`False`** (NB: True and False are not strings but special keywords).\n",
    "You can operate with booleans using 3 operators: `not` (unary), `and` (binary), `or` (binary). "
   ]
  },
  {
   "cell_type": "code",
   "execution_count": null,
   "metadata": {},
   "outputs": [],
   "source": [
    "t, f = True, False\n",
    "print(type(t))"
   ]
  },
  {
   "cell_type": "code",
   "execution_count": null,
   "metadata": {},
   "outputs": [],
   "source": [
    "X = eval(input('is it cold? '))  # you can use eval to read boolean values\n",
    "Y = eval(input('does it rain? '))  \n",
    "Z = eval(input('is it cloudy? ' ))\n",
    "A = not X\n",
    "B = Y and X\n",
    "C = Y or Z \n",
    "D = not X and not C\n",
    "print('\\nhot =', A, '\\nI stay home =', B, '\\nbad wheather =', C, '\\nI go out =', D)"
   ]
  },
  {
   "cell_type": "markdown",
   "metadata": {},
   "source": [
    "**Relational** expressions are boolean expressions whose truth value depends on the relation between 2 or more values.\n",
    "Relational operators care about the value, not the type."
   ]
  },
  {
   "cell_type": "code",
   "execution_count": null,
   "metadata": {},
   "outputs": [],
   "source": [
    "10.0 == 10  # the == operator checks for equality (NB: = and == are different operators)"
   ]
  },
  {
   "cell_type": "code",
   "execution_count": null,
   "metadata": {},
   "outputs": [],
   "source": [
    "10.0 != 10  # != is \"not equal\" a.k.a. \"different\""
   ]
  },
  {
   "cell_type": "code",
   "execution_count": null,
   "metadata": {},
   "outputs": [],
   "source": [
    "print('ordered:', 2 <= 3 <= 4)  # you can combine multiple operators"
   ]
  },
  {
   "cell_type": "code",
   "execution_count": null,
   "metadata": {},
   "outputs": [],
   "source": [
    "'string' == 'String'   # you can compare strings"
   ]
  },
  {
   "cell_type": "code",
   "execution_count": null,
   "metadata": {},
   "outputs": [],
   "source": [
    "'0' < 'A' < 'a'   # digits < capital letters < lower case letters (see ASCII encoding)"
   ]
  },
  {
   "cell_type": "code",
   "execution_count": null,
   "metadata": {},
   "outputs": [],
   "source": [
    "'strinG' < 'string' < 'stringg'   # strings are compared left to right"
   ]
  },
  {
   "cell_type": "code",
   "execution_count": null,
   "metadata": {},
   "outputs": [],
   "source": [
    "'a' in 'stringa' # the in operator checks whether a value belongs to a \"sequence\""
   ]
  },
  {
   "cell_type": "code",
   "execution_count": null,
   "metadata": {},
   "outputs": [],
   "source": [
    "'str' in 'stringa' # it also works for substrings"
   ]
  },
  {
   "cell_type": "markdown",
   "metadata": {},
   "source": [
    "## Taking decisions\n",
    "\n",
    "Boolean expressions are what allow you to take decisions during the execution of your program, using a `if-elif-else` statement."
   ]
  },
  {
   "cell_type": "code",
   "execution_count": null,
   "metadata": {},
   "outputs": [],
   "source": [
    "Y = eval(input('does it rain? '))\n",
    "Z = eval(input('is it cloudy? '))\n",
    "# Y and Z are either True or False\n",
    "if Y:  # if Y is True, the following block is executed \n",
    "    print(\"I stay home\")  \n",
    "elif Z:  # else if (shortened elif) Z is True, this other block is executed\n",
    "    print(\"I go out, but I bring my umbrella\")\n",
    "else:  # else (i.e., if all previous conditions were False) the last block is executed\n",
    "    print(\"I go out without the umbrella\")"
   ]
  },
  {
   "cell_type": "markdown",
   "metadata": {},
   "source": [
    "You do **not** need to specify `elif` and `else` clauses everytime you use a `if`."
   ]
  },
  {
   "cell_type": "markdown",
   "metadata": {},
   "source": [
    "<div class=\"alert alert-block alert-info\" markdown=\"1\"> \n",
    "\n",
    "<b>QUESTIONS</b>\n",
    "\n",
    "</div>\n",
    "  \n",
    "By using Python in interactive mode, answer the following questions:\n",
    "\n",
    "1. In a print statement, what happens if you leave out one of the parentheses, or both?\n",
    "2. If you are trying to print a string, what happens if you leave out one of the quotation marks, or both?\n",
    "3. How can you assign to a variable a negative number like -2 ? What happens if type 2++2 ?\n",
    "4. What happens if you type two values with a space but no operator between them?\n",
    "5. What happens if you invert the syntax of an assignment statement?\n",
    "6. Can you combine two assignments as in x = y = 1 ?\n",
    "7. Can you multiply two numbers x and y like this: xy ?\n",
    "8. Let x='3' and y='2'. What happens if you type x+y? And what if you type x*y? How can you get the (expected?) results 5 and 6?"
   ]
  },
  {
   "cell_type": "markdown",
   "metadata": {},
   "source": [
    "<div class=\"alert alert-block alert-success\" markdown=\"1\"> \n",
    "\n",
    "<b>PROBLEMS</b>\n",
    "\n",
    "</div>\n",
    "  \n",
    "Write a program that:\n",
    "1. Prints the sum of two numbers inserted by the user.\n",
    "2. Lets the user insert a number of hours, minutes and seconds and prints the total number of seconds.\n",
    "3. Lets the user insert a string and prints that string with enough leading spaces so that the last letter of the string is in column 20 of the display (hint: use len, string concatenation and repetition).\n",
    "4. Lets the user insert a string s and an integer x less than len(s) and prints the letters at index x and at index -x of s.\n",
    "5. Lets the user insert a string s and an integer x less than len(s) and prints the slice of s going from index x to index -x, both included.\n",
    "6. Lets the user insert two numbers x and y and prints \"x is less than y\", \"x is equal to y\" or \"x is greater than y\" based on the relation between the two inserted values.\n",
    "7. Asks the user to enter a a valid mathematical expression and prints the absolute value of the result.\n",
    "8. Lets the user insert three numbers and prints their maximum."
   ]
  },
  {
   "cell_type": "markdown",
   "metadata": {},
   "source": [
    "## Sequences\n",
    "\n",
    "Python knows a certain number of \"composite\" data types, used to group together a collection of values.\n",
    "\n",
    "For instance, a string is a sequence (of chars, which are themselves strings).\n",
    "\n",
    "The most versatile is the `list`, which can be written as a sequence of elements separated by commas and enclosed by square brackets.\n",
    "A list can contain elements of mixed type, but usually all elements have the same type."
   ]
  },
  {
   "cell_type": "code",
   "execution_count": null,
   "metadata": {},
   "outputs": [],
   "source": [
    "squares = [1, 4, 'square']\n",
    "print(squares)"
   ]
  },
  {
   "cell_type": "code",
   "execution_count": null,
   "metadata": {},
   "outputs": [],
   "source": [
    "squares = [1, 4, 9, 16, 25]\n",
    "print(squares)"
   ]
  },
  {
   "cell_type": "code",
   "execution_count": null,
   "metadata": {},
   "outputs": [],
   "source": [
    "squares[2]   # indexing (the indices start at 0)"
   ]
  },
  {
   "cell_type": "code",
   "execution_count": null,
   "metadata": {},
   "outputs": [],
   "source": [
    "squares[1:4]   # slicing"
   ]
  },
  {
   "cell_type": "code",
   "execution_count": null,
   "metadata": {},
   "outputs": [],
   "source": [
    "squares[-1]   # negative indices mean starting from the right"
   ]
  },
  {
   "cell_type": "code",
   "execution_count": null,
   "metadata": {},
   "outputs": [],
   "source": [
    "squares[2:]   # till the end"
   ]
  },
  {
   "cell_type": "code",
   "execution_count": null,
   "metadata": {},
   "outputs": [],
   "source": [
    "squares[:3]   # from the beginning"
   ]
  },
  {
   "cell_type": "code",
   "execution_count": null,
   "metadata": {},
   "outputs": [],
   "source": [
    "len(squares)   # length"
   ]
  },
  {
   "cell_type": "code",
   "execution_count": null,
   "metadata": {},
   "outputs": [],
   "source": [
    "squares + [36, 49]   # concatenation (not done in-place)"
   ]
  },
  {
   "cell_type": "code",
   "execution_count": null,
   "metadata": {},
   "outputs": [],
   "source": [
    "5 in squares   # check membership"
   ]
  },
  {
   "cell_type": "code",
   "execution_count": null,
   "metadata": {
    "scrolled": true
   },
   "outputs": [],
   "source": [
    "letters = ['a', 'b', 'c']\n",
    "numbers = [1, 2, 3]\n",
    "my_list = [letters, numbers]   # nested lists\n",
    "print(my_list)\n",
    "print(my_list[0])\n",
    "print(my_list[0][1])   # one index for each nesting level (2nd element of the 1st sublist)"
   ]
  },
  {
   "cell_type": "markdown",
   "metadata": {},
   "source": [
    "A `tuple` is very similar to a list, except that:\n",
    "- lists are **mutable**, meaning that you can modify part of their content.\n",
    "- tuples are **immutable**, meaning that you cannot modify part of a tuple, you can only redefine the tuple entirely.\n",
    "\n",
    "With tuples you can do many of the things you do with lists:\n",
    "- Access elements with indexing or slicing.\n",
    "- Get the length of the tuple with `len`.\n",
    "- Concatenate tuples with `+` and repeat them with `*`.\n",
    "\n",
    "You use a tuple rather than a list when you want to \"pack\" elements into a sequence that is protected from possibly accidental modifications.\n",
    "The use of round brackets (or no brackets at all) rather than square brackets differentiates tuples from lists.\n",
    "A tuple with a single element is denoted `(value,)` (NB: the comma!).\n"
   ]
  },
  {
   "cell_type": "code",
   "execution_count": null,
   "metadata": {},
   "outputs": [],
   "source": [
    "empty_tuple = ()\n",
    "singleton = (3,)\n",
    "pair = (4,1) \n",
    "triplet = 4,5,1  # no brackets: this is called tuple \"packing\"\n",
    "triplet"
   ]
  },
  {
   "cell_type": "code",
   "execution_count": null,
   "metadata": {},
   "outputs": [],
   "source": [
    "list(triplet)   # you can turn a tuple into a list (and viceversa)"
   ]
  },
  {
   "cell_type": "code",
   "execution_count": null,
   "metadata": {},
   "outputs": [],
   "source": [
    "cubes = [1, 8, 27, 65, 125]   # something wrong?\n",
    "id(cubes)   # id() is a built-in function that returns a unique identifier for the object"
   ]
  },
  {
   "cell_type": "code",
   "execution_count": null,
   "metadata": {},
   "outputs": [],
   "source": [
    "cubes[3] = 64   # let us replace the wrong value\n",
    "cubes"
   ]
  },
  {
   "cell_type": "code",
   "execution_count": null,
   "metadata": {},
   "outputs": [],
   "source": [
    "id(cubes)   # it is still the same object"
   ]
  },
  {
   "cell_type": "code",
   "execution_count": null,
   "metadata": {},
   "outputs": [],
   "source": [
    "letters = ['a', 'b', 'c', 'd', 'e', 'f', 'g']\n",
    "letters[2:5] = ['C', 'D', 'E']   # I can use the slicing to re-assign multiple values\n",
    "letters"
   ]
  },
  {
   "cell_type": "code",
   "execution_count": null,
   "metadata": {},
   "outputs": [],
   "source": [
    "letters[2:5] = []   # or to remove them\n",
    "letters"
   ]
  },
  {
   "cell_type": "code",
   "execution_count": null,
   "metadata": {},
   "outputs": [],
   "source": [
    "cubes_tuple = (1, 8, 27, 65, 125)\n",
    "cubes_tuple[3] = 64  # I cannot modify an element of an immutable data type"
   ]
  },
  {
   "cell_type": "code",
   "execution_count": null,
   "metadata": {},
   "outputs": [],
   "source": [
    "cubes_tuple = (1, 8, 27, 65, 125)\n",
    "id(cubes_tuple)"
   ]
  },
  {
   "cell_type": "code",
   "execution_count": null,
   "metadata": {},
   "outputs": [],
   "source": [
    "cubes_tuple = cubes_tuple[0:3]+(64,)+cubes_tuple[4:]  # I can re-assign to the same variable\n",
    "cubes_tuple"
   ]
  },
  {
   "cell_type": "code",
   "execution_count": null,
   "metadata": {},
   "outputs": [],
   "source": [
    "# actually, I created a new object to which I just gave the same \"name\"\n",
    "id(cubes_tuple)"
   ]
  },
  {
   "cell_type": "markdown",
   "metadata": {},
   "source": [
    "Can you think of a huge difference between mutable and immutable data types that follows from what we just saw?"
   ]
  },
  {
   "cell_type": "code",
   "execution_count": null,
   "metadata": {},
   "outputs": [],
   "source": [
    "l1 = [1,2,3]\n",
    "l2 = l1 \n",
    "id(l1), id(l2)  # l2 is an \"alias\" of l1: a different variable referring to the same object"
   ]
  },
  {
   "cell_type": "code",
   "execution_count": null,
   "metadata": {},
   "outputs": [],
   "source": [
    "l2[1] = 7"
   ]
  },
  {
   "cell_type": "code",
   "execution_count": null,
   "metadata": {},
   "outputs": [],
   "source": [
    "l1   # since lists are mutable, any modification to the object is propagated to all aliases"
   ]
  },
  {
   "cell_type": "code",
   "execution_count": null,
   "metadata": {},
   "outputs": [],
   "source": [
    "id(l1), id(l2)"
   ]
  },
  {
   "cell_type": "code",
   "execution_count": null,
   "metadata": {},
   "outputs": [],
   "source": [
    "t1 = (1,2,3)\n",
    "t2 = t1 \n",
    "id(t1), id(t2)  # t2 is an alias of t1"
   ]
  },
  {
   "cell_type": "code",
   "execution_count": null,
   "metadata": {},
   "outputs": [],
   "source": [
    "t2[1] = 7  # this is not legit because tuples are immutable!"
   ]
  },
  {
   "cell_type": "code",
   "execution_count": null,
   "metadata": {},
   "outputs": [],
   "source": [
    "t2 = (1,7,3) # the only way to modify t2 is to create a new object and re-assign it to t2"
   ]
  },
  {
   "cell_type": "code",
   "execution_count": null,
   "metadata": {},
   "outputs": [],
   "source": [
    "t1  # the modification is not propagated"
   ]
  },
  {
   "cell_type": "code",
   "execution_count": null,
   "metadata": {},
   "outputs": [],
   "source": [
    "id(t1), id(t2)  # t1 and t2 now refer to 2 different objects"
   ]
  },
  {
   "cell_type": "markdown",
   "metadata": {},
   "source": [
    "In addition, immutable data types allow Python to save memory, when possible:"
   ]
  },
  {
   "cell_type": "code",
   "execution_count": null,
   "metadata": {},
   "outputs": [],
   "source": [
    "# mutable: 2 different objects\n",
    "l1 = [1,2,3]\n",
    "l2 = [1,2,3]\n",
    "id(l1), id(l2)"
   ]
  },
  {
   "cell_type": "code",
   "execution_count": null,
   "metadata": {},
   "outputs": [],
   "source": [
    "# immutable: 2 pointers to the same object\n",
    "t1 = 'ciao'\n",
    "t2 = 'ciao'\n",
    "id(t1), id(t2)"
   ]
  },
  {
   "cell_type": "markdown",
   "metadata": {},
   "source": [
    "**Question**: why is this possible?"
   ]
  },
  {
   "cell_type": "markdown",
   "metadata": {},
   "source": [
    "### Packing, unpacking, multiple assignment\n",
    "\n",
    "We have seen that you can \"pack\" multiple values into a tuple.\n",
    "You can also \"unpack\" any sequence (strings, lists, tuples, ...) in such a way that each element of the sequence is assigned to a different variable.\n",
    "\n",
    "Packing and unpacking can be combined into a single statement for multiple assignment.\n",
    "\n",
    "This principle is very important because it makes easy to define functions that return **multiple values** (we will be back on functions later)."
   ]
  },
  {
   "cell_type": "code",
   "execution_count": null,
   "metadata": {},
   "outputs": [],
   "source": [
    "x, y, z = triplet\n",
    "x, z"
   ]
  },
  {
   "cell_type": "code",
   "execution_count": null,
   "metadata": {},
   "outputs": [],
   "source": [
    "x,y,z = 'cia'\n",
    "y"
   ]
  },
  {
   "cell_type": "code",
   "execution_count": null,
   "metadata": {},
   "outputs": [],
   "source": [
    "x, y, z = 2, 3, 7\n",
    "y"
   ]
  },
  {
   "cell_type": "markdown",
   "metadata": {},
   "source": [
    "## Loops\n",
    "\n",
    "A loop is a way to control the flow of execution of a program in such a way that a block of statements is specified only once but it is executed several times in succession.\n",
    "The two most common ways to implement a loop are the **`for`** loop and the **`while`** loop."
   ]
  },
  {
   "cell_type": "markdown",
   "metadata": {},
   "source": [
    "In Python the **`for`** loop works on a sequence through the **`in`** operator:"
   ]
  },
  {
   "cell_type": "code",
   "execution_count": null,
   "metadata": {},
   "outputs": [],
   "source": [
    "for i in [1,2,3]:\n",
    "    print(i)"
   ]
  },
  {
   "cell_type": "code",
   "execution_count": null,
   "metadata": {},
   "outputs": [],
   "source": [
    "for c in 'ciao':\n",
    "    print(c*2)"
   ]
  },
  {
   "cell_type": "markdown",
   "metadata": {},
   "source": [
    "To loop through a list of integers, such as in \"for i that goes from 0 to n-1\", you can use the built-in function `range` that returns a sequence of integers based on the input values."
   ]
  },
  {
   "cell_type": "code",
   "execution_count": null,
   "metadata": {},
   "outputs": [],
   "source": [
    "for i in range(5): # from 0 included to 5 excluded\n",
    "    print(i)"
   ]
  },
  {
   "cell_type": "code",
   "execution_count": null,
   "metadata": {},
   "outputs": [],
   "source": [
    "for i in range(1,5): # from 1 included to 5 excluded\n",
    "    print(i)"
   ]
  },
  {
   "cell_type": "code",
   "execution_count": null,
   "metadata": {},
   "outputs": [],
   "source": [
    "for i in range(1,5,2): # from 1 included to 5 excluded with \"jumps\" of length 2\n",
    "    print(i)"
   ]
  },
  {
   "cell_type": "code",
   "execution_count": null,
   "metadata": {},
   "outputs": [],
   "source": [
    "l = [1,2,3]\n",
    "for i in range(len(l)):  # you can loop through the indices of a sequence\n",
    "    print(i, l[i])       # and gain access to both the index and the element"
   ]
  },
  {
   "cell_type": "markdown",
   "metadata": {
    "id": "KxIaQs7pL9gE"
   },
   "source": [
    "Another easy (easier?) way to access both the index and the element within the body of a loop is using the built-in `enumerate` function:"
   ]
  },
  {
   "cell_type": "code",
   "execution_count": null,
   "metadata": {
    "colab": {
     "base_uri": "https://localhost:8080/",
     "height": 69
    },
    "id": "JjGnDluWL9gF",
    "outputId": "81421905-17ea-4c5a-bcc0-176de19fd9bd"
   },
   "outputs": [],
   "source": [
    "animals = ['cat', 'dog', 'monkey']\n",
    "for idx, animal in enumerate(animals):\n",
    "    print(f'#{idx+1}: {animal}')"
   ]
  },
  {
   "cell_type": "markdown",
   "metadata": {},
   "source": [
    "A **`while`** loop is expressed in terms of a boolean expression and it keeps looping as long as the expression is **`True`**.\n",
    "\n",
    "It is up to you to make sure that the expression becomes **`False`** sooner or later. Otherwise, you will end into an **infinite loop**.\n",
    "\n",
    "You can force the program to exit from a loop with a **`break`** statement."
   ]
  },
  {
   "cell_type": "code",
   "execution_count": null,
   "metadata": {},
   "outputs": [],
   "source": [
    "i = 0\n",
    "while i<10:  # keep looping as long as i is less than 10\n",
    "    print(i)\n",
    "    i = i+1  # what happens if you remove this statement?"
   ]
  },
  {
   "cell_type": "code",
   "execution_count": null,
   "metadata": {},
   "outputs": [],
   "source": [
    "# this construct is often used to implement a so-called do-while\n",
    "# it allows to express the exit condition affermatively\n",
    "i = 0\n",
    "while True:     # the condition is always True, you can exit only with a break\n",
    "    print(i)\n",
    "    i += 1\n",
    "    if i >= 10:\n",
    "        break"
   ]
  },
  {
   "cell_type": "markdown",
   "metadata": {},
   "source": [
    "<div class=\"alert alert-block alert-success\" markdown=\"1\"> \n",
    "\n",
    "<b>PROBLEMS</b>\n",
    "\n",
    "</div>\n",
    "  \n",
    "Write a program that:\n",
    "1. Lets the user insert an integer n and prints the sum of all positive integers less than n.\n",
    "2. Lets the user insert an integer n, then asks the user to input n integers $x_1,\\ldots,x_n$ and prints their sum $x_1+\\cdots+x_n$.\n",
    "3. Lets the user insert two integers x and y and computes the product $x\\cdot y$ without using the product operator, but iterating the sum $x+x$ (example: $2\\cdot 3 = 2+2+2$).\n",
    "4. Lets the user insert an integer n and prints the factorial of n ($n!=1\\cdot 2\\cdots n-1\\cdot n$).\n",
    "5. Iteratively reads (inputs) and sums integers until the user enters 0, in which moment the program prints the sum.\n",
    "6. Lets the user insert two integers n and m and prints the quotient and reminder of the division of n by m, without using the corresponding operators.\n",
    "7. Lets the user insert a tuple of integers T1 and an integer n and returns a tuple T2 identical to T1 except for the element of index n to which it must change sign. If the element of index n does not exist, the function must print T1."
   ]
  },
  {
   "cell_type": "markdown",
   "metadata": {},
   "source": [
    "## Dictionaries\n",
    "\n",
    "The `dict` is a very versatile data structure.\n",
    "It can be seen as:\n",
    "\n",
    "- An unordered collection of (**key**, **value**) pairs, called **items**.\n",
    "- A map from a set of keys to a set of values, that associates a value to each key.\n",
    "- A generalization of the list, in which the keys are (almost) arbitrary instead of being consecutive integer indices starting from 0.\n",
    "\n",
    "The rules to use a dict are the following:\n",
    "\n",
    "- The keys can be of any **immutable** type (numbers, strings, tuples, ...).\n",
    "- The values can be of any type.\n",
    "- There cannot be two items with the same key.\n",
    "- To each key corresponds a single value, but multiple keys may have the same value."
   ]
  },
  {
   "cell_type": "code",
   "execution_count": null,
   "metadata": {},
   "outputs": [],
   "source": [
    "d, d2 = dict(), {} # create 2 empty dictionaries\n",
    "d, d2"
   ]
  },
  {
   "cell_type": "code",
   "execution_count": null,
   "metadata": {},
   "outputs": [],
   "source": [
    "phone_book = {'Alice': '555-123456', 'Bob': '555-654321' }\n",
    "phone_book"
   ]
  },
  {
   "cell_type": "code",
   "execution_count": null,
   "metadata": {},
   "outputs": [],
   "source": [
    "phone_book['Alice']  # value associated to \"Alice\"'"
   ]
  },
  {
   "cell_type": "code",
   "execution_count": null,
   "metadata": {},
   "outputs": [],
   "source": [
    "phone_book['Charlie']  # error: there is no such key "
   ]
  },
  {
   "cell_type": "code",
   "execution_count": null,
   "metadata": {},
   "outputs": [],
   "source": [
    "phone_book['Charlie'] = '555-112233' # we add an item\n",
    "phone_book"
   ]
  },
  {
   "cell_type": "code",
   "execution_count": null,
   "metadata": {},
   "outputs": [],
   "source": [
    "phone_book['Alice'] = '555-214365' # we modify an item\n",
    "phone_book"
   ]
  },
  {
   "cell_type": "code",
   "execution_count": null,
   "metadata": {},
   "outputs": [],
   "source": [
    "del phone_book['Charlie'] # we remove an item\n",
    "phone_book"
   ]
  },
  {
   "cell_type": "code",
   "execution_count": null,
   "metadata": {},
   "outputs": [],
   "source": [
    "'Alice' in phone_book   # the in operator checks among keys"
   ]
  },
  {
   "cell_type": "code",
   "execution_count": null,
   "metadata": {},
   "outputs": [],
   "source": [
    "'555-214365' in phone_book   # this number is in the phone book, but as a value!"
   ]
  },
  {
   "cell_type": "code",
   "execution_count": null,
   "metadata": {},
   "outputs": [],
   "source": [
    "'555-214365' in phone_book.values()  # you can access the values and search there"
   ]
  },
  {
   "cell_type": "code",
   "execution_count": null,
   "metadata": {},
   "outputs": [],
   "source": [
    "for key in phone_book:  # loop through the keys\n",
    "    print(key, phone_book[key])"
   ]
  },
  {
   "cell_type": "code",
   "execution_count": null,
   "metadata": {},
   "outputs": [],
   "source": [
    "phone_book.keys()   # get the keys, as a special data type you can loop on"
   ]
  },
  {
   "cell_type": "code",
   "execution_count": null,
   "metadata": {},
   "outputs": [],
   "source": [
    "phone_book.values()   # get the values, as a special data type you can loop on"
   ]
  },
  {
   "cell_type": "code",
   "execution_count": null,
   "metadata": {},
   "outputs": [],
   "source": [
    "phone_book.items()   # get the items, as a special data type you can loop on"
   ]
  },
  {
   "cell_type": "code",
   "execution_count": null,
   "metadata": {},
   "outputs": [],
   "source": [
    "for k, v in phone_book.items(): # loop through the items with the unpacking\n",
    "    print(k, v)"
   ]
  },
  {
   "cell_type": "markdown",
   "metadata": {},
   "source": [
    "<div class=\"alert alert-block alert-success\" markdown=\"1\"> \n",
    "\n",
    "<b>PROBLEMS</b>\n",
    "\n",
    "</div>\n",
    "\n",
    "Write a program that:\n",
    "1. Lets the user define a (small) \"English→Italian\" dictionary by inserting an English word followed by its Italian translation. The dictionary must be saved in a dict data structure. The process of defining the dictionary ends when the user inserts the string 'done!'.\n",
    "2. Extends the previous program by also building the inverse \"Italian→English\" dictionary and letting the user insert words (in either English or Italian) printing the corresponding translation. The execution terminates only when the user inserts a word that is not in any of the two dictionaries. In that case, an error message must be printed.\n",
    "3. Lets the user insert a string S and prints, in alphabetic order, the letters appearing in S with their number of occurrences. The program should be case insensitive (or, for the sake of simplicity, you can assume that S only contains lower-case letters)."
   ]
  },
  {
   "cell_type": "markdown",
   "metadata": {},
   "source": [
    "## Functions\n",
    "\n",
    "A **function** is a block of instructions that performs a specific task, packaged into a unit that can be \"called\" in a program wherever that particular task should be performed.\n",
    "\n",
    "The syntax to define a function is:\n",
    "\n",
    "```python\n",
    "def my_function(arg1, arg2, ...):   # this is called \"prototype\" of the function\n",
    "    '''documentation'''\t  # this is optional\n",
    "    instructions\n",
    "```\n",
    "\n",
    "In Python all arguments are passed to a function **by reference**: when the function is executed a local variable is created and it is assigned a pointer to the (external) object passed to the function.\n",
    "- Immutable objects (strings, tuples, numbers) cannot be modified in place by the function, and any modification to these object has no effect on the calling program.\n",
    "- Mutable objects (lists, dicts) can be modified in place and any such modification is propagated to the calling program\n",
    "    \n",
    "The execution of a function ends when the interpreter gets to the last instruction or as soon as it reaches the special instruction **`return`**.\n",
    "The return keyword allows to specify one or more values to be returned to the calling program."
   ]
  },
  {
   "cell_type": "code",
   "execution_count": null,
   "metadata": {},
   "outputs": [],
   "source": [
    "def test_args(x):\n",
    "    print('initially, the id of parameter x is', id(x))\n",
    "    x = 4\n",
    "    print('after the new assignment, the id of x is', id(x))\n",
    "    \n",
    "t = 5\n",
    "print('the id of variable t is', id(t))\n",
    "test_args(t)"
   ]
  },
  {
   "cell_type": "code",
   "execution_count": null,
   "metadata": {},
   "outputs": [],
   "source": [
    "def remove_duplicate(vect):\n",
    "    print('Vect inside function, before:', vect)\n",
    "    for i in vect:\n",
    "        while vect.count(i)>1:     # notice the indentation\n",
    "            vect.remove(i)\n",
    "    print('Vect inside function after:', vect)\n",
    "\n",
    "my_list=[1,2,3,3,4,4,7,4,8]\n",
    "remove_duplicate(my_list)\n",
    "print('Vect outside function:',my_list)"
   ]
  },
  {
   "cell_type": "markdown",
   "metadata": {},
   "source": [
    "The number and the order of the arguments must comply with the prototype of the function.\n",
    "However, Python allows some flexibility:\n",
    "\n",
    "- You can call a function using **keyword arguments** of the form `keyword=value`. This allows to specify to which parameter a specific argument must be assigned, not following the positional order. \n",
    "- You can define **default values** for one or more arguments, associating to the name of an argument a value in the function's prototype, like in `arg1=default_value`. Those arguments are **optional**: when calling the function, you can decide to only specify the required arguments and the optional parameters will take their default value. The optional parameters must always follow the required parameters in the function's prototype.\n",
    "- A `*` before the name of a parameter indicates a variable length tuple of arguments.\n",
    "- A double `**` before the name of a parameter indicates a variable length dict of keyword arguments, which must be passed with the syntax `key=value`.\n"
   ]
  },
  {
   "cell_type": "code",
   "execution_count": null,
   "metadata": {},
   "outputs": [],
   "source": [
    "def my_print(a, prefix='Here it is:'):  # a required and an optional parameter\n",
    "    print(prefix, a)"
   ]
  },
  {
   "cell_type": "code",
   "execution_count": null,
   "metadata": {},
   "outputs": [],
   "source": [
    "s = 'Ciao'\n",
    "my_print(s) # only specify the required argument, the optional one takes its default value\n",
    "my_print(s, 'Here is the string:') # also specify the other argument\n",
    "my_print(prefix='Here you are!', a=s) # use keyword arguments to specify them in any order"
   ]
  },
  {
   "cell_type": "code",
   "execution_count": null,
   "metadata": {},
   "outputs": [],
   "source": [
    "def extended_print(a, *b, **others):\n",
    "    print(a)\n",
    "    print(b)\n",
    "    print(others)"
   ]
  },
  {
   "cell_type": "code",
   "execution_count": null,
   "metadata": {},
   "outputs": [],
   "source": [
    "extended_print(s)"
   ]
  },
  {
   "cell_type": "code",
   "execution_count": null,
   "metadata": {},
   "outputs": [],
   "source": [
    "extended_print(s, 'I', 'like', 'Python', c='version', d=3)"
   ]
  },
  {
   "cell_type": "code",
   "execution_count": null,
   "metadata": {},
   "outputs": [],
   "source": [
    "def better_extended_print(a, *b, **others):\n",
    "    print(a)\n",
    "    for el in b:\n",
    "        print(el)\n",
    "    for k,v in others.items():\n",
    "        print(v)"
   ]
  },
  {
   "cell_type": "code",
   "execution_count": null,
   "metadata": {},
   "outputs": [],
   "source": [
    "better_extended_print(s, 'I', 'like', 'Python', c='version', d=3)"
   ]
  },
  {
   "cell_type": "markdown",
   "metadata": {},
   "source": [
    "<div class=\"alert alert-block alert-success\" markdown=\"1\"> \n",
    "\n",
    "<b>PROBLEMS</b>\n",
    "\n",
    "</div>\n",
    "  \n",
    "Write a function that:\n",
    "1. Returns the sum of its two arguments, with the second argument being optional.\n",
    "2. Takes as arguments a number of hours, minutes and seconds and returns the total number of seconds.\n",
    "3. Takes as arguments a string S and an integer N and prints S with N leading spaces. N must have default value 0.\n",
    "4. Takes as argument a string S and an integer X: if X is less than len(S), the function returns the letters at index x and at index -x of S, otherwise it returns the string \"error\".\n",
    "5. Takes as arguments two numbers x and y, with y being optional, and checks whether the x is less than y^2, returning either True or False.\n",
    "6. Takes as arguments three numbers and prints the minimum.\n",
    "7. Takes as argument an integer n and returns the list of all multiples of n less than 100.\n",
    "8. Takes as argument an integer n, then asks the user to input n integers $x_1,\\ldots,x_n$ and returns their product $x_1\\cdot x_2\\cdots x_n$.\n",
    "9. Takes two arguments L and n, with n having default value `None`. When the function gets called with just one argument, it returns the sum of all elements in L. When the function gets called with two arguments, it returns the sum of all elements in L that are less than n.\n",
    "10. Takes as argument a list L of integers and returns the position of the minimum and maximum values of L.\n",
    "11. Takes as argument a string S and checks if S is palindrome, returning either True or False.\n",
    "12. Takes as argument a list of lists of integers and adds up the elements from all of the nested lists.\n",
    "13. Takes as argument a sequence L and returns True if L is sorted in ascending order and False otherwise.\n",
    "14. Takes as argument a list L, modifies it by removing the first and last elements and returns nothing. The modification to the list must be visible from the caller.\n",
    "15. Takes as argument a tuple T and an integer n, and returns the list L containing the same sequence of T except for the element of index n which must be omitted. If the element of index n does not exist, L must be equal to T.\n",
    "\n",
    "Check that your functions behave as expected by calling them with different combinations of parameters."
   ]
  },
  {
   "cell_type": "markdown",
   "metadata": {},
   "source": [
    "## Persistence\n",
    "\n",
    "Most of the programs we have seen so far are **transient**: when they end, their data disappear.\n",
    "Other programs are **persistent**:\n",
    "* they run for a long time (or all the time);\n",
    "* they keep at least some of their data in permanent storage (a hard drive, for example);\n",
    "* if they shut down and restart, they pick up where they left off.\n",
    "\n",
    "Examples of persistent programs are operating systems and web servers.\n",
    "\n",
    "One of the simplest ways for programs to maintain their data is by reading and writing **text\n",
    "files**, but you can also write down **binary data**."
   ]
  },
  {
   "cell_type": "markdown",
   "metadata": {},
   "source": [
    "### Reading from a file\n",
    "\n",
    "The built-in function `open` takes the name of the file as a parameter and returns a **file\n",
    "object** that you can use to read or write the file.\n",
    "* By default, the file is opened for **reading**.\n",
    "* You need to `close` the file manually."
   ]
  },
  {
   "cell_type": "code",
   "execution_count": 2,
   "metadata": {},
   "outputs": [
    {
     "name": "stdout",
     "output_type": "stream",
     "text": [
      "aa\n",
      "\n",
      "aah\n",
      "\n",
      "aahed\n",
      "\n"
     ]
    }
   ],
   "source": [
    "fin = open('words.txt')  # open the file\n",
    "print(fin.readline())  # read a line\n",
    "print(fin.readline())  # read the following line\n",
    "for line in fin:  # loop over the lines\n",
    "    print(line)\n",
    "    break\n",
    "fin.close()  # close the file"
   ]
  },
  {
   "cell_type": "markdown",
   "metadata": {},
   "source": [
    "### Writing to a file\n",
    "To **write** a file, you have to open it with mode `'w'` as a second parameter.\n",
    "* You can use the method `write` of file objects, or you can use `print` specifying the file object with a keyword argument.\n",
    "* You need to `close` the file manually."
   ]
  },
  {
   "cell_type": "code",
   "execution_count": 5,
   "metadata": {},
   "outputs": [],
   "source": [
    "fout = open('output.txt', 'w')  # NB: this OVERWRITES the file if it already exists\n",
    "line = 'this is a test line'\n",
    "fout.write(line) # write\n",
    "print(line, file=fout) # write again, with print\n",
    "fout.write(line) # write again\n",
    "fout.close()"
   ]
  },
  {
   "cell_type": "code",
   "execution_count": 7,
   "metadata": {},
   "outputs": [
    {
     "name": "stdout",
     "output_type": "stream",
     "text": [
      "this is a test linethis is a test line\r\n",
      "this is a test line"
     ]
    }
   ],
   "source": [
    "!cat output.txt  # can you spot the difference between using .write and print?"
   ]
  },
  {
   "cell_type": "markdown",
   "metadata": {},
   "source": [
    "### The `with` statement\n",
    "\n",
    "The good practice for accessing files in python is the `with` statement.\n",
    "It only opens the file for as long as you need, closing it automatically at the end of the block."
   ]
  },
  {
   "cell_type": "code",
   "execution_count": 8,
   "metadata": {},
   "outputs": [
    {
     "name": "stdout",
     "output_type": "stream",
     "text": [
      "this is a test linethis is a test line\n",
      "this is a test line\n"
     ]
    }
   ],
   "source": [
    "with open('output.txt') as fin:\n",
    "    print(fin.read())"
   ]
  },
  {
   "cell_type": "markdown",
   "metadata": {},
   "source": [
    "### Pickling\n",
    "\n",
    "The `pickle` module (we will be back on modules soon) translates almost any type of object into a **binary file** suitable for storage, and it is then able to translate it back into objects:\n",
    "- `pickle.dump` takes an object and a file object as arguments and writes the object to file\n",
    "- `pickle.load` takes the file object as parameter and returns the pickled object"
   ]
  },
  {
   "cell_type": "code",
   "execution_count": 9,
   "metadata": {},
   "outputs": [
    {
     "name": "stdout",
     "output_type": "stream",
     "text": [
      "[1, 2, 3]\n"
     ]
    }
   ],
   "source": [
    "import pickle\n",
    "l = [1,2,3]\n",
    "with open('test.pickle', 'wb') as fdump:\n",
    "    pickle.dump(l,fdump)\n",
    "with open('test.pickle', 'rb') as fload:\n",
    "    t = pickle.load(fload)\n",
    "print(t)"
   ]
  },
  {
   "cell_type": "markdown",
   "metadata": {},
   "source": [
    "<div class=\"alert alert-block alert-success\" markdown=\"1\"> \n",
    "\n",
    "<b>PROBLEMS</b>\n",
    "\n",
    "</div>\n",
    "\n",
    "<div class=\"alert alert-block alert-warning\" markdown=\"1\"> \n",
    "NB: these problems use the text file \"words.txt\" which, if needed, can be downloaded from http://thinkpython2.com/code/words.txt.\n",
    "</div>\n",
    "\n",
    "Write a program that:\n",
    "1. Reads \"words.txt\" and prints only the words with more than 20 characters (not counting whitespaces).\n",
    "2. Does the same as 1., but printing on the file \"long_words.txt\".\n",
    "3. Reads \"words.txt\", constructs a dictionary whose keys are integers and such that the value associated to N is the number of words in \"words.txt\" whose length is N.\n",
    "4. Extends 4. by dumping the dictionary using pickle."
   ]
  },
  {
   "cell_type": "markdown",
   "metadata": {},
   "source": [
    "## Classes\n",
    "\n",
    "While born as a scripting language, Python quickly became a object oriented language: you can define new data types through the concept of **class**.\n",
    "All Python types (int, float, str, ...) are defined as classes and all actions that they can perform are defined as **methods** of their class, that is a set of functions that are specific to that class. \n",
    "\n",
    "The syntax to define a new class in Python is:\n",
    "\n",
    "```python\n",
    "class ClassName(ExtendedClass):   # ExtendedClass is optional\n",
    "    ''' documentation '''   # this is also optional\n",
    "    methods definition\n",
    "```\n",
    "\n",
    "The **constructor** of a class is a special method called `__init__`.\n",
    "It allows to create new **instances** (objects) of that class.\n",
    "\n",
    "The first parameter of any method of a class is a special parameter which is denoted `self` by convention.\n",
    "When we use an object as the \"subject\" that executes a method, the value to be assigned to `self` must not be specified: Python automatically assigns to the first parameter a reference to the calling object.\n",
    "\n",
    "The syntax to create an instance of a class is:\n",
    "\n",
    "```python\n",
    "variable = ClassName(arguments)\n",
    "```\n",
    "\n",
    "where the `arguments` must respect the prototype of the `__init__` function (except for the first parameter `self`), since each call to `ClassName()` is actually a call to `__init__`.\n",
    "\n",
    "The `.` sintax allows to access the methods and the **attributes** of an object.\n",
    "The attributes are variables that are \"attached\" to the object; they correspond to features that all instances of that class must possess, and their value defines the characteristics of that specific instance.\n"
   ]
  },
  {
   "cell_type": "code",
   "execution_count": null,
   "metadata": {},
   "outputs": [],
   "source": [
    "class Shape:\n",
    "\n",
    "    def __init__(self, x, y): # this creates a Shape by specififying its x and y attributes\n",
    "        self.x = x\n",
    "        self.y = y\n",
    "\n",
    "    def area(self): # a method to compute the area\n",
    "        return self.x * self.y\n",
    "\n",
    "    def perimeter(self): # a method to compute the perimeter\n",
    "        return 2 * self.x + 2 * self.y\n",
    "\n",
    "    def scaleSize(self, scale): # a method to scale both the x and y arguments by a constant\n",
    "        self.x = self.x * scale\n",
    "        self.y = self.y * scale"
   ]
  },
  {
   "cell_type": "code",
   "execution_count": null,
   "metadata": {},
   "outputs": [],
   "source": [
    "rectangle = Shape(100, 45)\n",
    "# if I call the methods \"from the class\", the object \"undergoes\" the method\n",
    "print(Shape.area(rectangle)) # rectangle is assigned to \"self\" as in any function\n",
    "# if I call the method \"from the object\", the object acts to execute the method\n",
    "print(rectangle.area()) # rectangle is still implicitly assigned to \"self\""
   ]
  },
  {
   "cell_type": "code",
   "execution_count": null,
   "metadata": {},
   "outputs": [],
   "source": [
    "# some additional examples\n",
    "print(rectangle.perimeter())\n",
    "rectangle.scaleSize(0.5)\n",
    "print(rectangle.area())\n",
    "long_rectangle = Shape(110,10)\n",
    "fat_rectangle = Shape(40,30)\n",
    "print(long_rectangle.area()/long_rectangle.perimeter())\n",
    "print(fat_rectangle.area()/fat_rectangle.perimeter())"
   ]
  },
  {
   "cell_type": "markdown",
   "metadata": {},
   "source": [
    "A fundamental feature of object oriented programming is **inheritance**: a class can extend another class, inheriting all methods and attributes that are not explicitly overwritten."
   ]
  },
  {
   "cell_type": "code",
   "execution_count": null,
   "metadata": {},
   "outputs": [],
   "source": [
    "class Square(Shape):  # Square extends Shape and it inherits all methods except __init__\n",
    "    def __init__(self,x):\n",
    "        self.x = x\n",
    "        self.y = x"
   ]
  },
  {
   "cell_type": "code",
   "execution_count": null,
   "metadata": {},
   "outputs": [],
   "source": [
    "square = Square(5)\n",
    "print(square.perimeter())  # this is the method perimiter of the class Shape"
   ]
  },
  {
   "cell_type": "markdown",
   "metadata": {},
   "source": [
    "<div class=\"alert alert-block alert-success\" markdown=\"1\"> \n",
    "\n",
    "<b>PROBLEMS</b>\n",
    "\n",
    "</div>\n",
    "\n",
    "1. Define a class named `Point` that represents a point in a 2D space. It must have a `__init__` method that allows specfying the `x` and `y` coordinates (two attributes) of the Point to be instantiated. \n",
    "2. Define a class named `Circle` with attributes `center` and `radius`, where center is a Point object and radius is a number.\n",
    "3. Instantiate a Circle object that represents a circle with its center at (150, 100) and radius 75.\n",
    "4. Add to Circle a method called `contains_point` that takes a Point and returns True if the Point lies in or on the boundary of the circle.\n",
    "5. Define a class `Time` with attributes `h`, `m` and `s`, that represent a time of the day expressed as hours, minutes and seconds. It must be possible to instantiate a Time object passing any combination of hours, minutes and seconds.\n",
    "6. Write a function named add_times that takes two Time objects and returns a new Time object equal to the sum of the two input objects.\n",
    "7. Based on the above add_times, add to Time a `__add__` method that takes another Time object and updates the calling object by adding the other Time object.\n",
    "8. Add to Time a method `time_to_int` that converts a Time into the total number of seconds and returns it.\n",
    "9. Add to Time a method `int_to_time` that takes a number of seconds and returns the corresponding Time object.\n",
    "10. Modify the `__init__` method of Time so that it can generate a Time object from a total number of seconds."
   ]
  },
  {
   "cell_type": "markdown",
   "metadata": {
    "collapsed": true
   },
   "source": [
    "## Modules\n",
    "\n",
    "Python **modules** are, as a matter of fact, libraries of functions and classes.\n",
    "\n",
    "Formally, there is no difference between a Python module and a Python script: any file having .py extension can be used as a module or executed as a script.\n",
    "In practice, a module is expected to mostly contain definitions of classes and functions, and the part that is directly executed when you run it (if present) is generally just a quick test of the content of the module.\n",
    "\n",
    "You can organize the modules into folders, provided that all folders contain a (typically empty) file named \\_\\_init\\_\\_.py.\n",
    "\n",
    "To use the content of a module you must first **import** it with one of the following constructs:\n",
    "\n",
    "```python\n",
    "import module\n",
    "from module import class\n",
    "from module import function\n",
    "from module.submodule import class\n",
    "from module.submodule import function\n",
    "from module.class import method\n",
    "```\n",
    "\n",
    "You can give pseudonyms to modules, classes and methods using the `as` keyword, as in\n",
    "\n",
    "```python\n",
    "import numpy as np\n",
    "```\n",
    "\n",
    "As an example, consider the following module:"
   ]
  },
  {
   "cell_type": "code",
   "execution_count": null,
   "metadata": {},
   "outputs": [],
   "source": [
    "!cat test_module.py # cat is a command of Unix-like OS that shows the content of a file"
   ]
  },
  {
   "cell_type": "markdown",
   "metadata": {},
   "source": [
    "The module has a `main` function that is executed when you run it.\n",
    "The condition\n",
    "\n",
    "`if __name__ == \"__main__\":`\n",
    "\n",
    "means \"if this program is the main program being executed, and not a module being imported\"."
   ]
  },
  {
   "cell_type": "code",
   "execution_count": null,
   "metadata": {},
   "outputs": [],
   "source": [
    "!python test_module.py"
   ]
  },
  {
   "cell_type": "code",
   "execution_count": null,
   "metadata": {},
   "outputs": [],
   "source": [
    "import test_module as tm\n",
    "tm.hms(400)"
   ]
  },
  {
   "cell_type": "code",
   "execution_count": null,
   "metadata": {},
   "outputs": [],
   "source": [
    "from test_module import hms\n",
    "hms(400)"
   ]
  },
  {
   "cell_type": "markdown",
   "metadata": {},
   "source": [
    "Python's **standard library** includes a large number of modules that are delivered with the default installation of the interpreter.\n",
    "For example, the `math` module provides all most known mathematical constants and functions.\n",
    "\n",
    "In addition, there exist external modules for basically any need, thanks to Python's broad community of cooperative users.\n",
    "\n",
    "To install an external module you can use the command `pip` (or `conda`, if you installed the widely used Python distribution \"Anaconda\").\n",
    "For instance, you can install the well-known module numpy like this:\n",
    "\n",
    "```bash\n",
    "pip install numpy\n",
    "```"
   ]
  },
  {
   "cell_type": "markdown",
   "metadata": {},
   "source": [
    "## Pythonic programming\n",
    "\n",
    "That is: things you can do (and you typically do) in Python."
   ]
  },
  {
   "cell_type": "markdown",
   "metadata": {},
   "source": [
    "### Catching exceptions\n",
    "\n",
    "In Python \"you ask for forgiveness, not permission\":"
   ]
  },
  {
   "cell_type": "code",
   "execution_count": null,
   "metadata": {},
   "outputs": [],
   "source": [
    "x = int(input('insert an integer '))\n",
    "try:           # what if x==0?\n",
    "    y = 1/x\n",
    "except:\n",
    "    y = float('inf')\n",
    "print(y)"
   ]
  },
  {
   "cell_type": "markdown",
   "metadata": {},
   "source": [
    "**Question**: what is an alternative way to obtain the same result?"
   ]
  },
  {
   "cell_type": "markdown",
   "metadata": {},
   "source": [
    "### Conditional expressions\n",
    "\n",
    "A synthetic way to express a conditional statement:"
   ]
  },
  {
   "cell_type": "code",
   "execution_count": null,
   "metadata": {},
   "outputs": [],
   "source": [
    "import math\n",
    "\n",
    "def log_no_error(x):\n",
    "    return math.log(x) if x > 0 else float('nan')\n",
    "\n",
    "log_no_error(-1)"
   ]
  },
  {
   "cell_type": "markdown",
   "metadata": {},
   "source": [
    "### List comprehension\n",
    "\n",
    "A concise sintax to construct a list by looping over another sequence."
   ]
  },
  {
   "cell_type": "code",
   "execution_count": null,
   "metadata": {},
   "outputs": [],
   "source": [
    "t = 'i <3 list comprehension'\n",
    "s = [c.capitalize() for c in t]\n",
    "print(s)"
   ]
  },
  {
   "cell_type": "code",
   "execution_count": null,
   "metadata": {
    "scrolled": true
   },
   "outputs": [],
   "source": [
    "# the same, but without list comprehension\n",
    "t = 'i <3 list comprehension'\n",
    "s = []\n",
    "for c in t:\n",
    "    s.append(c.capitalize())\n",
    "print(s)"
   ]
  },
  {
   "cell_type": "markdown",
   "metadata": {},
   "source": [
    "*Brace yourself*: a list comprehension is faster than a standard for loop!"
   ]
  },
  {
   "cell_type": "code",
   "execution_count": null,
   "metadata": {},
   "outputs": [],
   "source": [
    "import time\n",
    "\n",
    "t = []\n",
    "for i in range(10):\n",
    "    st = time.time()\n",
    "    s = [c*2 for c in range(100000)]\n",
    "    t.append(time.time()-st)\n",
    "print('average time with list comprehension:', sum(t)/10)\n",
    "\n",
    "t = []\n",
    "for i in range(10):\n",
    "    st = time.time()\n",
    "    s = []\n",
    "    for c in range(100000):\n",
    "        s.append(c*2)\n",
    "    t.append(time.time()-st)\n",
    "print('average time without list comprehension:', sum(t)/10)"
   ]
  },
  {
   "cell_type": "markdown",
   "metadata": {},
   "source": [
    "You can put conditions in a list comprehension:"
   ]
  },
  {
   "cell_type": "code",
   "execution_count": null,
   "metadata": {},
   "outputs": [],
   "source": [
    "even = [i for i in range(20) if i%2==0]\n",
    "even"
   ]
  },
  {
   "cell_type": "markdown",
   "metadata": {},
   "source": [
    "You can similarly use dictionary comprehension:"
   ]
  },
  {
   "cell_type": "code",
   "execution_count": null,
   "metadata": {},
   "outputs": [],
   "source": [
    "doubles = {i:i*2 for i in range(10)}\n",
    "doubles"
   ]
  },
  {
   "cell_type": "markdown",
   "metadata": {},
   "source": [
    "### Generator expressions\n",
    "There is no such thing as a \"tuple comprehension\".\n",
    "\n",
    "The syntax of a list comprehension, but with round brackets, produces a **generator object**.\n",
    "This object \"knows\" how to loop over the specified sequence, but:\n",
    "- in a list comprehension all values are computed and stored in a list (thus taking memory)\n",
    "- a generator expression creates an object that is ready to output the next element of the sequence upon request\n",
    "\n",
    "The built-in function `next` extracts the next element from the generator."
   ]
  },
  {
   "cell_type": "code",
   "execution_count": null,
   "metadata": {},
   "outputs": [],
   "source": [
    "g = (x**2 for x in range(5))\n",
    "g"
   ]
  },
  {
   "cell_type": "code",
   "execution_count": null,
   "metadata": {},
   "outputs": [],
   "source": [
    "next(g)"
   ]
  },
  {
   "cell_type": "code",
   "execution_count": null,
   "metadata": {},
   "outputs": [],
   "source": [
    "next(g), next(g), next(g)"
   ]
  },
  {
   "cell_type": "markdown",
   "metadata": {},
   "source": [
    "You can also use a **`for`** loop to iterate over the elements of a generator:"
   ]
  },
  {
   "cell_type": "code",
   "execution_count": null,
   "metadata": {},
   "outputs": [],
   "source": [
    "for val in g:\n",
    "    print(val)"
   ]
  },
  {
   "cell_type": "markdown",
   "metadata": {},
   "source": [
    "As you may have noticed, the generator keeps track of where it currently is in the sequence.\n",
    "Any further request for elements (whether it be a `next` or a **`for`**) resumes from where the generator stopped when it was last used.\n",
    "\n",
    "Once the generator is **exhausted**, an explicit call to `next` throws a **StopIteration exception**:"
   ]
  },
  {
   "cell_type": "code",
   "execution_count": null,
   "metadata": {},
   "outputs": [],
   "source": [
    "next(g)"
   ]
  },
  {
   "cell_type": "markdown",
   "metadata": {},
   "source": [
    "## Typical problems (or errors)\n",
    "\n",
    "### Default arguments of mutable type\n",
    "\n",
    "What you wrote:"
   ]
  },
  {
   "cell_type": "code",
   "execution_count": null,
   "metadata": {},
   "outputs": [],
   "source": [
    "def append_to(element, to=[]):\n",
    "    to.append(element)  # append is a list method that adds an element to the end of the list \n",
    "    return to"
   ]
  },
  {
   "cell_type": "markdown",
   "metadata": {},
   "source": [
    "What you probably expected:\n",
    "\n",
    "Any call to the function `append_to` with only one argument returns a list that only contains that argumet."
   ]
  },
  {
   "cell_type": "code",
   "execution_count": null,
   "metadata": {},
   "outputs": [],
   "source": [
    "my_list = append_to(12)   # I expect to add 12 to the empty list []\n",
    "print(my_list)\n",
    "\n",
    "my_other_list = append_to(42)   # I expect to add 42 to the empty list []\n",
    "print(my_other_list)"
   ]
  },
  {
   "cell_type": "markdown",
   "metadata": {},
   "source": [
    "whoops!\n",
    "\n",
    "What happened:\n",
    "\n",
    "Default values in Python are created when you execute the function **definition**, not each time you call the function.\n",
    "This means that when we first executed the definiton of `append_to` an empty list was created and \"stored\" together with the function, ready to be used any time the function gets called with a single argument.\n",
    "If the default value is a mutable object which is modified in-place in the body of the function, any time we call the function we keep modifying the very same object.\n",
    "\n",
    "What you should have done: "
   ]
  },
  {
   "cell_type": "code",
   "execution_count": null,
   "metadata": {},
   "outputs": [],
   "source": [
    "def append_to(element, to=None):\n",
    "    if to is None:\n",
    "        to = []\n",
    "    to.append(element)\n",
    "    return to"
   ]
  },
  {
   "cell_type": "markdown",
   "metadata": {},
   "source": [
    "### Shallow copy vs. Deep copy ###\n",
    "\n",
    "What you wrote:"
   ]
  },
  {
   "cell_type": "code",
   "execution_count": null,
   "metadata": {},
   "outputs": [],
   "source": [
    "x = [[1, 2, 3], [4, 5, 6], [7, 8, 9]]\n",
    "y = x.copy()  # the copy method tells Python to create a copy of the object, not an alias"
   ]
  },
  {
   "cell_type": "markdown",
   "metadata": {},
   "source": [
    "What you probably expected:\n",
    "\n",
    "`x` and `y` are two entirely different objects, even though they contain identical values.\n",
    "\n",
    "At a first sight, it looks like this is actually the case:"
   ]
  },
  {
   "cell_type": "code",
   "execution_count": null,
   "metadata": {},
   "outputs": [],
   "source": [
    "print(id(x), id(y))   # different ids\n",
    "x.append(['new sublist'])  # appending something to x has no consequences on y\n",
    "print(x)\n",
    "print(y)"
   ]
  },
  {
   "cell_type": "markdown",
   "metadata": {},
   "source": [
    "Yet, it is not:"
   ]
  },
  {
   "cell_type": "code",
   "execution_count": null,
   "metadata": {},
   "outputs": [],
   "source": [
    "x[1][0] = 'X'  # modifying something that was \"inside\" x before the copy impacts on y\n",
    "print(x)\n",
    "print(y)"
   ]
  },
  {
   "cell_type": "markdown",
   "metadata": {},
   "source": [
    "What happened:\n",
    "\n",
    "When we created a copy of `x` we guaranteed that `x` and `y` refer to two **different** list objects (i.e., are **not** themselves aliases of one another).\n",
    "For this reason, adding an element to the object to which `x` points has no effects on the different object to which `y` points.\n",
    "\n",
    "However, we did **not** make a copy of each of `x`'s sublists.\n",
    "This means that there exist a **single** list object `[4, 5, 6]`, with the second element of `x` and the second element of `y` being two **aliases** for that object (i.e., two different pointers to the same object).\n",
    "\n",
    "Indeed:"
   ]
  },
  {
   "cell_type": "code",
   "execution_count": null,
   "metadata": {},
   "outputs": [],
   "source": [
    "id(x[1]), id(y[1])"
   ]
  },
  {
   "cell_type": "markdown",
   "metadata": {},
   "source": [
    "Since the object to which `x[1]` and `y[1]` point is mutable, if we modify it using `x[1]`, the modification is also visible from `y[1]`.\n",
    "\n",
    "What you should have done:"
   ]
  },
  {
   "cell_type": "code",
   "execution_count": null,
   "metadata": {},
   "outputs": [],
   "source": [
    "import copy\n",
    "x = [[1, 2, 3], [4, 5, 6], [7, 8, 9]]\n",
    "z = copy.deepcopy(x)\n",
    "\n",
    "# the method deepcopy recursively create copies of all \"pieces\" of its argument\n",
    "\n",
    "id(x[0]), id(z[0])"
   ]
  },
  {
   "cell_type": "markdown",
   "metadata": {
    "id": "3cfrOV4dL9hW"
   },
   "source": [
    "## NumPy"
   ]
  },
  {
   "cell_type": "markdown",
   "metadata": {
    "id": "fY12nHhyL9hX"
   },
   "source": [
    "Numpy is the core library for scientific computing in Python. It provides a high-performance multidimensional **array** object, and tools for working with these arrays.\n",
    "\n",
    "To use Numpy, we first need to import the `numpy` package:"
   ]
  },
  {
   "cell_type": "code",
   "execution_count": null,
   "metadata": {
    "id": "58QdX8BLL9hZ"
   },
   "outputs": [],
   "source": [
    "import numpy as np   # the pseudonym np is widely used"
   ]
  },
  {
   "cell_type": "markdown",
   "metadata": {
    "id": "DDx6v1EdL9hb"
   },
   "source": [
    "### Arrays"
   ]
  },
  {
   "cell_type": "markdown",
   "metadata": {
    "id": "f-Zv3f7LL9hc"
   },
   "source": [
    "A numpy array is a grid of values, all of the same type, and is indexed by a tuple of nonnegative integers. The number of dimensions is the **rank** of the array; the **shape** of an array is a tuple of integers giving the size of the array along each dimension."
   ]
  },
  {
   "cell_type": "markdown",
   "metadata": {
    "id": "_eMTRnZRL9hc"
   },
   "source": [
    "We can initialize numpy arrays from nested Python lists (lists of lists), and access elements using square brackets:"
   ]
  },
  {
   "cell_type": "code",
   "execution_count": null,
   "metadata": {
    "colab": {
     "base_uri": "https://localhost:8080/",
     "height": 52
    },
    "id": "-l3JrGxCL9hc",
    "outputId": "8d9dad18-c734-4a8a-ca8c-44060a40fb79"
   },
   "outputs": [],
   "source": [
    "a = np.array([1, 2, 3])  # Create a rank 1 array\n",
    "print(type(a), a.shape, a[0], a[1], a[2])\n",
    "a[0] = 5                 # Change an element of the array\n",
    "print(a)                  "
   ]
  },
  {
   "cell_type": "code",
   "execution_count": null,
   "metadata": {
    "colab": {
     "base_uri": "https://localhost:8080/",
     "height": 52
    },
    "id": "ma6mk-kdL9hh",
    "outputId": "0b54ff2f-e7f1-4b30-c653-9bf81cb8fbb0"
   },
   "outputs": [],
   "source": [
    "b = np.array([[1,2,3],[4,5,6]])   # Create a rank 2 array\n",
    "print(b)"
   ]
  },
  {
   "cell_type": "code",
   "execution_count": null,
   "metadata": {
    "colab": {
     "base_uri": "https://localhost:8080/",
     "height": 52
    },
    "id": "ymfSHAwtL9hj",
    "outputId": "5bd292d8-c751-43b9-d480-f357dde52342"
   },
   "outputs": [],
   "source": [
    "print(b.shape)\n",
    "print(b[0, 0], b[0, 1], b[1, 0])"
   ]
  },
  {
   "cell_type": "markdown",
   "metadata": {
    "id": "F2qwdyvuL9hn"
   },
   "source": [
    "Numpy also provides many functions to create arrays:"
   ]
  },
  {
   "cell_type": "code",
   "execution_count": null,
   "metadata": {
    "colab": {
     "base_uri": "https://localhost:8080/",
     "height": 52
    },
    "id": "mVTN_EBqL9hn",
    "outputId": "d267c65f-ba90-4043-cedb-f468ab1bcc5d"
   },
   "outputs": [],
   "source": [
    "a = np.zeros((2,2))  # Create a 2x2 (2 rows, 2 columns) array of all zeros\n",
    "print(a)"
   ]
  },
  {
   "cell_type": "code",
   "execution_count": null,
   "metadata": {
    "colab": {
     "base_uri": "https://localhost:8080/",
     "height": 34
    },
    "id": "skiKlNmlL9h5",
    "outputId": "7d1ec1b5-a1fe-4f44-cbe3-cdeacad425f1"
   },
   "outputs": [],
   "source": [
    "b = np.ones((1,2))   # Create a 1x2 array of all ones\n",
    "print(b)"
   ]
  },
  {
   "cell_type": "code",
   "execution_count": null,
   "metadata": {
    "colab": {
     "base_uri": "https://localhost:8080/",
     "height": 52
    },
    "id": "HtFsr03bL9h7",
    "outputId": "2688b157-2fad-4fc6-f20b-8633207f0326"
   },
   "outputs": [],
   "source": [
    "c = np.full((2,2), 7) # Create a 2x2 constant array\n",
    "print(c)"
   ]
  },
  {
   "cell_type": "code",
   "execution_count": null,
   "metadata": {
    "colab": {
     "base_uri": "https://localhost:8080/",
     "height": 52
    },
    "id": "-QcALHvkL9h9",
    "outputId": "5035d6fe-cb7e-4222-c972-55fe23c9d4c0"
   },
   "outputs": [],
   "source": [
    "d = np.eye(2)        # Create a 2x2 identity matrix\n",
    "print(d)"
   ]
  },
  {
   "cell_type": "code",
   "execution_count": null,
   "metadata": {
    "colab": {
     "base_uri": "https://localhost:8080/",
     "height": 52
    },
    "id": "RCpaYg9qL9iA",
    "outputId": "25f0b387-39cf-42f3-8701-de860cc75e2e"
   },
   "outputs": [],
   "source": [
    "e = np.random.random((2,2)) # Create a 2x2 array filled with random values in (0,1)\n",
    "print(e)"
   ]
  },
  {
   "cell_type": "markdown",
   "metadata": {
    "id": "jI5qcSDfL9iC"
   },
   "source": [
    "### Array indexing"
   ]
  },
  {
   "cell_type": "markdown",
   "metadata": {
    "id": "M-E4MUeVL9iC"
   },
   "source": [
    "Numpy offers several ways to index into arrays."
   ]
  },
  {
   "cell_type": "markdown",
   "metadata": {
    "id": "QYv4JyIEL9iD"
   },
   "source": [
    "**Slicing**: similar to Python lists, numpy arrays can be sliced. Since arrays may be multidimensional, you must specify a slice for each dimension of the array:"
   ]
  },
  {
   "cell_type": "code",
   "execution_count": null,
   "metadata": {
    "colab": {
     "base_uri": "https://localhost:8080/",
     "height": 52
    },
    "id": "wLWA0udwL9iD",
    "outputId": "99f08618-c513-4982-8982-b146fc72dab3"
   },
   "outputs": [],
   "source": [
    "# Create the following rank 2 array with shape (3, 4)\n",
    "# [[ 1  2  3  4]\n",
    "#  [ 5  6  7  8]\n",
    "#  [ 9 10 11 12]]\n",
    "a = np.array([[1,2,3,4], [5,6,7,8], [9,10,11,12]])\n",
    "\n",
    "# Use slicing to pull out the subarray consisting of the first 2 rows\n",
    "# and columns 1 and 2; b is the following array of shape (2, 2):\n",
    "# [[2 3]\n",
    "#  [6 7]]\n",
    "b = a[:2, 1:3]\n",
    "print(b)"
   ]
  },
  {
   "cell_type": "markdown",
   "metadata": {
    "id": "KahhtZKYL9iF"
   },
   "source": [
    "A slice is a **view** into the same data, i.e., a system of pointers to the selected parts of the original object and **not** a deep-copy of those parts of the object.\n",
    "Modifying the slice **will modify** the original array:"
   ]
  },
  {
   "cell_type": "code",
   "execution_count": null,
   "metadata": {
    "colab": {
     "base_uri": "https://localhost:8080/",
     "height": 52
    },
    "id": "1kmtaFHuL9iG",
    "outputId": "ee3ab60c-4064-4a9e-b04c-453d3955f1d1"
   },
   "outputs": [],
   "source": [
    "print(a[0, 1])\n",
    "b[0, 0] = 77    # b[0, 0] is the same piece of data as a[0, 1]\n",
    "print(a[0, 1]) "
   ]
  },
  {
   "cell_type": "markdown",
   "metadata": {
    "id": "_Zcf3zi-L9iI"
   },
   "source": [
    "If you are only interested in the elements on a specific row of a rank 2 array, you have two options:\n",
    "- using slices for both axes yields an array of the same rank as the original array \n",
    "- using integer indexing to select the row you want (and slices for the columns) yields an array of **lower rank**"
   ]
  },
  {
   "cell_type": "code",
   "execution_count": null,
   "metadata": {
    "colab": {
     "base_uri": "https://localhost:8080/",
     "height": 69
    },
    "id": "G6lfbPuxL9iJ",
    "outputId": "a225fe9d-2a29-4e14-a243-2b7d583bd4bc"
   },
   "outputs": [],
   "source": [
    "# Create the following rank 2 array with shape (3, 4)\n",
    "a = np.array([[1,2,3,4], [5,6,7,8], [9,10,11,12]])\n",
    "print(a)"
   ]
  },
  {
   "cell_type": "code",
   "execution_count": null,
   "metadata": {
    "colab": {
     "base_uri": "https://localhost:8080/",
     "height": 69
    },
    "id": "EOiEMsmNL9iL",
    "outputId": "ab2ebe48-9002-45a8-9462-fd490b467f40"
   },
   "outputs": [],
   "source": [
    "row_r1 = a[1, :]    # Rank 1 view of the second row of a  \n",
    "row_r2 = a[1:2, :]  # Rank 2 view of the second row of a\n",
    "print(row_r1, row_r1.shape)\n",
    "print(row_r2, row_r2.shape)"
   ]
  },
  {
   "cell_type": "code",
   "execution_count": null,
   "metadata": {
    "colab": {
     "base_uri": "https://localhost:8080/",
     "height": 104
    },
    "id": "JXu73pfDL9iN",
    "outputId": "6c589b85-e9b0-4c13-a39d-4cd9fb2f41ac"
   },
   "outputs": [],
   "source": [
    "# We can make the same distinction when accessing columns of an array:\n",
    "col_r1 = a[:, 1]\n",
    "col_r2 = a[:, 1:2]\n",
    "print(col_r1, col_r1.shape)\n",
    "print(col_r2, col_r2.shape)"
   ]
  },
  {
   "cell_type": "markdown",
   "metadata": {
    "id": "VP3916bOL9iP"
   },
   "source": [
    "**Integer array indexing**: integer array indexing allows you to construct arbitrary arrays using the data from another array. In this case you obtain a **different object**, not a view:"
   ]
  },
  {
   "cell_type": "code",
   "execution_count": null,
   "metadata": {
    "colab": {
     "base_uri": "https://localhost:8080/",
     "height": 52
    },
    "id": "TBnWonIDL9iP",
    "outputId": "c29fa2cd-234e-4765-c70a-6889acc63573"
   },
   "outputs": [],
   "source": [
    "# An example of integer array indexing.\n",
    "# You can read this as taking alements having coordinates [0,0], [1,1], [2,0]\n",
    "b = a[[0, 1, 2], [0, 1, 0]]\n",
    "c = np.array([a[0, 0], a[1, 1], a[2, 0]])\n",
    "print(b)\n",
    "print(c)"
   ]
  },
  {
   "cell_type": "markdown",
   "metadata": {
    "id": "QYv4JyIEL9iD"
   },
   "source": [
    "We can mix integer indexing with slicing:"
   ]
  },
  {
   "cell_type": "code",
   "execution_count": null,
   "metadata": {
    "colab": {
     "base_uri": "https://localhost:8080/",
     "height": 52
    },
    "id": "wLWA0udwL9iD",
    "outputId": "99f08618-c513-4982-8982-b146fc72dab3"
   },
   "outputs": [],
   "source": [
    "# Select the subarray consisting of the intersection of\n",
    "# rows 0 and 2 and columns 1 and 2\n",
    "# c is the following array of shape (2, 2):\n",
    "# [[ 2  3]\n",
    "#  [10 11]]\n",
    "c = a[[0,2], 1:3]\n",
    "print(c)\n",
    "# this time, c is not a view\n",
    "c[0,0] = -1\n",
    "print(c[0,0], a[0,1])"
   ]
  },
  {
   "cell_type": "code",
   "execution_count": null,
   "metadata": {
    "colab": {
     "base_uri": "https://localhost:8080/",
     "height": 52
    },
    "id": "n7vuati-L9iR",
    "outputId": "c3e9ba14-f66e-4202-999e-2e1aed5bd631"
   },
   "outputs": [],
   "source": [
    "# When using integer array indexing, you can reuse the same element from the source array:\n",
    "print(a[[0, 0], [1, 1]])\n",
    "\n",
    "# Equivalent to the previous integer array indexing example\n",
    "print(np.array([a[0, 1], a[0, 1]]))"
   ]
  },
  {
   "cell_type": "markdown",
   "metadata": {
    "id": "kaipSLafL9iU"
   },
   "source": [
    "One useful trick with integer array indexing is selecting or mutating one element from each row (or column) of a matrix:"
   ]
  },
  {
   "cell_type": "code",
   "execution_count": null,
   "metadata": {
    "colab": {
     "base_uri": "https://localhost:8080/",
     "height": 86
    },
    "id": "ehqsV7TXL9iU",
    "outputId": "de509c40-4ee4-4b7c-e75d-1a936a3350e7"
   },
   "outputs": [],
   "source": [
    "# Create a new array from which we will select elements\n",
    "a = np.array([[1,2,3], [4,5,6], [7,8,9], [10, 11, 12]])\n",
    "print(a)"
   ]
  },
  {
   "cell_type": "code",
   "execution_count": null,
   "metadata": {
    "colab": {
     "base_uri": "https://localhost:8080/",
     "height": 34
    },
    "id": "pAPOoqy5L9iV",
    "outputId": "f812e29b-9218-4767-d3a8-e9854e754e68"
   },
   "outputs": [],
   "source": [
    "# Create an array of indices\n",
    "b = np.array([0, 2, 0, 1])\n",
    "\n",
    "# Select one element from each row of a using the indices in b\n",
    "print(a[np.arange(4), b])  # Prints \"[ 1  6  7 11]\""
   ]
  },
  {
   "cell_type": "code",
   "execution_count": null,
   "metadata": {
    "colab": {
     "base_uri": "https://localhost:8080/",
     "height": 86
    },
    "id": "6v1PdI1DL9ib",
    "outputId": "89f50f82-de1b-4417-e55c-edbc0ee07584"
   },
   "outputs": [],
   "source": [
    "# Mutate one element from each row of a using the indices in b\n",
    "a[np.arange(4), b] += 10\n",
    "print(a)"
   ]
  },
  {
   "cell_type": "markdown",
   "metadata": {
    "id": "kaE8dBGgL9id"
   },
   "source": [
    "**Boolean array indexing**: boolean array indexing lets you pick out arbitrary elements of an array. This type of indexing is generally used to select the elements of an array based on whether some condition is satisfied or not."
   ]
  },
  {
   "cell_type": "code",
   "execution_count": null,
   "metadata": {
    "colab": {
     "base_uri": "https://localhost:8080/",
     "height": 69
    },
    "id": "32PusjtKL9id",
    "outputId": "8782e8ec-b78d-44d7-8141-23e39750b854"
   },
   "outputs": [],
   "source": [
    "a = np.array([[1,2], [3, 4], [5, 6]])\n",
    "\n",
    "bool_idx = (a > 2)  # Find the elements of a that are bigger than 2;\n",
    "                    # this returns a numpy array of Booleans of the same\n",
    "                    # shape as a, where each slot of bool_idx tells\n",
    "                    # whether that element of a is > 2.\n",
    "\n",
    "print(bool_idx)"
   ]
  },
  {
   "cell_type": "code",
   "execution_count": null,
   "metadata": {
    "colab": {
     "base_uri": "https://localhost:8080/",
     "height": 52
    },
    "id": "cb2IRMXaL9if",
    "outputId": "5983f208-3738-472d-d6ab-11fe85b36c95"
   },
   "outputs": [],
   "source": [
    "# We use boolean array indexing to construct a rank 1 array\n",
    "# consisting of the elements of a corresponding to the True values\n",
    "# of bool_idx\n",
    "print(a[bool_idx])\n",
    "\n",
    "# We can do all of the above in a single concise statement:\n",
    "print(a[a > 2])"
   ]
  },
  {
   "cell_type": "code",
   "execution_count": null,
   "metadata": {},
   "outputs": [],
   "source": [
    "# You can also use boolean indexing as in integer indexing to specify\n",
    "# which rows and columns you want\n",
    "\n",
    "print(a[[True,False,True]])  # rows 0 and 2, all columns\n",
    "\n",
    "print(a[[True,False,True],[True,False]])  # rows 0 and 2, first column, in a rank 1 array"
   ]
  },
  {
   "cell_type": "markdown",
   "metadata": {
    "id": "jTctwqdQL9ih"
   },
   "source": [
    "### Datatypes"
   ]
  },
  {
   "cell_type": "markdown",
   "metadata": {
    "id": "kSZQ1WkIL9ih"
   },
   "source": [
    "All elements of a numpy array must have the same type.\n",
    "Numpy tries to guess a datatype when you create an array, but functions that construct arrays usually also include an optional argument to explicitly specify the datatype."
   ]
  },
  {
   "cell_type": "code",
   "execution_count": null,
   "metadata": {
    "colab": {
     "base_uri": "https://localhost:8080/",
     "height": 34
    },
    "id": "4za4O0m5L9ih",
    "outputId": "2ea4fb80-a4df-43f9-c162-5665895c13ae"
   },
   "outputs": [],
   "source": [
    "x = np.array([1, 2])  # Let numpy choose the datatype\n",
    "y = np.zeros(2)  # Let numpy choose the datatype\n",
    "z = np.zeros(2, dtype=np.int64)  # Force a particular datatype\n",
    "\n",
    "print(x, x.dtype)\n",
    "print(y, y.dtype)\n",
    "print(z, z.dtype)"
   ]
  },
  {
   "cell_type": "markdown",
   "metadata": {
    "id": "TuB-fdhIL9ik"
   },
   "source": [
    "### Array math"
   ]
  },
  {
   "cell_type": "markdown",
   "metadata": {
    "id": "18e8V8elL9ik"
   },
   "source": [
    "Basic mathematical functions operate elementwise on arrays, and are available both as operator overloads and as functions in the numpy module:"
   ]
  },
  {
   "cell_type": "code",
   "execution_count": null,
   "metadata": {
    "colab": {
     "base_uri": "https://localhost:8080/",
     "height": 86
    },
    "id": "gHKvBrSKL9il",
    "outputId": "a8a924b1-9d60-4b68-8fd3-e4657ae3f08b"
   },
   "outputs": [],
   "source": [
    "x = np.array([[1,2],[3,4]], dtype=np.float64)\n",
    "y = np.array([[5,6],[7,8]], dtype=np.float64)\n",
    "\n",
    "# Elementwise sum\n",
    "print(x + y)\n",
    "# or\n",
    "print(np.add(x, y))"
   ]
  },
  {
   "cell_type": "code",
   "execution_count": null,
   "metadata": {
    "colab": {
     "base_uri": "https://localhost:8080/",
     "height": 86
    },
    "id": "1fZtIAMxL9in",
    "outputId": "122f1380-6144-4d6c-9d31-f62d839889a2"
   },
   "outputs": [],
   "source": [
    "# Elementwise difference\n",
    "print(x - y)\n",
    "# or\n",
    "print(np.subtract(x, y))"
   ]
  },
  {
   "cell_type": "code",
   "execution_count": null,
   "metadata": {
    "colab": {
     "base_uri": "https://localhost:8080/",
     "height": 86
    },
    "id": "nil4AScML9io",
    "outputId": "038c8bb2-122b-4e59-c0a8-a091014fe68e"
   },
   "outputs": [],
   "source": [
    "# Elementwise product\n",
    "print(x * y)\n",
    "# or\n",
    "print(np.multiply(x, y))"
   ]
  },
  {
   "cell_type": "code",
   "execution_count": null,
   "metadata": {
    "colab": {
     "base_uri": "https://localhost:8080/",
     "height": 86
    },
    "id": "0JoA4lH6L9ip",
    "outputId": "12351a74-7871-4bc2-97ce-a508bf4810da"
   },
   "outputs": [],
   "source": [
    "# Elementwise division\n",
    "print(x / y)\n",
    "# or\n",
    "print(np.divide(x, y))"
   ]
  },
  {
   "cell_type": "code",
   "execution_count": null,
   "metadata": {
    "colab": {
     "base_uri": "https://localhost:8080/",
     "height": 52
    },
    "id": "g0iZuA6bL9ir",
    "outputId": "29927dda-4167-4aa8-fbda-9008b09e4356"
   },
   "outputs": [],
   "source": [
    "# Elementwise square root\n",
    "print(x**(0.5))\n",
    "# or\n",
    "print(np.sqrt(x))"
   ]
  },
  {
   "cell_type": "markdown",
   "metadata": {
    "id": "a5d_uujuL9it"
   },
   "source": [
    "Matrix multiplication in numpy is implemented by the `@` operator or the `dot` function (`dot` is available both as a function in the numpy module and as a method of array objects).\n",
    "You can use `@` or `dot` to:\n",
    "- multiply matrices\n",
    "- multiply a matrix by a vector\n",
    "- compute inner products of vectors"
   ]
  },
  {
   "cell_type": "code",
   "execution_count": null,
   "metadata": {
    "colab": {
     "base_uri": "https://localhost:8080/",
     "height": 52
    },
    "id": "I3FnmoSeL9iu",
    "outputId": "46f4575a-2e5e-4347-a34e-0cc5bd280110"
   },
   "outputs": [],
   "source": [
    "# Matrix multiplication\n",
    "print(x @ y)\n",
    "# or\n",
    "print(x.dot(y))\n",
    "# or\n",
    "print(np.dot(x,y))"
   ]
  },
  {
   "cell_type": "code",
   "execution_count": null,
   "metadata": {},
   "outputs": [],
   "source": [
    "v = np.array([9,10])\n",
    "\n",
    "# Multiplication of matrix by vector\n",
    "print(x @ v)\n",
    "# or\n",
    "print(x.dot(v))\n",
    "# or\n",
    "print(np.dot(x, v))\n",
    "\n",
    "# Multiplication of vector by matrix\n",
    "print(v @ y)\n",
    "# or\n",
    "print(v.dot(y))\n",
    "# or\n",
    "print(np.dot(v, y))"
   ]
  },
  {
   "cell_type": "code",
   "execution_count": null,
   "metadata": {},
   "outputs": [],
   "source": [
    "# There is no difference in numpy between row-vectors and column-vectors\n",
    "print(v, v.shape, v.T, (v.T).shape) # .T is the transposition\n",
    "print(x @ v.T)  \n",
    "print(v.T @ y)"
   ]
  },
  {
   "cell_type": "code",
   "execution_count": null,
   "metadata": {
    "colab": {
     "base_uri": "https://localhost:8080/",
     "height": 52
    },
    "id": "I3FnmoSeL9iu",
    "outputId": "46f4575a-2e5e-4347-a34e-0cc5bd280110"
   },
   "outputs": [],
   "source": [
    "w = np.array([11, 12])\n",
    "\n",
    "# Inner product of vectors\n",
    "print(v @ w)\n",
    "# or\n",
    "print(v.dot(w.T))\n",
    "# or\n",
    "print(np.dot(v.T, w))"
   ]
  },
  {
   "cell_type": "markdown",
   "metadata": {
    "id": "FbE-1If_L9i0"
   },
   "source": [
    "Numpy provides many useful functions for performing computations on arrays; one of the most useful is `sum`:"
   ]
  },
  {
   "cell_type": "code",
   "execution_count": null,
   "metadata": {
    "colab": {
     "base_uri": "https://localhost:8080/",
     "height": 69
    },
    "id": "DZUdZvPrL9i0",
    "outputId": "99cad470-d692-4b25-91c9-a57aa25f4c6e"
   },
   "outputs": [],
   "source": [
    "x = np.array([[1,2],[3,4]])\n",
    "\n",
    "print(np.sum(x))  # Compute sum of all elements; prints \"10\"\n",
    "print(np.sum(x, axis=0))  # Compute sum of each column; prints \"[4 6]\"\n",
    "print(np.sum(x, axis=1))  # Compute sum of each row; prints \"[3 7]\""
   ]
  },
  {
   "cell_type": "markdown",
   "metadata": {
    "id": "REfLrUTcL9i7"
   },
   "source": [
    "### Broadcasting"
   ]
  },
  {
   "cell_type": "markdown",
   "metadata": {
    "id": "EygGAMWqL9i7"
   },
   "source": [
    "Broadcasting is a powerful mechanism that allows numpy to work with arrays of different shapes when performing arithmetic operations.\n",
    "Frequently we have a smaller array and a larger array, and we want to use the smaller array multiple times to perform some operation on the larger array.\n",
    "\n",
    "For example, suppose that we want to add a constant vector to each row of a matrix.\n",
    "We could do it like this:"
   ]
  },
  {
   "cell_type": "code",
   "execution_count": null,
   "metadata": {
    "colab": {
     "base_uri": "https://localhost:8080/",
     "height": 86
    },
    "id": "WEEvkV1ZL9i7",
    "outputId": "3896d03c-3ece-4aa8-f675-aef3a220574d"
   },
   "outputs": [],
   "source": [
    "# We will add the vector v to each row of the matrix x, storing the result in the matrix y\n",
    "x = np.array([[1,2,3], [4,5,6], [7,8,9], [10, 11, 12]])\n",
    "v = np.array([1, 0, 1])\n",
    "y = np.empty_like(x)   # Create an empty matrix with the same shape as x\n",
    "\n",
    "# Add the vector v to each row of the matrix x with an explicit loop\n",
    "for i in range(4):\n",
    "    y[i, :] = x[i, :] + v  # y[i, :] means i-th row, all columns\n",
    "\n",
    "print(y)"
   ]
  },
  {
   "cell_type": "markdown",
   "metadata": {
    "id": "2OlXXupEL9i-"
   },
   "source": [
    "When the matrix `x` is very large, computing an **explicit loop** in Python could be **slow**.\n",
    "\n",
    "Note that adding the vector `v` to each row of the matrix `x` is equivalent to forming a matrix `vv` by stacking multiple copies of `v` vertically, then performing elementwise summation of `x` and `vv`.\n",
    "We could implement this approach like this:"
   ]
  },
  {
   "cell_type": "code",
   "execution_count": null,
   "metadata": {
    "colab": {
     "base_uri": "https://localhost:8080/",
     "height": 86
    },
    "id": "vS7UwAQQL9i-",
    "outputId": "8621e502-c25d-4a18-c973-886dbfd1df36"
   },
   "outputs": [],
   "source": [
    "vv = np.tile(v, (4, 1))  # Stack 4 copies of v on top of each other\n",
    "print(vv)                # Prints \"[[1 0 1]\n",
    "                         #          [1 0 1]\n",
    "                         #          [1 0 1]\n",
    "                         #          [1 0 1]]\""
   ]
  },
  {
   "cell_type": "code",
   "execution_count": null,
   "metadata": {
    "colab": {
     "base_uri": "https://localhost:8080/",
     "height": 86
    },
    "id": "N0hJphSIL9jA",
    "outputId": "def6a757-170c-43bf-8728-732dfb133273"
   },
   "outputs": [],
   "source": [
    "y = x + vv  # Add x and vv elementwise\n",
    "print(y)"
   ]
  },
  {
   "cell_type": "markdown",
   "metadata": {
    "id": "zHos6RJnL9jB"
   },
   "source": [
    "Numpy broadcasting allows us to perform this computation without actually creating multiple copies of `v`.\n",
    "Consider this version, using broadcasting:"
   ]
  },
  {
   "cell_type": "code",
   "execution_count": null,
   "metadata": {
    "colab": {
     "base_uri": "https://localhost:8080/",
     "height": 86
    },
    "id": "vnYFb-gYL9jC",
    "outputId": "df3bea8a-ad72-4a83-90bb-306b55c6fb93"
   },
   "outputs": [],
   "source": [
    "# We will add the vector v to each row of the matrix x, storing the result in the matrix y\n",
    "x = np.array([[1,2,3], [4,5,6], [7,8,9], [10, 11, 12]])\n",
    "v = np.array([1, 0, 1])\n",
    "y = x + v # Add v to each row of x using broadcasting\n",
    "print(y)"
   ]
  },
  {
   "cell_type": "markdown",
   "metadata": {
    "id": "08YyIURKL9jH"
   },
   "source": [
    "The line `y = x + v` works even though `x` has shape `(4, 3)` and `v` has shape `(3,)` thanks to numpy's **broadcasting**.\n",
    "\n",
    "Basically, numpy tries to replicate `v` along the missing dimension to make the two shapes \"compatible\".\n",
    "\n",
    "In some cases, however, broadcasting is impossible:"
   ]
  },
  {
   "cell_type": "code",
   "execution_count": null,
   "metadata": {},
   "outputs": [],
   "source": [
    "# not compatible because t and v have different size along their unique dimension\n",
    "t = np.array([1,2])\n",
    "v+t"
   ]
  },
  {
   "cell_type": "code",
   "execution_count": null,
   "metadata": {},
   "outputs": [],
   "source": [
    "# not compatible because w and x have different size along their common dimension\n",
    "w = np.array([1, 0, 1, 0])\n",
    "y = x + w\n",
    "print(y)"
   ]
  },
  {
   "cell_type": "code",
   "execution_count": null,
   "metadata": {},
   "outputs": [],
   "source": [
    "# compatible because now w is a matrix with 4 rows and 1 column\n",
    "w = np.array([1, 0, 1, 0]).reshape(4,1)\n",
    "print(w)\n",
    "y = x + w\n",
    "print(y)"
   ]
  },
  {
   "cell_type": "markdown",
   "metadata": {
    "id": "89e2FXxFL9jQ"
   },
   "source": [
    "Broadcasting typically makes your code more concise and **significantly faster**, so you should strive to use it where possible."
   ]
  },
  {
   "cell_type": "markdown",
   "metadata": {
    "id": "tEINf4bEL9jR"
   },
   "source": [
    "## Matplotlib"
   ]
  },
  {
   "cell_type": "markdown",
   "metadata": {
    "id": "0hgVWLaXL9jR"
   },
   "source": [
    "Matplotlib is a plotting library.\n",
    "\n",
    "In particular, we will focus on the `matplotlib.pyplot` module."
   ]
  },
  {
   "cell_type": "code",
   "execution_count": null,
   "metadata": {
    "id": "cmh_7c6KL9jR"
   },
   "outputs": [],
   "source": [
    "import matplotlib.pyplot as plt"
   ]
  },
  {
   "cell_type": "markdown",
   "metadata": {
    "id": "U5Z_oMoLL9jV"
   },
   "source": [
    "### Plotting"
   ]
  },
  {
   "cell_type": "markdown",
   "metadata": {
    "id": "6QyFJ7dhL9jV"
   },
   "source": [
    "The most important function in `matplotlib` is `plot`, which allows you to plot 2D data.\n",
    "`plot` wants two vectors of identical length that respectively contain the x-coordinates and the y-coordinates of a set of points in the plane.\n",
    "`plot` automatically joins these points with a curve."
   ]
  },
  {
   "cell_type": "code",
   "execution_count": null,
   "metadata": {
    "colab": {
     "base_uri": "https://localhost:8080/",
     "height": 282
    },
    "id": "pua52BGeL9jW",
    "outputId": "9ac3ee0f-7ff7-463b-b901-c33d21a2b10c"
   },
   "outputs": [],
   "source": [
    "# Compute the x and y coordinates for points on a sine curve\n",
    "x = np.arange(0, 3 * np.pi, 0.1)\n",
    "y = np.sin(x)  # apply a function to all x-coordinates to obtain the y-coordinates\n",
    "\n",
    "# Plot the points using matplotlib\n",
    "plt.plot(x, y)"
   ]
  },
  {
   "cell_type": "markdown",
   "metadata": {
    "id": "9W2VAcLiL9jX"
   },
   "source": [
    "With just a little bit of extra work we can easily plot multiple lines at once, and add a title, legend, and axis labels:"
   ]
  },
  {
   "cell_type": "code",
   "execution_count": null,
   "metadata": {
    "colab": {
     "base_uri": "https://localhost:8080/",
     "height": 312
    },
    "id": "TfCQHJ5AL9jY",
    "outputId": "fdb9c033-0f06-4041-a69d-a0f3a54c7206"
   },
   "outputs": [],
   "source": [
    "y_sin = np.sin(x)\n",
    "y_cos = np.cos(x)\n",
    "\n",
    "# Plot the points using matplotlib\n",
    "plt.plot(x, y_sin, label='sine')\n",
    "plt.plot(x, y_cos, label='cosine')\n",
    "plt.xlabel('x axis label')\n",
    "plt.ylabel('y axis label')\n",
    "plt.title('Sine and Cosine')\n",
    "plt.legend()"
   ]
  },
  {
   "cell_type": "markdown",
   "metadata": {
    "id": "R5IeAY03L9ja"
   },
   "source": [
    "### Subplots "
   ]
  },
  {
   "cell_type": "markdown",
   "metadata": {
    "id": "CfUzwJg0L9ja"
   },
   "source": [
    "You can have multiple subplots into the same figure using the `subplot` function."
   ]
  },
  {
   "cell_type": "code",
   "execution_count": null,
   "metadata": {
    "colab": {
     "base_uri": "https://localhost:8080/",
     "height": 281
    },
    "id": "dM23yGH9L9ja",
    "outputId": "14dfa5ea-f453-4da5-a2ee-fea0de8f72d9"
   },
   "outputs": [],
   "source": [
    "# Compute the x and y coordinates for points on sine and cosine curves\n",
    "x = np.arange(0, 3 * np.pi, 0.1)\n",
    "y_sin = np.sin(x)\n",
    "y_cos = np.cos(x)\n",
    "\n",
    "# Set up a subplot grid that has height 2 and width 1,\n",
    "# and set the first such subplot as active.\n",
    "plt.subplot(2, 1, 1)\n",
    "\n",
    "# Make the first plot\n",
    "plt.plot(x, y_sin)\n",
    "plt.title('Sine')\n",
    "\n",
    "# Set the second subplot as active, and make the second plot.\n",
    "plt.subplot(2, 1, 2)\n",
    "plt.plot(x, y_cos)\n",
    "plt.title('Cosine')\n",
    "\n",
    "# Show the figure.\n",
    "plt.show()"
   ]
  },
  {
   "cell_type": "markdown",
   "metadata": {},
   "source": [
    "Alternatively, you can gain access to individual axes and plot on those axes."
   ]
  },
  {
   "cell_type": "code",
   "execution_count": null,
   "metadata": {},
   "outputs": [],
   "source": [
    "# Compute the x and y coordinates for points on sine and cosine curves\n",
    "x = np.arange(0, 3 * np.pi, 0.1)\n",
    "\n",
    "# Set up a subplot grid that has height 2 and width 2\n",
    "fig,axes = plt.subplots(2,2)\n",
    "print(fig)\n",
    "print(axes)\n",
    "\n",
    "# Make a different plot on each axis\n",
    "for i,ax in enumerate(axes.flat):  #.flat flattens the rank 2 array onto a rank 1 array\n",
    "    y = x**(i+1)\n",
    "    ax.plot(x, y)\n",
    "    ax.set_title(f'power {i+1}')\n",
    "    \n",
    "plt.tight_layout() # this adds space between the subplots to make the titles readable\n",
    "\n",
    "# Show the figure.\n",
    "plt.show()"
   ]
  },
  {
   "cell_type": "markdown",
   "metadata": {},
   "source": [
    "## Pandas"
   ]
  },
  {
   "cell_type": "markdown",
   "metadata": {},
   "source": [
    "The pandas package is the backbone of most data science projects in Python.\n",
    "It is based on the concept of **DataFrame**, a two-dimensional data structure where data is aligned in a tabular fashion in rows and columns.\n",
    "Pandas' DataFrames implement many functions that allow you to \"easily\" clean, transform and analyze your data.\n",
    "\n",
    "For instance, you can:\n",
    "- Calculate statistics and answer questions about the data, like\n",
    "    - What's the average, median, max, or min of each column? \n",
    "    - Does column A correlate with column B?\n",
    "    - What does the distribution of data in column C looks like?\n",
    "\n",
    "- Clean the data by doing things like removing missing values and filtering rows or columns by some criteria\n",
    "\n",
    "- Visualize the data with help from Matplotlib. Plot bars, lines, histograms, bubbles, and more. \n",
    "\n",
    "- Store the cleaned, transformed data back into a CSV, other file or database\n",
    "\n",
    "We will see pandas in action in the following lectures. For the moment, let us introduce its main data structures and see how data can be read and written."
   ]
  },
  {
   "cell_type": "markdown",
   "metadata": {},
   "source": [
    "To use Pandas you first need to import it:"
   ]
  },
  {
   "cell_type": "code",
   "execution_count": null,
   "metadata": {},
   "outputs": [],
   "source": [
    "import pandas as pd"
   ]
  },
  {
   "cell_type": "markdown",
   "metadata": {},
   "source": [
    "### Series and DataFrames\n",
    "\n",
    "The primary two components of pandas are the `Series` and `DataFrame`. \n",
    "\n",
    "A `Series` is essentially a column, and a `DataFrame` is a multi-dimensional table made up of a collection of Series. \n",
    "\n",
    "<img src=\"series-and-dataframe.png\" width=600px />\n",
    "\n",
    "DataFrames and Series are quite similar in that many operations that you can do with one you can do with the other, such as filling in null values and calculating the mean."
   ]
  },
  {
   "cell_type": "markdown",
   "metadata": {},
   "source": [
    "### Creating DataFrames from scratch\n",
    "\n",
    "There are *many* ways to create a DataFrame from scratch, but a great option is to just use a simple `dict`. \n",
    "\n",
    "Let us say we have a fruit stand that sells apples and oranges.\n",
    "We have had 4 customers who purchased apples and oranges as follows:"
   ]
  },
  {
   "cell_type": "code",
   "execution_count": null,
   "metadata": {},
   "outputs": [],
   "source": [
    "my_purchases = {'June':{'apples':3}, # this customer did not buy any oranges\n",
    "             'Robert':{'apples':2, 'oranges':3},\n",
    "             'Lily':{'oranges':7},\n",
    "             'David':{'oranges':2, 'apples':1}}"
   ]
  },
  {
   "cell_type": "markdown",
   "metadata": {},
   "source": [
    "We want a table with a column for each fruit and a row for each customer purchase.\n",
    "We first reorganize the dictionary of purchases as follows:"
   ]
  },
  {
   "cell_type": "code",
   "execution_count": null,
   "metadata": {},
   "outputs": [],
   "source": [
    "reorganized_purchases = {'apples':[], 'oranges':[]}\n",
    "for customer,purchase in my_purchases.items():\n",
    "    for fruit in reorganized_purchases.keys():\n",
    "        quantity = purchase.get(fruit,0) # this returns 0 if that key is not in purchase\n",
    "        reorganized_purchases[fruit].append(quantity)\n",
    "print(reorganized_purchases)"
   ]
  },
  {
   "cell_type": "markdown",
   "metadata": {},
   "source": [
    "And then pass it to the pandas DataFrame constructor:"
   ]
  },
  {
   "cell_type": "code",
   "execution_count": null,
   "metadata": {},
   "outputs": [],
   "source": [
    "purchases = pd.DataFrame(reorganized_purchases)\n",
    "\n",
    "purchases"
   ]
  },
  {
   "cell_type": "markdown",
   "metadata": {},
   "source": [
    "The **Index** of this DataFrame is by default the integer range 0-3, but we can specify that we want to use our customer names: "
   ]
  },
  {
   "cell_type": "code",
   "execution_count": null,
   "metadata": {},
   "outputs": [],
   "source": [
    "purchases = pd.DataFrame(reorganized_purchases, index=my_purchases.keys())\n",
    "\n",
    "purchases"
   ]
  },
  {
   "cell_type": "markdown",
   "metadata": {},
   "source": [
    "To **locate** a customer's purchase we can use the `loc` or `iloc` methods:"
   ]
  },
  {
   "cell_type": "code",
   "execution_count": null,
   "metadata": {},
   "outputs": [],
   "source": [
    "purchases.loc['June']"
   ]
  },
  {
   "cell_type": "code",
   "execution_count": null,
   "metadata": {},
   "outputs": [],
   "source": [
    "purchases.iloc[2]"
   ]
  },
  {
   "cell_type": "markdown",
   "metadata": {},
   "source": [
    "### Reading data from CSVs\n",
    "\n",
    "With CSV files all you need is a single line to load in the data:"
   ]
  },
  {
   "cell_type": "code",
   "execution_count": null,
   "metadata": {},
   "outputs": [],
   "source": [
    "df = pd.read_csv('purchases.csv')\n",
    "\n",
    "df"
   ]
  },
  {
   "cell_type": "markdown",
   "metadata": {},
   "source": [
    "CSVs don't have indexes like our DataFrames, so all we need to do is just designate the `index_col` when reading:"
   ]
  },
  {
   "cell_type": "code",
   "execution_count": null,
   "metadata": {
    "scrolled": true
   },
   "outputs": [],
   "source": [
    "df = pd.read_csv('purchases.csv', index_col=0)\n",
    "\n",
    "df"
   ]
  },
  {
   "cell_type": "markdown",
   "metadata": {},
   "source": [
    "You can write the CSV back like this:"
   ]
  },
  {
   "cell_type": "code",
   "execution_count": null,
   "metadata": {},
   "outputs": [],
   "source": [
    "df.to_csv('new_purchases.csv')"
   ]
  },
  {
   "cell_type": "markdown",
   "metadata": {},
   "source": [
    "### Reading data from JSON\n",
    "\n",
    "A JSON file is essentially a stored Python `dict`:"
   ]
  },
  {
   "cell_type": "code",
   "execution_count": null,
   "metadata": {},
   "outputs": [],
   "source": [
    "!cat purchases.json"
   ]
  },
  {
   "cell_type": "markdown",
   "metadata": {},
   "source": [
    "You can read it equally easily:"
   ]
  },
  {
   "cell_type": "code",
   "execution_count": null,
   "metadata": {},
   "outputs": [],
   "source": [
    "df = pd.read_json('purchases.json')\n",
    "\n",
    "df"
   ]
  },
  {
   "cell_type": "markdown",
   "metadata": {},
   "source": [
    "Pandas will try to figure out how to create a DataFrame by analyzing the structure of your JSON.\n",
    "\n",
    "Be careful: it might not get it right!"
   ]
  },
  {
   "cell_type": "markdown",
   "metadata": {},
   "source": [
    "You can write the JSON back like this:"
   ]
  },
  {
   "cell_type": "code",
   "execution_count": null,
   "metadata": {},
   "outputs": [],
   "source": [
    "df.to_json('new_purchases.json')"
   ]
  },
  {
   "cell_type": "markdown",
   "metadata": {},
   "source": [
    "## SciPy and Scikit-learn\n",
    "\n",
    "**SciPy** is the reference Python library for scientific computing, technical computing and statistics.\n",
    "It contains modules for optimization, linear algebra, integration, interpolation, special functions, FFT, signal and image processing, ODE solvers and other tasks common in science and engineering.\n",
    "\n",
    "**Scikit-learn** (aka sklearn) is the most known library for machine learning in Python.\n",
    "It features various classification, regression and clustering algorithms including:\n",
    "- support-vector machines\n",
    "- random forests\n",
    "- gradient boosting\n",
    "- k-means\n",
    "- DBSCAN\n",
    "\n",
    "It is designed to interoperate with both NumPy and SciPy."
   ]
  },
  {
   "cell_type": "markdown",
   "metadata": {},
   "source": [
    "To illustrate some of the instruments that these two libraries provide, let us consider the following analysis of the scores obtained by 30 students at an exam.\n",
    "\n",
    "We first load and visualize the data:"
   ]
  },
  {
   "cell_type": "code",
   "execution_count": 79,
   "metadata": {},
   "outputs": [
    {
     "data": {
      "text/html": [
       "<div>\n",
       "<style scoped>\n",
       "    .dataframe tbody tr th:only-of-type {\n",
       "        vertical-align: middle;\n",
       "    }\n",
       "\n",
       "    .dataframe tbody tr th {\n",
       "        vertical-align: top;\n",
       "    }\n",
       "\n",
       "    .dataframe thead th {\n",
       "        text-align: right;\n",
       "    }\n",
       "</style>\n",
       "<table border=\"1\" class=\"dataframe\">\n",
       "  <thead>\n",
       "    <tr style=\"text-align: right;\">\n",
       "      <th></th>\n",
       "      <th>id</th>\n",
       "      <th>hours</th>\n",
       "      <th>score</th>\n",
       "    </tr>\n",
       "  </thead>\n",
       "  <tbody>\n",
       "    <tr>\n",
       "      <th>0</th>\n",
       "      <td>194495</td>\n",
       "      <td>0.5</td>\n",
       "      <td>16.620517</td>\n",
       "    </tr>\n",
       "    <tr>\n",
       "      <th>1</th>\n",
       "      <td>192949</td>\n",
       "      <td>0.9</td>\n",
       "      <td>19.861295</td>\n",
       "    </tr>\n",
       "    <tr>\n",
       "      <th>2</th>\n",
       "      <td>198095</td>\n",
       "      <td>1.2</td>\n",
       "      <td>18.887393</td>\n",
       "    </tr>\n",
       "    <tr>\n",
       "      <th>3</th>\n",
       "      <td>182192</td>\n",
       "      <td>2.6</td>\n",
       "      <td>16.230042</td>\n",
       "    </tr>\n",
       "    <tr>\n",
       "      <th>4</th>\n",
       "      <td>188512</td>\n",
       "      <td>3.4</td>\n",
       "      <td>19.311403</td>\n",
       "    </tr>\n",
       "    <tr>\n",
       "      <th>5</th>\n",
       "      <td>182569</td>\n",
       "      <td>3.5</td>\n",
       "      <td>18.915873</td>\n",
       "    </tr>\n",
       "    <tr>\n",
       "      <th>6</th>\n",
       "      <td>194398</td>\n",
       "      <td>3.6</td>\n",
       "      <td>19.843228</td>\n",
       "    </tr>\n",
       "    <tr>\n",
       "      <th>7</th>\n",
       "      <td>196597</td>\n",
       "      <td>3.7</td>\n",
       "      <td>21.675923</td>\n",
       "    </tr>\n",
       "    <tr>\n",
       "      <th>8</th>\n",
       "      <td>204071</td>\n",
       "      <td>4.0</td>\n",
       "      <td>19.066709</td>\n",
       "    </tr>\n",
       "    <tr>\n",
       "      <th>9</th>\n",
       "      <td>195170</td>\n",
       "      <td>4.1</td>\n",
       "      <td>20.670995</td>\n",
       "    </tr>\n",
       "    <tr>\n",
       "      <th>10</th>\n",
       "      <td>208783</td>\n",
       "      <td>4.2</td>\n",
       "      <td>19.871047</td>\n",
       "    </tr>\n",
       "    <tr>\n",
       "      <th>11</th>\n",
       "      <td>188250</td>\n",
       "      <td>4.3</td>\n",
       "      <td>23.971143</td>\n",
       "    </tr>\n",
       "    <tr>\n",
       "      <th>12</th>\n",
       "      <td>183032</td>\n",
       "      <td>4.6</td>\n",
       "      <td>21.270023</td>\n",
       "    </tr>\n",
       "    <tr>\n",
       "      <th>13</th>\n",
       "      <td>185115</td>\n",
       "      <td>5.0</td>\n",
       "      <td>20.699563</td>\n",
       "    </tr>\n",
       "    <tr>\n",
       "      <th>14</th>\n",
       "      <td>192755</td>\n",
       "      <td>5.0</td>\n",
       "      <td>22.138052</td>\n",
       "    </tr>\n",
       "    <tr>\n",
       "      <th>15</th>\n",
       "      <td>188119</td>\n",
       "      <td>5.3</td>\n",
       "      <td>21.831794</td>\n",
       "    </tr>\n",
       "    <tr>\n",
       "      <th>16</th>\n",
       "      <td>200254</td>\n",
       "      <td>5.4</td>\n",
       "      <td>23.915345</td>\n",
       "    </tr>\n",
       "    <tr>\n",
       "      <th>17</th>\n",
       "      <td>192443</td>\n",
       "      <td>5.5</td>\n",
       "      <td>25.700285</td>\n",
       "    </tr>\n",
       "    <tr>\n",
       "      <th>18</th>\n",
       "      <td>200727</td>\n",
       "      <td>5.6</td>\n",
       "      <td>26.836553</td>\n",
       "    </tr>\n",
       "    <tr>\n",
       "      <th>19</th>\n",
       "      <td>187576</td>\n",
       "      <td>6.3</td>\n",
       "      <td>22.607182</td>\n",
       "    </tr>\n",
       "    <tr>\n",
       "      <th>20</th>\n",
       "      <td>183873</td>\n",
       "      <td>7.4</td>\n",
       "      <td>25.913126</td>\n",
       "    </tr>\n",
       "    <tr>\n",
       "      <th>21</th>\n",
       "      <td>180104</td>\n",
       "      <td>7.6</td>\n",
       "      <td>26.521857</td>\n",
       "    </tr>\n",
       "    <tr>\n",
       "      <th>22</th>\n",
       "      <td>209900</td>\n",
       "      <td>7.7</td>\n",
       "      <td>23.668582</td>\n",
       "    </tr>\n",
       "    <tr>\n",
       "      <th>23</th>\n",
       "      <td>207090</td>\n",
       "      <td>7.9</td>\n",
       "      <td>27.031764</td>\n",
       "    </tr>\n",
       "    <tr>\n",
       "      <th>24</th>\n",
       "      <td>196190</td>\n",
       "      <td>8.6</td>\n",
       "      <td>28.155629</td>\n",
       "    </tr>\n",
       "    <tr>\n",
       "      <th>25</th>\n",
       "      <td>206551</td>\n",
       "      <td>8.8</td>\n",
       "      <td>29.022063</td>\n",
       "    </tr>\n",
       "    <tr>\n",
       "      <th>26</th>\n",
       "      <td>195281</td>\n",
       "      <td>9.2</td>\n",
       "      <td>25.265343</td>\n",
       "    </tr>\n",
       "    <tr>\n",
       "      <th>27</th>\n",
       "      <td>180749</td>\n",
       "      <td>9.4</td>\n",
       "      <td>27.152048</td>\n",
       "    </tr>\n",
       "    <tr>\n",
       "      <th>28</th>\n",
       "      <td>192775</td>\n",
       "      <td>9.6</td>\n",
       "      <td>26.522625</td>\n",
       "    </tr>\n",
       "    <tr>\n",
       "      <th>29</th>\n",
       "      <td>190079</td>\n",
       "      <td>9.8</td>\n",
       "      <td>26.033771</td>\n",
       "    </tr>\n",
       "  </tbody>\n",
       "</table>\n",
       "</div>"
      ],
      "text/plain": [
       "        id  hours      score\n",
       "0   194495    0.5  16.620517\n",
       "1   192949    0.9  19.861295\n",
       "2   198095    1.2  18.887393\n",
       "3   182192    2.6  16.230042\n",
       "4   188512    3.4  19.311403\n",
       "5   182569    3.5  18.915873\n",
       "6   194398    3.6  19.843228\n",
       "7   196597    3.7  21.675923\n",
       "8   204071    4.0  19.066709\n",
       "9   195170    4.1  20.670995\n",
       "10  208783    4.2  19.871047\n",
       "11  188250    4.3  23.971143\n",
       "12  183032    4.6  21.270023\n",
       "13  185115    5.0  20.699563\n",
       "14  192755    5.0  22.138052\n",
       "15  188119    5.3  21.831794\n",
       "16  200254    5.4  23.915345\n",
       "17  192443    5.5  25.700285\n",
       "18  200727    5.6  26.836553\n",
       "19  187576    6.3  22.607182\n",
       "20  183873    7.4  25.913126\n",
       "21  180104    7.6  26.521857\n",
       "22  209900    7.7  23.668582\n",
       "23  207090    7.9  27.031764\n",
       "24  196190    8.6  28.155629\n",
       "25  206551    8.8  29.022063\n",
       "26  195281    9.2  25.265343\n",
       "27  180749    9.4  27.152048\n",
       "28  192775    9.6  26.522625\n",
       "29  190079    9.8  26.033771"
      ]
     },
     "execution_count": 79,
     "metadata": {},
     "output_type": "execute_result"
    }
   ],
   "source": [
    "data = pd.read_csv('scores.csv')\n",
    "data"
   ]
  },
  {
   "cell_type": "markdown",
   "metadata": {},
   "source": [
    "We then check if the scores follow a Gaussian distribution:"
   ]
  },
  {
   "cell_type": "code",
   "execution_count": 95,
   "metadata": {},
   "outputs": [
    {
     "data": {
      "text/plain": [
       "Text(0.5, 1.0, 'Fit results: mu = 22.84,  std = 3.48')"
      ]
     },
     "execution_count": 95,
     "metadata": {},
     "output_type": "execute_result"
    },
    {
     "data": {
      "image/png": "[encoded data removed]",
      "text/plain": [
       "<Figure size 432x288 with 1 Axes>"
      ]
     },
     "metadata": {
      "needs_background": "light"
     },
     "output_type": "display_data"
    }
   ],
   "source": [
    "import matplotlib.pyplot as plt\n",
    "# import the class norm (normal distribution)\n",
    "from scipy.stats import norm\n",
    "# find the normal distribution that best fits our scores \n",
    "mu, std = norm.fit(data['score'])\n",
    "# plot the histogram of our scores\n",
    "plt.hist(scores, bins=int(data['score'].max()-data['score'].min())+1, density=True, alpha=0.6, color='g')\n",
    "# plot the PDF of the fitted normal distribution\n",
    "xmin, xmax = plt.xlim()  # get the min x and y of our data\n",
    "x = np.linspace(xmin, xmax, 100)  # define a sequence of values from xmin to xmax\n",
    "p = norm.pdf(x, mu, std)  # get the pdf for all values in the range\n",
    "plt.plot(x, p, 'k', linewidth=2)\n",
    "title = f\"Fit results: mu = {mu:.2f},  std = {std:.2f}\"\n",
    "plt.title(title)"
   ]
  },
  {
   "cell_type": "markdown",
   "metadata": {},
   "source": [
    "The histogram does not look Gaussian. Let us try with a Gaussian KDE (a linear combination of Gaussians):"
   ]
  },
  {
   "cell_type": "code",
   "execution_count": 129,
   "metadata": {},
   "outputs": [
    {
     "data": {
      "text/plain": [
       "Text(0.5, 1.0, 'Fit with KDE')"
      ]
     },
     "execution_count": 129,
     "metadata": {},
     "output_type": "execute_result"
    },
    {
     "data": {
      "image/png": "[encoded data removed]",
      "text/plain": [
       "<Figure size 432x288 with 1 Axes>"
      ]
     },
     "metadata": {
      "needs_background": "light"
     },
     "output_type": "display_data"
    }
   ],
   "source": [
    "from scipy.stats import gaussian_kde\n",
    "kde = gaussian_kde(data['score'])  # fit the KDE\n",
    "# plot the histogram of our scores\n",
    "plt.hist(scores, bins=int(data['score'].max()-data['score'].min())+1, density=True, alpha=0.6, color='g')\n",
    "# plot the PDF of the fitted KDE\n",
    "xmin, xmax = plt.xlim()  # get the min x and y of our data\n",
    "x = np.linspace(xmin, xmax, 100)  # define a sequence of values from xmin to xmax\n",
    "p = kde(x)  # get the pdf for all values in the range\n",
    "plt.plot(x, p, 'k', linewidth=2)\n",
    "title = \"Fit with KDE\"\n",
    "plt.title(title)"
   ]
  },
  {
   "cell_type": "markdown",
   "metadata": {},
   "source": [
    "Our dataset also includes the number of hours each student spent studying for this exam.\n",
    "Let us verify whether the exam score grows linearly with the number of studying hours."
   ]
  },
  {
   "cell_type": "code",
   "execution_count": 133,
   "metadata": {},
   "outputs": [
    {
     "data": {
      "text/plain": [
       "<matplotlib.legend.Legend at 0x7fc6447fdf40>"
      ]
     },
     "execution_count": 133,
     "metadata": {},
     "output_type": "execute_result"
    },
    {
     "data": {
      "image/png": "[encoded data removed]",
      "text/plain": [
       "<Figure size 432x288 with 1 Axes>"
      ]
     },
     "metadata": {
      "needs_background": "light"
     },
     "output_type": "display_data"
    }
   ],
   "source": [
    "# import the class LinearRegression that allows to fit the data with a linear model \n",
    "from sklearn.linear_model import LinearRegression\n",
    "# fit the linear model to the data (it wants a rank 2 array as first argument)\n",
    "lr = LinearRegression().fit(data['hours'].to_numpy().reshape(-1,1),data['score'])\n",
    "# plot the data\n",
    "plt.scatter(data['hours'],data['score'], label='data')\n",
    "# plot the linear regression\n",
    "xmin, xmax = plt.xlim()  # get the min x and y of our data\n",
    "x = np.linspace(xmin, xmax, 100)  # define a sequence of values from xmin to xmax\n",
    "p = lr.predict(x.reshape(-1,1))  # get the predicted score for all values in the range\n",
    "m, q = lr.coef_[0], lr.intercept_  # extract the coefficients of the liner regression\n",
    "plt.plot(x, p, 'k', linewidth=2, label=f'scores ={m:.2f}*hours+{q:.2f}')\n",
    "title = \"Linear regression of scores vs. hours\"\n",
    "plt.title(title)\n",
    "plt.legend()"
   ]
  },
  {
   "cell_type": "markdown",
   "metadata": {},
   "source": [
    "It looks like studying helps."
   ]
  }
 ],
 "metadata": {
  "kernelspec": {
   "display_name": "Python 3",
   "language": "python",
   "name": "python3"
  },
  "language_info": {
   "codemirror_mode": {
    "name": "ipython",
    "version": 3
   },
   "file_extension": ".py",
   "mimetype": "text/x-python",
   "name": "python",
   "nbconvert_exporter": "python",
   "pygments_lexer": "ipython3",
   "version": "3.8.10"
  }
 },
 "nbformat": 4,
 "nbformat_minor": 2
}
